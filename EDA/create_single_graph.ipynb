{
 "cells": [
  {
   "cell_type": "code",
   "execution_count": 1,
   "metadata": {},
   "outputs": [],
   "source": [
    "%load_ext autoreload\n",
    "%autoreload 2\n",
    "%reload_ext autoreload\n",
    "import pandas as pd\n",
    "import json\n",
    "import pickle as pkl\n",
    "import numpy as np\n",
    "import torch_geometric as pyg\n",
    "from torch_geometric.data import Data, Dataset\n",
    "from torch_geometric.loader import DataLoader\n",
    "from torch_geometric.utils import to_dense_adj\n",
    "import torch\n",
    "import os\n",
    "import re\n",
    "\n",
    "os.chdir(\"..\")\n",
    "\n",
    "from scripts.utils import *\n"
   ]
  },
  {
   "cell_type": "markdown",
   "metadata": {},
   "source": [
    "# Process **One** Movie"
   ]
  },
  {
   "cell_type": "code",
   "execution_count": 2,
   "metadata": {},
   "outputs": [],
   "source": [
    "tr_len = 1.3 # duration of fMRI tr\n",
    "n_nodes = 414 # number of nodes in the graph\n",
    "movie = \"AfterTheRain\" # Name of the movie to process\n",
    "delay_tr = 4 # Delay in TR after which the emotion will be detectable ofn the fMRI data\n",
    "node_feat_method = \"singlefmri\" #method to use for node features\n",
    "intial_adj_method = \"clique\" #methos to use for graph connectivity intializatrion\n",
    "base_save_dir = \"/home/dalai/GNN_E/data/processed\""
   ]
  },
  {
   "cell_type": "markdown",
   "metadata": {},
   "source": [
    "# Load necessary data"
   ]
  },
  {
   "cell_type": "code",
   "execution_count": 3,
   "metadata": {},
   "outputs": [
    {
     "data": {
      "text/html": [
       "<div>\n",
       "<style scoped>\n",
       "    .dataframe tbody tr th:only-of-type {\n",
       "        vertical-align: middle;\n",
       "    }\n",
       "\n",
       "    .dataframe tbody tr th {\n",
       "        vertical-align: top;\n",
       "    }\n",
       "\n",
       "    .dataframe thead th {\n",
       "        text-align: right;\n",
       "    }\n",
       "</style>\n",
       "<table border=\"1\" class=\"dataframe\">\n",
       "  <thead>\n",
       "    <tr style=\"text-align: right;\">\n",
       "      <th></th>\n",
       "      <th>filename</th>\n",
       "      <th>vindex</th>\n",
       "      <th>full_region</th>\n",
       "      <th>partial_region</th>\n",
       "      <th>score</th>\n",
       "      <th>movie_name</th>\n",
       "      <th>parcel</th>\n",
       "      <th>id</th>\n",
       "      <th>session</th>\n",
       "    </tr>\n",
       "  </thead>\n",
       "  <tbody>\n",
       "    <tr>\n",
       "      <th>0</th>\n",
       "      <td>TC_414_sub-S25_AfterTheRain.csv</td>\n",
       "      <td>0</td>\n",
       "      <td>7Networks_LH_Vis_1</td>\n",
       "      <td>Vis</td>\n",
       "      <td>-28.029734</td>\n",
       "      <td>AfterTheRain</td>\n",
       "      <td>400</td>\n",
       "      <td>sub-S25</td>\n",
       "      <td>ses-1</td>\n",
       "    </tr>\n",
       "    <tr>\n",
       "      <th>1</th>\n",
       "      <td>TC_414_sub-S25_AfterTheRain.csv</td>\n",
       "      <td>0</td>\n",
       "      <td>7Networks_LH_Vis_1</td>\n",
       "      <td>Vis</td>\n",
       "      <td>-28.084551</td>\n",
       "      <td>AfterTheRain</td>\n",
       "      <td>400</td>\n",
       "      <td>sub-S25</td>\n",
       "      <td>ses-1</td>\n",
       "    </tr>\n",
       "  </tbody>\n",
       "</table>\n",
       "</div>"
      ],
      "text/plain": [
       "                          filename  vindex         full_region partial_region  \\\n",
       "0  TC_414_sub-S25_AfterTheRain.csv       0  7Networks_LH_Vis_1            Vis   \n",
       "1  TC_414_sub-S25_AfterTheRain.csv       0  7Networks_LH_Vis_1            Vis   \n",
       "\n",
       "       score    movie_name  parcel       id session  \n",
       "0 -28.029734  AfterTheRain     400  sub-S25   ses-1  \n",
       "1 -28.084551  AfterTheRain     400  sub-S25   ses-1  "
      ]
     },
     "execution_count": 3,
     "metadata": {},
     "output_type": "execute_result"
    }
   ],
   "source": [
    "data = pd.read_csv(\"/media/RCPNAS/MIP/Michael/ml-students2024/data/fmri414_compiled/AfterTheRain_compiled414.csv\")\n",
    "data.head(2)"
   ]
  },
  {
   "cell_type": "code",
   "execution_count": 4,
   "metadata": {},
   "outputs": [
    {
     "data": {
      "text/html": [
       "<div>\n",
       "<style scoped>\n",
       "    .dataframe tbody tr th:only-of-type {\n",
       "        vertical-align: middle;\n",
       "    }\n",
       "\n",
       "    .dataframe tbody tr th {\n",
       "        vertical-align: top;\n",
       "    }\n",
       "\n",
       "    .dataframe thead th {\n",
       "        text-align: right;\n",
       "    }\n",
       "</style>\n",
       "<table border=\"1\" class=\"dataframe\">\n",
       "  <thead>\n",
       "    <tr style=\"text-align: right;\">\n",
       "      <th></th>\n",
       "      <th>0</th>\n",
       "      <th>1</th>\n",
       "      <th>2</th>\n",
       "      <th>3</th>\n",
       "      <th>4</th>\n",
       "      <th>5</th>\n",
       "      <th>6</th>\n",
       "      <th>7</th>\n",
       "      <th>8</th>\n",
       "      <th>9</th>\n",
       "      <th>...</th>\n",
       "      <th>40</th>\n",
       "      <th>41</th>\n",
       "      <th>42</th>\n",
       "      <th>43</th>\n",
       "      <th>44</th>\n",
       "      <th>45</th>\n",
       "      <th>46</th>\n",
       "      <th>47</th>\n",
       "      <th>48</th>\n",
       "      <th>49</th>\n",
       "    </tr>\n",
       "  </thead>\n",
       "  <tbody>\n",
       "    <tr>\n",
       "      <th>0</th>\n",
       "      <td>0.142779</td>\n",
       "      <td>0.281039</td>\n",
       "      <td>0.250808</td>\n",
       "      <td>0.330057</td>\n",
       "      <td>-0.341303</td>\n",
       "      <td>-0.076385</td>\n",
       "      <td>1.608596</td>\n",
       "      <td>-0.027852</td>\n",
       "      <td>-0.552002</td>\n",
       "      <td>-0.046603</td>\n",
       "      <td>...</td>\n",
       "      <td>-0.092547</td>\n",
       "      <td>0.380354</td>\n",
       "      <td>-0.154463</td>\n",
       "      <td>-0.041718</td>\n",
       "      <td>-0.652966</td>\n",
       "      <td>0.108885</td>\n",
       "      <td>0.336159</td>\n",
       "      <td>-0.336729</td>\n",
       "      <td>0.276114</td>\n",
       "      <td>-0.135235</td>\n",
       "    </tr>\n",
       "    <tr>\n",
       "      <th>1</th>\n",
       "      <td>0.015013</td>\n",
       "      <td>0.494496</td>\n",
       "      <td>0.249501</td>\n",
       "      <td>0.452919</td>\n",
       "      <td>-0.385233</td>\n",
       "      <td>0.149844</td>\n",
       "      <td>1.759461</td>\n",
       "      <td>-0.145757</td>\n",
       "      <td>-0.384084</td>\n",
       "      <td>-0.902979</td>\n",
       "      <td>...</td>\n",
       "      <td>-0.027584</td>\n",
       "      <td>0.501055</td>\n",
       "      <td>-0.414479</td>\n",
       "      <td>-0.165635</td>\n",
       "      <td>-1.018303</td>\n",
       "      <td>0.296978</td>\n",
       "      <td>0.325535</td>\n",
       "      <td>-0.252170</td>\n",
       "      <td>0.333992</td>\n",
       "      <td>-0.578877</td>\n",
       "    </tr>\n",
       "  </tbody>\n",
       "</table>\n",
       "<p>2 rows × 50 columns</p>\n",
       "</div>"
      ],
      "text/plain": [
       "         0         1         2         3         4         5         6   \\\n",
       "0  0.142779  0.281039  0.250808  0.330057 -0.341303 -0.076385  1.608596   \n",
       "1  0.015013  0.494496  0.249501  0.452919 -0.385233  0.149844  1.759461   \n",
       "\n",
       "         7         8         9   ...        40        41        42        43  \\\n",
       "0 -0.027852 -0.552002 -0.046603  ... -0.092547  0.380354 -0.154463 -0.041718   \n",
       "1 -0.145757 -0.384084 -0.902979  ... -0.027584  0.501055 -0.414479 -0.165635   \n",
       "\n",
       "         44        45        46        47        48        49  \n",
       "0 -0.652966  0.108885  0.336159 -0.336729  0.276114 -0.135235  \n",
       "1 -1.018303  0.296978  0.325535 -0.252170  0.333992 -0.578877  \n",
       "\n",
       "[2 rows x 50 columns]"
      ]
     },
     "execution_count": 4,
     "metadata": {},
     "output_type": "execute_result"
    }
   ],
   "source": [
    "labels = pd.read_csv(\"/media/RCPNAS/MIP/Michael/ml-students2024/data/emo_labels/Annot_13_AfterTheRain_stim.tsv\", sep=\"\\t\", header=None)\n",
    "labels.head(2)"
   ]
  },
  {
   "cell_type": "code",
   "execution_count": 5,
   "metadata": {},
   "outputs": [
    {
     "data": {
      "text/plain": [
       "{'S27': (76, 382),\n",
       " 'S19': (75, 382),\n",
       " 'S06': (75, 382),\n",
       " 'S02': (75, 382),\n",
       " 'S23': (75, 382),\n",
       " 'S09': (75, 382),\n",
       " 'S16': (75, 382),\n",
       " 'S28': (75, 382),\n",
       " 'S32': (75, 382),\n",
       " 'S13': (75, 382),\n",
       " 'S07': (75, 382),\n",
       " 'S26': (75, 382),\n",
       " 'S22': (75, 382),\n",
       " 'S03': (76, 382),\n",
       " 'S17': (75, 382),\n",
       " 'S29': (75, 382),\n",
       " 'S08': (75, 382),\n",
       " 'S04': (75, 382),\n",
       " 'S25': (75, 382),\n",
       " 'S31': (75, 382),\n",
       " 'S10': (75, 382),\n",
       " 'S14': (75, 382),\n",
       " 'S21': (75, 382),\n",
       " 'S24': (75, 382),\n",
       " 'S05': (75, 382),\n",
       " 'S11': (75, 382),\n",
       " 'S30': (75, 382),\n",
       " 'S15': (75, 382),\n",
       " 'S01': (75, 382),\n",
       " 'S20': (75, 382)}"
      ]
     },
     "execution_count": 5,
     "metadata": {},
     "output_type": "execute_result"
    }
   ],
   "source": [
    "with open(\"/media/RCPNAS/MIP/Michael/ml-students2024/data/run_onsets.pkl\", \"rb\") as file:\n",
    "    delta_time = pkl.load(file)\n",
    "\n",
    "# Delta time of the current movie\n",
    "delta_time_single = delta_time[movie]\n",
    "delta_time_single #(start of the movie in sec, duration of the movie in sec)"
   ]
  },
  {
   "cell_type": "markdown",
   "metadata": {},
   "source": [
    "# Add Classification Labels"
   ]
  },
  {
   "cell_type": "code",
   "execution_count": 6,
   "metadata": {},
   "outputs": [
    {
     "data": {
      "text/html": [
       "<div>\n",
       "<style scoped>\n",
       "    .dataframe tbody tr th:only-of-type {\n",
       "        vertical-align: middle;\n",
       "    }\n",
       "\n",
       "    .dataframe tbody tr th {\n",
       "        vertical-align: top;\n",
       "    }\n",
       "\n",
       "    .dataframe thead th {\n",
       "        text-align: right;\n",
       "    }\n",
       "</style>\n",
       "<table border=\"1\" class=\"dataframe\">\n",
       "  <thead>\n",
       "    <tr style=\"text-align: right;\">\n",
       "      <th></th>\n",
       "      <th>0</th>\n",
       "      <th>1</th>\n",
       "      <th>2</th>\n",
       "      <th>3</th>\n",
       "      <th>4</th>\n",
       "      <th>5</th>\n",
       "      <th>6</th>\n",
       "      <th>7</th>\n",
       "      <th>8</th>\n",
       "      <th>9</th>\n",
       "      <th>...</th>\n",
       "      <th>42</th>\n",
       "      <th>43</th>\n",
       "      <th>44</th>\n",
       "      <th>45</th>\n",
       "      <th>46</th>\n",
       "      <th>47</th>\n",
       "      <th>48</th>\n",
       "      <th>49</th>\n",
       "      <th>single_label</th>\n",
       "      <th>multi_label</th>\n",
       "    </tr>\n",
       "  </thead>\n",
       "  <tbody>\n",
       "    <tr>\n",
       "      <th>0</th>\n",
       "      <td>0.142779</td>\n",
       "      <td>0.281039</td>\n",
       "      <td>0.250808</td>\n",
       "      <td>0.330057</td>\n",
       "      <td>-0.341303</td>\n",
       "      <td>-0.076385</td>\n",
       "      <td>1.608596</td>\n",
       "      <td>-0.027852</td>\n",
       "      <td>-0.552002</td>\n",
       "      <td>-0.046603</td>\n",
       "      <td>...</td>\n",
       "      <td>-0.154463</td>\n",
       "      <td>-0.041718</td>\n",
       "      <td>-0.652966</td>\n",
       "      <td>0.108885</td>\n",
       "      <td>0.336159</td>\n",
       "      <td>-0.336729</td>\n",
       "      <td>0.276114</td>\n",
       "      <td>-0.135235</td>\n",
       "      <td>6</td>\n",
       "      <td>[0, 0, 0, 0, 0, 0, 1, 0, 0, 0, 0, 0, 0, 0, 0, ...</td>\n",
       "    </tr>\n",
       "    <tr>\n",
       "      <th>1</th>\n",
       "      <td>0.015013</td>\n",
       "      <td>0.494496</td>\n",
       "      <td>0.249501</td>\n",
       "      <td>0.452919</td>\n",
       "      <td>-0.385233</td>\n",
       "      <td>0.149844</td>\n",
       "      <td>1.759461</td>\n",
       "      <td>-0.145757</td>\n",
       "      <td>-0.384084</td>\n",
       "      <td>-0.902979</td>\n",
       "      <td>...</td>\n",
       "      <td>-0.414479</td>\n",
       "      <td>-0.165635</td>\n",
       "      <td>-1.018303</td>\n",
       "      <td>0.296978</td>\n",
       "      <td>0.325535</td>\n",
       "      <td>-0.252170</td>\n",
       "      <td>0.333992</td>\n",
       "      <td>-0.578877</td>\n",
       "      <td>6</td>\n",
       "      <td>[0, 0, 0, 0, 0, 0, 1, 0, 0, 0, 0, 0, 0, 0, 0, ...</td>\n",
       "    </tr>\n",
       "    <tr>\n",
       "      <th>2</th>\n",
       "      <td>0.111895</td>\n",
       "      <td>0.379248</td>\n",
       "      <td>0.301687</td>\n",
       "      <td>0.408731</td>\n",
       "      <td>-0.176680</td>\n",
       "      <td>0.071492</td>\n",
       "      <td>1.389783</td>\n",
       "      <td>-0.254050</td>\n",
       "      <td>-0.434333</td>\n",
       "      <td>-1.026354</td>\n",
       "      <td>...</td>\n",
       "      <td>-0.759266</td>\n",
       "      <td>-0.114860</td>\n",
       "      <td>-1.350485</td>\n",
       "      <td>0.218283</td>\n",
       "      <td>0.331140</td>\n",
       "      <td>-0.338974</td>\n",
       "      <td>0.302379</td>\n",
       "      <td>-0.411378</td>\n",
       "      <td>6</td>\n",
       "      <td>[0, 0, 0, 0, 0, 0, 1, 0, 0, 0, 0, 0, 0, 0, 0, ...</td>\n",
       "    </tr>\n",
       "    <tr>\n",
       "      <th>3</th>\n",
       "      <td>0.003497</td>\n",
       "      <td>0.436360</td>\n",
       "      <td>0.348070</td>\n",
       "      <td>0.260503</td>\n",
       "      <td>0.043851</td>\n",
       "      <td>0.112154</td>\n",
       "      <td>1.395174</td>\n",
       "      <td>-0.403072</td>\n",
       "      <td>-0.411058</td>\n",
       "      <td>-1.142819</td>\n",
       "      <td>...</td>\n",
       "      <td>-0.905446</td>\n",
       "      <td>-0.147157</td>\n",
       "      <td>-1.813156</td>\n",
       "      <td>0.240899</td>\n",
       "      <td>0.326921</td>\n",
       "      <td>-0.250029</td>\n",
       "      <td>-0.498317</td>\n",
       "      <td>-0.506159</td>\n",
       "      <td>6</td>\n",
       "      <td>[0, 0, 0, 0, 0, 0, 1, 0, 0, 0, 0, 0, 0, 0, 0, ...</td>\n",
       "    </tr>\n",
       "    <tr>\n",
       "      <th>4</th>\n",
       "      <td>0.047341</td>\n",
       "      <td>0.398398</td>\n",
       "      <td>0.408016</td>\n",
       "      <td>0.029337</td>\n",
       "      <td>0.051369</td>\n",
       "      <td>0.089824</td>\n",
       "      <td>-0.004560</td>\n",
       "      <td>-0.435806</td>\n",
       "      <td>-0.423261</td>\n",
       "      <td>-1.183318</td>\n",
       "      <td>...</td>\n",
       "      <td>-0.805941</td>\n",
       "      <td>-0.123036</td>\n",
       "      <td>-1.928912</td>\n",
       "      <td>0.117960</td>\n",
       "      <td>0.330476</td>\n",
       "      <td>-0.341319</td>\n",
       "      <td>-0.926475</td>\n",
       "      <td>-0.436339</td>\n",
       "      <td>34</td>\n",
       "      <td>[0, 0, 0, 0, 0, 0, 0, 0, 0, 0, 0, 0, 0, 0, 0, ...</td>\n",
       "    </tr>\n",
       "    <tr>\n",
       "      <th>5</th>\n",
       "      <td>0.055064</td>\n",
       "      <td>0.418973</td>\n",
       "      <td>0.447900</td>\n",
       "      <td>0.023118</td>\n",
       "      <td>-0.075438</td>\n",
       "      <td>0.099314</td>\n",
       "      <td>-0.539354</td>\n",
       "      <td>-0.417008</td>\n",
       "      <td>-0.416852</td>\n",
       "      <td>-1.235597</td>\n",
       "      <td>...</td>\n",
       "      <td>-0.811525</td>\n",
       "      <td>-0.142840</td>\n",
       "      <td>-1.928831</td>\n",
       "      <td>0.078924</td>\n",
       "      <td>0.327308</td>\n",
       "      <td>-0.247379</td>\n",
       "      <td>-0.877334</td>\n",
       "      <td>-0.337143</td>\n",
       "      <td>34</td>\n",
       "      <td>[0, 0, 0, 0, 0, 0, 0, 0, 0, 0, 0, 0, 0, 0, 0, ...</td>\n",
       "    </tr>\n",
       "  </tbody>\n",
       "</table>\n",
       "<p>6 rows × 52 columns</p>\n",
       "</div>"
      ],
      "text/plain": [
       "          0         1         2         3         4         5         6  \\\n",
       "0  0.142779  0.281039  0.250808  0.330057 -0.341303 -0.076385  1.608596   \n",
       "1  0.015013  0.494496  0.249501  0.452919 -0.385233  0.149844  1.759461   \n",
       "2  0.111895  0.379248  0.301687  0.408731 -0.176680  0.071492  1.389783   \n",
       "3  0.003497  0.436360  0.348070  0.260503  0.043851  0.112154  1.395174   \n",
       "4  0.047341  0.398398  0.408016  0.029337  0.051369  0.089824 -0.004560   \n",
       "5  0.055064  0.418973  0.447900  0.023118 -0.075438  0.099314 -0.539354   \n",
       "\n",
       "          7         8         9  ...        42        43        44        45  \\\n",
       "0 -0.027852 -0.552002 -0.046603  ... -0.154463 -0.041718 -0.652966  0.108885   \n",
       "1 -0.145757 -0.384084 -0.902979  ... -0.414479 -0.165635 -1.018303  0.296978   \n",
       "2 -0.254050 -0.434333 -1.026354  ... -0.759266 -0.114860 -1.350485  0.218283   \n",
       "3 -0.403072 -0.411058 -1.142819  ... -0.905446 -0.147157 -1.813156  0.240899   \n",
       "4 -0.435806 -0.423261 -1.183318  ... -0.805941 -0.123036 -1.928912  0.117960   \n",
       "5 -0.417008 -0.416852 -1.235597  ... -0.811525 -0.142840 -1.928831  0.078924   \n",
       "\n",
       "         46        47        48        49  single_label  \\\n",
       "0  0.336159 -0.336729  0.276114 -0.135235             6   \n",
       "1  0.325535 -0.252170  0.333992 -0.578877             6   \n",
       "2  0.331140 -0.338974  0.302379 -0.411378             6   \n",
       "3  0.326921 -0.250029 -0.498317 -0.506159             6   \n",
       "4  0.330476 -0.341319 -0.926475 -0.436339            34   \n",
       "5  0.327308 -0.247379 -0.877334 -0.337143            34   \n",
       "\n",
       "                                         multi_label  \n",
       "0  [0, 0, 0, 0, 0, 0, 1, 0, 0, 0, 0, 0, 0, 0, 0, ...  \n",
       "1  [0, 0, 0, 0, 0, 0, 1, 0, 0, 0, 0, 0, 0, 0, 0, ...  \n",
       "2  [0, 0, 0, 0, 0, 0, 1, 0, 0, 0, 0, 0, 0, 0, 0, ...  \n",
       "3  [0, 0, 0, 0, 0, 0, 1, 0, 0, 0, 0, 0, 0, 0, 0, ...  \n",
       "4  [0, 0, 0, 0, 0, 0, 0, 0, 0, 0, 0, 0, 0, 0, 0, ...  \n",
       "5  [0, 0, 0, 0, 0, 0, 0, 0, 0, 0, 0, 0, 0, 0, 0, ...  \n",
       "\n",
       "[6 rows x 52 columns]"
      ]
     },
     "execution_count": 6,
     "metadata": {},
     "output_type": "execute_result"
    }
   ],
   "source": [
    "resolved_labels = labels.copy()\n",
    "\n",
    "# MEHTOD 1: TAKE THE HIGHEEST SCORE\n",
    "resolved_labels[\"single_label\"] = labels.idxmax(axis=1)\n",
    "\n",
    "# MEHTOD 2: TAKE THE HIGHER THAN THR\n",
    "    # attnetion we can add \"neutrality\" emotion\n",
    "    # chc ig neurtrlaity is alredy insiude the 50 emo\n",
    "thr_emo = 1\n",
    "resolved_labels[\"multi_label\"] = labels.apply(\n",
    "    lambda row: [1 if value > thr_emo else 0 for value in row], axis=1\n",
    ")\n",
    "\n",
    "resolved_labels.head(6)"
   ]
  },
  {
   "cell_type": "markdown",
   "metadata": {},
   "source": [
    "# Add timestap in frmi data, both in \"tr\" and \"sec\""
   ]
  },
  {
   "cell_type": "code",
   "execution_count": 7,
   "metadata": {},
   "outputs": [
    {
     "data": {
      "text/html": [
       "<div>\n",
       "<style scoped>\n",
       "    .dataframe tbody tr th:only-of-type {\n",
       "        vertical-align: middle;\n",
       "    }\n",
       "\n",
       "    .dataframe tbody tr th {\n",
       "        vertical-align: top;\n",
       "    }\n",
       "\n",
       "    .dataframe thead th {\n",
       "        text-align: right;\n",
       "    }\n",
       "</style>\n",
       "<table border=\"1\" class=\"dataframe\">\n",
       "  <thead>\n",
       "    <tr style=\"text-align: right;\">\n",
       "      <th></th>\n",
       "      <th>filename</th>\n",
       "      <th>vindex</th>\n",
       "      <th>full_region</th>\n",
       "      <th>partial_region</th>\n",
       "      <th>score</th>\n",
       "      <th>movie_name</th>\n",
       "      <th>parcel</th>\n",
       "      <th>id</th>\n",
       "      <th>session</th>\n",
       "      <th>timestamp_tr</th>\n",
       "      <th>timestamp_sec</th>\n",
       "    </tr>\n",
       "  </thead>\n",
       "  <tbody>\n",
       "    <tr>\n",
       "      <th>0</th>\n",
       "      <td>TC_414_sub-S25_AfterTheRain.csv</td>\n",
       "      <td>0</td>\n",
       "      <td>7Networks_LH_Vis_1</td>\n",
       "      <td>Vis</td>\n",
       "      <td>-28.029734</td>\n",
       "      <td>AfterTheRain</td>\n",
       "      <td>400</td>\n",
       "      <td>sub-S25</td>\n",
       "      <td>ses-1</td>\n",
       "      <td>0</td>\n",
       "      <td>0.0</td>\n",
       "    </tr>\n",
       "    <tr>\n",
       "      <th>1</th>\n",
       "      <td>TC_414_sub-S25_AfterTheRain.csv</td>\n",
       "      <td>0</td>\n",
       "      <td>7Networks_LH_Vis_1</td>\n",
       "      <td>Vis</td>\n",
       "      <td>-28.084551</td>\n",
       "      <td>AfterTheRain</td>\n",
       "      <td>400</td>\n",
       "      <td>sub-S25</td>\n",
       "      <td>ses-1</td>\n",
       "      <td>1</td>\n",
       "      <td>1.3</td>\n",
       "    </tr>\n",
       "    <tr>\n",
       "      <th>2</th>\n",
       "      <td>TC_414_sub-S25_AfterTheRain.csv</td>\n",
       "      <td>0</td>\n",
       "      <td>7Networks_LH_Vis_1</td>\n",
       "      <td>Vis</td>\n",
       "      <td>-1.884319</td>\n",
       "      <td>AfterTheRain</td>\n",
       "      <td>400</td>\n",
       "      <td>sub-S25</td>\n",
       "      <td>ses-1</td>\n",
       "      <td>2</td>\n",
       "      <td>2.6</td>\n",
       "    </tr>\n",
       "    <tr>\n",
       "      <th>3</th>\n",
       "      <td>TC_414_sub-S25_AfterTheRain.csv</td>\n",
       "      <td>0</td>\n",
       "      <td>7Networks_LH_Vis_1</td>\n",
       "      <td>Vis</td>\n",
       "      <td>-0.738570</td>\n",
       "      <td>AfterTheRain</td>\n",
       "      <td>400</td>\n",
       "      <td>sub-S25</td>\n",
       "      <td>ses-1</td>\n",
       "      <td>3</td>\n",
       "      <td>3.9</td>\n",
       "    </tr>\n",
       "    <tr>\n",
       "      <th>4</th>\n",
       "      <td>TC_414_sub-S25_AfterTheRain.csv</td>\n",
       "      <td>0</td>\n",
       "      <td>7Networks_LH_Vis_1</td>\n",
       "      <td>Vis</td>\n",
       "      <td>48.665913</td>\n",
       "      <td>AfterTheRain</td>\n",
       "      <td>400</td>\n",
       "      <td>sub-S25</td>\n",
       "      <td>ses-1</td>\n",
       "      <td>4</td>\n",
       "      <td>5.2</td>\n",
       "    </tr>\n",
       "    <tr>\n",
       "      <th>...</th>\n",
       "      <td>...</td>\n",
       "      <td>...</td>\n",
       "      <td>...</td>\n",
       "      <td>...</td>\n",
       "      <td>...</td>\n",
       "      <td>...</td>\n",
       "      <td>...</td>\n",
       "      <td>...</td>\n",
       "      <td>...</td>\n",
       "      <td>...</td>\n",
       "      <td>...</td>\n",
       "    </tr>\n",
       "    <tr>\n",
       "      <th>6691063</th>\n",
       "      <td>TC_414_sub-S28_AfterTheRain.csv</td>\n",
       "      <td>413</td>\n",
       "      <td>Right Accumbens</td>\n",
       "      <td>Sub</td>\n",
       "      <td>16.858381</td>\n",
       "      <td>AfterTheRain</td>\n",
       "      <td>14</td>\n",
       "      <td>sub-S28</td>\n",
       "      <td>ses-3</td>\n",
       "      <td>531</td>\n",
       "      <td>690.3</td>\n",
       "    </tr>\n",
       "    <tr>\n",
       "      <th>6691064</th>\n",
       "      <td>TC_414_sub-S28_AfterTheRain.csv</td>\n",
       "      <td>413</td>\n",
       "      <td>Right Accumbens</td>\n",
       "      <td>Sub</td>\n",
       "      <td>22.814312</td>\n",
       "      <td>AfterTheRain</td>\n",
       "      <td>14</td>\n",
       "      <td>sub-S28</td>\n",
       "      <td>ses-3</td>\n",
       "      <td>532</td>\n",
       "      <td>691.6</td>\n",
       "    </tr>\n",
       "    <tr>\n",
       "      <th>6691065</th>\n",
       "      <td>TC_414_sub-S28_AfterTheRain.csv</td>\n",
       "      <td>413</td>\n",
       "      <td>Right Accumbens</td>\n",
       "      <td>Sub</td>\n",
       "      <td>-12.612755</td>\n",
       "      <td>AfterTheRain</td>\n",
       "      <td>14</td>\n",
       "      <td>sub-S28</td>\n",
       "      <td>ses-3</td>\n",
       "      <td>533</td>\n",
       "      <td>692.9</td>\n",
       "    </tr>\n",
       "    <tr>\n",
       "      <th>6691066</th>\n",
       "      <td>TC_414_sub-S28_AfterTheRain.csv</td>\n",
       "      <td>413</td>\n",
       "      <td>Right Accumbens</td>\n",
       "      <td>Sub</td>\n",
       "      <td>31.981007</td>\n",
       "      <td>AfterTheRain</td>\n",
       "      <td>14</td>\n",
       "      <td>sub-S28</td>\n",
       "      <td>ses-3</td>\n",
       "      <td>534</td>\n",
       "      <td>694.2</td>\n",
       "    </tr>\n",
       "    <tr>\n",
       "      <th>6691067</th>\n",
       "      <td>TC_414_sub-S28_AfterTheRain.csv</td>\n",
       "      <td>413</td>\n",
       "      <td>Right Accumbens</td>\n",
       "      <td>Sub</td>\n",
       "      <td>8.570053</td>\n",
       "      <td>AfterTheRain</td>\n",
       "      <td>14</td>\n",
       "      <td>sub-S28</td>\n",
       "      <td>ses-3</td>\n",
       "      <td>535</td>\n",
       "      <td>695.5</td>\n",
       "    </tr>\n",
       "  </tbody>\n",
       "</table>\n",
       "<p>6691068 rows × 11 columns</p>\n",
       "</div>"
      ],
      "text/plain": [
       "                                filename  vindex         full_region  \\\n",
       "0        TC_414_sub-S25_AfterTheRain.csv       0  7Networks_LH_Vis_1   \n",
       "1        TC_414_sub-S25_AfterTheRain.csv       0  7Networks_LH_Vis_1   \n",
       "2        TC_414_sub-S25_AfterTheRain.csv       0  7Networks_LH_Vis_1   \n",
       "3        TC_414_sub-S25_AfterTheRain.csv       0  7Networks_LH_Vis_1   \n",
       "4        TC_414_sub-S25_AfterTheRain.csv       0  7Networks_LH_Vis_1   \n",
       "...                                  ...     ...                 ...   \n",
       "6691063  TC_414_sub-S28_AfterTheRain.csv     413     Right Accumbens   \n",
       "6691064  TC_414_sub-S28_AfterTheRain.csv     413     Right Accumbens   \n",
       "6691065  TC_414_sub-S28_AfterTheRain.csv     413     Right Accumbens   \n",
       "6691066  TC_414_sub-S28_AfterTheRain.csv     413     Right Accumbens   \n",
       "6691067  TC_414_sub-S28_AfterTheRain.csv     413     Right Accumbens   \n",
       "\n",
       "        partial_region      score    movie_name  parcel       id session  \\\n",
       "0                  Vis -28.029734  AfterTheRain     400  sub-S25   ses-1   \n",
       "1                  Vis -28.084551  AfterTheRain     400  sub-S25   ses-1   \n",
       "2                  Vis  -1.884319  AfterTheRain     400  sub-S25   ses-1   \n",
       "3                  Vis  -0.738570  AfterTheRain     400  sub-S25   ses-1   \n",
       "4                  Vis  48.665913  AfterTheRain     400  sub-S25   ses-1   \n",
       "...                ...        ...           ...     ...      ...     ...   \n",
       "6691063            Sub  16.858381  AfterTheRain      14  sub-S28   ses-3   \n",
       "6691064            Sub  22.814312  AfterTheRain      14  sub-S28   ses-3   \n",
       "6691065            Sub -12.612755  AfterTheRain      14  sub-S28   ses-3   \n",
       "6691066            Sub  31.981007  AfterTheRain      14  sub-S28   ses-3   \n",
       "6691067            Sub   8.570053  AfterTheRain      14  sub-S28   ses-3   \n",
       "\n",
       "         timestamp_tr  timestamp_sec  \n",
       "0                   0            0.0  \n",
       "1                   1            1.3  \n",
       "2                   2            2.6  \n",
       "3                   3            3.9  \n",
       "4                   4            5.2  \n",
       "...               ...            ...  \n",
       "6691063           531          690.3  \n",
       "6691064           532          691.6  \n",
       "6691065           533          692.9  \n",
       "6691066           534          694.2  \n",
       "6691067           535          695.5  \n",
       "\n",
       "[6691068 rows x 11 columns]"
      ]
     },
     "execution_count": 7,
     "metadata": {},
     "output_type": "execute_result"
    }
   ],
   "source": [
    "# Add TR columns for **each region**\n",
    "data[\"timestamp_tr\"] = data.groupby([\"id\", \"vindex\"]).cumcount()\n",
    "data[\"timestamp_sec\"] = data[\"timestamp_tr\"] * tr_len\n",
    "\n",
    "data"
   ]
  },
  {
   "cell_type": "markdown",
   "metadata": {},
   "source": [
    "# Graph\n",
    "- of single movie\n",
    "- of single subject\n",
    "- of single timepoint"
   ]
  },
  {
   "cell_type": "code",
   "execution_count": 8,
   "metadata": {},
   "outputs": [
    {
     "name": "stdout",
     "output_type": "stream",
     "text": [
      "['01', '02', '03', '04', '05', '06', '07', '08', '09', '10', '11', '13', '14', '15', '16', '17', '19', '20', '21', '22', '23', '24', '25', '26', '27', '28', '29', '30', '31', '32']\n"
     ]
    }
   ],
   "source": [
    "# All subjects ids\n",
    "sub_ids = data[\"id\"].sort_values().unique()\n",
    "# Extract numbers using regex\n",
    "pattern = r'sub-S(\\d+)'\n",
    "sub_ids = [re.search(pattern, id).group(1) for id in sub_ids if re.search(pattern, id)]\n",
    "print(sub_ids)"
   ]
  },
  {
   "cell_type": "code",
   "execution_count": 9,
   "metadata": {},
   "outputs": [
    {
     "name": "stdout",
     "output_type": "stream",
     "text": [
      "Subject01, movie: AfterTheRain\n",
      "(75, 382)\n",
      "Movie shown at 75 sec. Duration of the movie 382 sec.\n",
      "Shape data single subject: (221076, 11)\n",
      "Shape labels single subject: (382,) [ 6  6  6  6 34](one for each second of the duration of the movie)\n",
      "Movie started at 75 sec, but fMRI effect will be visible at 80.2\n",
      "This are the timestamp to label (each one is a TR): [80.6 81.9 83.2 84.5]... Total 293\n",
      "Index to use to select the labels: [1. 2. 3. 4. 6.]... Total 293\n",
      "Final label per timepont (one for ech TR insde the movie duration): [ 6  6  6 34 34]... Total 293\n"
     ]
    },
    {
     "data": {
      "text/html": [
       "<div>\n",
       "<style scoped>\n",
       "    .dataframe tbody tr th:only-of-type {\n",
       "        vertical-align: middle;\n",
       "    }\n",
       "\n",
       "    .dataframe tbody tr th {\n",
       "        vertical-align: top;\n",
       "    }\n",
       "\n",
       "    .dataframe thead th {\n",
       "        text-align: right;\n",
       "    }\n",
       "</style>\n",
       "<table border=\"1\" class=\"dataframe\">\n",
       "  <thead>\n",
       "    <tr style=\"text-align: right;\">\n",
       "      <th></th>\n",
       "      <th>timestamp_sec</th>\n",
       "      <th>label</th>\n",
       "      <th>index_used</th>\n",
       "    </tr>\n",
       "  </thead>\n",
       "  <tbody>\n",
       "    <tr>\n",
       "      <th>0</th>\n",
       "      <td>80.6</td>\n",
       "      <td>6</td>\n",
       "      <td>1.0</td>\n",
       "    </tr>\n",
       "    <tr>\n",
       "      <th>1</th>\n",
       "      <td>81.9</td>\n",
       "      <td>6</td>\n",
       "      <td>2.0</td>\n",
       "    </tr>\n",
       "    <tr>\n",
       "      <th>2</th>\n",
       "      <td>83.2</td>\n",
       "      <td>6</td>\n",
       "      <td>3.0</td>\n",
       "    </tr>\n",
       "    <tr>\n",
       "      <th>3</th>\n",
       "      <td>84.5</td>\n",
       "      <td>34</td>\n",
       "      <td>4.0</td>\n",
       "    </tr>\n",
       "  </tbody>\n",
       "</table>\n",
       "</div>"
      ],
      "text/plain": [
       "   timestamp_sec  label  index_used\n",
       "0           80.6      6         1.0\n",
       "1           81.9      6         2.0\n",
       "2           83.2      6         3.0\n",
       "3           84.5     34         4.0"
      ]
     },
     "metadata": {},
     "output_type": "display_data"
    },
    {
     "data": {
      "text/html": [
       "<div>\n",
       "<style scoped>\n",
       "    .dataframe tbody tr th:only-of-type {\n",
       "        vertical-align: middle;\n",
       "    }\n",
       "\n",
       "    .dataframe tbody tr th {\n",
       "        vertical-align: top;\n",
       "    }\n",
       "\n",
       "    .dataframe thead th {\n",
       "        text-align: right;\n",
       "    }\n",
       "</style>\n",
       "<table border=\"1\" class=\"dataframe\">\n",
       "  <thead>\n",
       "    <tr style=\"text-align: right;\">\n",
       "      <th></th>\n",
       "      <th>timestamp_sec</th>\n",
       "      <th>label</th>\n",
       "      <th>index_used</th>\n",
       "      <th>filename</th>\n",
       "      <th>vindex</th>\n",
       "      <th>full_region</th>\n",
       "      <th>partial_region</th>\n",
       "      <th>score</th>\n",
       "      <th>movie_name</th>\n",
       "      <th>parcel</th>\n",
       "      <th>id</th>\n",
       "      <th>session</th>\n",
       "      <th>timestamp_tr</th>\n",
       "    </tr>\n",
       "  </thead>\n",
       "  <tbody>\n",
       "    <tr>\n",
       "      <th>0</th>\n",
       "      <td>80.6</td>\n",
       "      <td>6</td>\n",
       "      <td>1.0</td>\n",
       "      <td>TC_414_sub-S01_AfterTheRain.csv</td>\n",
       "      <td>0</td>\n",
       "      <td>7Networks_LH_Vis_1</td>\n",
       "      <td>Vis</td>\n",
       "      <td>-46.140919</td>\n",
       "      <td>AfterTheRain</td>\n",
       "      <td>400</td>\n",
       "      <td>sub-S01</td>\n",
       "      <td>ses-1</td>\n",
       "      <td>62</td>\n",
       "    </tr>\n",
       "    <tr>\n",
       "      <th>1</th>\n",
       "      <td>80.6</td>\n",
       "      <td>6</td>\n",
       "      <td>1.0</td>\n",
       "      <td>TC_414_sub-S01_AfterTheRain.csv</td>\n",
       "      <td>1</td>\n",
       "      <td>7Networks_LH_Vis_2</td>\n",
       "      <td>Vis</td>\n",
       "      <td>-3.570048</td>\n",
       "      <td>AfterTheRain</td>\n",
       "      <td>400</td>\n",
       "      <td>sub-S01</td>\n",
       "      <td>ses-1</td>\n",
       "      <td>62</td>\n",
       "    </tr>\n",
       "    <tr>\n",
       "      <th>2</th>\n",
       "      <td>80.6</td>\n",
       "      <td>6</td>\n",
       "      <td>1.0</td>\n",
       "      <td>TC_414_sub-S01_AfterTheRain.csv</td>\n",
       "      <td>2</td>\n",
       "      <td>7Networks_LH_Vis_3</td>\n",
       "      <td>Vis</td>\n",
       "      <td>-13.413118</td>\n",
       "      <td>AfterTheRain</td>\n",
       "      <td>400</td>\n",
       "      <td>sub-S01</td>\n",
       "      <td>ses-1</td>\n",
       "      <td>62</td>\n",
       "    </tr>\n",
       "    <tr>\n",
       "      <th>3</th>\n",
       "      <td>80.6</td>\n",
       "      <td>6</td>\n",
       "      <td>1.0</td>\n",
       "      <td>TC_414_sub-S01_AfterTheRain.csv</td>\n",
       "      <td>3</td>\n",
       "      <td>7Networks_LH_Vis_4</td>\n",
       "      <td>Vis</td>\n",
       "      <td>-18.172947</td>\n",
       "      <td>AfterTheRain</td>\n",
       "      <td>400</td>\n",
       "      <td>sub-S01</td>\n",
       "      <td>ses-1</td>\n",
       "      <td>62</td>\n",
       "    </tr>\n",
       "    <tr>\n",
       "      <th>4</th>\n",
       "      <td>80.6</td>\n",
       "      <td>6</td>\n",
       "      <td>1.0</td>\n",
       "      <td>TC_414_sub-S01_AfterTheRain.csv</td>\n",
       "      <td>4</td>\n",
       "      <td>7Networks_LH_Vis_5</td>\n",
       "      <td>Vis</td>\n",
       "      <td>-11.418571</td>\n",
       "      <td>AfterTheRain</td>\n",
       "      <td>400</td>\n",
       "      <td>sub-S01</td>\n",
       "      <td>ses-1</td>\n",
       "      <td>62</td>\n",
       "    </tr>\n",
       "    <tr>\n",
       "      <th>...</th>\n",
       "      <td>...</td>\n",
       "      <td>...</td>\n",
       "      <td>...</td>\n",
       "      <td>...</td>\n",
       "      <td>...</td>\n",
       "      <td>...</td>\n",
       "      <td>...</td>\n",
       "      <td>...</td>\n",
       "      <td>...</td>\n",
       "      <td>...</td>\n",
       "      <td>...</td>\n",
       "      <td>...</td>\n",
       "      <td>...</td>\n",
       "    </tr>\n",
       "    <tr>\n",
       "      <th>121297</th>\n",
       "      <td>460.2</td>\n",
       "      <td>49</td>\n",
       "      <td>380.0</td>\n",
       "      <td>TC_414_sub-S01_AfterTheRain.csv</td>\n",
       "      <td>409</td>\n",
       "      <td>Right Putamen</td>\n",
       "      <td>Sub</td>\n",
       "      <td>23.405094</td>\n",
       "      <td>AfterTheRain</td>\n",
       "      <td>14</td>\n",
       "      <td>sub-S01</td>\n",
       "      <td>ses-2</td>\n",
       "      <td>354</td>\n",
       "    </tr>\n",
       "    <tr>\n",
       "      <th>121298</th>\n",
       "      <td>460.2</td>\n",
       "      <td>49</td>\n",
       "      <td>380.0</td>\n",
       "      <td>TC_414_sub-S01_AfterTheRain.csv</td>\n",
       "      <td>410</td>\n",
       "      <td>Right Pallidum</td>\n",
       "      <td>Sub</td>\n",
       "      <td>24.006180</td>\n",
       "      <td>AfterTheRain</td>\n",
       "      <td>14</td>\n",
       "      <td>sub-S01</td>\n",
       "      <td>ses-2</td>\n",
       "      <td>354</td>\n",
       "    </tr>\n",
       "    <tr>\n",
       "      <th>121299</th>\n",
       "      <td>460.2</td>\n",
       "      <td>49</td>\n",
       "      <td>380.0</td>\n",
       "      <td>TC_414_sub-S01_AfterTheRain.csv</td>\n",
       "      <td>411</td>\n",
       "      <td>Right Hippocampus</td>\n",
       "      <td>Sub</td>\n",
       "      <td>27.298269</td>\n",
       "      <td>AfterTheRain</td>\n",
       "      <td>14</td>\n",
       "      <td>sub-S01</td>\n",
       "      <td>ses-2</td>\n",
       "      <td>354</td>\n",
       "    </tr>\n",
       "    <tr>\n",
       "      <th>121300</th>\n",
       "      <td>460.2</td>\n",
       "      <td>49</td>\n",
       "      <td>380.0</td>\n",
       "      <td>TC_414_sub-S01_AfterTheRain.csv</td>\n",
       "      <td>412</td>\n",
       "      <td>Right Amygdala</td>\n",
       "      <td>Sub</td>\n",
       "      <td>36.601147</td>\n",
       "      <td>AfterTheRain</td>\n",
       "      <td>14</td>\n",
       "      <td>sub-S01</td>\n",
       "      <td>ses-2</td>\n",
       "      <td>354</td>\n",
       "    </tr>\n",
       "    <tr>\n",
       "      <th>121301</th>\n",
       "      <td>460.2</td>\n",
       "      <td>49</td>\n",
       "      <td>380.0</td>\n",
       "      <td>TC_414_sub-S01_AfterTheRain.csv</td>\n",
       "      <td>413</td>\n",
       "      <td>Right Accumbens</td>\n",
       "      <td>Sub</td>\n",
       "      <td>65.392883</td>\n",
       "      <td>AfterTheRain</td>\n",
       "      <td>14</td>\n",
       "      <td>sub-S01</td>\n",
       "      <td>ses-2</td>\n",
       "      <td>354</td>\n",
       "    </tr>\n",
       "  </tbody>\n",
       "</table>\n",
       "<p>121302 rows × 13 columns</p>\n",
       "</div>"
      ],
      "text/plain": [
       "        timestamp_sec  label  index_used                         filename  \\\n",
       "0                80.6      6         1.0  TC_414_sub-S01_AfterTheRain.csv   \n",
       "1                80.6      6         1.0  TC_414_sub-S01_AfterTheRain.csv   \n",
       "2                80.6      6         1.0  TC_414_sub-S01_AfterTheRain.csv   \n",
       "3                80.6      6         1.0  TC_414_sub-S01_AfterTheRain.csv   \n",
       "4                80.6      6         1.0  TC_414_sub-S01_AfterTheRain.csv   \n",
       "...               ...    ...         ...                              ...   \n",
       "121297          460.2     49       380.0  TC_414_sub-S01_AfterTheRain.csv   \n",
       "121298          460.2     49       380.0  TC_414_sub-S01_AfterTheRain.csv   \n",
       "121299          460.2     49       380.0  TC_414_sub-S01_AfterTheRain.csv   \n",
       "121300          460.2     49       380.0  TC_414_sub-S01_AfterTheRain.csv   \n",
       "121301          460.2     49       380.0  TC_414_sub-S01_AfterTheRain.csv   \n",
       "\n",
       "        vindex         full_region partial_region      score    movie_name  \\\n",
       "0            0  7Networks_LH_Vis_1            Vis -46.140919  AfterTheRain   \n",
       "1            1  7Networks_LH_Vis_2            Vis  -3.570048  AfterTheRain   \n",
       "2            2  7Networks_LH_Vis_3            Vis -13.413118  AfterTheRain   \n",
       "3            3  7Networks_LH_Vis_4            Vis -18.172947  AfterTheRain   \n",
       "4            4  7Networks_LH_Vis_5            Vis -11.418571  AfterTheRain   \n",
       "...        ...                 ...            ...        ...           ...   \n",
       "121297     409       Right Putamen            Sub  23.405094  AfterTheRain   \n",
       "121298     410      Right Pallidum            Sub  24.006180  AfterTheRain   \n",
       "121299     411   Right Hippocampus            Sub  27.298269  AfterTheRain   \n",
       "121300     412      Right Amygdala            Sub  36.601147  AfterTheRain   \n",
       "121301     413     Right Accumbens            Sub  65.392883  AfterTheRain   \n",
       "\n",
       "        parcel       id session  timestamp_tr  \n",
       "0          400  sub-S01   ses-1            62  \n",
       "1          400  sub-S01   ses-1            62  \n",
       "2          400  sub-S01   ses-1            62  \n",
       "3          400  sub-S01   ses-1            62  \n",
       "4          400  sub-S01   ses-1            62  \n",
       "...        ...      ...     ...           ...  \n",
       "121297      14  sub-S01   ses-2           354  \n",
       "121298      14  sub-S01   ses-2           354  \n",
       "121299      14  sub-S01   ses-2           354  \n",
       "121300      14  sub-S01   ses-2           354  \n",
       "121301      14  sub-S01   ses-2           354  \n",
       "\n",
       "[121302 rows x 13 columns]"
      ]
     },
     "metadata": {},
     "output_type": "display_data"
    },
    {
     "data": {
      "text/plain": [
       "'Shape DF of single sub of single timepoint : (414, 13)'"
      ]
     },
     "metadata": {},
     "output_type": "display_data"
    },
    {
     "name": "stdout",
     "output_type": "stream",
     "text": [
      "Shape adj matrix: torch.Size([414, 414])\n",
      "Label fo the current grpah: 6\n",
      "tensor([[  0,   0,   0,  ..., 413, 413, 413],\n",
      "        [  1,   2,   3,  ..., 410, 411, 412]])\n",
      "torch.Size([2, 170982])\n",
      "tensor([1., 1., 1.,  ..., 1., 1., 1.])\n",
      "torch.Size([170982])\n",
      "GraphEmo(x=[414], edge_index=[2, 170982], edge_attr=[170982], y=6, movie='AfterTheRain', subject='01', timestamp_tr=62, adj=[414, 414])\n",
      "Graph saved at: /home/dalai/GNN_E/data/processed/all_graphs/clique_singlefmri/AfterTheRain_01_62.pt\n",
      "\n",
      "\n",
      "01 - 62\n"
     ]
    },
    {
     "name": "stderr",
     "output_type": "stream",
     "text": [
      "/home/dalai/GNN_E/scripts/utils.py:26: UserWarning: To copy construct from a tensor, it is recommended to use sourceTensor.clone().detach() or sourceTensor.clone().detach().requires_grad_(True), rather than torch.tensor(sourceTensor).\n",
      "  edge_index = torch.tensor(adj.nonzero().t().contiguous(), dtype=torch.long)  # Shape: [2, num_edges]\n",
      "/home/dalai/GNN_E/scripts/utils.py:30: UserWarning: To copy construct from a tensor, it is recommended to use sourceTensor.clone().detach() or sourceTensor.clone().detach().requires_grad_(True), rather than torch.tensor(sourceTensor).\n",
      "  edge_attr = torch.tensor(adj[edge_index[0, :], edge_index[1, :]], dtype=torch.float)\n"
     ]
    },
    {
     "data": {
      "text/plain": [
       "'Shape DF of single sub of single timepoint : (414, 13)'"
      ]
     },
     "metadata": {},
     "output_type": "display_data"
    },
    {
     "name": "stdout",
     "output_type": "stream",
     "text": [
      "Shape adj matrix: torch.Size([414, 414])\n",
      "Label fo the current grpah: 6\n",
      "tensor([[  0,   0,   0,  ..., 413, 413, 413],\n",
      "        [  1,   2,   3,  ..., 410, 411, 412]])\n",
      "torch.Size([2, 170982])\n",
      "tensor([1., 1., 1.,  ..., 1., 1., 1.])\n",
      "torch.Size([170982])\n",
      "GraphEmo(x=[414], edge_index=[2, 170982], edge_attr=[170982], y=6, movie='AfterTheRain', subject='01', timestamp_tr=63, adj=[414, 414])\n",
      "Graph saved at: /home/dalai/GNN_E/data/processed/all_graphs/clique_singlefmri/AfterTheRain_01_63.pt\n",
      "\n",
      "\n",
      "01 - 63\n"
     ]
    },
    {
     "name": "stderr",
     "output_type": "stream",
     "text": [
      "/home/dalai/GNN_E/scripts/utils.py:26: UserWarning: To copy construct from a tensor, it is recommended to use sourceTensor.clone().detach() or sourceTensor.clone().detach().requires_grad_(True), rather than torch.tensor(sourceTensor).\n",
      "  edge_index = torch.tensor(adj.nonzero().t().contiguous(), dtype=torch.long)  # Shape: [2, num_edges]\n",
      "/home/dalai/GNN_E/scripts/utils.py:30: UserWarning: To copy construct from a tensor, it is recommended to use sourceTensor.clone().detach() or sourceTensor.clone().detach().requires_grad_(True), rather than torch.tensor(sourceTensor).\n",
      "  edge_attr = torch.tensor(adj[edge_index[0, :], edge_index[1, :]], dtype=torch.float)\n"
     ]
    },
    {
     "data": {
      "text/plain": [
       "'Shape DF of single sub of single timepoint : (414, 13)'"
      ]
     },
     "metadata": {},
     "output_type": "display_data"
    },
    {
     "name": "stdout",
     "output_type": "stream",
     "text": [
      "Shape adj matrix: torch.Size([414, 414])\n",
      "Label fo the current grpah: 6\n",
      "tensor([[  0,   0,   0,  ..., 413, 413, 413],\n",
      "        [  1,   2,   3,  ..., 410, 411, 412]])\n",
      "torch.Size([2, 170982])\n",
      "tensor([1., 1., 1.,  ..., 1., 1., 1.])\n",
      "torch.Size([170982])\n",
      "GraphEmo(x=[414], edge_index=[2, 170982], edge_attr=[170982], y=6, movie='AfterTheRain', subject='01', timestamp_tr=64, adj=[414, 414])\n",
      "Graph saved at: /home/dalai/GNN_E/data/processed/all_graphs/clique_singlefmri/AfterTheRain_01_64.pt\n",
      "\n",
      "\n",
      "01 - 64\n"
     ]
    },
    {
     "name": "stderr",
     "output_type": "stream",
     "text": [
      "/home/dalai/GNN_E/scripts/utils.py:26: UserWarning: To copy construct from a tensor, it is recommended to use sourceTensor.clone().detach() or sourceTensor.clone().detach().requires_grad_(True), rather than torch.tensor(sourceTensor).\n",
      "  edge_index = torch.tensor(adj.nonzero().t().contiguous(), dtype=torch.long)  # Shape: [2, num_edges]\n",
      "/home/dalai/GNN_E/scripts/utils.py:30: UserWarning: To copy construct from a tensor, it is recommended to use sourceTensor.clone().detach() or sourceTensor.clone().detach().requires_grad_(True), rather than torch.tensor(sourceTensor).\n",
      "  edge_attr = torch.tensor(adj[edge_index[0, :], edge_index[1, :]], dtype=torch.float)\n"
     ]
    },
    {
     "data": {
      "text/plain": [
       "'Shape DF of single sub of single timepoint : (414, 13)'"
      ]
     },
     "metadata": {},
     "output_type": "display_data"
    },
    {
     "name": "stdout",
     "output_type": "stream",
     "text": [
      "Shape adj matrix: torch.Size([414, 414])\n",
      "Label fo the current grpah: 34\n",
      "tensor([[  0,   0,   0,  ..., 413, 413, 413],\n",
      "        [  1,   2,   3,  ..., 410, 411, 412]])\n",
      "torch.Size([2, 170982])\n",
      "tensor([1., 1., 1.,  ..., 1., 1., 1.])\n",
      "torch.Size([170982])\n",
      "GraphEmo(x=[414], edge_index=[2, 170982], edge_attr=[170982], y=34, movie='AfterTheRain', subject='01', timestamp_tr=65, adj=[414, 414])\n",
      "Graph saved at: /home/dalai/GNN_E/data/processed/all_graphs/clique_singlefmri/AfterTheRain_01_65.pt\n",
      "\n",
      "\n",
      "01 - 65\n"
     ]
    },
    {
     "name": "stderr",
     "output_type": "stream",
     "text": [
      "/home/dalai/GNN_E/scripts/utils.py:26: UserWarning: To copy construct from a tensor, it is recommended to use sourceTensor.clone().detach() or sourceTensor.clone().detach().requires_grad_(True), rather than torch.tensor(sourceTensor).\n",
      "  edge_index = torch.tensor(adj.nonzero().t().contiguous(), dtype=torch.long)  # Shape: [2, num_edges]\n",
      "/home/dalai/GNN_E/scripts/utils.py:30: UserWarning: To copy construct from a tensor, it is recommended to use sourceTensor.clone().detach() or sourceTensor.clone().detach().requires_grad_(True), rather than torch.tensor(sourceTensor).\n",
      "  edge_attr = torch.tensor(adj[edge_index[0, :], edge_index[1, :]], dtype=torch.float)\n"
     ]
    },
    {
     "data": {
      "text/plain": [
       "'Shape DF of single sub of single timepoint : (414, 13)'"
      ]
     },
     "metadata": {},
     "output_type": "display_data"
    },
    {
     "name": "stdout",
     "output_type": "stream",
     "text": [
      "Shape adj matrix: torch.Size([414, 414])\n",
      "Label fo the current grpah: 34\n",
      "tensor([[  0,   0,   0,  ..., 413, 413, 413],\n",
      "        [  1,   2,   3,  ..., 410, 411, 412]])\n",
      "torch.Size([2, 170982])\n",
      "tensor([1., 1., 1.,  ..., 1., 1., 1.])\n",
      "torch.Size([170982])\n",
      "GraphEmo(x=[414], edge_index=[2, 170982], edge_attr=[170982], y=34, movie='AfterTheRain', subject='01', timestamp_tr=66, adj=[414, 414])\n",
      "Graph saved at: /home/dalai/GNN_E/data/processed/all_graphs/clique_singlefmri/AfterTheRain_01_66.pt\n",
      "\n",
      "\n",
      "01 - 66\n"
     ]
    },
    {
     "name": "stderr",
     "output_type": "stream",
     "text": [
      "/home/dalai/GNN_E/scripts/utils.py:26: UserWarning: To copy construct from a tensor, it is recommended to use sourceTensor.clone().detach() or sourceTensor.clone().detach().requires_grad_(True), rather than torch.tensor(sourceTensor).\n",
      "  edge_index = torch.tensor(adj.nonzero().t().contiguous(), dtype=torch.long)  # Shape: [2, num_edges]\n",
      "/home/dalai/GNN_E/scripts/utils.py:30: UserWarning: To copy construct from a tensor, it is recommended to use sourceTensor.clone().detach() or sourceTensor.clone().detach().requires_grad_(True), rather than torch.tensor(sourceTensor).\n",
      "  edge_attr = torch.tensor(adj[edge_index[0, :], edge_index[1, :]], dtype=torch.float)\n"
     ]
    },
    {
     "data": {
      "text/plain": [
       "'Shape DF of single sub of single timepoint : (414, 13)'"
      ]
     },
     "metadata": {},
     "output_type": "display_data"
    },
    {
     "name": "stdout",
     "output_type": "stream",
     "text": [
      "Shape adj matrix: torch.Size([414, 414])\n",
      "Label fo the current grpah: 34\n",
      "tensor([[  0,   0,   0,  ..., 413, 413, 413],\n",
      "        [  1,   2,   3,  ..., 410, 411, 412]])\n",
      "torch.Size([2, 170982])\n",
      "tensor([1., 1., 1.,  ..., 1., 1., 1.])\n",
      "torch.Size([170982])\n",
      "GraphEmo(x=[414], edge_index=[2, 170982], edge_attr=[170982], y=34, movie='AfterTheRain', subject='01', timestamp_tr=67, adj=[414, 414])\n"
     ]
    },
    {
     "name": "stderr",
     "output_type": "stream",
     "text": [
      "/home/dalai/GNN_E/scripts/utils.py:26: UserWarning: To copy construct from a tensor, it is recommended to use sourceTensor.clone().detach() or sourceTensor.clone().detach().requires_grad_(True), rather than torch.tensor(sourceTensor).\n",
      "  edge_index = torch.tensor(adj.nonzero().t().contiguous(), dtype=torch.long)  # Shape: [2, num_edges]\n",
      "/home/dalai/GNN_E/scripts/utils.py:30: UserWarning: To copy construct from a tensor, it is recommended to use sourceTensor.clone().detach() or sourceTensor.clone().detach().requires_grad_(True), rather than torch.tensor(sourceTensor).\n",
      "  edge_attr = torch.tensor(adj[edge_index[0, :], edge_index[1, :]], dtype=torch.float)\n"
     ]
    },
    {
     "name": "stdout",
     "output_type": "stream",
     "text": [
      "Graph saved at: /home/dalai/GNN_E/data/processed/all_graphs/clique_singlefmri/AfterTheRain_01_67.pt\n",
      "\n",
      "\n",
      "01 - 67\n"
     ]
    },
    {
     "data": {
      "text/plain": [
       "'Shape DF of single sub of single timepoint : (414, 13)'"
      ]
     },
     "metadata": {},
     "output_type": "display_data"
    },
    {
     "name": "stdout",
     "output_type": "stream",
     "text": [
      "Shape adj matrix: torch.Size([414, 414])\n",
      "Label fo the current grpah: 34\n",
      "tensor([[  0,   0,   0,  ..., 413, 413, 413],\n",
      "        [  1,   2,   3,  ..., 410, 411, 412]])\n",
      "torch.Size([2, 170982])\n",
      "tensor([1., 1., 1.,  ..., 1., 1., 1.])\n",
      "torch.Size([170982])\n",
      "GraphEmo(x=[414], edge_index=[2, 170982], edge_attr=[170982], y=34, movie='AfterTheRain', subject='01', timestamp_tr=68, adj=[414, 414])\n"
     ]
    },
    {
     "name": "stderr",
     "output_type": "stream",
     "text": [
      "/home/dalai/GNN_E/scripts/utils.py:26: UserWarning: To copy construct from a tensor, it is recommended to use sourceTensor.clone().detach() or sourceTensor.clone().detach().requires_grad_(True), rather than torch.tensor(sourceTensor).\n",
      "  edge_index = torch.tensor(adj.nonzero().t().contiguous(), dtype=torch.long)  # Shape: [2, num_edges]\n",
      "/home/dalai/GNN_E/scripts/utils.py:30: UserWarning: To copy construct from a tensor, it is recommended to use sourceTensor.clone().detach() or sourceTensor.clone().detach().requires_grad_(True), rather than torch.tensor(sourceTensor).\n",
      "  edge_attr = torch.tensor(adj[edge_index[0, :], edge_index[1, :]], dtype=torch.float)\n"
     ]
    },
    {
     "name": "stdout",
     "output_type": "stream",
     "text": [
      "Graph saved at: /home/dalai/GNN_E/data/processed/all_graphs/clique_singlefmri/AfterTheRain_01_68.pt\n",
      "\n",
      "\n",
      "01 - 68\n"
     ]
    },
    {
     "data": {
      "text/plain": [
       "'Shape DF of single sub of single timepoint : (414, 13)'"
      ]
     },
     "metadata": {},
     "output_type": "display_data"
    },
    {
     "name": "stdout",
     "output_type": "stream",
     "text": [
      "Shape adj matrix: torch.Size([414, 414])\n",
      "Label fo the current grpah: 34\n",
      "tensor([[  0,   0,   0,  ..., 413, 413, 413],\n",
      "        [  1,   2,   3,  ..., 410, 411, 412]])\n",
      "torch.Size([2, 170982])\n",
      "tensor([1., 1., 1.,  ..., 1., 1., 1.])\n",
      "torch.Size([170982])\n",
      "GraphEmo(x=[414], edge_index=[2, 170982], edge_attr=[170982], y=34, movie='AfterTheRain', subject='01', timestamp_tr=69, adj=[414, 414])\n",
      "Graph saved at: /home/dalai/GNN_E/data/processed/all_graphs/clique_singlefmri/AfterTheRain_01_69.pt"
     ]
    },
    {
     "name": "stderr",
     "output_type": "stream",
     "text": [
      "/home/dalai/GNN_E/scripts/utils.py:26: UserWarning: To copy construct from a tensor, it is recommended to use sourceTensor.clone().detach() or sourceTensor.clone().detach().requires_grad_(True), rather than torch.tensor(sourceTensor).\n",
      "  edge_index = torch.tensor(adj.nonzero().t().contiguous(), dtype=torch.long)  # Shape: [2, num_edges]\n",
      "/home/dalai/GNN_E/scripts/utils.py:30: UserWarning: To copy construct from a tensor, it is recommended to use sourceTensor.clone().detach() or sourceTensor.clone().detach().requires_grad_(True), rather than torch.tensor(sourceTensor).\n",
      "  edge_attr = torch.tensor(adj[edge_index[0, :], edge_index[1, :]], dtype=torch.float)\n"
     ]
    },
    {
     "name": "stdout",
     "output_type": "stream",
     "text": [
      "\n",
      "\n",
      "\n",
      "01 - 69\n"
     ]
    },
    {
     "data": {
      "text/plain": [
       "'Shape DF of single sub of single timepoint : (414, 13)'"
      ]
     },
     "metadata": {},
     "output_type": "display_data"
    },
    {
     "name": "stdout",
     "output_type": "stream",
     "text": [
      "Shape adj matrix: torch.Size([414, 414])\n",
      "Label fo the current grpah: 34\n",
      "tensor([[  0,   0,   0,  ..., 413, 413, 413],\n",
      "        [  1,   2,   3,  ..., 410, 411, 412]])\n",
      "torch.Size([2, 170982])\n",
      "tensor([1., 1., 1.,  ..., 1., 1., 1.])\n",
      "torch.Size([170982])\n",
      "GraphEmo(x=[414], edge_index=[2, 170982], edge_attr=[170982], y=34, movie='AfterTheRain', subject='01', timestamp_tr=70, adj=[414, 414])\n"
     ]
    },
    {
     "name": "stderr",
     "output_type": "stream",
     "text": [
      "/home/dalai/GNN_E/scripts/utils.py:26: UserWarning: To copy construct from a tensor, it is recommended to use sourceTensor.clone().detach() or sourceTensor.clone().detach().requires_grad_(True), rather than torch.tensor(sourceTensor).\n",
      "  edge_index = torch.tensor(adj.nonzero().t().contiguous(), dtype=torch.long)  # Shape: [2, num_edges]\n",
      "/home/dalai/GNN_E/scripts/utils.py:30: UserWarning: To copy construct from a tensor, it is recommended to use sourceTensor.clone().detach() or sourceTensor.clone().detach().requires_grad_(True), rather than torch.tensor(sourceTensor).\n",
      "  edge_attr = torch.tensor(adj[edge_index[0, :], edge_index[1, :]], dtype=torch.float)\n"
     ]
    },
    {
     "name": "stdout",
     "output_type": "stream",
     "text": [
      "Graph saved at: /home/dalai/GNN_E/data/processed/all_graphs/clique_singlefmri/AfterTheRain_01_70.pt\n",
      "\n",
      "\n",
      "01 - 70\n"
     ]
    },
    {
     "data": {
      "text/plain": [
       "'Shape DF of single sub of single timepoint : (414, 13)'"
      ]
     },
     "metadata": {},
     "output_type": "display_data"
    },
    {
     "name": "stdout",
     "output_type": "stream",
     "text": [
      "Shape adj matrix: torch.Size([414, 414])\n",
      "Label fo the current grpah: 34\n",
      "tensor([[  0,   0,   0,  ..., 413, 413, 413],\n",
      "        [  1,   2,   3,  ..., 410, 411, 412]])\n",
      "torch.Size([2, 170982])\n",
      "tensor([1., 1., 1.,  ..., 1., 1., 1.])\n",
      "torch.Size([170982])\n",
      "GraphEmo(x=[414], edge_index=[2, 170982], edge_attr=[170982], y=34, movie='AfterTheRain', subject='01', timestamp_tr=71, adj=[414, 414])\n"
     ]
    },
    {
     "name": "stderr",
     "output_type": "stream",
     "text": [
      "/home/dalai/GNN_E/scripts/utils.py:26: UserWarning: To copy construct from a tensor, it is recommended to use sourceTensor.clone().detach() or sourceTensor.clone().detach().requires_grad_(True), rather than torch.tensor(sourceTensor).\n",
      "  edge_index = torch.tensor(adj.nonzero().t().contiguous(), dtype=torch.long)  # Shape: [2, num_edges]\n",
      "/home/dalai/GNN_E/scripts/utils.py:30: UserWarning: To copy construct from a tensor, it is recommended to use sourceTensor.clone().detach() or sourceTensor.clone().detach().requires_grad_(True), rather than torch.tensor(sourceTensor).\n",
      "  edge_attr = torch.tensor(adj[edge_index[0, :], edge_index[1, :]], dtype=torch.float)\n"
     ]
    },
    {
     "name": "stdout",
     "output_type": "stream",
     "text": [
      "Graph saved at: /home/dalai/GNN_E/data/processed/all_graphs/clique_singlefmri/AfterTheRain_01_71.pt\n",
      "\n",
      "\n",
      "01 - 71\n"
     ]
    },
    {
     "data": {
      "text/plain": [
       "'Shape DF of single sub of single timepoint : (414, 13)'"
      ]
     },
     "metadata": {},
     "output_type": "display_data"
    },
    {
     "name": "stdout",
     "output_type": "stream",
     "text": [
      "Shape adj matrix: torch.Size([414, 414])\n",
      "Label fo the current grpah: 34\n",
      "tensor([[  0,   0,   0,  ..., 413, 413, 413],\n",
      "        [  1,   2,   3,  ..., 410, 411, 412]])\n",
      "torch.Size([2, 170982])\n",
      "tensor([1., 1., 1.,  ..., 1., 1., 1.])\n",
      "torch.Size([170982])\n",
      "GraphEmo(x=[414], edge_index=[2, 170982], edge_attr=[170982], y=34, movie='AfterTheRain', subject='01', timestamp_tr=72, adj=[414, 414])\n"
     ]
    },
    {
     "name": "stderr",
     "output_type": "stream",
     "text": [
      "/home/dalai/GNN_E/scripts/utils.py:26: UserWarning: To copy construct from a tensor, it is recommended to use sourceTensor.clone().detach() or sourceTensor.clone().detach().requires_grad_(True), rather than torch.tensor(sourceTensor).\n",
      "  edge_index = torch.tensor(adj.nonzero().t().contiguous(), dtype=torch.long)  # Shape: [2, num_edges]\n",
      "/home/dalai/GNN_E/scripts/utils.py:30: UserWarning: To copy construct from a tensor, it is recommended to use sourceTensor.clone().detach() or sourceTensor.clone().detach().requires_grad_(True), rather than torch.tensor(sourceTensor).\n",
      "  edge_attr = torch.tensor(adj[edge_index[0, :], edge_index[1, :]], dtype=torch.float)\n"
     ]
    },
    {
     "name": "stdout",
     "output_type": "stream",
     "text": [
      "Graph saved at: /home/dalai/GNN_E/data/processed/all_graphs/clique_singlefmri/AfterTheRain_01_72.pt\n",
      "\n",
      "\n",
      "01 - 72\n"
     ]
    },
    {
     "data": {
      "text/plain": [
       "'Shape DF of single sub of single timepoint : (414, 13)'"
      ]
     },
     "metadata": {},
     "output_type": "display_data"
    },
    {
     "name": "stdout",
     "output_type": "stream",
     "text": [
      "Shape adj matrix: torch.Size([414, 414])\n",
      "Label fo the current grpah: 34\n",
      "tensor([[  0,   0,   0,  ..., 413, 413, 413],\n",
      "        [  1,   2,   3,  ..., 410, 411, 412]])\n",
      "torch.Size([2, 170982])\n",
      "tensor([1., 1., 1.,  ..., 1., 1., 1.])\n",
      "torch.Size([170982])\n",
      "GraphEmo(x=[414], edge_index=[2, 170982], edge_attr=[170982], y=34, movie='AfterTheRain', subject='01', timestamp_tr=73, adj=[414, 414])\n"
     ]
    },
    {
     "name": "stderr",
     "output_type": "stream",
     "text": [
      "/home/dalai/GNN_E/scripts/utils.py:26: UserWarning: To copy construct from a tensor, it is recommended to use sourceTensor.clone().detach() or sourceTensor.clone().detach().requires_grad_(True), rather than torch.tensor(sourceTensor).\n",
      "  edge_index = torch.tensor(adj.nonzero().t().contiguous(), dtype=torch.long)  # Shape: [2, num_edges]\n",
      "/home/dalai/GNN_E/scripts/utils.py:30: UserWarning: To copy construct from a tensor, it is recommended to use sourceTensor.clone().detach() or sourceTensor.clone().detach().requires_grad_(True), rather than torch.tensor(sourceTensor).\n",
      "  edge_attr = torch.tensor(adj[edge_index[0, :], edge_index[1, :]], dtype=torch.float)\n"
     ]
    },
    {
     "name": "stdout",
     "output_type": "stream",
     "text": [
      "Graph saved at: /home/dalai/GNN_E/data/processed/all_graphs/clique_singlefmri/AfterTheRain_01_73.pt\n",
      "\n",
      "\n",
      "01 - 73\n"
     ]
    },
    {
     "data": {
      "text/plain": [
       "'Shape DF of single sub of single timepoint : (414, 13)'"
      ]
     },
     "metadata": {},
     "output_type": "display_data"
    },
    {
     "name": "stdout",
     "output_type": "stream",
     "text": [
      "Shape adj matrix: torch.Size([414, 414])\n",
      "Label fo the current grpah: 34\n",
      "tensor([[  0,   0,   0,  ..., 413, 413, 413],\n",
      "        [  1,   2,   3,  ..., 410, 411, 412]])\n",
      "torch.Size([2, 170982])\n",
      "tensor([1., 1., 1.,  ..., 1., 1., 1.])\n",
      "torch.Size([170982])\n",
      "GraphEmo(x=[414], edge_index=[2, 170982], edge_attr=[170982], y=34, movie='AfterTheRain', subject='01', timestamp_tr=74, adj=[414, 414])\n"
     ]
    },
    {
     "name": "stderr",
     "output_type": "stream",
     "text": [
      "/home/dalai/GNN_E/scripts/utils.py:26: UserWarning: To copy construct from a tensor, it is recommended to use sourceTensor.clone().detach() or sourceTensor.clone().detach().requires_grad_(True), rather than torch.tensor(sourceTensor).\n",
      "  edge_index = torch.tensor(adj.nonzero().t().contiguous(), dtype=torch.long)  # Shape: [2, num_edges]\n",
      "/home/dalai/GNN_E/scripts/utils.py:30: UserWarning: To copy construct from a tensor, it is recommended to use sourceTensor.clone().detach() or sourceTensor.clone().detach().requires_grad_(True), rather than torch.tensor(sourceTensor).\n",
      "  edge_attr = torch.tensor(adj[edge_index[0, :], edge_index[1, :]], dtype=torch.float)\n"
     ]
    },
    {
     "name": "stdout",
     "output_type": "stream",
     "text": [
      "Graph saved at: /home/dalai/GNN_E/data/processed/all_graphs/clique_singlefmri/AfterTheRain_01_74.pt\n",
      "\n",
      "\n",
      "01 - 74\n"
     ]
    },
    {
     "data": {
      "text/plain": [
       "'Shape DF of single sub of single timepoint : (414, 13)'"
      ]
     },
     "metadata": {},
     "output_type": "display_data"
    },
    {
     "name": "stdout",
     "output_type": "stream",
     "text": [
      "Shape adj matrix: torch.Size([414, 414])\n",
      "Label fo the current grpah: 34\n",
      "tensor([[  0,   0,   0,  ..., 413, 413, 413],\n",
      "        [  1,   2,   3,  ..., 410, 411, 412]])\n",
      "torch.Size([2, 170982])\n",
      "tensor([1., 1., 1.,  ..., 1., 1., 1.])\n",
      "torch.Size([170982])\n",
      "GraphEmo(x=[414], edge_index=[2, 170982], edge_attr=[170982], y=34, movie='AfterTheRain', subject='01', timestamp_tr=75, adj=[414, 414])\n",
      "Graph saved at: /home/dalai/GNN_E/data/processed/all_graphs/clique_singlefmri/AfterTheRain_01_75.pt"
     ]
    },
    {
     "name": "stderr",
     "output_type": "stream",
     "text": [
      "/home/dalai/GNN_E/scripts/utils.py:26: UserWarning: To copy construct from a tensor, it is recommended to use sourceTensor.clone().detach() or sourceTensor.clone().detach().requires_grad_(True), rather than torch.tensor(sourceTensor).\n",
      "  edge_index = torch.tensor(adj.nonzero().t().contiguous(), dtype=torch.long)  # Shape: [2, num_edges]\n",
      "/home/dalai/GNN_E/scripts/utils.py:30: UserWarning: To copy construct from a tensor, it is recommended to use sourceTensor.clone().detach() or sourceTensor.clone().detach().requires_grad_(True), rather than torch.tensor(sourceTensor).\n",
      "  edge_attr = torch.tensor(adj[edge_index[0, :], edge_index[1, :]], dtype=torch.float)\n"
     ]
    },
    {
     "name": "stdout",
     "output_type": "stream",
     "text": [
      "\n",
      "\n",
      "\n",
      "01 - 75\n"
     ]
    },
    {
     "data": {
      "text/plain": [
       "'Shape DF of single sub of single timepoint : (414, 13)'"
      ]
     },
     "metadata": {},
     "output_type": "display_data"
    },
    {
     "name": "stdout",
     "output_type": "stream",
     "text": [
      "Shape adj matrix: torch.Size([414, 414])\n",
      "Label fo the current grpah: 34\n",
      "tensor([[  0,   0,   0,  ..., 413, 413, 413],\n",
      "        [  1,   2,   3,  ..., 410, 411, 412]])\n",
      "torch.Size([2, 170982])\n",
      "tensor([1., 1., 1.,  ..., 1., 1., 1.])\n",
      "torch.Size([170982])\n",
      "GraphEmo(x=[414], edge_index=[2, 170982], edge_attr=[170982], y=34, movie='AfterTheRain', subject='01', timestamp_tr=76, adj=[414, 414])\n",
      "Graph saved at: /home/dalai/GNN_E/data/processed/all_graphs/clique_singlefmri/AfterTheRain_01_76.pt"
     ]
    },
    {
     "name": "stderr",
     "output_type": "stream",
     "text": [
      "/home/dalai/GNN_E/scripts/utils.py:26: UserWarning: To copy construct from a tensor, it is recommended to use sourceTensor.clone().detach() or sourceTensor.clone().detach().requires_grad_(True), rather than torch.tensor(sourceTensor).\n",
      "  edge_index = torch.tensor(adj.nonzero().t().contiguous(), dtype=torch.long)  # Shape: [2, num_edges]\n",
      "/home/dalai/GNN_E/scripts/utils.py:30: UserWarning: To copy construct from a tensor, it is recommended to use sourceTensor.clone().detach() or sourceTensor.clone().detach().requires_grad_(True), rather than torch.tensor(sourceTensor).\n",
      "  edge_attr = torch.tensor(adj[edge_index[0, :], edge_index[1, :]], dtype=torch.float)\n"
     ]
    },
    {
     "name": "stdout",
     "output_type": "stream",
     "text": [
      "\n",
      "\n",
      "\n",
      "01 - 76\n"
     ]
    },
    {
     "data": {
      "text/plain": [
       "'Shape DF of single sub of single timepoint : (414, 13)'"
      ]
     },
     "metadata": {},
     "output_type": "display_data"
    },
    {
     "name": "stdout",
     "output_type": "stream",
     "text": [
      "Shape adj matrix: torch.Size([414, 414])\n",
      "Label fo the current grpah: 34\n",
      "tensor([[  0,   0,   0,  ..., 413, 413, 413],\n",
      "        [  1,   2,   3,  ..., 410, 411, 412]])\n",
      "torch.Size([2, 170982])\n",
      "tensor([1., 1., 1.,  ..., 1., 1., 1.])\n",
      "torch.Size([170982])\n",
      "GraphEmo(x=[414], edge_index=[2, 170982], edge_attr=[170982], y=34, movie='AfterTheRain', subject='01', timestamp_tr=77, adj=[414, 414])\n",
      "Graph saved at: /home/dalai/GNN_E/data/processed/all_graphs/clique_singlefmri/AfterTheRain_01_77.pt"
     ]
    },
    {
     "name": "stderr",
     "output_type": "stream",
     "text": [
      "/home/dalai/GNN_E/scripts/utils.py:26: UserWarning: To copy construct from a tensor, it is recommended to use sourceTensor.clone().detach() or sourceTensor.clone().detach().requires_grad_(True), rather than torch.tensor(sourceTensor).\n",
      "  edge_index = torch.tensor(adj.nonzero().t().contiguous(), dtype=torch.long)  # Shape: [2, num_edges]\n",
      "/home/dalai/GNN_E/scripts/utils.py:30: UserWarning: To copy construct from a tensor, it is recommended to use sourceTensor.clone().detach() or sourceTensor.clone().detach().requires_grad_(True), rather than torch.tensor(sourceTensor).\n",
      "  edge_attr = torch.tensor(adj[edge_index[0, :], edge_index[1, :]], dtype=torch.float)\n"
     ]
    },
    {
     "name": "stdout",
     "output_type": "stream",
     "text": [
      "\n",
      "\n",
      "\n",
      "01 - 77\n"
     ]
    },
    {
     "data": {
      "text/plain": [
       "'Shape DF of single sub of single timepoint : (414, 13)'"
      ]
     },
     "metadata": {},
     "output_type": "display_data"
    },
    {
     "name": "stdout",
     "output_type": "stream",
     "text": [
      "Shape adj matrix: torch.Size([414, 414])\n",
      "Label fo the current grpah: 47\n",
      "tensor([[  0,   0,   0,  ..., 413, 413, 413],\n",
      "        [  1,   2,   3,  ..., 410, 411, 412]])\n",
      "torch.Size([2, 170982])\n",
      "tensor([1., 1., 1.,  ..., 1., 1., 1.])\n",
      "torch.Size([170982])\n",
      "GraphEmo(x=[414], edge_index=[2, 170982], edge_attr=[170982], y=47, movie='AfterTheRain', subject='01', timestamp_tr=78, adj=[414, 414])\n",
      "Graph saved at: /home/dalai/GNN_E/data/processed/all_graphs/clique_singlefmri/AfterTheRain_01_78.pt"
     ]
    },
    {
     "name": "stderr",
     "output_type": "stream",
     "text": [
      "/home/dalai/GNN_E/scripts/utils.py:26: UserWarning: To copy construct from a tensor, it is recommended to use sourceTensor.clone().detach() or sourceTensor.clone().detach().requires_grad_(True), rather than torch.tensor(sourceTensor).\n",
      "  edge_index = torch.tensor(adj.nonzero().t().contiguous(), dtype=torch.long)  # Shape: [2, num_edges]\n",
      "/home/dalai/GNN_E/scripts/utils.py:30: UserWarning: To copy construct from a tensor, it is recommended to use sourceTensor.clone().detach() or sourceTensor.clone().detach().requires_grad_(True), rather than torch.tensor(sourceTensor).\n",
      "  edge_attr = torch.tensor(adj[edge_index[0, :], edge_index[1, :]], dtype=torch.float)\n"
     ]
    },
    {
     "name": "stdout",
     "output_type": "stream",
     "text": [
      "\n",
      "\n",
      "\n",
      "01 - 78\n"
     ]
    },
    {
     "data": {
      "text/plain": [
       "'Shape DF of single sub of single timepoint : (414, 13)'"
      ]
     },
     "metadata": {},
     "output_type": "display_data"
    },
    {
     "name": "stdout",
     "output_type": "stream",
     "text": [
      "Shape adj matrix: torch.Size([414, 414])\n",
      "Label fo the current grpah: 34\n",
      "tensor([[  0,   0,   0,  ..., 413, 413, 413],\n",
      "        [  1,   2,   3,  ..., 410, 411, 412]])\n",
      "torch.Size([2, 170982])\n",
      "tensor([1., 1., 1.,  ..., 1., 1., 1.])\n",
      "torch.Size([170982])\n",
      "GraphEmo(x=[414], edge_index=[2, 170982], edge_attr=[170982], y=34, movie='AfterTheRain', subject='01', timestamp_tr=79, adj=[414, 414])\n",
      "Graph saved at: /home/dalai/GNN_E/data/processed/all_graphs/clique_singlefmri/AfterTheRain_01_79.pt"
     ]
    },
    {
     "name": "stderr",
     "output_type": "stream",
     "text": [
      "/home/dalai/GNN_E/scripts/utils.py:26: UserWarning: To copy construct from a tensor, it is recommended to use sourceTensor.clone().detach() or sourceTensor.clone().detach().requires_grad_(True), rather than torch.tensor(sourceTensor).\n",
      "  edge_index = torch.tensor(adj.nonzero().t().contiguous(), dtype=torch.long)  # Shape: [2, num_edges]\n",
      "/home/dalai/GNN_E/scripts/utils.py:30: UserWarning: To copy construct from a tensor, it is recommended to use sourceTensor.clone().detach() or sourceTensor.clone().detach().requires_grad_(True), rather than torch.tensor(sourceTensor).\n",
      "  edge_attr = torch.tensor(adj[edge_index[0, :], edge_index[1, :]], dtype=torch.float)\n"
     ]
    },
    {
     "name": "stdout",
     "output_type": "stream",
     "text": [
      "\n",
      "\n",
      "\n",
      "01 - 79\n"
     ]
    },
    {
     "data": {
      "text/plain": [
       "'Shape DF of single sub of single timepoint : (414, 13)'"
      ]
     },
     "metadata": {},
     "output_type": "display_data"
    },
    {
     "name": "stdout",
     "output_type": "stream",
     "text": [
      "Shape adj matrix: torch.Size([414, 414])\n",
      "Label fo the current grpah: 7\n",
      "tensor([[  0,   0,   0,  ..., 413, 413, 413],\n",
      "        [  1,   2,   3,  ..., 410, 411, 412]])\n",
      "torch.Size([2, 170982])\n",
      "tensor([1., 1., 1.,  ..., 1., 1., 1.])\n",
      "torch.Size([170982])\n",
      "GraphEmo(x=[414], edge_index=[2, 170982], edge_attr=[170982], y=7, movie='AfterTheRain', subject='01', timestamp_tr=80, adj=[414, 414])\n",
      "Graph saved at: /home/dalai/GNN_E/data/processed/all_graphs/clique_singlefmri/AfterTheRain_01_80.pt"
     ]
    },
    {
     "name": "stderr",
     "output_type": "stream",
     "text": [
      "/home/dalai/GNN_E/scripts/utils.py:26: UserWarning: To copy construct from a tensor, it is recommended to use sourceTensor.clone().detach() or sourceTensor.clone().detach().requires_grad_(True), rather than torch.tensor(sourceTensor).\n",
      "  edge_index = torch.tensor(adj.nonzero().t().contiguous(), dtype=torch.long)  # Shape: [2, num_edges]\n",
      "/home/dalai/GNN_E/scripts/utils.py:30: UserWarning: To copy construct from a tensor, it is recommended to use sourceTensor.clone().detach() or sourceTensor.clone().detach().requires_grad_(True), rather than torch.tensor(sourceTensor).\n",
      "  edge_attr = torch.tensor(adj[edge_index[0, :], edge_index[1, :]], dtype=torch.float)\n"
     ]
    },
    {
     "name": "stdout",
     "output_type": "stream",
     "text": [
      "\n",
      "\n",
      "\n",
      "01 - 80\n"
     ]
    },
    {
     "data": {
      "text/plain": [
       "'Shape DF of single sub of single timepoint : (414, 13)'"
      ]
     },
     "metadata": {},
     "output_type": "display_data"
    },
    {
     "name": "stdout",
     "output_type": "stream",
     "text": [
      "Shape adj matrix: torch.Size([414, 414])\n",
      "Label fo the current grpah: 7\n",
      "tensor([[  0,   0,   0,  ..., 413, 413, 413],\n",
      "        [  1,   2,   3,  ..., 410, 411, 412]])\n",
      "torch.Size([2, 170982])\n",
      "tensor([1., 1., 1.,  ..., 1., 1., 1.])\n",
      "torch.Size([170982])\n",
      "GraphEmo(x=[414], edge_index=[2, 170982], edge_attr=[170982], y=7, movie='AfterTheRain', subject='01', timestamp_tr=81, adj=[414, 414])\n",
      "Graph saved at: /home/dalai/GNN_E/data/processed/all_graphs/clique_singlefmri/AfterTheRain_01_81.pt"
     ]
    },
    {
     "name": "stderr",
     "output_type": "stream",
     "text": [
      "/home/dalai/GNN_E/scripts/utils.py:26: UserWarning: To copy construct from a tensor, it is recommended to use sourceTensor.clone().detach() or sourceTensor.clone().detach().requires_grad_(True), rather than torch.tensor(sourceTensor).\n",
      "  edge_index = torch.tensor(adj.nonzero().t().contiguous(), dtype=torch.long)  # Shape: [2, num_edges]\n",
      "/home/dalai/GNN_E/scripts/utils.py:30: UserWarning: To copy construct from a tensor, it is recommended to use sourceTensor.clone().detach() or sourceTensor.clone().detach().requires_grad_(True), rather than torch.tensor(sourceTensor).\n",
      "  edge_attr = torch.tensor(adj[edge_index[0, :], edge_index[1, :]], dtype=torch.float)\n"
     ]
    },
    {
     "name": "stdout",
     "output_type": "stream",
     "text": [
      "\n",
      "\n",
      "\n",
      "01 - 81\n"
     ]
    },
    {
     "data": {
      "text/plain": [
       "'Shape DF of single sub of single timepoint : (414, 13)'"
      ]
     },
     "metadata": {},
     "output_type": "display_data"
    },
    {
     "name": "stdout",
     "output_type": "stream",
     "text": [
      "Shape adj matrix: torch.Size([414, 414])\n",
      "Label fo the current grpah: 12\n",
      "tensor([[  0,   0,   0,  ..., 413, 413, 413],\n",
      "        [  1,   2,   3,  ..., 410, 411, 412]])\n",
      "torch.Size([2, 170982])\n",
      "tensor([1., 1., 1.,  ..., 1., 1., 1.])\n",
      "torch.Size([170982])\n",
      "GraphEmo(x=[414], edge_index=[2, 170982], edge_attr=[170982], y=12, movie='AfterTheRain', subject='01', timestamp_tr=82, adj=[414, 414])\n",
      "Graph saved at: /home/dalai/GNN_E/data/processed/all_graphs/clique_singlefmri/AfterTheRain_01_82.pt"
     ]
    },
    {
     "name": "stderr",
     "output_type": "stream",
     "text": [
      "/home/dalai/GNN_E/scripts/utils.py:26: UserWarning: To copy construct from a tensor, it is recommended to use sourceTensor.clone().detach() or sourceTensor.clone().detach().requires_grad_(True), rather than torch.tensor(sourceTensor).\n",
      "  edge_index = torch.tensor(adj.nonzero().t().contiguous(), dtype=torch.long)  # Shape: [2, num_edges]\n",
      "/home/dalai/GNN_E/scripts/utils.py:30: UserWarning: To copy construct from a tensor, it is recommended to use sourceTensor.clone().detach() or sourceTensor.clone().detach().requires_grad_(True), rather than torch.tensor(sourceTensor).\n",
      "  edge_attr = torch.tensor(adj[edge_index[0, :], edge_index[1, :]], dtype=torch.float)\n"
     ]
    },
    {
     "name": "stdout",
     "output_type": "stream",
     "text": [
      "\n",
      "\n",
      "\n",
      "01 - 82\n"
     ]
    },
    {
     "data": {
      "text/plain": [
       "'Shape DF of single sub of single timepoint : (414, 13)'"
      ]
     },
     "metadata": {},
     "output_type": "display_data"
    },
    {
     "name": "stdout",
     "output_type": "stream",
     "text": [
      "Shape adj matrix: torch.Size([414, 414])\n",
      "Label fo the current grpah: 12\n",
      "tensor([[  0,   0,   0,  ..., 413, 413, 413],\n",
      "        [  1,   2,   3,  ..., 410, 411, 412]])\n",
      "torch.Size([2, 170982])\n",
      "tensor([1., 1., 1.,  ..., 1., 1., 1.])\n",
      "torch.Size([170982])\n",
      "GraphEmo(x=[414], edge_index=[2, 170982], edge_attr=[170982], y=12, movie='AfterTheRain', subject='01', timestamp_tr=83, adj=[414, 414])\n"
     ]
    },
    {
     "name": "stderr",
     "output_type": "stream",
     "text": [
      "/home/dalai/GNN_E/scripts/utils.py:26: UserWarning: To copy construct from a tensor, it is recommended to use sourceTensor.clone().detach() or sourceTensor.clone().detach().requires_grad_(True), rather than torch.tensor(sourceTensor).\n",
      "  edge_index = torch.tensor(adj.nonzero().t().contiguous(), dtype=torch.long)  # Shape: [2, num_edges]\n",
      "/home/dalai/GNN_E/scripts/utils.py:30: UserWarning: To copy construct from a tensor, it is recommended to use sourceTensor.clone().detach() or sourceTensor.clone().detach().requires_grad_(True), rather than torch.tensor(sourceTensor).\n",
      "  edge_attr = torch.tensor(adj[edge_index[0, :], edge_index[1, :]], dtype=torch.float)\n"
     ]
    },
    {
     "name": "stdout",
     "output_type": "stream",
     "text": [
      "Graph saved at: /home/dalai/GNN_E/data/processed/all_graphs/clique_singlefmri/AfterTheRain_01_83.pt\n",
      "\n",
      "\n",
      "01 - 83\n"
     ]
    },
    {
     "data": {
      "text/plain": [
       "'Shape DF of single sub of single timepoint : (414, 13)'"
      ]
     },
     "metadata": {},
     "output_type": "display_data"
    },
    {
     "name": "stdout",
     "output_type": "stream",
     "text": [
      "Shape adj matrix: torch.Size([414, 414])\n",
      "Label fo the current grpah: 12\n",
      "tensor([[  0,   0,   0,  ..., 413, 413, 413],\n",
      "        [  1,   2,   3,  ..., 410, 411, 412]])\n",
      "torch.Size([2, 170982])\n",
      "tensor([1., 1., 1.,  ..., 1., 1., 1.])\n",
      "torch.Size([170982])\n",
      "GraphEmo(x=[414], edge_index=[2, 170982], edge_attr=[170982], y=12, movie='AfterTheRain', subject='01', timestamp_tr=84, adj=[414, 414])\n",
      "Graph saved at: /home/dalai/GNN_E/data/processed/all_graphs/clique_singlefmri/AfterTheRain_01_84.pt"
     ]
    },
    {
     "name": "stderr",
     "output_type": "stream",
     "text": [
      "/home/dalai/GNN_E/scripts/utils.py:26: UserWarning: To copy construct from a tensor, it is recommended to use sourceTensor.clone().detach() or sourceTensor.clone().detach().requires_grad_(True), rather than torch.tensor(sourceTensor).\n",
      "  edge_index = torch.tensor(adj.nonzero().t().contiguous(), dtype=torch.long)  # Shape: [2, num_edges]\n",
      "/home/dalai/GNN_E/scripts/utils.py:30: UserWarning: To copy construct from a tensor, it is recommended to use sourceTensor.clone().detach() or sourceTensor.clone().detach().requires_grad_(True), rather than torch.tensor(sourceTensor).\n",
      "  edge_attr = torch.tensor(adj[edge_index[0, :], edge_index[1, :]], dtype=torch.float)\n"
     ]
    },
    {
     "name": "stdout",
     "output_type": "stream",
     "text": [
      "\n",
      "\n",
      "\n",
      "01 - 84\n"
     ]
    },
    {
     "data": {
      "text/plain": [
       "'Shape DF of single sub of single timepoint : (414, 13)'"
      ]
     },
     "metadata": {},
     "output_type": "display_data"
    },
    {
     "name": "stdout",
     "output_type": "stream",
     "text": [
      "Shape adj matrix: torch.Size([414, 414])\n",
      "Label fo the current grpah: 34\n",
      "tensor([[  0,   0,   0,  ..., 413, 413, 413],\n",
      "        [  1,   2,   3,  ..., 410, 411, 412]])\n",
      "torch.Size([2, 170982])\n",
      "tensor([1., 1., 1.,  ..., 1., 1., 1.])\n",
      "torch.Size([170982])\n",
      "GraphEmo(x=[414], edge_index=[2, 170982], edge_attr=[170982], y=34, movie='AfterTheRain', subject='01', timestamp_tr=85, adj=[414, 414])\n",
      "Graph saved at: /home/dalai/GNN_E/data/processed/all_graphs/clique_singlefmri/AfterTheRain_01_85.pt"
     ]
    },
    {
     "name": "stderr",
     "output_type": "stream",
     "text": [
      "/home/dalai/GNN_E/scripts/utils.py:26: UserWarning: To copy construct from a tensor, it is recommended to use sourceTensor.clone().detach() or sourceTensor.clone().detach().requires_grad_(True), rather than torch.tensor(sourceTensor).\n",
      "  edge_index = torch.tensor(adj.nonzero().t().contiguous(), dtype=torch.long)  # Shape: [2, num_edges]\n",
      "/home/dalai/GNN_E/scripts/utils.py:30: UserWarning: To copy construct from a tensor, it is recommended to use sourceTensor.clone().detach() or sourceTensor.clone().detach().requires_grad_(True), rather than torch.tensor(sourceTensor).\n",
      "  edge_attr = torch.tensor(adj[edge_index[0, :], edge_index[1, :]], dtype=torch.float)\n"
     ]
    },
    {
     "name": "stdout",
     "output_type": "stream",
     "text": [
      "\n",
      "\n",
      "\n",
      "01 - 85\n"
     ]
    },
    {
     "data": {
      "text/plain": [
       "'Shape DF of single sub of single timepoint : (414, 13)'"
      ]
     },
     "metadata": {},
     "output_type": "display_data"
    },
    {
     "name": "stdout",
     "output_type": "stream",
     "text": [
      "Shape adj matrix: torch.Size([414, 414])\n",
      "Label fo the current grpah: 23\n",
      "tensor([[  0,   0,   0,  ..., 413, 413, 413],\n",
      "        [  1,   2,   3,  ..., 410, 411, 412]])\n",
      "torch.Size([2, 170982])\n",
      "tensor([1., 1., 1.,  ..., 1., 1., 1.])\n",
      "torch.Size([170982])\n",
      "GraphEmo(x=[414], edge_index=[2, 170982], edge_attr=[170982], y=23, movie='AfterTheRain', subject='01', timestamp_tr=86, adj=[414, 414])\n",
      "Graph saved at: /home/dalai/GNN_E/data/processed/all_graphs/clique_singlefmri/AfterTheRain_01_86.pt"
     ]
    },
    {
     "name": "stderr",
     "output_type": "stream",
     "text": [
      "/home/dalai/GNN_E/scripts/utils.py:26: UserWarning: To copy construct from a tensor, it is recommended to use sourceTensor.clone().detach() or sourceTensor.clone().detach().requires_grad_(True), rather than torch.tensor(sourceTensor).\n",
      "  edge_index = torch.tensor(adj.nonzero().t().contiguous(), dtype=torch.long)  # Shape: [2, num_edges]\n",
      "/home/dalai/GNN_E/scripts/utils.py:30: UserWarning: To copy construct from a tensor, it is recommended to use sourceTensor.clone().detach() or sourceTensor.clone().detach().requires_grad_(True), rather than torch.tensor(sourceTensor).\n",
      "  edge_attr = torch.tensor(adj[edge_index[0, :], edge_index[1, :]], dtype=torch.float)\n"
     ]
    },
    {
     "name": "stdout",
     "output_type": "stream",
     "text": [
      "\n",
      "\n",
      "\n",
      "01 - 86\n"
     ]
    },
    {
     "data": {
      "text/plain": [
       "'Shape DF of single sub of single timepoint : (414, 13)'"
      ]
     },
     "metadata": {},
     "output_type": "display_data"
    },
    {
     "name": "stdout",
     "output_type": "stream",
     "text": [
      "Shape adj matrix: torch.Size([414, 414])\n",
      "Label fo the current grpah: 34\n",
      "tensor([[  0,   0,   0,  ..., 413, 413, 413],\n",
      "        [  1,   2,   3,  ..., 410, 411, 412]])\n",
      "torch.Size([2, 170982])\n",
      "tensor([1., 1., 1.,  ..., 1., 1., 1.])\n",
      "torch.Size([170982])\n",
      "GraphEmo(x=[414], edge_index=[2, 170982], edge_attr=[170982], y=34, movie='AfterTheRain', subject='01', timestamp_tr=87, adj=[414, 414])\n",
      "Graph saved at: /home/dalai/GNN_E/data/processed/all_graphs/clique_singlefmri/AfterTheRain_01_87.pt"
     ]
    },
    {
     "name": "stderr",
     "output_type": "stream",
     "text": [
      "/home/dalai/GNN_E/scripts/utils.py:26: UserWarning: To copy construct from a tensor, it is recommended to use sourceTensor.clone().detach() or sourceTensor.clone().detach().requires_grad_(True), rather than torch.tensor(sourceTensor).\n",
      "  edge_index = torch.tensor(adj.nonzero().t().contiguous(), dtype=torch.long)  # Shape: [2, num_edges]\n",
      "/home/dalai/GNN_E/scripts/utils.py:30: UserWarning: To copy construct from a tensor, it is recommended to use sourceTensor.clone().detach() or sourceTensor.clone().detach().requires_grad_(True), rather than torch.tensor(sourceTensor).\n",
      "  edge_attr = torch.tensor(adj[edge_index[0, :], edge_index[1, :]], dtype=torch.float)\n"
     ]
    },
    {
     "name": "stdout",
     "output_type": "stream",
     "text": [
      "\n",
      "\n",
      "\n",
      "01 - 87\n"
     ]
    },
    {
     "data": {
      "text/plain": [
       "'Shape DF of single sub of single timepoint : (414, 13)'"
      ]
     },
     "metadata": {},
     "output_type": "display_data"
    },
    {
     "name": "stdout",
     "output_type": "stream",
     "text": [
      "Shape adj matrix: torch.Size([414, 414])\n",
      "Label fo the current grpah: 34\n",
      "tensor([[  0,   0,   0,  ..., 413, 413, 413],\n",
      "        [  1,   2,   3,  ..., 410, 411, 412]])\n",
      "torch.Size([2, 170982])\n",
      "tensor([1., 1., 1.,  ..., 1., 1., 1.])\n",
      "torch.Size([170982])\n",
      "GraphEmo(x=[414], edge_index=[2, 170982], edge_attr=[170982], y=34, movie='AfterTheRain', subject='01', timestamp_tr=88, adj=[414, 414])\n",
      "Graph saved at: /home/dalai/GNN_E/data/processed/all_graphs/clique_singlefmri/AfterTheRain_01_88.pt"
     ]
    },
    {
     "name": "stderr",
     "output_type": "stream",
     "text": [
      "/home/dalai/GNN_E/scripts/utils.py:26: UserWarning: To copy construct from a tensor, it is recommended to use sourceTensor.clone().detach() or sourceTensor.clone().detach().requires_grad_(True), rather than torch.tensor(sourceTensor).\n",
      "  edge_index = torch.tensor(adj.nonzero().t().contiguous(), dtype=torch.long)  # Shape: [2, num_edges]\n",
      "/home/dalai/GNN_E/scripts/utils.py:30: UserWarning: To copy construct from a tensor, it is recommended to use sourceTensor.clone().detach() or sourceTensor.clone().detach().requires_grad_(True), rather than torch.tensor(sourceTensor).\n",
      "  edge_attr = torch.tensor(adj[edge_index[0, :], edge_index[1, :]], dtype=torch.float)\n"
     ]
    },
    {
     "name": "stdout",
     "output_type": "stream",
     "text": [
      "\n",
      "\n",
      "\n",
      "01 - 88\n"
     ]
    },
    {
     "data": {
      "text/plain": [
       "'Shape DF of single sub of single timepoint : (414, 13)'"
      ]
     },
     "metadata": {},
     "output_type": "display_data"
    },
    {
     "name": "stdout",
     "output_type": "stream",
     "text": [
      "Shape adj matrix: torch.Size([414, 414])\n",
      "Label fo the current grpah: 27\n",
      "tensor([[  0,   0,   0,  ..., 413, 413, 413],\n",
      "        [  1,   2,   3,  ..., 410, 411, 412]])\n",
      "torch.Size([2, 170982])\n",
      "tensor([1., 1., 1.,  ..., 1., 1., 1.])\n",
      "torch.Size([170982])\n",
      "GraphEmo(x=[414], edge_index=[2, 170982], edge_attr=[170982], y=27, movie='AfterTheRain', subject='01', timestamp_tr=89, adj=[414, 414])\n",
      "Graph saved at: /home/dalai/GNN_E/data/processed/all_graphs/clique_singlefmri/AfterTheRain_01_89.pt"
     ]
    },
    {
     "name": "stderr",
     "output_type": "stream",
     "text": [
      "/home/dalai/GNN_E/scripts/utils.py:26: UserWarning: To copy construct from a tensor, it is recommended to use sourceTensor.clone().detach() or sourceTensor.clone().detach().requires_grad_(True), rather than torch.tensor(sourceTensor).\n",
      "  edge_index = torch.tensor(adj.nonzero().t().contiguous(), dtype=torch.long)  # Shape: [2, num_edges]\n",
      "/home/dalai/GNN_E/scripts/utils.py:30: UserWarning: To copy construct from a tensor, it is recommended to use sourceTensor.clone().detach() or sourceTensor.clone().detach().requires_grad_(True), rather than torch.tensor(sourceTensor).\n",
      "  edge_attr = torch.tensor(adj[edge_index[0, :], edge_index[1, :]], dtype=torch.float)\n"
     ]
    },
    {
     "name": "stdout",
     "output_type": "stream",
     "text": [
      "\n",
      "\n",
      "\n",
      "01 - 89\n"
     ]
    },
    {
     "data": {
      "text/plain": [
       "'Shape DF of single sub of single timepoint : (414, 13)'"
      ]
     },
     "metadata": {},
     "output_type": "display_data"
    },
    {
     "name": "stdout",
     "output_type": "stream",
     "text": [
      "Shape adj matrix: torch.Size([414, 414])\n",
      "Label fo the current grpah: 27\n",
      "tensor([[  0,   0,   0,  ..., 413, 413, 413],\n",
      "        [  1,   2,   3,  ..., 410, 411, 412]])\n",
      "torch.Size([2, 170982])\n",
      "tensor([1., 1., 1.,  ..., 1., 1., 1.])\n",
      "torch.Size([170982])\n",
      "GraphEmo(x=[414], edge_index=[2, 170982], edge_attr=[170982], y=27, movie='AfterTheRain', subject='01', timestamp_tr=90, adj=[414, 414])\n",
      "Graph saved at: /home/dalai/GNN_E/data/processed/all_graphs/clique_singlefmri/AfterTheRain_01_90.pt"
     ]
    },
    {
     "name": "stderr",
     "output_type": "stream",
     "text": [
      "/home/dalai/GNN_E/scripts/utils.py:26: UserWarning: To copy construct from a tensor, it is recommended to use sourceTensor.clone().detach() or sourceTensor.clone().detach().requires_grad_(True), rather than torch.tensor(sourceTensor).\n",
      "  edge_index = torch.tensor(adj.nonzero().t().contiguous(), dtype=torch.long)  # Shape: [2, num_edges]\n",
      "/home/dalai/GNN_E/scripts/utils.py:30: UserWarning: To copy construct from a tensor, it is recommended to use sourceTensor.clone().detach() or sourceTensor.clone().detach().requires_grad_(True), rather than torch.tensor(sourceTensor).\n",
      "  edge_attr = torch.tensor(adj[edge_index[0, :], edge_index[1, :]], dtype=torch.float)\n"
     ]
    },
    {
     "name": "stdout",
     "output_type": "stream",
     "text": [
      "\n",
      "\n",
      "\n",
      "01 - 90\n"
     ]
    },
    {
     "data": {
      "text/plain": [
       "'Shape DF of single sub of single timepoint : (414, 13)'"
      ]
     },
     "metadata": {},
     "output_type": "display_data"
    },
    {
     "name": "stdout",
     "output_type": "stream",
     "text": [
      "Shape adj matrix: torch.Size([414, 414])\n",
      "Label fo the current grpah: 27\n",
      "tensor([[  0,   0,   0,  ..., 413, 413, 413],\n",
      "        [  1,   2,   3,  ..., 410, 411, 412]])\n",
      "torch.Size([2, 170982])\n",
      "tensor([1., 1., 1.,  ..., 1., 1., 1.])\n",
      "torch.Size([170982])\n",
      "GraphEmo(x=[414], edge_index=[2, 170982], edge_attr=[170982], y=27, movie='AfterTheRain', subject='01', timestamp_tr=91, adj=[414, 414])\n",
      "Graph saved at: /home/dalai/GNN_E/data/processed/all_graphs/clique_singlefmri/AfterTheRain_01_91.pt"
     ]
    },
    {
     "name": "stderr",
     "output_type": "stream",
     "text": [
      "/home/dalai/GNN_E/scripts/utils.py:26: UserWarning: To copy construct from a tensor, it is recommended to use sourceTensor.clone().detach() or sourceTensor.clone().detach().requires_grad_(True), rather than torch.tensor(sourceTensor).\n",
      "  edge_index = torch.tensor(adj.nonzero().t().contiguous(), dtype=torch.long)  # Shape: [2, num_edges]\n",
      "/home/dalai/GNN_E/scripts/utils.py:30: UserWarning: To copy construct from a tensor, it is recommended to use sourceTensor.clone().detach() or sourceTensor.clone().detach().requires_grad_(True), rather than torch.tensor(sourceTensor).\n",
      "  edge_attr = torch.tensor(adj[edge_index[0, :], edge_index[1, :]], dtype=torch.float)\n"
     ]
    },
    {
     "name": "stdout",
     "output_type": "stream",
     "text": [
      "\n",
      "\n",
      "\n",
      "01 - 91\n"
     ]
    },
    {
     "data": {
      "text/plain": [
       "'Shape DF of single sub of single timepoint : (414, 13)'"
      ]
     },
     "metadata": {},
     "output_type": "display_data"
    },
    {
     "name": "stdout",
     "output_type": "stream",
     "text": [
      "Shape adj matrix: torch.Size([414, 414])\n",
      "Label fo the current grpah: 13\n",
      "tensor([[  0,   0,   0,  ..., 413, 413, 413],\n",
      "        [  1,   2,   3,  ..., 410, 411, 412]])\n",
      "torch.Size([2, 170982])\n",
      "tensor([1., 1., 1.,  ..., 1., 1., 1.])\n",
      "torch.Size([170982])\n",
      "GraphEmo(x=[414], edge_index=[2, 170982], edge_attr=[170982], y=13, movie='AfterTheRain', subject='01', timestamp_tr=92, adj=[414, 414])\n",
      "Graph saved at: /home/dalai/GNN_E/data/processed/all_graphs/clique_singlefmri/AfterTheRain_01_92.pt"
     ]
    },
    {
     "name": "stderr",
     "output_type": "stream",
     "text": [
      "/home/dalai/GNN_E/scripts/utils.py:26: UserWarning: To copy construct from a tensor, it is recommended to use sourceTensor.clone().detach() or sourceTensor.clone().detach().requires_grad_(True), rather than torch.tensor(sourceTensor).\n",
      "  edge_index = torch.tensor(adj.nonzero().t().contiguous(), dtype=torch.long)  # Shape: [2, num_edges]\n",
      "/home/dalai/GNN_E/scripts/utils.py:30: UserWarning: To copy construct from a tensor, it is recommended to use sourceTensor.clone().detach() or sourceTensor.clone().detach().requires_grad_(True), rather than torch.tensor(sourceTensor).\n",
      "  edge_attr = torch.tensor(adj[edge_index[0, :], edge_index[1, :]], dtype=torch.float)\n"
     ]
    },
    {
     "name": "stdout",
     "output_type": "stream",
     "text": [
      "\n",
      "\n",
      "\n",
      "01 - 92\n"
     ]
    },
    {
     "data": {
      "text/plain": [
       "'Shape DF of single sub of single timepoint : (414, 13)'"
      ]
     },
     "metadata": {},
     "output_type": "display_data"
    },
    {
     "name": "stdout",
     "output_type": "stream",
     "text": [
      "Shape adj matrix: torch.Size([414, 414])\n",
      "Label fo the current grpah: 13\n",
      "tensor([[  0,   0,   0,  ..., 413, 413, 413],\n",
      "        [  1,   2,   3,  ..., 410, 411, 412]])\n",
      "torch.Size([2, 170982])\n",
      "tensor([1., 1., 1.,  ..., 1., 1., 1.])\n",
      "torch.Size([170982])\n",
      "GraphEmo(x=[414], edge_index=[2, 170982], edge_attr=[170982], y=13, movie='AfterTheRain', subject='01', timestamp_tr=93, adj=[414, 414])\n",
      "Graph saved at: /home/dalai/GNN_E/data/processed/all_graphs/clique_singlefmri/AfterTheRain_01_93.pt"
     ]
    },
    {
     "name": "stderr",
     "output_type": "stream",
     "text": [
      "/home/dalai/GNN_E/scripts/utils.py:26: UserWarning: To copy construct from a tensor, it is recommended to use sourceTensor.clone().detach() or sourceTensor.clone().detach().requires_grad_(True), rather than torch.tensor(sourceTensor).\n",
      "  edge_index = torch.tensor(adj.nonzero().t().contiguous(), dtype=torch.long)  # Shape: [2, num_edges]\n",
      "/home/dalai/GNN_E/scripts/utils.py:30: UserWarning: To copy construct from a tensor, it is recommended to use sourceTensor.clone().detach() or sourceTensor.clone().detach().requires_grad_(True), rather than torch.tensor(sourceTensor).\n",
      "  edge_attr = torch.tensor(adj[edge_index[0, :], edge_index[1, :]], dtype=torch.float)\n"
     ]
    },
    {
     "name": "stdout",
     "output_type": "stream",
     "text": [
      "\n",
      "\n",
      "\n",
      "01 - 93\n"
     ]
    },
    {
     "data": {
      "text/plain": [
       "'Shape DF of single sub of single timepoint : (414, 13)'"
      ]
     },
     "metadata": {},
     "output_type": "display_data"
    },
    {
     "name": "stdout",
     "output_type": "stream",
     "text": [
      "Shape adj matrix: torch.Size([414, 414])\n",
      "Label fo the current grpah: 27\n",
      "tensor([[  0,   0,   0,  ..., 413, 413, 413],\n",
      "        [  1,   2,   3,  ..., 410, 411, 412]])\n",
      "torch.Size([2, 170982])\n",
      "tensor([1., 1., 1.,  ..., 1., 1., 1.])\n",
      "torch.Size([170982])\n",
      "GraphEmo(x=[414], edge_index=[2, 170982], edge_attr=[170982], y=27, movie='AfterTheRain', subject='01', timestamp_tr=94, adj=[414, 414])\n",
      "Graph saved at: /home/dalai/GNN_E/data/processed/all_graphs/clique_singlefmri/AfterTheRain_01_94.pt"
     ]
    },
    {
     "name": "stderr",
     "output_type": "stream",
     "text": [
      "/home/dalai/GNN_E/scripts/utils.py:26: UserWarning: To copy construct from a tensor, it is recommended to use sourceTensor.clone().detach() or sourceTensor.clone().detach().requires_grad_(True), rather than torch.tensor(sourceTensor).\n",
      "  edge_index = torch.tensor(adj.nonzero().t().contiguous(), dtype=torch.long)  # Shape: [2, num_edges]\n",
      "/home/dalai/GNN_E/scripts/utils.py:30: UserWarning: To copy construct from a tensor, it is recommended to use sourceTensor.clone().detach() or sourceTensor.clone().detach().requires_grad_(True), rather than torch.tensor(sourceTensor).\n",
      "  edge_attr = torch.tensor(adj[edge_index[0, :], edge_index[1, :]], dtype=torch.float)\n"
     ]
    },
    {
     "name": "stdout",
     "output_type": "stream",
     "text": [
      "\n",
      "\n",
      "\n",
      "01 - 94\n"
     ]
    },
    {
     "data": {
      "text/plain": [
       "'Shape DF of single sub of single timepoint : (414, 13)'"
      ]
     },
     "metadata": {},
     "output_type": "display_data"
    },
    {
     "name": "stdout",
     "output_type": "stream",
     "text": [
      "Shape adj matrix: torch.Size([414, 414])\n",
      "Label fo the current grpah: 27\n",
      "tensor([[  0,   0,   0,  ..., 413, 413, 413],\n",
      "        [  1,   2,   3,  ..., 410, 411, 412]])\n",
      "torch.Size([2, 170982])\n",
      "tensor([1., 1., 1.,  ..., 1., 1., 1.])\n",
      "torch.Size([170982])\n",
      "GraphEmo(x=[414], edge_index=[2, 170982], edge_attr=[170982], y=27, movie='AfterTheRain', subject='01', timestamp_tr=95, adj=[414, 414])\n",
      "Graph saved at: /home/dalai/GNN_E/data/processed/all_graphs/clique_singlefmri/AfterTheRain_01_95.pt"
     ]
    },
    {
     "name": "stderr",
     "output_type": "stream",
     "text": [
      "/home/dalai/GNN_E/scripts/utils.py:26: UserWarning: To copy construct from a tensor, it is recommended to use sourceTensor.clone().detach() or sourceTensor.clone().detach().requires_grad_(True), rather than torch.tensor(sourceTensor).\n",
      "  edge_index = torch.tensor(adj.nonzero().t().contiguous(), dtype=torch.long)  # Shape: [2, num_edges]\n",
      "/home/dalai/GNN_E/scripts/utils.py:30: UserWarning: To copy construct from a tensor, it is recommended to use sourceTensor.clone().detach() or sourceTensor.clone().detach().requires_grad_(True), rather than torch.tensor(sourceTensor).\n",
      "  edge_attr = torch.tensor(adj[edge_index[0, :], edge_index[1, :]], dtype=torch.float)\n"
     ]
    },
    {
     "name": "stdout",
     "output_type": "stream",
     "text": [
      "\n",
      "\n",
      "\n",
      "01 - 95\n"
     ]
    },
    {
     "data": {
      "text/plain": [
       "'Shape DF of single sub of single timepoint : (414, 13)'"
      ]
     },
     "metadata": {},
     "output_type": "display_data"
    },
    {
     "name": "stdout",
     "output_type": "stream",
     "text": [
      "Shape adj matrix: torch.Size([414, 414])\n",
      "Label fo the current grpah: 27\n",
      "tensor([[  0,   0,   0,  ..., 413, 413, 413],\n",
      "        [  1,   2,   3,  ..., 410, 411, 412]])\n",
      "torch.Size([2, 170982])\n",
      "tensor([1., 1., 1.,  ..., 1., 1., 1.])\n",
      "torch.Size([170982])\n",
      "GraphEmo(x=[414], edge_index=[2, 170982], edge_attr=[170982], y=27, movie='AfterTheRain', subject='01', timestamp_tr=96, adj=[414, 414])\n",
      "Graph saved at: /home/dalai/GNN_E/data/processed/all_graphs/clique_singlefmri/AfterTheRain_01_96.pt"
     ]
    },
    {
     "name": "stderr",
     "output_type": "stream",
     "text": [
      "/home/dalai/GNN_E/scripts/utils.py:26: UserWarning: To copy construct from a tensor, it is recommended to use sourceTensor.clone().detach() or sourceTensor.clone().detach().requires_grad_(True), rather than torch.tensor(sourceTensor).\n",
      "  edge_index = torch.tensor(adj.nonzero().t().contiguous(), dtype=torch.long)  # Shape: [2, num_edges]\n",
      "/home/dalai/GNN_E/scripts/utils.py:30: UserWarning: To copy construct from a tensor, it is recommended to use sourceTensor.clone().detach() or sourceTensor.clone().detach().requires_grad_(True), rather than torch.tensor(sourceTensor).\n",
      "  edge_attr = torch.tensor(adj[edge_index[0, :], edge_index[1, :]], dtype=torch.float)\n"
     ]
    },
    {
     "name": "stdout",
     "output_type": "stream",
     "text": [
      "\n",
      "\n",
      "\n",
      "01 - 96\n"
     ]
    },
    {
     "data": {
      "text/plain": [
       "'Shape DF of single sub of single timepoint : (414, 13)'"
      ]
     },
     "metadata": {},
     "output_type": "display_data"
    },
    {
     "name": "stdout",
     "output_type": "stream",
     "text": [
      "Shape adj matrix: torch.Size([414, 414])\n",
      "Label fo the current grpah: 27\n",
      "tensor([[  0,   0,   0,  ..., 413, 413, 413],\n",
      "        [  1,   2,   3,  ..., 410, 411, 412]])\n",
      "torch.Size([2, 170982])\n",
      "tensor([1., 1., 1.,  ..., 1., 1., 1.])\n",
      "torch.Size([170982])\n",
      "GraphEmo(x=[414], edge_index=[2, 170982], edge_attr=[170982], y=27, movie='AfterTheRain', subject='01', timestamp_tr=97, adj=[414, 414])\n",
      "Graph saved at: /home/dalai/GNN_E/data/processed/all_graphs/clique_singlefmri/AfterTheRain_01_97.pt"
     ]
    },
    {
     "name": "stderr",
     "output_type": "stream",
     "text": [
      "/home/dalai/GNN_E/scripts/utils.py:26: UserWarning: To copy construct from a tensor, it is recommended to use sourceTensor.clone().detach() or sourceTensor.clone().detach().requires_grad_(True), rather than torch.tensor(sourceTensor).\n",
      "  edge_index = torch.tensor(adj.nonzero().t().contiguous(), dtype=torch.long)  # Shape: [2, num_edges]\n",
      "/home/dalai/GNN_E/scripts/utils.py:30: UserWarning: To copy construct from a tensor, it is recommended to use sourceTensor.clone().detach() or sourceTensor.clone().detach().requires_grad_(True), rather than torch.tensor(sourceTensor).\n",
      "  edge_attr = torch.tensor(adj[edge_index[0, :], edge_index[1, :]], dtype=torch.float)\n"
     ]
    },
    {
     "name": "stdout",
     "output_type": "stream",
     "text": [
      "\n",
      "\n",
      "\n",
      "01 - 97\n"
     ]
    },
    {
     "data": {
      "text/plain": [
       "'Shape DF of single sub of single timepoint : (414, 13)'"
      ]
     },
     "metadata": {},
     "output_type": "display_data"
    },
    {
     "name": "stdout",
     "output_type": "stream",
     "text": [
      "Shape adj matrix: torch.Size([414, 414])\n",
      "Label fo the current grpah: 27\n",
      "tensor([[  0,   0,   0,  ..., 413, 413, 413],\n",
      "        [  1,   2,   3,  ..., 410, 411, 412]])\n",
      "torch.Size([2, 170982])\n",
      "tensor([1., 1., 1.,  ..., 1., 1., 1.])\n",
      "torch.Size([170982])\n",
      "GraphEmo(x=[414], edge_index=[2, 170982], edge_attr=[170982], y=27, movie='AfterTheRain', subject='01', timestamp_tr=98, adj=[414, 414])\n",
      "Graph saved at: /home/dalai/GNN_E/data/processed/all_graphs/clique_singlefmri/AfterTheRain_01_98.pt"
     ]
    },
    {
     "name": "stderr",
     "output_type": "stream",
     "text": [
      "/home/dalai/GNN_E/scripts/utils.py:26: UserWarning: To copy construct from a tensor, it is recommended to use sourceTensor.clone().detach() or sourceTensor.clone().detach().requires_grad_(True), rather than torch.tensor(sourceTensor).\n",
      "  edge_index = torch.tensor(adj.nonzero().t().contiguous(), dtype=torch.long)  # Shape: [2, num_edges]\n",
      "/home/dalai/GNN_E/scripts/utils.py:30: UserWarning: To copy construct from a tensor, it is recommended to use sourceTensor.clone().detach() or sourceTensor.clone().detach().requires_grad_(True), rather than torch.tensor(sourceTensor).\n",
      "  edge_attr = torch.tensor(adj[edge_index[0, :], edge_index[1, :]], dtype=torch.float)\n"
     ]
    },
    {
     "name": "stdout",
     "output_type": "stream",
     "text": [
      "\n",
      "\n",
      "\n",
      "01 - 98\n"
     ]
    },
    {
     "data": {
      "text/plain": [
       "'Shape DF of single sub of single timepoint : (414, 13)'"
      ]
     },
     "metadata": {},
     "output_type": "display_data"
    },
    {
     "name": "stdout",
     "output_type": "stream",
     "text": [
      "Shape adj matrix: torch.Size([414, 414])\n",
      "Label fo the current grpah: 27\n",
      "tensor([[  0,   0,   0,  ..., 413, 413, 413],\n",
      "        [  1,   2,   3,  ..., 410, 411, 412]])\n",
      "torch.Size([2, 170982])\n",
      "tensor([1., 1., 1.,  ..., 1., 1., 1.])\n",
      "torch.Size([170982])\n",
      "GraphEmo(x=[414], edge_index=[2, 170982], edge_attr=[170982], y=27, movie='AfterTheRain', subject='01', timestamp_tr=99, adj=[414, 414])\n",
      "Graph saved at: /home/dalai/GNN_E/data/processed/all_graphs/clique_singlefmri/AfterTheRain_01_99.pt"
     ]
    },
    {
     "name": "stderr",
     "output_type": "stream",
     "text": [
      "/home/dalai/GNN_E/scripts/utils.py:26: UserWarning: To copy construct from a tensor, it is recommended to use sourceTensor.clone().detach() or sourceTensor.clone().detach().requires_grad_(True), rather than torch.tensor(sourceTensor).\n",
      "  edge_index = torch.tensor(adj.nonzero().t().contiguous(), dtype=torch.long)  # Shape: [2, num_edges]\n",
      "/home/dalai/GNN_E/scripts/utils.py:30: UserWarning: To copy construct from a tensor, it is recommended to use sourceTensor.clone().detach() or sourceTensor.clone().detach().requires_grad_(True), rather than torch.tensor(sourceTensor).\n",
      "  edge_attr = torch.tensor(adj[edge_index[0, :], edge_index[1, :]], dtype=torch.float)\n"
     ]
    },
    {
     "name": "stdout",
     "output_type": "stream",
     "text": [
      "\n",
      "\n",
      "\n",
      "01 - 99\n"
     ]
    },
    {
     "data": {
      "text/plain": [
       "'Shape DF of single sub of single timepoint : (414, 13)'"
      ]
     },
     "metadata": {},
     "output_type": "display_data"
    },
    {
     "name": "stdout",
     "output_type": "stream",
     "text": [
      "Shape adj matrix: torch.Size([414, 414])\n",
      "Label fo the current grpah: 27\n",
      "tensor([[  0,   0,   0,  ..., 413, 413, 413],\n",
      "        [  1,   2,   3,  ..., 410, 411, 412]])\n",
      "torch.Size([2, 170982])\n",
      "tensor([1., 1., 1.,  ..., 1., 1., 1.])\n",
      "torch.Size([170982])\n",
      "GraphEmo(x=[414], edge_index=[2, 170982], edge_attr=[170982], y=27, movie='AfterTheRain', subject='01', timestamp_tr=100, adj=[414, 414])\n",
      "Graph saved at: /home/dalai/GNN_E/data/processed/all_graphs/clique_singlefmri/AfterTheRain_01_100.pt"
     ]
    },
    {
     "name": "stderr",
     "output_type": "stream",
     "text": [
      "/home/dalai/GNN_E/scripts/utils.py:26: UserWarning: To copy construct from a tensor, it is recommended to use sourceTensor.clone().detach() or sourceTensor.clone().detach().requires_grad_(True), rather than torch.tensor(sourceTensor).\n",
      "  edge_index = torch.tensor(adj.nonzero().t().contiguous(), dtype=torch.long)  # Shape: [2, num_edges]\n",
      "/home/dalai/GNN_E/scripts/utils.py:30: UserWarning: To copy construct from a tensor, it is recommended to use sourceTensor.clone().detach() or sourceTensor.clone().detach().requires_grad_(True), rather than torch.tensor(sourceTensor).\n",
      "  edge_attr = torch.tensor(adj[edge_index[0, :], edge_index[1, :]], dtype=torch.float)\n"
     ]
    },
    {
     "name": "stdout",
     "output_type": "stream",
     "text": [
      "\n",
      "\n",
      "\n",
      "01 - 100\n"
     ]
    },
    {
     "data": {
      "text/plain": [
       "'Shape DF of single sub of single timepoint : (414, 13)'"
      ]
     },
     "metadata": {},
     "output_type": "display_data"
    },
    {
     "name": "stdout",
     "output_type": "stream",
     "text": [
      "Shape adj matrix: torch.Size([414, 414])\n",
      "Label fo the current grpah: 27\n",
      "tensor([[  0,   0,   0,  ..., 413, 413, 413],\n",
      "        [  1,   2,   3,  ..., 410, 411, 412]])\n",
      "torch.Size([2, 170982])\n",
      "tensor([1., 1., 1.,  ..., 1., 1., 1.])\n",
      "torch.Size([170982])\n",
      "GraphEmo(x=[414], edge_index=[2, 170982], edge_attr=[170982], y=27, movie='AfterTheRain', subject='01', timestamp_tr=101, adj=[414, 414])\n"
     ]
    },
    {
     "name": "stderr",
     "output_type": "stream",
     "text": [
      "/home/dalai/GNN_E/scripts/utils.py:26: UserWarning: To copy construct from a tensor, it is recommended to use sourceTensor.clone().detach() or sourceTensor.clone().detach().requires_grad_(True), rather than torch.tensor(sourceTensor).\n",
      "  edge_index = torch.tensor(adj.nonzero().t().contiguous(), dtype=torch.long)  # Shape: [2, num_edges]\n",
      "/home/dalai/GNN_E/scripts/utils.py:30: UserWarning: To copy construct from a tensor, it is recommended to use sourceTensor.clone().detach() or sourceTensor.clone().detach().requires_grad_(True), rather than torch.tensor(sourceTensor).\n",
      "  edge_attr = torch.tensor(adj[edge_index[0, :], edge_index[1, :]], dtype=torch.float)\n"
     ]
    },
    {
     "name": "stdout",
     "output_type": "stream",
     "text": [
      "Graph saved at: /home/dalai/GNN_E/data/processed/all_graphs/clique_singlefmri/AfterTheRain_01_101.pt\n",
      "\n",
      "\n",
      "01 - 101\n"
     ]
    },
    {
     "data": {
      "text/plain": [
       "'Shape DF of single sub of single timepoint : (414, 13)'"
      ]
     },
     "metadata": {},
     "output_type": "display_data"
    },
    {
     "name": "stdout",
     "output_type": "stream",
     "text": [
      "Shape adj matrix: torch.Size([414, 414])\n",
      "Label fo the current grpah: 27\n",
      "tensor([[  0,   0,   0,  ..., 413, 413, 413],\n",
      "        [  1,   2,   3,  ..., 410, 411, 412]])\n",
      "torch.Size([2, 170982])\n",
      "tensor([1., 1., 1.,  ..., 1., 1., 1.])\n",
      "torch.Size([170982])\n",
      "GraphEmo(x=[414], edge_index=[2, 170982], edge_attr=[170982], y=27, movie='AfterTheRain', subject='01', timestamp_tr=102, adj=[414, 414])\n"
     ]
    },
    {
     "name": "stderr",
     "output_type": "stream",
     "text": [
      "/home/dalai/GNN_E/scripts/utils.py:26: UserWarning: To copy construct from a tensor, it is recommended to use sourceTensor.clone().detach() or sourceTensor.clone().detach().requires_grad_(True), rather than torch.tensor(sourceTensor).\n",
      "  edge_index = torch.tensor(adj.nonzero().t().contiguous(), dtype=torch.long)  # Shape: [2, num_edges]\n",
      "/home/dalai/GNN_E/scripts/utils.py:30: UserWarning: To copy construct from a tensor, it is recommended to use sourceTensor.clone().detach() or sourceTensor.clone().detach().requires_grad_(True), rather than torch.tensor(sourceTensor).\n",
      "  edge_attr = torch.tensor(adj[edge_index[0, :], edge_index[1, :]], dtype=torch.float)\n"
     ]
    },
    {
     "name": "stdout",
     "output_type": "stream",
     "text": [
      "Graph saved at: /home/dalai/GNN_E/data/processed/all_graphs/clique_singlefmri/AfterTheRain_01_102.pt\n",
      "\n",
      "\n",
      "01 - 102\n"
     ]
    },
    {
     "data": {
      "text/plain": [
       "'Shape DF of single sub of single timepoint : (414, 13)'"
      ]
     },
     "metadata": {},
     "output_type": "display_data"
    },
    {
     "name": "stdout",
     "output_type": "stream",
     "text": [
      "Shape adj matrix: torch.Size([414, 414])\n",
      "Label fo the current grpah: 27\n",
      "tensor([[  0,   0,   0,  ..., 413, 413, 413],\n",
      "        [  1,   2,   3,  ..., 410, 411, 412]])\n",
      "torch.Size([2, 170982])\n",
      "tensor([1., 1., 1.,  ..., 1., 1., 1.])\n",
      "torch.Size([170982])\n",
      "GraphEmo(x=[414], edge_index=[2, 170982], edge_attr=[170982], y=27, movie='AfterTheRain', subject='01', timestamp_tr=103, adj=[414, 414])\n"
     ]
    },
    {
     "name": "stderr",
     "output_type": "stream",
     "text": [
      "/home/dalai/GNN_E/scripts/utils.py:26: UserWarning: To copy construct from a tensor, it is recommended to use sourceTensor.clone().detach() or sourceTensor.clone().detach().requires_grad_(True), rather than torch.tensor(sourceTensor).\n",
      "  edge_index = torch.tensor(adj.nonzero().t().contiguous(), dtype=torch.long)  # Shape: [2, num_edges]\n",
      "/home/dalai/GNN_E/scripts/utils.py:30: UserWarning: To copy construct from a tensor, it is recommended to use sourceTensor.clone().detach() or sourceTensor.clone().detach().requires_grad_(True), rather than torch.tensor(sourceTensor).\n",
      "  edge_attr = torch.tensor(adj[edge_index[0, :], edge_index[1, :]], dtype=torch.float)\n"
     ]
    },
    {
     "name": "stdout",
     "output_type": "stream",
     "text": [
      "Graph saved at: /home/dalai/GNN_E/data/processed/all_graphs/clique_singlefmri/AfterTheRain_01_103.pt\n",
      "\n",
      "\n",
      "01 - 103\n"
     ]
    },
    {
     "data": {
      "text/plain": [
       "'Shape DF of single sub of single timepoint : (414, 13)'"
      ]
     },
     "metadata": {},
     "output_type": "display_data"
    },
    {
     "name": "stdout",
     "output_type": "stream",
     "text": [
      "Shape adj matrix: torch.Size([414, 414])\n",
      "Label fo the current grpah: 27\n",
      "tensor([[  0,   0,   0,  ..., 413, 413, 413],\n",
      "        [  1,   2,   3,  ..., 410, 411, 412]])\n",
      "torch.Size([2, 170982])\n",
      "tensor([1., 1., 1.,  ..., 1., 1., 1.])\n",
      "torch.Size([170982])\n",
      "GraphEmo(x=[414], edge_index=[2, 170982], edge_attr=[170982], y=27, movie='AfterTheRain', subject='01', timestamp_tr=104, adj=[414, 414])\n"
     ]
    },
    {
     "name": "stderr",
     "output_type": "stream",
     "text": [
      "/home/dalai/GNN_E/scripts/utils.py:26: UserWarning: To copy construct from a tensor, it is recommended to use sourceTensor.clone().detach() or sourceTensor.clone().detach().requires_grad_(True), rather than torch.tensor(sourceTensor).\n",
      "  edge_index = torch.tensor(adj.nonzero().t().contiguous(), dtype=torch.long)  # Shape: [2, num_edges]\n",
      "/home/dalai/GNN_E/scripts/utils.py:30: UserWarning: To copy construct from a tensor, it is recommended to use sourceTensor.clone().detach() or sourceTensor.clone().detach().requires_grad_(True), rather than torch.tensor(sourceTensor).\n",
      "  edge_attr = torch.tensor(adj[edge_index[0, :], edge_index[1, :]], dtype=torch.float)\n"
     ]
    },
    {
     "name": "stdout",
     "output_type": "stream",
     "text": [
      "Graph saved at: /home/dalai/GNN_E/data/processed/all_graphs/clique_singlefmri/AfterTheRain_01_104.pt\n",
      "\n",
      "\n",
      "01 - 104\n"
     ]
    },
    {
     "data": {
      "text/plain": [
       "'Shape DF of single sub of single timepoint : (414, 13)'"
      ]
     },
     "metadata": {},
     "output_type": "display_data"
    },
    {
     "name": "stdout",
     "output_type": "stream",
     "text": [
      "Shape adj matrix: torch.Size([414, 414])\n",
      "Label fo the current grpah: 27\n",
      "tensor([[  0,   0,   0,  ..., 413, 413, 413],\n",
      "        [  1,   2,   3,  ..., 410, 411, 412]])\n",
      "torch.Size([2, 170982])\n",
      "tensor([1., 1., 1.,  ..., 1., 1., 1.])\n",
      "torch.Size([170982])\n",
      "GraphEmo(x=[414], edge_index=[2, 170982], edge_attr=[170982], y=27, movie='AfterTheRain', subject='01', timestamp_tr=105, adj=[414, 414])\n"
     ]
    },
    {
     "name": "stderr",
     "output_type": "stream",
     "text": [
      "/home/dalai/GNN_E/scripts/utils.py:26: UserWarning: To copy construct from a tensor, it is recommended to use sourceTensor.clone().detach() or sourceTensor.clone().detach().requires_grad_(True), rather than torch.tensor(sourceTensor).\n",
      "  edge_index = torch.tensor(adj.nonzero().t().contiguous(), dtype=torch.long)  # Shape: [2, num_edges]\n",
      "/home/dalai/GNN_E/scripts/utils.py:30: UserWarning: To copy construct from a tensor, it is recommended to use sourceTensor.clone().detach() or sourceTensor.clone().detach().requires_grad_(True), rather than torch.tensor(sourceTensor).\n",
      "  edge_attr = torch.tensor(adj[edge_index[0, :], edge_index[1, :]], dtype=torch.float)\n"
     ]
    },
    {
     "name": "stdout",
     "output_type": "stream",
     "text": [
      "Graph saved at: /home/dalai/GNN_E/data/processed/all_graphs/clique_singlefmri/AfterTheRain_01_105.pt\n",
      "\n",
      "\n",
      "01 - 105\n"
     ]
    },
    {
     "data": {
      "text/plain": [
       "'Shape DF of single sub of single timepoint : (414, 13)'"
      ]
     },
     "metadata": {},
     "output_type": "display_data"
    },
    {
     "name": "stdout",
     "output_type": "stream",
     "text": [
      "Shape adj matrix: torch.Size([414, 414])\n",
      "Label fo the current grpah: 27\n",
      "tensor([[  0,   0,   0,  ..., 413, 413, 413],\n",
      "        [  1,   2,   3,  ..., 410, 411, 412]])\n",
      "torch.Size([2, 170982])\n",
      "tensor([1., 1., 1.,  ..., 1., 1., 1.])\n",
      "torch.Size([170982])\n",
      "GraphEmo(x=[414], edge_index=[2, 170982], edge_attr=[170982], y=27, movie='AfterTheRain', subject='01', timestamp_tr=106, adj=[414, 414])\n"
     ]
    },
    {
     "name": "stderr",
     "output_type": "stream",
     "text": [
      "/home/dalai/GNN_E/scripts/utils.py:26: UserWarning: To copy construct from a tensor, it is recommended to use sourceTensor.clone().detach() or sourceTensor.clone().detach().requires_grad_(True), rather than torch.tensor(sourceTensor).\n",
      "  edge_index = torch.tensor(adj.nonzero().t().contiguous(), dtype=torch.long)  # Shape: [2, num_edges]\n",
      "/home/dalai/GNN_E/scripts/utils.py:30: UserWarning: To copy construct from a tensor, it is recommended to use sourceTensor.clone().detach() or sourceTensor.clone().detach().requires_grad_(True), rather than torch.tensor(sourceTensor).\n",
      "  edge_attr = torch.tensor(adj[edge_index[0, :], edge_index[1, :]], dtype=torch.float)\n"
     ]
    },
    {
     "name": "stdout",
     "output_type": "stream",
     "text": [
      "Graph saved at: /home/dalai/GNN_E/data/processed/all_graphs/clique_singlefmri/AfterTheRain_01_106.pt\n",
      "\n",
      "\n",
      "01 - 106\n"
     ]
    },
    {
     "data": {
      "text/plain": [
       "'Shape DF of single sub of single timepoint : (414, 13)'"
      ]
     },
     "metadata": {},
     "output_type": "display_data"
    },
    {
     "name": "stdout",
     "output_type": "stream",
     "text": [
      "Shape adj matrix: torch.Size([414, 414])\n",
      "Label fo the current grpah: 27\n",
      "tensor([[  0,   0,   0,  ..., 413, 413, 413],\n",
      "        [  1,   2,   3,  ..., 410, 411, 412]])\n",
      "torch.Size([2, 170982])\n",
      "tensor([1., 1., 1.,  ..., 1., 1., 1.])\n",
      "torch.Size([170982])\n",
      "GraphEmo(x=[414], edge_index=[2, 170982], edge_attr=[170982], y=27, movie='AfterTheRain', subject='01', timestamp_tr=107, adj=[414, 414])\n"
     ]
    },
    {
     "name": "stderr",
     "output_type": "stream",
     "text": [
      "/home/dalai/GNN_E/scripts/utils.py:26: UserWarning: To copy construct from a tensor, it is recommended to use sourceTensor.clone().detach() or sourceTensor.clone().detach().requires_grad_(True), rather than torch.tensor(sourceTensor).\n",
      "  edge_index = torch.tensor(adj.nonzero().t().contiguous(), dtype=torch.long)  # Shape: [2, num_edges]\n",
      "/home/dalai/GNN_E/scripts/utils.py:30: UserWarning: To copy construct from a tensor, it is recommended to use sourceTensor.clone().detach() or sourceTensor.clone().detach().requires_grad_(True), rather than torch.tensor(sourceTensor).\n",
      "  edge_attr = torch.tensor(adj[edge_index[0, :], edge_index[1, :]], dtype=torch.float)\n"
     ]
    },
    {
     "name": "stdout",
     "output_type": "stream",
     "text": [
      "Graph saved at: /home/dalai/GNN_E/data/processed/all_graphs/clique_singlefmri/AfterTheRain_01_107.pt\n",
      "\n",
      "\n",
      "01 - 107\n"
     ]
    },
    {
     "data": {
      "text/plain": [
       "'Shape DF of single sub of single timepoint : (414, 13)'"
      ]
     },
     "metadata": {},
     "output_type": "display_data"
    },
    {
     "name": "stdout",
     "output_type": "stream",
     "text": [
      "Shape adj matrix: torch.Size([414, 414])\n",
      "Label fo the current grpah: 27\n",
      "tensor([[  0,   0,   0,  ..., 413, 413, 413],\n",
      "        [  1,   2,   3,  ..., 410, 411, 412]])\n",
      "torch.Size([2, 170982])\n",
      "tensor([1., 1., 1.,  ..., 1., 1., 1.])\n",
      "torch.Size([170982])\n",
      "GraphEmo(x=[414], edge_index=[2, 170982], edge_attr=[170982], y=27, movie='AfterTheRain', subject='01', timestamp_tr=108, adj=[414, 414])\n",
      "Graph saved at: /home/dalai/GNN_E/data/processed/all_graphs/clique_singlefmri/AfterTheRain_01_108.pt"
     ]
    },
    {
     "name": "stderr",
     "output_type": "stream",
     "text": [
      "/home/dalai/GNN_E/scripts/utils.py:26: UserWarning: To copy construct from a tensor, it is recommended to use sourceTensor.clone().detach() or sourceTensor.clone().detach().requires_grad_(True), rather than torch.tensor(sourceTensor).\n",
      "  edge_index = torch.tensor(adj.nonzero().t().contiguous(), dtype=torch.long)  # Shape: [2, num_edges]\n",
      "/home/dalai/GNN_E/scripts/utils.py:30: UserWarning: To copy construct from a tensor, it is recommended to use sourceTensor.clone().detach() or sourceTensor.clone().detach().requires_grad_(True), rather than torch.tensor(sourceTensor).\n",
      "  edge_attr = torch.tensor(adj[edge_index[0, :], edge_index[1, :]], dtype=torch.float)\n"
     ]
    },
    {
     "name": "stdout",
     "output_type": "stream",
     "text": [
      "\n",
      "\n",
      "\n",
      "01 - 108\n"
     ]
    },
    {
     "data": {
      "text/plain": [
       "'Shape DF of single sub of single timepoint : (414, 13)'"
      ]
     },
     "metadata": {},
     "output_type": "display_data"
    },
    {
     "name": "stdout",
     "output_type": "stream",
     "text": [
      "Shape adj matrix: torch.Size([414, 414])\n",
      "Label fo the current grpah: 34\n",
      "tensor([[  0,   0,   0,  ..., 413, 413, 413],\n",
      "        [  1,   2,   3,  ..., 410, 411, 412]])\n",
      "torch.Size([2, 170982])\n",
      "tensor([1., 1., 1.,  ..., 1., 1., 1.])\n",
      "torch.Size([170982])\n",
      "GraphEmo(x=[414], edge_index=[2, 170982], edge_attr=[170982], y=34, movie='AfterTheRain', subject='01', timestamp_tr=109, adj=[414, 414])\n",
      "Graph saved at: /home/dalai/GNN_E/data/processed/all_graphs/clique_singlefmri/AfterTheRain_01_109.pt"
     ]
    },
    {
     "name": "stderr",
     "output_type": "stream",
     "text": [
      "/home/dalai/GNN_E/scripts/utils.py:26: UserWarning: To copy construct from a tensor, it is recommended to use sourceTensor.clone().detach() or sourceTensor.clone().detach().requires_grad_(True), rather than torch.tensor(sourceTensor).\n",
      "  edge_index = torch.tensor(adj.nonzero().t().contiguous(), dtype=torch.long)  # Shape: [2, num_edges]\n",
      "/home/dalai/GNN_E/scripts/utils.py:30: UserWarning: To copy construct from a tensor, it is recommended to use sourceTensor.clone().detach() or sourceTensor.clone().detach().requires_grad_(True), rather than torch.tensor(sourceTensor).\n",
      "  edge_attr = torch.tensor(adj[edge_index[0, :], edge_index[1, :]], dtype=torch.float)\n"
     ]
    },
    {
     "name": "stdout",
     "output_type": "stream",
     "text": [
      "\n",
      "\n",
      "\n",
      "01 - 109\n"
     ]
    },
    {
     "data": {
      "text/plain": [
       "'Shape DF of single sub of single timepoint : (414, 13)'"
      ]
     },
     "metadata": {},
     "output_type": "display_data"
    },
    {
     "name": "stdout",
     "output_type": "stream",
     "text": [
      "Shape adj matrix: torch.Size([414, 414])\n",
      "Label fo the current grpah: 34\n",
      "tensor([[  0,   0,   0,  ..., 413, 413, 413],\n",
      "        [  1,   2,   3,  ..., 410, 411, 412]])\n",
      "torch.Size([2, 170982])\n",
      "tensor([1., 1., 1.,  ..., 1., 1., 1.])\n",
      "torch.Size([170982])\n",
      "GraphEmo(x=[414], edge_index=[2, 170982], edge_attr=[170982], y=34, movie='AfterTheRain', subject='01', timestamp_tr=110, adj=[414, 414])\n",
      "Graph saved at: /home/dalai/GNN_E/data/processed/all_graphs/clique_singlefmri/AfterTheRain_01_110.pt"
     ]
    },
    {
     "name": "stderr",
     "output_type": "stream",
     "text": [
      "/home/dalai/GNN_E/scripts/utils.py:26: UserWarning: To copy construct from a tensor, it is recommended to use sourceTensor.clone().detach() or sourceTensor.clone().detach().requires_grad_(True), rather than torch.tensor(sourceTensor).\n",
      "  edge_index = torch.tensor(adj.nonzero().t().contiguous(), dtype=torch.long)  # Shape: [2, num_edges]\n",
      "/home/dalai/GNN_E/scripts/utils.py:30: UserWarning: To copy construct from a tensor, it is recommended to use sourceTensor.clone().detach() or sourceTensor.clone().detach().requires_grad_(True), rather than torch.tensor(sourceTensor).\n",
      "  edge_attr = torch.tensor(adj[edge_index[0, :], edge_index[1, :]], dtype=torch.float)\n"
     ]
    },
    {
     "name": "stdout",
     "output_type": "stream",
     "text": [
      "\n",
      "\n",
      "\n",
      "01 - 110\n"
     ]
    },
    {
     "data": {
      "text/plain": [
       "'Shape DF of single sub of single timepoint : (414, 13)'"
      ]
     },
     "metadata": {},
     "output_type": "display_data"
    },
    {
     "name": "stdout",
     "output_type": "stream",
     "text": [
      "Shape adj matrix: torch.Size([414, 414])\n",
      "Label fo the current grpah: 34\n",
      "tensor([[  0,   0,   0,  ..., 413, 413, 413],\n",
      "        [  1,   2,   3,  ..., 410, 411, 412]])\n",
      "torch.Size([2, 170982])\n",
      "tensor([1., 1., 1.,  ..., 1., 1., 1.])\n",
      "torch.Size([170982])\n",
      "GraphEmo(x=[414], edge_index=[2, 170982], edge_attr=[170982], y=34, movie='AfterTheRain', subject='01', timestamp_tr=111, adj=[414, 414])\n",
      "Graph saved at: /home/dalai/GNN_E/data/processed/all_graphs/clique_singlefmri/AfterTheRain_01_111.pt"
     ]
    },
    {
     "name": "stderr",
     "output_type": "stream",
     "text": [
      "/home/dalai/GNN_E/scripts/utils.py:26: UserWarning: To copy construct from a tensor, it is recommended to use sourceTensor.clone().detach() or sourceTensor.clone().detach().requires_grad_(True), rather than torch.tensor(sourceTensor).\n",
      "  edge_index = torch.tensor(adj.nonzero().t().contiguous(), dtype=torch.long)  # Shape: [2, num_edges]\n",
      "/home/dalai/GNN_E/scripts/utils.py:30: UserWarning: To copy construct from a tensor, it is recommended to use sourceTensor.clone().detach() or sourceTensor.clone().detach().requires_grad_(True), rather than torch.tensor(sourceTensor).\n",
      "  edge_attr = torch.tensor(adj[edge_index[0, :], edge_index[1, :]], dtype=torch.float)\n"
     ]
    },
    {
     "name": "stdout",
     "output_type": "stream",
     "text": [
      "\n",
      "\n",
      "\n",
      "01 - 111\n"
     ]
    },
    {
     "data": {
      "text/plain": [
       "'Shape DF of single sub of single timepoint : (414, 13)'"
      ]
     },
     "metadata": {},
     "output_type": "display_data"
    },
    {
     "name": "stdout",
     "output_type": "stream",
     "text": [
      "Shape adj matrix: torch.Size([414, 414])\n",
      "Label fo the current grpah: 34\n",
      "tensor([[  0,   0,   0,  ..., 413, 413, 413],\n",
      "        [  1,   2,   3,  ..., 410, 411, 412]])\n",
      "torch.Size([2, 170982])\n",
      "tensor([1., 1., 1.,  ..., 1., 1., 1.])\n",
      "torch.Size([170982])\n",
      "GraphEmo(x=[414], edge_index=[2, 170982], edge_attr=[170982], y=34, movie='AfterTheRain', subject='01', timestamp_tr=112, adj=[414, 414])\n",
      "Graph saved at: /home/dalai/GNN_E/data/processed/all_graphs/clique_singlefmri/AfterTheRain_01_112.pt"
     ]
    },
    {
     "name": "stderr",
     "output_type": "stream",
     "text": [
      "/home/dalai/GNN_E/scripts/utils.py:26: UserWarning: To copy construct from a tensor, it is recommended to use sourceTensor.clone().detach() or sourceTensor.clone().detach().requires_grad_(True), rather than torch.tensor(sourceTensor).\n",
      "  edge_index = torch.tensor(adj.nonzero().t().contiguous(), dtype=torch.long)  # Shape: [2, num_edges]\n",
      "/home/dalai/GNN_E/scripts/utils.py:30: UserWarning: To copy construct from a tensor, it is recommended to use sourceTensor.clone().detach() or sourceTensor.clone().detach().requires_grad_(True), rather than torch.tensor(sourceTensor).\n",
      "  edge_attr = torch.tensor(adj[edge_index[0, :], edge_index[1, :]], dtype=torch.float)\n"
     ]
    },
    {
     "name": "stdout",
     "output_type": "stream",
     "text": [
      "\n",
      "\n",
      "\n",
      "01 - 112\n"
     ]
    },
    {
     "data": {
      "text/plain": [
       "'Shape DF of single sub of single timepoint : (414, 13)'"
      ]
     },
     "metadata": {},
     "output_type": "display_data"
    },
    {
     "name": "stdout",
     "output_type": "stream",
     "text": [
      "Shape adj matrix: torch.Size([414, 414])\n",
      "Label fo the current grpah: 34\n",
      "tensor([[  0,   0,   0,  ..., 413, 413, 413],\n",
      "        [  1,   2,   3,  ..., 410, 411, 412]])\n",
      "torch.Size([2, 170982])\n",
      "tensor([1., 1., 1.,  ..., 1., 1., 1.])\n",
      "torch.Size([170982])\n",
      "GraphEmo(x=[414], edge_index=[2, 170982], edge_attr=[170982], y=34, movie='AfterTheRain', subject='01', timestamp_tr=113, adj=[414, 414])\n",
      "Graph saved at: /home/dalai/GNN_E/data/processed/all_graphs/clique_singlefmri/AfterTheRain_01_113.pt"
     ]
    },
    {
     "name": "stderr",
     "output_type": "stream",
     "text": [
      "/home/dalai/GNN_E/scripts/utils.py:26: UserWarning: To copy construct from a tensor, it is recommended to use sourceTensor.clone().detach() or sourceTensor.clone().detach().requires_grad_(True), rather than torch.tensor(sourceTensor).\n",
      "  edge_index = torch.tensor(adj.nonzero().t().contiguous(), dtype=torch.long)  # Shape: [2, num_edges]\n",
      "/home/dalai/GNN_E/scripts/utils.py:30: UserWarning: To copy construct from a tensor, it is recommended to use sourceTensor.clone().detach() or sourceTensor.clone().detach().requires_grad_(True), rather than torch.tensor(sourceTensor).\n",
      "  edge_attr = torch.tensor(adj[edge_index[0, :], edge_index[1, :]], dtype=torch.float)\n"
     ]
    },
    {
     "name": "stdout",
     "output_type": "stream",
     "text": [
      "\n",
      "\n",
      "\n",
      "01 - 113\n"
     ]
    },
    {
     "data": {
      "text/plain": [
       "'Shape DF of single sub of single timepoint : (414, 13)'"
      ]
     },
     "metadata": {},
     "output_type": "display_data"
    },
    {
     "name": "stdout",
     "output_type": "stream",
     "text": [
      "Shape adj matrix: torch.Size([414, 414])\n",
      "Label fo the current grpah: 34\n",
      "tensor([[  0,   0,   0,  ..., 413, 413, 413],\n",
      "        [  1,   2,   3,  ..., 410, 411, 412]])\n",
      "torch.Size([2, 170982])\n",
      "tensor([1., 1., 1.,  ..., 1., 1., 1.])\n",
      "torch.Size([170982])\n",
      "GraphEmo(x=[414], edge_index=[2, 170982], edge_attr=[170982], y=34, movie='AfterTheRain', subject='01', timestamp_tr=114, adj=[414, 414])\n"
     ]
    },
    {
     "name": "stderr",
     "output_type": "stream",
     "text": [
      "/home/dalai/GNN_E/scripts/utils.py:26: UserWarning: To copy construct from a tensor, it is recommended to use sourceTensor.clone().detach() or sourceTensor.clone().detach().requires_grad_(True), rather than torch.tensor(sourceTensor).\n",
      "  edge_index = torch.tensor(adj.nonzero().t().contiguous(), dtype=torch.long)  # Shape: [2, num_edges]\n",
      "/home/dalai/GNN_E/scripts/utils.py:30: UserWarning: To copy construct from a tensor, it is recommended to use sourceTensor.clone().detach() or sourceTensor.clone().detach().requires_grad_(True), rather than torch.tensor(sourceTensor).\n",
      "  edge_attr = torch.tensor(adj[edge_index[0, :], edge_index[1, :]], dtype=torch.float)\n"
     ]
    },
    {
     "name": "stdout",
     "output_type": "stream",
     "text": [
      "Graph saved at: /home/dalai/GNN_E/data/processed/all_graphs/clique_singlefmri/AfterTheRain_01_114.pt\n",
      "\n",
      "\n",
      "01 - 114\n"
     ]
    },
    {
     "data": {
      "text/plain": [
       "'Shape DF of single sub of single timepoint : (414, 13)'"
      ]
     },
     "metadata": {},
     "output_type": "display_data"
    },
    {
     "name": "stdout",
     "output_type": "stream",
     "text": [
      "Shape adj matrix: torch.Size([414, 414])\n",
      "Label fo the current grpah: 12\n",
      "tensor([[  0,   0,   0,  ..., 413, 413, 413],\n",
      "        [  1,   2,   3,  ..., 410, 411, 412]])\n",
      "torch.Size([2, 170982])\n",
      "tensor([1., 1., 1.,  ..., 1., 1., 1.])\n",
      "torch.Size([170982])\n",
      "GraphEmo(x=[414], edge_index=[2, 170982], edge_attr=[170982], y=12, movie='AfterTheRain', subject='01', timestamp_tr=115, adj=[414, 414])\n",
      "Graph saved at: /home/dalai/GNN_E/data/processed/all_graphs/clique_singlefmri/AfterTheRain_01_115.pt"
     ]
    },
    {
     "name": "stderr",
     "output_type": "stream",
     "text": [
      "/home/dalai/GNN_E/scripts/utils.py:26: UserWarning: To copy construct from a tensor, it is recommended to use sourceTensor.clone().detach() or sourceTensor.clone().detach().requires_grad_(True), rather than torch.tensor(sourceTensor).\n",
      "  edge_index = torch.tensor(adj.nonzero().t().contiguous(), dtype=torch.long)  # Shape: [2, num_edges]\n",
      "/home/dalai/GNN_E/scripts/utils.py:30: UserWarning: To copy construct from a tensor, it is recommended to use sourceTensor.clone().detach() or sourceTensor.clone().detach().requires_grad_(True), rather than torch.tensor(sourceTensor).\n",
      "  edge_attr = torch.tensor(adj[edge_index[0, :], edge_index[1, :]], dtype=torch.float)\n"
     ]
    },
    {
     "name": "stdout",
     "output_type": "stream",
     "text": [
      "\n",
      "\n",
      "\n",
      "01 - 115\n"
     ]
    },
    {
     "data": {
      "text/plain": [
       "'Shape DF of single sub of single timepoint : (414, 13)'"
      ]
     },
     "metadata": {},
     "output_type": "display_data"
    },
    {
     "name": "stdout",
     "output_type": "stream",
     "text": [
      "Shape adj matrix: torch.Size([414, 414])\n",
      "Label fo the current grpah: 12\n",
      "tensor([[  0,   0,   0,  ..., 413, 413, 413],\n",
      "        [  1,   2,   3,  ..., 410, 411, 412]])\n",
      "torch.Size([2, 170982])\n",
      "tensor([1., 1., 1.,  ..., 1., 1., 1.])\n",
      "torch.Size([170982])\n",
      "GraphEmo(x=[414], edge_index=[2, 170982], edge_attr=[170982], y=12, movie='AfterTheRain', subject='01', timestamp_tr=116, adj=[414, 414])\n"
     ]
    },
    {
     "name": "stderr",
     "output_type": "stream",
     "text": [
      "/home/dalai/GNN_E/scripts/utils.py:26: UserWarning: To copy construct from a tensor, it is recommended to use sourceTensor.clone().detach() or sourceTensor.clone().detach().requires_grad_(True), rather than torch.tensor(sourceTensor).\n",
      "  edge_index = torch.tensor(adj.nonzero().t().contiguous(), dtype=torch.long)  # Shape: [2, num_edges]\n",
      "/home/dalai/GNN_E/scripts/utils.py:30: UserWarning: To copy construct from a tensor, it is recommended to use sourceTensor.clone().detach() or sourceTensor.clone().detach().requires_grad_(True), rather than torch.tensor(sourceTensor).\n",
      "  edge_attr = torch.tensor(adj[edge_index[0, :], edge_index[1, :]], dtype=torch.float)\n"
     ]
    },
    {
     "name": "stdout",
     "output_type": "stream",
     "text": [
      "Graph saved at: /home/dalai/GNN_E/data/processed/all_graphs/clique_singlefmri/AfterTheRain_01_116.pt\n",
      "\n",
      "\n",
      "01 - 116\n"
     ]
    },
    {
     "data": {
      "text/plain": [
       "'Shape DF of single sub of single timepoint : (414, 13)'"
      ]
     },
     "metadata": {},
     "output_type": "display_data"
    },
    {
     "name": "stdout",
     "output_type": "stream",
     "text": [
      "Shape adj matrix: torch.Size([414, 414])\n",
      "Label fo the current grpah: 12\n",
      "tensor([[  0,   0,   0,  ..., 413, 413, 413],\n",
      "        [  1,   2,   3,  ..., 410, 411, 412]])\n",
      "torch.Size([2, 170982])\n",
      "tensor([1., 1., 1.,  ..., 1., 1., 1.])\n",
      "torch.Size([170982])\n",
      "GraphEmo(x=[414], edge_index=[2, 170982], edge_attr=[170982], y=12, movie='AfterTheRain', subject='01', timestamp_tr=117, adj=[414, 414])\n",
      "Graph saved at: /home/dalai/GNN_E/data/processed/all_graphs/clique_singlefmri/AfterTheRain_01_117.pt"
     ]
    },
    {
     "name": "stderr",
     "output_type": "stream",
     "text": [
      "/home/dalai/GNN_E/scripts/utils.py:26: UserWarning: To copy construct from a tensor, it is recommended to use sourceTensor.clone().detach() or sourceTensor.clone().detach().requires_grad_(True), rather than torch.tensor(sourceTensor).\n",
      "  edge_index = torch.tensor(adj.nonzero().t().contiguous(), dtype=torch.long)  # Shape: [2, num_edges]\n",
      "/home/dalai/GNN_E/scripts/utils.py:30: UserWarning: To copy construct from a tensor, it is recommended to use sourceTensor.clone().detach() or sourceTensor.clone().detach().requires_grad_(True), rather than torch.tensor(sourceTensor).\n",
      "  edge_attr = torch.tensor(adj[edge_index[0, :], edge_index[1, :]], dtype=torch.float)\n"
     ]
    },
    {
     "name": "stdout",
     "output_type": "stream",
     "text": [
      "\n",
      "\n",
      "\n",
      "01 - 117\n"
     ]
    },
    {
     "data": {
      "text/plain": [
       "'Shape DF of single sub of single timepoint : (414, 13)'"
      ]
     },
     "metadata": {},
     "output_type": "display_data"
    },
    {
     "name": "stdout",
     "output_type": "stream",
     "text": [
      "Shape adj matrix: torch.Size([414, 414])\n",
      "Label fo the current grpah: 34\n",
      "tensor([[  0,   0,   0,  ..., 413, 413, 413],\n",
      "        [  1,   2,   3,  ..., 410, 411, 412]])\n",
      "torch.Size([2, 170982])\n",
      "tensor([1., 1., 1.,  ..., 1., 1., 1.])\n",
      "torch.Size([170982])\n",
      "GraphEmo(x=[414], edge_index=[2, 170982], edge_attr=[170982], y=34, movie='AfterTheRain', subject='01', timestamp_tr=118, adj=[414, 414])\n",
      "Graph saved at: /home/dalai/GNN_E/data/processed/all_graphs/clique_singlefmri/AfterTheRain_01_118.pt"
     ]
    },
    {
     "name": "stderr",
     "output_type": "stream",
     "text": [
      "/home/dalai/GNN_E/scripts/utils.py:26: UserWarning: To copy construct from a tensor, it is recommended to use sourceTensor.clone().detach() or sourceTensor.clone().detach().requires_grad_(True), rather than torch.tensor(sourceTensor).\n",
      "  edge_index = torch.tensor(adj.nonzero().t().contiguous(), dtype=torch.long)  # Shape: [2, num_edges]\n",
      "/home/dalai/GNN_E/scripts/utils.py:30: UserWarning: To copy construct from a tensor, it is recommended to use sourceTensor.clone().detach() or sourceTensor.clone().detach().requires_grad_(True), rather than torch.tensor(sourceTensor).\n",
      "  edge_attr = torch.tensor(adj[edge_index[0, :], edge_index[1, :]], dtype=torch.float)\n"
     ]
    },
    {
     "name": "stdout",
     "output_type": "stream",
     "text": [
      "\n",
      "\n",
      "\n",
      "01 - 118\n"
     ]
    },
    {
     "data": {
      "text/plain": [
       "'Shape DF of single sub of single timepoint : (414, 13)'"
      ]
     },
     "metadata": {},
     "output_type": "display_data"
    },
    {
     "name": "stdout",
     "output_type": "stream",
     "text": [
      "Shape adj matrix: torch.Size([414, 414])\n",
      "Label fo the current grpah: 32\n",
      "tensor([[  0,   0,   0,  ..., 413, 413, 413],\n",
      "        [  1,   2,   3,  ..., 410, 411, 412]])\n",
      "torch.Size([2, 170982])\n",
      "tensor([1., 1., 1.,  ..., 1., 1., 1.])\n",
      "torch.Size([170982])\n",
      "GraphEmo(x=[414], edge_index=[2, 170982], edge_attr=[170982], y=32, movie='AfterTheRain', subject='01', timestamp_tr=119, adj=[414, 414])\n",
      "Graph saved at: /home/dalai/GNN_E/data/processed/all_graphs/clique_singlefmri/AfterTheRain_01_119.pt"
     ]
    },
    {
     "name": "stderr",
     "output_type": "stream",
     "text": [
      "/home/dalai/GNN_E/scripts/utils.py:26: UserWarning: To copy construct from a tensor, it is recommended to use sourceTensor.clone().detach() or sourceTensor.clone().detach().requires_grad_(True), rather than torch.tensor(sourceTensor).\n",
      "  edge_index = torch.tensor(adj.nonzero().t().contiguous(), dtype=torch.long)  # Shape: [2, num_edges]\n",
      "/home/dalai/GNN_E/scripts/utils.py:30: UserWarning: To copy construct from a tensor, it is recommended to use sourceTensor.clone().detach() or sourceTensor.clone().detach().requires_grad_(True), rather than torch.tensor(sourceTensor).\n",
      "  edge_attr = torch.tensor(adj[edge_index[0, :], edge_index[1, :]], dtype=torch.float)\n"
     ]
    },
    {
     "name": "stdout",
     "output_type": "stream",
     "text": [
      "\n",
      "\n",
      "\n",
      "01 - 119\n"
     ]
    },
    {
     "data": {
      "text/plain": [
       "'Shape DF of single sub of single timepoint : (414, 13)'"
      ]
     },
     "metadata": {},
     "output_type": "display_data"
    },
    {
     "name": "stdout",
     "output_type": "stream",
     "text": [
      "Shape adj matrix: torch.Size([414, 414])\n",
      "Label fo the current grpah: 34\n",
      "tensor([[  0,   0,   0,  ..., 413, 413, 413],\n",
      "        [  1,   2,   3,  ..., 410, 411, 412]])\n",
      "torch.Size([2, 170982])\n",
      "tensor([1., 1., 1.,  ..., 1., 1., 1.])\n",
      "torch.Size([170982])\n",
      "GraphEmo(x=[414], edge_index=[2, 170982], edge_attr=[170982], y=34, movie='AfterTheRain', subject='01', timestamp_tr=120, adj=[414, 414])\n",
      "Graph saved at: /home/dalai/GNN_E/data/processed/all_graphs/clique_singlefmri/AfterTheRain_01_120.pt"
     ]
    },
    {
     "name": "stderr",
     "output_type": "stream",
     "text": [
      "/home/dalai/GNN_E/scripts/utils.py:26: UserWarning: To copy construct from a tensor, it is recommended to use sourceTensor.clone().detach() or sourceTensor.clone().detach().requires_grad_(True), rather than torch.tensor(sourceTensor).\n",
      "  edge_index = torch.tensor(adj.nonzero().t().contiguous(), dtype=torch.long)  # Shape: [2, num_edges]\n",
      "/home/dalai/GNN_E/scripts/utils.py:30: UserWarning: To copy construct from a tensor, it is recommended to use sourceTensor.clone().detach() or sourceTensor.clone().detach().requires_grad_(True), rather than torch.tensor(sourceTensor).\n",
      "  edge_attr = torch.tensor(adj[edge_index[0, :], edge_index[1, :]], dtype=torch.float)\n"
     ]
    },
    {
     "name": "stdout",
     "output_type": "stream",
     "text": [
      "\n",
      "\n",
      "\n",
      "01 - 120\n"
     ]
    },
    {
     "data": {
      "text/plain": [
       "'Shape DF of single sub of single timepoint : (414, 13)'"
      ]
     },
     "metadata": {},
     "output_type": "display_data"
    },
    {
     "name": "stdout",
     "output_type": "stream",
     "text": [
      "Shape adj matrix: torch.Size([414, 414])\n",
      "Label fo the current grpah: 34\n",
      "tensor([[  0,   0,   0,  ..., 413, 413, 413],\n",
      "        [  1,   2,   3,  ..., 410, 411, 412]])\n",
      "torch.Size([2, 170982])\n",
      "tensor([1., 1., 1.,  ..., 1., 1., 1.])\n",
      "torch.Size([170982])\n",
      "GraphEmo(x=[414], edge_index=[2, 170982], edge_attr=[170982], y=34, movie='AfterTheRain', subject='01', timestamp_tr=121, adj=[414, 414])\n",
      "Graph saved at: /home/dalai/GNN_E/data/processed/all_graphs/clique_singlefmri/AfterTheRain_01_121.pt"
     ]
    },
    {
     "name": "stderr",
     "output_type": "stream",
     "text": [
      "/home/dalai/GNN_E/scripts/utils.py:26: UserWarning: To copy construct from a tensor, it is recommended to use sourceTensor.clone().detach() or sourceTensor.clone().detach().requires_grad_(True), rather than torch.tensor(sourceTensor).\n",
      "  edge_index = torch.tensor(adj.nonzero().t().contiguous(), dtype=torch.long)  # Shape: [2, num_edges]\n",
      "/home/dalai/GNN_E/scripts/utils.py:30: UserWarning: To copy construct from a tensor, it is recommended to use sourceTensor.clone().detach() or sourceTensor.clone().detach().requires_grad_(True), rather than torch.tensor(sourceTensor).\n",
      "  edge_attr = torch.tensor(adj[edge_index[0, :], edge_index[1, :]], dtype=torch.float)\n"
     ]
    },
    {
     "name": "stdout",
     "output_type": "stream",
     "text": [
      "\n",
      "\n",
      "\n",
      "01 - 121\n"
     ]
    },
    {
     "data": {
      "text/plain": [
       "'Shape DF of single sub of single timepoint : (414, 13)'"
      ]
     },
     "metadata": {},
     "output_type": "display_data"
    },
    {
     "name": "stdout",
     "output_type": "stream",
     "text": [
      "Shape adj matrix: torch.Size([414, 414])\n",
      "Label fo the current grpah: 34\n",
      "tensor([[  0,   0,   0,  ..., 413, 413, 413],\n",
      "        [  1,   2,   3,  ..., 410, 411, 412]])\n",
      "torch.Size([2, 170982])\n",
      "tensor([1., 1., 1.,  ..., 1., 1., 1.])\n",
      "torch.Size([170982])\n",
      "GraphEmo(x=[414], edge_index=[2, 170982], edge_attr=[170982], y=34, movie='AfterTheRain', subject='01', timestamp_tr=122, adj=[414, 414])\n",
      "Graph saved at: /home/dalai/GNN_E/data/processed/all_graphs/clique_singlefmri/AfterTheRain_01_122.pt"
     ]
    },
    {
     "name": "stderr",
     "output_type": "stream",
     "text": [
      "/home/dalai/GNN_E/scripts/utils.py:26: UserWarning: To copy construct from a tensor, it is recommended to use sourceTensor.clone().detach() or sourceTensor.clone().detach().requires_grad_(True), rather than torch.tensor(sourceTensor).\n",
      "  edge_index = torch.tensor(adj.nonzero().t().contiguous(), dtype=torch.long)  # Shape: [2, num_edges]\n",
      "/home/dalai/GNN_E/scripts/utils.py:30: UserWarning: To copy construct from a tensor, it is recommended to use sourceTensor.clone().detach() or sourceTensor.clone().detach().requires_grad_(True), rather than torch.tensor(sourceTensor).\n",
      "  edge_attr = torch.tensor(adj[edge_index[0, :], edge_index[1, :]], dtype=torch.float)\n"
     ]
    },
    {
     "name": "stdout",
     "output_type": "stream",
     "text": [
      "\n",
      "\n",
      "\n",
      "01 - 122\n"
     ]
    },
    {
     "data": {
      "text/plain": [
       "'Shape DF of single sub of single timepoint : (414, 13)'"
      ]
     },
     "metadata": {},
     "output_type": "display_data"
    },
    {
     "name": "stdout",
     "output_type": "stream",
     "text": [
      "Shape adj matrix: torch.Size([414, 414])\n",
      "Label fo the current grpah: 34\n",
      "tensor([[  0,   0,   0,  ..., 413, 413, 413],\n",
      "        [  1,   2,   3,  ..., 410, 411, 412]])\n",
      "torch.Size([2, 170982])\n",
      "tensor([1., 1., 1.,  ..., 1., 1., 1.])\n",
      "torch.Size([170982])\n",
      "GraphEmo(x=[414], edge_index=[2, 170982], edge_attr=[170982], y=34, movie='AfterTheRain', subject='01', timestamp_tr=123, adj=[414, 414])\n",
      "Graph saved at: /home/dalai/GNN_E/data/processed/all_graphs/clique_singlefmri/AfterTheRain_01_123.pt"
     ]
    },
    {
     "name": "stderr",
     "output_type": "stream",
     "text": [
      "/home/dalai/GNN_E/scripts/utils.py:26: UserWarning: To copy construct from a tensor, it is recommended to use sourceTensor.clone().detach() or sourceTensor.clone().detach().requires_grad_(True), rather than torch.tensor(sourceTensor).\n",
      "  edge_index = torch.tensor(adj.nonzero().t().contiguous(), dtype=torch.long)  # Shape: [2, num_edges]\n",
      "/home/dalai/GNN_E/scripts/utils.py:30: UserWarning: To copy construct from a tensor, it is recommended to use sourceTensor.clone().detach() or sourceTensor.clone().detach().requires_grad_(True), rather than torch.tensor(sourceTensor).\n",
      "  edge_attr = torch.tensor(adj[edge_index[0, :], edge_index[1, :]], dtype=torch.float)\n"
     ]
    },
    {
     "name": "stdout",
     "output_type": "stream",
     "text": [
      "\n",
      "\n",
      "\n",
      "01 - 123\n"
     ]
    },
    {
     "data": {
      "text/plain": [
       "'Shape DF of single sub of single timepoint : (414, 13)'"
      ]
     },
     "metadata": {},
     "output_type": "display_data"
    },
    {
     "name": "stdout",
     "output_type": "stream",
     "text": [
      "Shape adj matrix: torch.Size([414, 414])\n",
      "Label fo the current grpah: 34\n",
      "tensor([[  0,   0,   0,  ..., 413, 413, 413],\n",
      "        [  1,   2,   3,  ..., 410, 411, 412]])\n",
      "torch.Size([2, 170982])\n",
      "tensor([1., 1., 1.,  ..., 1., 1., 1.])\n",
      "torch.Size([170982])\n",
      "GraphEmo(x=[414], edge_index=[2, 170982], edge_attr=[170982], y=34, movie='AfterTheRain', subject='01', timestamp_tr=124, adj=[414, 414])\n",
      "Graph saved at: /home/dalai/GNN_E/data/processed/all_graphs/clique_singlefmri/AfterTheRain_01_124.pt"
     ]
    },
    {
     "name": "stderr",
     "output_type": "stream",
     "text": [
      "/home/dalai/GNN_E/scripts/utils.py:26: UserWarning: To copy construct from a tensor, it is recommended to use sourceTensor.clone().detach() or sourceTensor.clone().detach().requires_grad_(True), rather than torch.tensor(sourceTensor).\n",
      "  edge_index = torch.tensor(adj.nonzero().t().contiguous(), dtype=torch.long)  # Shape: [2, num_edges]\n",
      "/home/dalai/GNN_E/scripts/utils.py:30: UserWarning: To copy construct from a tensor, it is recommended to use sourceTensor.clone().detach() or sourceTensor.clone().detach().requires_grad_(True), rather than torch.tensor(sourceTensor).\n",
      "  edge_attr = torch.tensor(adj[edge_index[0, :], edge_index[1, :]], dtype=torch.float)\n"
     ]
    },
    {
     "name": "stdout",
     "output_type": "stream",
     "text": [
      "\n",
      "\n",
      "\n",
      "01 - 124\n"
     ]
    },
    {
     "data": {
      "text/plain": [
       "'Shape DF of single sub of single timepoint : (414, 13)'"
      ]
     },
     "metadata": {},
     "output_type": "display_data"
    },
    {
     "name": "stdout",
     "output_type": "stream",
     "text": [
      "Shape adj matrix: torch.Size([414, 414])\n",
      "Label fo the current grpah: 34\n",
      "tensor([[  0,   0,   0,  ..., 413, 413, 413],\n",
      "        [  1,   2,   3,  ..., 410, 411, 412]])\n",
      "torch.Size([2, 170982])\n",
      "tensor([1., 1., 1.,  ..., 1., 1., 1.])\n",
      "torch.Size([170982])\n",
      "GraphEmo(x=[414], edge_index=[2, 170982], edge_attr=[170982], y=34, movie='AfterTheRain', subject='01', timestamp_tr=125, adj=[414, 414])\n",
      "Graph saved at: /home/dalai/GNN_E/data/processed/all_graphs/clique_singlefmri/AfterTheRain_01_125.pt"
     ]
    },
    {
     "name": "stderr",
     "output_type": "stream",
     "text": [
      "/home/dalai/GNN_E/scripts/utils.py:26: UserWarning: To copy construct from a tensor, it is recommended to use sourceTensor.clone().detach() or sourceTensor.clone().detach().requires_grad_(True), rather than torch.tensor(sourceTensor).\n",
      "  edge_index = torch.tensor(adj.nonzero().t().contiguous(), dtype=torch.long)  # Shape: [2, num_edges]\n",
      "/home/dalai/GNN_E/scripts/utils.py:30: UserWarning: To copy construct from a tensor, it is recommended to use sourceTensor.clone().detach() or sourceTensor.clone().detach().requires_grad_(True), rather than torch.tensor(sourceTensor).\n",
      "  edge_attr = torch.tensor(adj[edge_index[0, :], edge_index[1, :]], dtype=torch.float)\n"
     ]
    },
    {
     "name": "stdout",
     "output_type": "stream",
     "text": [
      "\n",
      "\n",
      "\n",
      "01 - 125\n"
     ]
    },
    {
     "data": {
      "text/plain": [
       "'Shape DF of single sub of single timepoint : (414, 13)'"
      ]
     },
     "metadata": {},
     "output_type": "display_data"
    },
    {
     "name": "stdout",
     "output_type": "stream",
     "text": [
      "Shape adj matrix: torch.Size([414, 414])\n",
      "Label fo the current grpah: 47\n",
      "tensor([[  0,   0,   0,  ..., 413, 413, 413],\n",
      "        [  1,   2,   3,  ..., 410, 411, 412]])\n",
      "torch.Size([2, 170982])\n",
      "tensor([1., 1., 1.,  ..., 1., 1., 1.])\n",
      "torch.Size([170982])\n",
      "GraphEmo(x=[414], edge_index=[2, 170982], edge_attr=[170982], y=47, movie='AfterTheRain', subject='01', timestamp_tr=126, adj=[414, 414])\n"
     ]
    },
    {
     "name": "stderr",
     "output_type": "stream",
     "text": [
      "/home/dalai/GNN_E/scripts/utils.py:26: UserWarning: To copy construct from a tensor, it is recommended to use sourceTensor.clone().detach() or sourceTensor.clone().detach().requires_grad_(True), rather than torch.tensor(sourceTensor).\n",
      "  edge_index = torch.tensor(adj.nonzero().t().contiguous(), dtype=torch.long)  # Shape: [2, num_edges]\n",
      "/home/dalai/GNN_E/scripts/utils.py:30: UserWarning: To copy construct from a tensor, it is recommended to use sourceTensor.clone().detach() or sourceTensor.clone().detach().requires_grad_(True), rather than torch.tensor(sourceTensor).\n",
      "  edge_attr = torch.tensor(adj[edge_index[0, :], edge_index[1, :]], dtype=torch.float)\n"
     ]
    },
    {
     "name": "stdout",
     "output_type": "stream",
     "text": [
      "Graph saved at: /home/dalai/GNN_E/data/processed/all_graphs/clique_singlefmri/AfterTheRain_01_126.pt\n",
      "\n",
      "\n",
      "01 - 126\n"
     ]
    },
    {
     "data": {
      "text/plain": [
       "'Shape DF of single sub of single timepoint : (414, 13)'"
      ]
     },
     "metadata": {},
     "output_type": "display_data"
    },
    {
     "name": "stdout",
     "output_type": "stream",
     "text": [
      "Shape adj matrix: torch.Size([414, 414])\n",
      "Label fo the current grpah: 47\n",
      "tensor([[  0,   0,   0,  ..., 413, 413, 413],\n",
      "        [  1,   2,   3,  ..., 410, 411, 412]])\n",
      "torch.Size([2, 170982])\n",
      "tensor([1., 1., 1.,  ..., 1., 1., 1.])\n",
      "torch.Size([170982])\n",
      "GraphEmo(x=[414], edge_index=[2, 170982], edge_attr=[170982], y=47, movie='AfterTheRain', subject='01', timestamp_tr=127, adj=[414, 414])\n",
      "Graph saved at: /home/dalai/GNN_E/data/processed/all_graphs/clique_singlefmri/AfterTheRain_01_127.pt"
     ]
    },
    {
     "name": "stderr",
     "output_type": "stream",
     "text": [
      "/home/dalai/GNN_E/scripts/utils.py:26: UserWarning: To copy construct from a tensor, it is recommended to use sourceTensor.clone().detach() or sourceTensor.clone().detach().requires_grad_(True), rather than torch.tensor(sourceTensor).\n",
      "  edge_index = torch.tensor(adj.nonzero().t().contiguous(), dtype=torch.long)  # Shape: [2, num_edges]\n",
      "/home/dalai/GNN_E/scripts/utils.py:30: UserWarning: To copy construct from a tensor, it is recommended to use sourceTensor.clone().detach() or sourceTensor.clone().detach().requires_grad_(True), rather than torch.tensor(sourceTensor).\n",
      "  edge_attr = torch.tensor(adj[edge_index[0, :], edge_index[1, :]], dtype=torch.float)\n"
     ]
    },
    {
     "name": "stdout",
     "output_type": "stream",
     "text": [
      "\n",
      "\n",
      "\n",
      "01 - 127\n"
     ]
    },
    {
     "data": {
      "text/plain": [
       "'Shape DF of single sub of single timepoint : (414, 13)'"
      ]
     },
     "metadata": {},
     "output_type": "display_data"
    },
    {
     "name": "stdout",
     "output_type": "stream",
     "text": [
      "Shape adj matrix: torch.Size([414, 414])\n",
      "Label fo the current grpah: 34\n",
      "tensor([[  0,   0,   0,  ..., 413, 413, 413],\n",
      "        [  1,   2,   3,  ..., 410, 411, 412]])\n",
      "torch.Size([2, 170982])\n",
      "tensor([1., 1., 1.,  ..., 1., 1., 1.])\n",
      "torch.Size([170982])\n",
      "GraphEmo(x=[414], edge_index=[2, 170982], edge_attr=[170982], y=34, movie='AfterTheRain', subject='01', timestamp_tr=128, adj=[414, 414])\n",
      "Graph saved at: /home/dalai/GNN_E/data/processed/all_graphs/clique_singlefmri/AfterTheRain_01_128.pt"
     ]
    },
    {
     "name": "stderr",
     "output_type": "stream",
     "text": [
      "/home/dalai/GNN_E/scripts/utils.py:26: UserWarning: To copy construct from a tensor, it is recommended to use sourceTensor.clone().detach() or sourceTensor.clone().detach().requires_grad_(True), rather than torch.tensor(sourceTensor).\n",
      "  edge_index = torch.tensor(adj.nonzero().t().contiguous(), dtype=torch.long)  # Shape: [2, num_edges]\n",
      "/home/dalai/GNN_E/scripts/utils.py:30: UserWarning: To copy construct from a tensor, it is recommended to use sourceTensor.clone().detach() or sourceTensor.clone().detach().requires_grad_(True), rather than torch.tensor(sourceTensor).\n",
      "  edge_attr = torch.tensor(adj[edge_index[0, :], edge_index[1, :]], dtype=torch.float)\n"
     ]
    },
    {
     "name": "stdout",
     "output_type": "stream",
     "text": [
      "\n",
      "\n",
      "\n",
      "01 - 128\n"
     ]
    },
    {
     "data": {
      "text/plain": [
       "'Shape DF of single sub of single timepoint : (414, 13)'"
      ]
     },
     "metadata": {},
     "output_type": "display_data"
    },
    {
     "name": "stdout",
     "output_type": "stream",
     "text": [
      "Shape adj matrix: torch.Size([414, 414])\n",
      "Label fo the current grpah: 32\n",
      "tensor([[  0,   0,   0,  ..., 413, 413, 413],\n",
      "        [  1,   2,   3,  ..., 410, 411, 412]])\n",
      "torch.Size([2, 170982])\n",
      "tensor([1., 1., 1.,  ..., 1., 1., 1.])\n",
      "torch.Size([170982])\n",
      "GraphEmo(x=[414], edge_index=[2, 170982], edge_attr=[170982], y=32, movie='AfterTheRain', subject='01', timestamp_tr=129, adj=[414, 414])\n",
      "Graph saved at: /home/dalai/GNN_E/data/processed/all_graphs/clique_singlefmri/AfterTheRain_01_129.pt"
     ]
    },
    {
     "name": "stderr",
     "output_type": "stream",
     "text": [
      "/home/dalai/GNN_E/scripts/utils.py:26: UserWarning: To copy construct from a tensor, it is recommended to use sourceTensor.clone().detach() or sourceTensor.clone().detach().requires_grad_(True), rather than torch.tensor(sourceTensor).\n",
      "  edge_index = torch.tensor(adj.nonzero().t().contiguous(), dtype=torch.long)  # Shape: [2, num_edges]\n",
      "/home/dalai/GNN_E/scripts/utils.py:30: UserWarning: To copy construct from a tensor, it is recommended to use sourceTensor.clone().detach() or sourceTensor.clone().detach().requires_grad_(True), rather than torch.tensor(sourceTensor).\n",
      "  edge_attr = torch.tensor(adj[edge_index[0, :], edge_index[1, :]], dtype=torch.float)\n"
     ]
    },
    {
     "name": "stdout",
     "output_type": "stream",
     "text": [
      "\n",
      "\n",
      "\n",
      "01 - 129\n"
     ]
    },
    {
     "data": {
      "text/plain": [
       "'Shape DF of single sub of single timepoint : (414, 13)'"
      ]
     },
     "metadata": {},
     "output_type": "display_data"
    },
    {
     "name": "stdout",
     "output_type": "stream",
     "text": [
      "Shape adj matrix: torch.Size([414, 414])\n",
      "Label fo the current grpah: 34\n",
      "tensor([[  0,   0,   0,  ..., 413, 413, 413],\n",
      "        [  1,   2,   3,  ..., 410, 411, 412]])\n",
      "torch.Size([2, 170982])\n",
      "tensor([1., 1., 1.,  ..., 1., 1., 1.])\n",
      "torch.Size([170982])\n",
      "GraphEmo(x=[414], edge_index=[2, 170982], edge_attr=[170982], y=34, movie='AfterTheRain', subject='01', timestamp_tr=130, adj=[414, 414])\n",
      "Graph saved at: /home/dalai/GNN_E/data/processed/all_graphs/clique_singlefmri/AfterTheRain_01_130.pt\n",
      "\n",
      "\n",
      "01 - 130\n"
     ]
    },
    {
     "name": "stderr",
     "output_type": "stream",
     "text": [
      "/home/dalai/GNN_E/scripts/utils.py:26: UserWarning: To copy construct from a tensor, it is recommended to use sourceTensor.clone().detach() or sourceTensor.clone().detach().requires_grad_(True), rather than torch.tensor(sourceTensor).\n",
      "  edge_index = torch.tensor(adj.nonzero().t().contiguous(), dtype=torch.long)  # Shape: [2, num_edges]\n",
      "/home/dalai/GNN_E/scripts/utils.py:30: UserWarning: To copy construct from a tensor, it is recommended to use sourceTensor.clone().detach() or sourceTensor.clone().detach().requires_grad_(True), rather than torch.tensor(sourceTensor).\n",
      "  edge_attr = torch.tensor(adj[edge_index[0, :], edge_index[1, :]], dtype=torch.float)\n"
     ]
    },
    {
     "data": {
      "text/plain": [
       "'Shape DF of single sub of single timepoint : (414, 13)'"
      ]
     },
     "metadata": {},
     "output_type": "display_data"
    },
    {
     "name": "stdout",
     "output_type": "stream",
     "text": [
      "Shape adj matrix: torch.Size([414, 414])\n",
      "Label fo the current grpah: 34\n",
      "tensor([[  0,   0,   0,  ..., 413, 413, 413],\n",
      "        [  1,   2,   3,  ..., 410, 411, 412]])\n",
      "torch.Size([2, 170982])\n",
      "tensor([1., 1., 1.,  ..., 1., 1., 1.])\n",
      "torch.Size([170982])\n",
      "GraphEmo(x=[414], edge_index=[2, 170982], edge_attr=[170982], y=34, movie='AfterTheRain', subject='01', timestamp_tr=131, adj=[414, 414])\n"
     ]
    },
    {
     "name": "stderr",
     "output_type": "stream",
     "text": [
      "/home/dalai/GNN_E/scripts/utils.py:26: UserWarning: To copy construct from a tensor, it is recommended to use sourceTensor.clone().detach() or sourceTensor.clone().detach().requires_grad_(True), rather than torch.tensor(sourceTensor).\n",
      "  edge_index = torch.tensor(adj.nonzero().t().contiguous(), dtype=torch.long)  # Shape: [2, num_edges]\n",
      "/home/dalai/GNN_E/scripts/utils.py:30: UserWarning: To copy construct from a tensor, it is recommended to use sourceTensor.clone().detach() or sourceTensor.clone().detach().requires_grad_(True), rather than torch.tensor(sourceTensor).\n",
      "  edge_attr = torch.tensor(adj[edge_index[0, :], edge_index[1, :]], dtype=torch.float)\n"
     ]
    },
    {
     "name": "stdout",
     "output_type": "stream",
     "text": [
      "Graph saved at: /home/dalai/GNN_E/data/processed/all_graphs/clique_singlefmri/AfterTheRain_01_131.pt\n",
      "\n",
      "\n",
      "01 - 131\n"
     ]
    },
    {
     "data": {
      "text/plain": [
       "'Shape DF of single sub of single timepoint : (414, 13)'"
      ]
     },
     "metadata": {},
     "output_type": "display_data"
    },
    {
     "name": "stdout",
     "output_type": "stream",
     "text": [
      "Shape adj matrix: torch.Size([414, 414])\n",
      "Label fo the current grpah: 34\n",
      "tensor([[  0,   0,   0,  ..., 413, 413, 413],\n",
      "        [  1,   2,   3,  ..., 410, 411, 412]])\n",
      "torch.Size([2, 170982])\n",
      "tensor([1., 1., 1.,  ..., 1., 1., 1.])\n",
      "torch.Size([170982])\n",
      "GraphEmo(x=[414], edge_index=[2, 170982], edge_attr=[170982], y=34, movie='AfterTheRain', subject='01', timestamp_tr=132, adj=[414, 414])\n"
     ]
    },
    {
     "name": "stderr",
     "output_type": "stream",
     "text": [
      "/home/dalai/GNN_E/scripts/utils.py:26: UserWarning: To copy construct from a tensor, it is recommended to use sourceTensor.clone().detach() or sourceTensor.clone().detach().requires_grad_(True), rather than torch.tensor(sourceTensor).\n",
      "  edge_index = torch.tensor(adj.nonzero().t().contiguous(), dtype=torch.long)  # Shape: [2, num_edges]\n",
      "/home/dalai/GNN_E/scripts/utils.py:30: UserWarning: To copy construct from a tensor, it is recommended to use sourceTensor.clone().detach() or sourceTensor.clone().detach().requires_grad_(True), rather than torch.tensor(sourceTensor).\n",
      "  edge_attr = torch.tensor(adj[edge_index[0, :], edge_index[1, :]], dtype=torch.float)\n"
     ]
    },
    {
     "name": "stdout",
     "output_type": "stream",
     "text": [
      "Graph saved at: /home/dalai/GNN_E/data/processed/all_graphs/clique_singlefmri/AfterTheRain_01_132.pt\n",
      "\n",
      "\n",
      "01 - 132\n"
     ]
    },
    {
     "data": {
      "text/plain": [
       "'Shape DF of single sub of single timepoint : (414, 13)'"
      ]
     },
     "metadata": {},
     "output_type": "display_data"
    },
    {
     "name": "stdout",
     "output_type": "stream",
     "text": [
      "Shape adj matrix: torch.Size([414, 414])\n",
      "Label fo the current grpah: 34\n",
      "tensor([[  0,   0,   0,  ..., 413, 413, 413],\n",
      "        [  1,   2,   3,  ..., 410, 411, 412]])\n",
      "torch.Size([2, 170982])\n",
      "tensor([1., 1., 1.,  ..., 1., 1., 1.])\n",
      "torch.Size([170982])\n",
      "GraphEmo(x=[414], edge_index=[2, 170982], edge_attr=[170982], y=34, movie='AfterTheRain', subject='01', timestamp_tr=133, adj=[414, 414])\n"
     ]
    },
    {
     "name": "stderr",
     "output_type": "stream",
     "text": [
      "/home/dalai/GNN_E/scripts/utils.py:26: UserWarning: To copy construct from a tensor, it is recommended to use sourceTensor.clone().detach() or sourceTensor.clone().detach().requires_grad_(True), rather than torch.tensor(sourceTensor).\n",
      "  edge_index = torch.tensor(adj.nonzero().t().contiguous(), dtype=torch.long)  # Shape: [2, num_edges]\n",
      "/home/dalai/GNN_E/scripts/utils.py:30: UserWarning: To copy construct from a tensor, it is recommended to use sourceTensor.clone().detach() or sourceTensor.clone().detach().requires_grad_(True), rather than torch.tensor(sourceTensor).\n",
      "  edge_attr = torch.tensor(adj[edge_index[0, :], edge_index[1, :]], dtype=torch.float)\n"
     ]
    },
    {
     "name": "stdout",
     "output_type": "stream",
     "text": [
      "Graph saved at: /home/dalai/GNN_E/data/processed/all_graphs/clique_singlefmri/AfterTheRain_01_133.pt\n",
      "\n",
      "\n",
      "01 - 133\n"
     ]
    },
    {
     "data": {
      "text/plain": [
       "'Shape DF of single sub of single timepoint : (414, 13)'"
      ]
     },
     "metadata": {},
     "output_type": "display_data"
    },
    {
     "name": "stdout",
     "output_type": "stream",
     "text": [
      "Shape adj matrix: torch.Size([414, 414])\n",
      "Label fo the current grpah: 34\n",
      "tensor([[  0,   0,   0,  ..., 413, 413, 413],\n",
      "        [  1,   2,   3,  ..., 410, 411, 412]])\n",
      "torch.Size([2, 170982])\n",
      "tensor([1., 1., 1.,  ..., 1., 1., 1.])\n",
      "torch.Size([170982])\n",
      "GraphEmo(x=[414], edge_index=[2, 170982], edge_attr=[170982], y=34, movie='AfterTheRain', subject='01', timestamp_tr=134, adj=[414, 414])\n",
      "Graph saved at: /home/dalai/GNN_E/data/processed/all_graphs/clique_singlefmri/AfterTheRain_01_134.pt"
     ]
    },
    {
     "name": "stderr",
     "output_type": "stream",
     "text": [
      "/home/dalai/GNN_E/scripts/utils.py:26: UserWarning: To copy construct from a tensor, it is recommended to use sourceTensor.clone().detach() or sourceTensor.clone().detach().requires_grad_(True), rather than torch.tensor(sourceTensor).\n",
      "  edge_index = torch.tensor(adj.nonzero().t().contiguous(), dtype=torch.long)  # Shape: [2, num_edges]\n",
      "/home/dalai/GNN_E/scripts/utils.py:30: UserWarning: To copy construct from a tensor, it is recommended to use sourceTensor.clone().detach() or sourceTensor.clone().detach().requires_grad_(True), rather than torch.tensor(sourceTensor).\n",
      "  edge_attr = torch.tensor(adj[edge_index[0, :], edge_index[1, :]], dtype=torch.float)\n"
     ]
    },
    {
     "name": "stdout",
     "output_type": "stream",
     "text": [
      "\n",
      "\n",
      "\n",
      "01 - 134\n"
     ]
    },
    {
     "data": {
      "text/plain": [
       "'Shape DF of single sub of single timepoint : (414, 13)'"
      ]
     },
     "metadata": {},
     "output_type": "display_data"
    },
    {
     "name": "stdout",
     "output_type": "stream",
     "text": [
      "Shape adj matrix: torch.Size([414, 414])\n",
      "Label fo the current grpah: 34\n",
      "tensor([[  0,   0,   0,  ..., 413, 413, 413],\n",
      "        [  1,   2,   3,  ..., 410, 411, 412]])\n",
      "torch.Size([2, 170982])\n",
      "tensor([1., 1., 1.,  ..., 1., 1., 1.])\n",
      "torch.Size([170982])\n",
      "GraphEmo(x=[414], edge_index=[2, 170982], edge_attr=[170982], y=34, movie='AfterTheRain', subject='01', timestamp_tr=135, adj=[414, 414])\n"
     ]
    },
    {
     "name": "stderr",
     "output_type": "stream",
     "text": [
      "/home/dalai/GNN_E/scripts/utils.py:26: UserWarning: To copy construct from a tensor, it is recommended to use sourceTensor.clone().detach() or sourceTensor.clone().detach().requires_grad_(True), rather than torch.tensor(sourceTensor).\n",
      "  edge_index = torch.tensor(adj.nonzero().t().contiguous(), dtype=torch.long)  # Shape: [2, num_edges]\n",
      "/home/dalai/GNN_E/scripts/utils.py:30: UserWarning: To copy construct from a tensor, it is recommended to use sourceTensor.clone().detach() or sourceTensor.clone().detach().requires_grad_(True), rather than torch.tensor(sourceTensor).\n",
      "  edge_attr = torch.tensor(adj[edge_index[0, :], edge_index[1, :]], dtype=torch.float)\n"
     ]
    },
    {
     "name": "stdout",
     "output_type": "stream",
     "text": [
      "Graph saved at: /home/dalai/GNN_E/data/processed/all_graphs/clique_singlefmri/AfterTheRain_01_135.pt\n",
      "\n",
      "\n",
      "01 - 135\n"
     ]
    },
    {
     "data": {
      "text/plain": [
       "'Shape DF of single sub of single timepoint : (414, 13)'"
      ]
     },
     "metadata": {},
     "output_type": "display_data"
    },
    {
     "name": "stdout",
     "output_type": "stream",
     "text": [
      "Shape adj matrix: torch.Size([414, 414])\n",
      "Label fo the current grpah: 34\n",
      "tensor([[  0,   0,   0,  ..., 413, 413, 413],\n",
      "        [  1,   2,   3,  ..., 410, 411, 412]])\n",
      "torch.Size([2, 170982])\n",
      "tensor([1., 1., 1.,  ..., 1., 1., 1.])\n",
      "torch.Size([170982])\n",
      "GraphEmo(x=[414], edge_index=[2, 170982], edge_attr=[170982], y=34, movie='AfterTheRain', subject='01', timestamp_tr=136, adj=[414, 414])\n",
      "Graph saved at: /home/dalai/GNN_E/data/processed/all_graphs/clique_singlefmri/AfterTheRain_01_136.pt"
     ]
    },
    {
     "name": "stderr",
     "output_type": "stream",
     "text": [
      "/home/dalai/GNN_E/scripts/utils.py:26: UserWarning: To copy construct from a tensor, it is recommended to use sourceTensor.clone().detach() or sourceTensor.clone().detach().requires_grad_(True), rather than torch.tensor(sourceTensor).\n",
      "  edge_index = torch.tensor(adj.nonzero().t().contiguous(), dtype=torch.long)  # Shape: [2, num_edges]\n",
      "/home/dalai/GNN_E/scripts/utils.py:30: UserWarning: To copy construct from a tensor, it is recommended to use sourceTensor.clone().detach() or sourceTensor.clone().detach().requires_grad_(True), rather than torch.tensor(sourceTensor).\n",
      "  edge_attr = torch.tensor(adj[edge_index[0, :], edge_index[1, :]], dtype=torch.float)\n"
     ]
    },
    {
     "name": "stdout",
     "output_type": "stream",
     "text": [
      "\n",
      "\n",
      "\n",
      "01 - 136\n"
     ]
    },
    {
     "data": {
      "text/plain": [
       "'Shape DF of single sub of single timepoint : (414, 13)'"
      ]
     },
     "metadata": {},
     "output_type": "display_data"
    },
    {
     "name": "stdout",
     "output_type": "stream",
     "text": [
      "Shape adj matrix: torch.Size([414, 414])\n",
      "Label fo the current grpah: 32\n",
      "tensor([[  0,   0,   0,  ..., 413, 413, 413],\n",
      "        [  1,   2,   3,  ..., 410, 411, 412]])\n",
      "torch.Size([2, 170982])\n",
      "tensor([1., 1., 1.,  ..., 1., 1., 1.])\n",
      "torch.Size([170982])\n",
      "GraphEmo(x=[414], edge_index=[2, 170982], edge_attr=[170982], y=32, movie='AfterTheRain', subject='01', timestamp_tr=137, adj=[414, 414])\n",
      "Graph saved at: /home/dalai/GNN_E/data/processed/all_graphs/clique_singlefmri/AfterTheRain_01_137.pt"
     ]
    },
    {
     "name": "stderr",
     "output_type": "stream",
     "text": [
      "/home/dalai/GNN_E/scripts/utils.py:26: UserWarning: To copy construct from a tensor, it is recommended to use sourceTensor.clone().detach() or sourceTensor.clone().detach().requires_grad_(True), rather than torch.tensor(sourceTensor).\n",
      "  edge_index = torch.tensor(adj.nonzero().t().contiguous(), dtype=torch.long)  # Shape: [2, num_edges]\n",
      "/home/dalai/GNN_E/scripts/utils.py:30: UserWarning: To copy construct from a tensor, it is recommended to use sourceTensor.clone().detach() or sourceTensor.clone().detach().requires_grad_(True), rather than torch.tensor(sourceTensor).\n",
      "  edge_attr = torch.tensor(adj[edge_index[0, :], edge_index[1, :]], dtype=torch.float)\n"
     ]
    },
    {
     "name": "stdout",
     "output_type": "stream",
     "text": [
      "\n",
      "\n",
      "\n",
      "01 - 137\n"
     ]
    },
    {
     "data": {
      "text/plain": [
       "'Shape DF of single sub of single timepoint : (414, 13)'"
      ]
     },
     "metadata": {},
     "output_type": "display_data"
    },
    {
     "name": "stdout",
     "output_type": "stream",
     "text": [
      "Shape adj matrix: torch.Size([414, 414])\n",
      "Label fo the current grpah: 34\n",
      "tensor([[  0,   0,   0,  ..., 413, 413, 413],\n",
      "        [  1,   2,   3,  ..., 410, 411, 412]])\n",
      "torch.Size([2, 170982])\n",
      "tensor([1., 1., 1.,  ..., 1., 1., 1.])\n",
      "torch.Size([170982])\n",
      "GraphEmo(x=[414], edge_index=[2, 170982], edge_attr=[170982], y=34, movie='AfterTheRain', subject='01', timestamp_tr=138, adj=[414, 414])\n",
      "Graph saved at: /home/dalai/GNN_E/data/processed/all_graphs/clique_singlefmri/AfterTheRain_01_138.pt"
     ]
    },
    {
     "name": "stderr",
     "output_type": "stream",
     "text": [
      "/home/dalai/GNN_E/scripts/utils.py:26: UserWarning: To copy construct from a tensor, it is recommended to use sourceTensor.clone().detach() or sourceTensor.clone().detach().requires_grad_(True), rather than torch.tensor(sourceTensor).\n",
      "  edge_index = torch.tensor(adj.nonzero().t().contiguous(), dtype=torch.long)  # Shape: [2, num_edges]\n",
      "/home/dalai/GNN_E/scripts/utils.py:30: UserWarning: To copy construct from a tensor, it is recommended to use sourceTensor.clone().detach() or sourceTensor.clone().detach().requires_grad_(True), rather than torch.tensor(sourceTensor).\n",
      "  edge_attr = torch.tensor(adj[edge_index[0, :], edge_index[1, :]], dtype=torch.float)\n"
     ]
    },
    {
     "name": "stdout",
     "output_type": "stream",
     "text": [
      "\n",
      "\n",
      "\n",
      "01 - 138\n"
     ]
    },
    {
     "data": {
      "text/plain": [
       "'Shape DF of single sub of single timepoint : (414, 13)'"
      ]
     },
     "metadata": {},
     "output_type": "display_data"
    },
    {
     "name": "stdout",
     "output_type": "stream",
     "text": [
      "Shape adj matrix: torch.Size([414, 414])\n",
      "Label fo the current grpah: 34\n",
      "tensor([[  0,   0,   0,  ..., 413, 413, 413],\n",
      "        [  1,   2,   3,  ..., 410, 411, 412]])\n",
      "torch.Size([2, 170982])\n",
      "tensor([1., 1., 1.,  ..., 1., 1., 1.])\n",
      "torch.Size([170982])\n",
      "GraphEmo(x=[414], edge_index=[2, 170982], edge_attr=[170982], y=34, movie='AfterTheRain', subject='01', timestamp_tr=139, adj=[414, 414])\n",
      "Graph saved at: /home/dalai/GNN_E/data/processed/all_graphs/clique_singlefmri/AfterTheRain_01_139.pt"
     ]
    },
    {
     "name": "stderr",
     "output_type": "stream",
     "text": [
      "/home/dalai/GNN_E/scripts/utils.py:26: UserWarning: To copy construct from a tensor, it is recommended to use sourceTensor.clone().detach() or sourceTensor.clone().detach().requires_grad_(True), rather than torch.tensor(sourceTensor).\n",
      "  edge_index = torch.tensor(adj.nonzero().t().contiguous(), dtype=torch.long)  # Shape: [2, num_edges]\n",
      "/home/dalai/GNN_E/scripts/utils.py:30: UserWarning: To copy construct from a tensor, it is recommended to use sourceTensor.clone().detach() or sourceTensor.clone().detach().requires_grad_(True), rather than torch.tensor(sourceTensor).\n",
      "  edge_attr = torch.tensor(adj[edge_index[0, :], edge_index[1, :]], dtype=torch.float)\n"
     ]
    },
    {
     "name": "stdout",
     "output_type": "stream",
     "text": [
      "\n",
      "\n",
      "\n",
      "01 - 139\n"
     ]
    },
    {
     "data": {
      "text/plain": [
       "'Shape DF of single sub of single timepoint : (414, 13)'"
      ]
     },
     "metadata": {},
     "output_type": "display_data"
    },
    {
     "name": "stdout",
     "output_type": "stream",
     "text": [
      "Shape adj matrix: torch.Size([414, 414])\n",
      "Label fo the current grpah: 34\n",
      "tensor([[  0,   0,   0,  ..., 413, 413, 413],\n",
      "        [  1,   2,   3,  ..., 410, 411, 412]])\n",
      "torch.Size([2, 170982])\n",
      "tensor([1., 1., 1.,  ..., 1., 1., 1.])\n",
      "torch.Size([170982])\n",
      "GraphEmo(x=[414], edge_index=[2, 170982], edge_attr=[170982], y=34, movie='AfterTheRain', subject='01', timestamp_tr=140, adj=[414, 414])\n",
      "Graph saved at: /home/dalai/GNN_E/data/processed/all_graphs/clique_singlefmri/AfterTheRain_01_140.pt"
     ]
    },
    {
     "name": "stderr",
     "output_type": "stream",
     "text": [
      "/home/dalai/GNN_E/scripts/utils.py:26: UserWarning: To copy construct from a tensor, it is recommended to use sourceTensor.clone().detach() or sourceTensor.clone().detach().requires_grad_(True), rather than torch.tensor(sourceTensor).\n",
      "  edge_index = torch.tensor(adj.nonzero().t().contiguous(), dtype=torch.long)  # Shape: [2, num_edges]\n",
      "/home/dalai/GNN_E/scripts/utils.py:30: UserWarning: To copy construct from a tensor, it is recommended to use sourceTensor.clone().detach() or sourceTensor.clone().detach().requires_grad_(True), rather than torch.tensor(sourceTensor).\n",
      "  edge_attr = torch.tensor(adj[edge_index[0, :], edge_index[1, :]], dtype=torch.float)\n"
     ]
    },
    {
     "name": "stdout",
     "output_type": "stream",
     "text": [
      "\n",
      "\n",
      "\n",
      "01 - 140\n"
     ]
    },
    {
     "data": {
      "text/plain": [
       "'Shape DF of single sub of single timepoint : (414, 13)'"
      ]
     },
     "metadata": {},
     "output_type": "display_data"
    },
    {
     "name": "stdout",
     "output_type": "stream",
     "text": [
      "Shape adj matrix: torch.Size([414, 414])\n",
      "Label fo the current grpah: 34\n",
      "tensor([[  0,   0,   0,  ..., 413, 413, 413],\n",
      "        [  1,   2,   3,  ..., 410, 411, 412]])\n",
      "torch.Size([2, 170982])\n",
      "tensor([1., 1., 1.,  ..., 1., 1., 1.])\n",
      "torch.Size([170982])\n",
      "GraphEmo(x=[414], edge_index=[2, 170982], edge_attr=[170982], y=34, movie='AfterTheRain', subject='01', timestamp_tr=141, adj=[414, 414])\n",
      "Graph saved at: /home/dalai/GNN_E/data/processed/all_graphs/clique_singlefmri/AfterTheRain_01_141.pt"
     ]
    },
    {
     "name": "stderr",
     "output_type": "stream",
     "text": [
      "/home/dalai/GNN_E/scripts/utils.py:26: UserWarning: To copy construct from a tensor, it is recommended to use sourceTensor.clone().detach() or sourceTensor.clone().detach().requires_grad_(True), rather than torch.tensor(sourceTensor).\n",
      "  edge_index = torch.tensor(adj.nonzero().t().contiguous(), dtype=torch.long)  # Shape: [2, num_edges]\n",
      "/home/dalai/GNN_E/scripts/utils.py:30: UserWarning: To copy construct from a tensor, it is recommended to use sourceTensor.clone().detach() or sourceTensor.clone().detach().requires_grad_(True), rather than torch.tensor(sourceTensor).\n",
      "  edge_attr = torch.tensor(adj[edge_index[0, :], edge_index[1, :]], dtype=torch.float)\n"
     ]
    },
    {
     "name": "stdout",
     "output_type": "stream",
     "text": [
      "\n",
      "\n",
      "\n",
      "01 - 141\n"
     ]
    },
    {
     "data": {
      "text/plain": [
       "'Shape DF of single sub of single timepoint : (414, 13)'"
      ]
     },
     "metadata": {},
     "output_type": "display_data"
    },
    {
     "name": "stdout",
     "output_type": "stream",
     "text": [
      "Shape adj matrix: torch.Size([414, 414])\n",
      "Label fo the current grpah: 34\n",
      "tensor([[  0,   0,   0,  ..., 413, 413, 413],\n",
      "        [  1,   2,   3,  ..., 410, 411, 412]])\n",
      "torch.Size([2, 170982])\n",
      "tensor([1., 1., 1.,  ..., 1., 1., 1.])\n",
      "torch.Size([170982])\n",
      "GraphEmo(x=[414], edge_index=[2, 170982], edge_attr=[170982], y=34, movie='AfterTheRain', subject='01', timestamp_tr=142, adj=[414, 414])\n",
      "Graph saved at: /home/dalai/GNN_E/data/processed/all_graphs/clique_singlefmri/AfterTheRain_01_142.pt"
     ]
    },
    {
     "name": "stderr",
     "output_type": "stream",
     "text": [
      "/home/dalai/GNN_E/scripts/utils.py:26: UserWarning: To copy construct from a tensor, it is recommended to use sourceTensor.clone().detach() or sourceTensor.clone().detach().requires_grad_(True), rather than torch.tensor(sourceTensor).\n",
      "  edge_index = torch.tensor(adj.nonzero().t().contiguous(), dtype=torch.long)  # Shape: [2, num_edges]\n",
      "/home/dalai/GNN_E/scripts/utils.py:30: UserWarning: To copy construct from a tensor, it is recommended to use sourceTensor.clone().detach() or sourceTensor.clone().detach().requires_grad_(True), rather than torch.tensor(sourceTensor).\n",
      "  edge_attr = torch.tensor(adj[edge_index[0, :], edge_index[1, :]], dtype=torch.float)\n"
     ]
    },
    {
     "name": "stdout",
     "output_type": "stream",
     "text": [
      "\n",
      "\n",
      "\n",
      "01 - 142\n"
     ]
    },
    {
     "data": {
      "text/plain": [
       "'Shape DF of single sub of single timepoint : (414, 13)'"
      ]
     },
     "metadata": {},
     "output_type": "display_data"
    },
    {
     "name": "stdout",
     "output_type": "stream",
     "text": [
      "Shape adj matrix: torch.Size([414, 414])\n",
      "Label fo the current grpah: 32\n",
      "tensor([[  0,   0,   0,  ..., 413, 413, 413],\n",
      "        [  1,   2,   3,  ..., 410, 411, 412]])\n",
      "torch.Size([2, 170982])\n",
      "tensor([1., 1., 1.,  ..., 1., 1., 1.])\n",
      "torch.Size([170982])\n",
      "GraphEmo(x=[414], edge_index=[2, 170982], edge_attr=[170982], y=32, movie='AfterTheRain', subject='01', timestamp_tr=143, adj=[414, 414])\n",
      "Graph saved at: /home/dalai/GNN_E/data/processed/all_graphs/clique_singlefmri/AfterTheRain_01_143.pt"
     ]
    },
    {
     "name": "stderr",
     "output_type": "stream",
     "text": [
      "/home/dalai/GNN_E/scripts/utils.py:26: UserWarning: To copy construct from a tensor, it is recommended to use sourceTensor.clone().detach() or sourceTensor.clone().detach().requires_grad_(True), rather than torch.tensor(sourceTensor).\n",
      "  edge_index = torch.tensor(adj.nonzero().t().contiguous(), dtype=torch.long)  # Shape: [2, num_edges]\n",
      "/home/dalai/GNN_E/scripts/utils.py:30: UserWarning: To copy construct from a tensor, it is recommended to use sourceTensor.clone().detach() or sourceTensor.clone().detach().requires_grad_(True), rather than torch.tensor(sourceTensor).\n",
      "  edge_attr = torch.tensor(adj[edge_index[0, :], edge_index[1, :]], dtype=torch.float)\n"
     ]
    },
    {
     "name": "stdout",
     "output_type": "stream",
     "text": [
      "\n",
      "\n",
      "\n",
      "01 - 143\n"
     ]
    },
    {
     "data": {
      "text/plain": [
       "'Shape DF of single sub of single timepoint : (414, 13)'"
      ]
     },
     "metadata": {},
     "output_type": "display_data"
    },
    {
     "name": "stdout",
     "output_type": "stream",
     "text": [
      "Shape adj matrix: torch.Size([414, 414])\n",
      "Label fo the current grpah: 7\n",
      "tensor([[  0,   0,   0,  ..., 413, 413, 413],\n",
      "        [  1,   2,   3,  ..., 410, 411, 412]])\n",
      "torch.Size([2, 170982])\n",
      "tensor([1., 1., 1.,  ..., 1., 1., 1.])\n",
      "torch.Size([170982])\n",
      "GraphEmo(x=[414], edge_index=[2, 170982], edge_attr=[170982], y=7, movie='AfterTheRain', subject='01', timestamp_tr=144, adj=[414, 414])\n",
      "Graph saved at: /home/dalai/GNN_E/data/processed/all_graphs/clique_singlefmri/AfterTheRain_01_144.pt"
     ]
    },
    {
     "name": "stderr",
     "output_type": "stream",
     "text": [
      "/home/dalai/GNN_E/scripts/utils.py:26: UserWarning: To copy construct from a tensor, it is recommended to use sourceTensor.clone().detach() or sourceTensor.clone().detach().requires_grad_(True), rather than torch.tensor(sourceTensor).\n",
      "  edge_index = torch.tensor(adj.nonzero().t().contiguous(), dtype=torch.long)  # Shape: [2, num_edges]\n",
      "/home/dalai/GNN_E/scripts/utils.py:30: UserWarning: To copy construct from a tensor, it is recommended to use sourceTensor.clone().detach() or sourceTensor.clone().detach().requires_grad_(True), rather than torch.tensor(sourceTensor).\n",
      "  edge_attr = torch.tensor(adj[edge_index[0, :], edge_index[1, :]], dtype=torch.float)\n"
     ]
    },
    {
     "name": "stdout",
     "output_type": "stream",
     "text": [
      "\n",
      "\n",
      "\n",
      "01 - 144\n"
     ]
    },
    {
     "data": {
      "text/plain": [
       "'Shape DF of single sub of single timepoint : (414, 13)'"
      ]
     },
     "metadata": {},
     "output_type": "display_data"
    },
    {
     "name": "stdout",
     "output_type": "stream",
     "text": [
      "Shape adj matrix: torch.Size([414, 414])\n",
      "Label fo the current grpah: 7\n",
      "tensor([[  0,   0,   0,  ..., 413, 413, 413],\n",
      "        [  1,   2,   3,  ..., 410, 411, 412]])\n",
      "torch.Size([2, 170982])\n",
      "tensor([1., 1., 1.,  ..., 1., 1., 1.])\n",
      "torch.Size([170982])\n",
      "GraphEmo(x=[414], edge_index=[2, 170982], edge_attr=[170982], y=7, movie='AfterTheRain', subject='01', timestamp_tr=145, adj=[414, 414])\n"
     ]
    },
    {
     "name": "stderr",
     "output_type": "stream",
     "text": [
      "/home/dalai/GNN_E/scripts/utils.py:26: UserWarning: To copy construct from a tensor, it is recommended to use sourceTensor.clone().detach() or sourceTensor.clone().detach().requires_grad_(True), rather than torch.tensor(sourceTensor).\n",
      "  edge_index = torch.tensor(adj.nonzero().t().contiguous(), dtype=torch.long)  # Shape: [2, num_edges]\n",
      "/home/dalai/GNN_E/scripts/utils.py:30: UserWarning: To copy construct from a tensor, it is recommended to use sourceTensor.clone().detach() or sourceTensor.clone().detach().requires_grad_(True), rather than torch.tensor(sourceTensor).\n",
      "  edge_attr = torch.tensor(adj[edge_index[0, :], edge_index[1, :]], dtype=torch.float)\n"
     ]
    },
    {
     "name": "stdout",
     "output_type": "stream",
     "text": [
      "Graph saved at: /home/dalai/GNN_E/data/processed/all_graphs/clique_singlefmri/AfterTheRain_01_145.pt\n",
      "\n",
      "\n",
      "01 - 145\n"
     ]
    },
    {
     "data": {
      "text/plain": [
       "'Shape DF of single sub of single timepoint : (414, 13)'"
      ]
     },
     "metadata": {},
     "output_type": "display_data"
    },
    {
     "name": "stdout",
     "output_type": "stream",
     "text": [
      "Shape adj matrix: torch.Size([414, 414])\n",
      "Label fo the current grpah: 12\n",
      "tensor([[  0,   0,   0,  ..., 413, 413, 413],\n",
      "        [  1,   2,   3,  ..., 410, 411, 412]])\n",
      "torch.Size([2, 170982])\n",
      "tensor([1., 1., 1.,  ..., 1., 1., 1.])\n",
      "torch.Size([170982])\n",
      "GraphEmo(x=[414], edge_index=[2, 170982], edge_attr=[170982], y=12, movie='AfterTheRain', subject='01', timestamp_tr=146, adj=[414, 414])\n",
      "Graph saved at: /home/dalai/GNN_E/data/processed/all_graphs/clique_singlefmri/AfterTheRain_01_146.pt"
     ]
    },
    {
     "name": "stderr",
     "output_type": "stream",
     "text": [
      "/home/dalai/GNN_E/scripts/utils.py:26: UserWarning: To copy construct from a tensor, it is recommended to use sourceTensor.clone().detach() or sourceTensor.clone().detach().requires_grad_(True), rather than torch.tensor(sourceTensor).\n",
      "  edge_index = torch.tensor(adj.nonzero().t().contiguous(), dtype=torch.long)  # Shape: [2, num_edges]\n",
      "/home/dalai/GNN_E/scripts/utils.py:30: UserWarning: To copy construct from a tensor, it is recommended to use sourceTensor.clone().detach() or sourceTensor.clone().detach().requires_grad_(True), rather than torch.tensor(sourceTensor).\n",
      "  edge_attr = torch.tensor(adj[edge_index[0, :], edge_index[1, :]], dtype=torch.float)\n"
     ]
    },
    {
     "name": "stdout",
     "output_type": "stream",
     "text": [
      "\n",
      "\n",
      "\n",
      "01 - 146\n"
     ]
    },
    {
     "data": {
      "text/plain": [
       "'Shape DF of single sub of single timepoint : (414, 13)'"
      ]
     },
     "metadata": {},
     "output_type": "display_data"
    },
    {
     "name": "stdout",
     "output_type": "stream",
     "text": [
      "Shape adj matrix: torch.Size([414, 414])\n",
      "Label fo the current grpah: 34\n",
      "tensor([[  0,   0,   0,  ..., 413, 413, 413],\n",
      "        [  1,   2,   3,  ..., 410, 411, 412]])\n",
      "torch.Size([2, 170982])\n",
      "tensor([1., 1., 1.,  ..., 1., 1., 1.])\n",
      "torch.Size([170982])\n",
      "GraphEmo(x=[414], edge_index=[2, 170982], edge_attr=[170982], y=34, movie='AfterTheRain', subject='01', timestamp_tr=147, adj=[414, 414])\n",
      "Graph saved at: /home/dalai/GNN_E/data/processed/all_graphs/clique_singlefmri/AfterTheRain_01_147.pt"
     ]
    },
    {
     "name": "stderr",
     "output_type": "stream",
     "text": [
      "/home/dalai/GNN_E/scripts/utils.py:26: UserWarning: To copy construct from a tensor, it is recommended to use sourceTensor.clone().detach() or sourceTensor.clone().detach().requires_grad_(True), rather than torch.tensor(sourceTensor).\n",
      "  edge_index = torch.tensor(adj.nonzero().t().contiguous(), dtype=torch.long)  # Shape: [2, num_edges]\n",
      "/home/dalai/GNN_E/scripts/utils.py:30: UserWarning: To copy construct from a tensor, it is recommended to use sourceTensor.clone().detach() or sourceTensor.clone().detach().requires_grad_(True), rather than torch.tensor(sourceTensor).\n",
      "  edge_attr = torch.tensor(adj[edge_index[0, :], edge_index[1, :]], dtype=torch.float)\n"
     ]
    },
    {
     "name": "stdout",
     "output_type": "stream",
     "text": [
      "\n",
      "\n",
      "\n",
      "01 - 147\n"
     ]
    },
    {
     "data": {
      "text/plain": [
       "'Shape DF of single sub of single timepoint : (414, 13)'"
      ]
     },
     "metadata": {},
     "output_type": "display_data"
    },
    {
     "name": "stdout",
     "output_type": "stream",
     "text": [
      "Shape adj matrix: torch.Size([414, 414])\n",
      "Label fo the current grpah: 34\n",
      "tensor([[  0,   0,   0,  ..., 413, 413, 413],\n",
      "        [  1,   2,   3,  ..., 410, 411, 412]])\n",
      "torch.Size([2, 170982])\n",
      "tensor([1., 1., 1.,  ..., 1., 1., 1.])\n",
      "torch.Size([170982])\n",
      "GraphEmo(x=[414], edge_index=[2, 170982], edge_attr=[170982], y=34, movie='AfterTheRain', subject='01', timestamp_tr=148, adj=[414, 414])\n",
      "Graph saved at: /home/dalai/GNN_E/data/processed/all_graphs/clique_singlefmri/AfterTheRain_01_148.pt"
     ]
    },
    {
     "name": "stderr",
     "output_type": "stream",
     "text": [
      "/home/dalai/GNN_E/scripts/utils.py:26: UserWarning: To copy construct from a tensor, it is recommended to use sourceTensor.clone().detach() or sourceTensor.clone().detach().requires_grad_(True), rather than torch.tensor(sourceTensor).\n",
      "  edge_index = torch.tensor(adj.nonzero().t().contiguous(), dtype=torch.long)  # Shape: [2, num_edges]\n",
      "/home/dalai/GNN_E/scripts/utils.py:30: UserWarning: To copy construct from a tensor, it is recommended to use sourceTensor.clone().detach() or sourceTensor.clone().detach().requires_grad_(True), rather than torch.tensor(sourceTensor).\n",
      "  edge_attr = torch.tensor(adj[edge_index[0, :], edge_index[1, :]], dtype=torch.float)\n"
     ]
    },
    {
     "name": "stdout",
     "output_type": "stream",
     "text": [
      "\n",
      "\n",
      "\n",
      "01 - 148\n"
     ]
    },
    {
     "data": {
      "text/plain": [
       "'Shape DF of single sub of single timepoint : (414, 13)'"
      ]
     },
     "metadata": {},
     "output_type": "display_data"
    },
    {
     "name": "stdout",
     "output_type": "stream",
     "text": [
      "Shape adj matrix: torch.Size([414, 414])\n",
      "Label fo the current grpah: 34\n",
      "tensor([[  0,   0,   0,  ..., 413, 413, 413],\n",
      "        [  1,   2,   3,  ..., 410, 411, 412]])\n",
      "torch.Size([2, 170982])\n",
      "tensor([1., 1., 1.,  ..., 1., 1., 1.])\n",
      "torch.Size([170982])\n",
      "GraphEmo(x=[414], edge_index=[2, 170982], edge_attr=[170982], y=34, movie='AfterTheRain', subject='01', timestamp_tr=149, adj=[414, 414])\n",
      "Graph saved at: /home/dalai/GNN_E/data/processed/all_graphs/clique_singlefmri/AfterTheRain_01_149.pt\n",
      "\n",
      "\n",
      "01 - 149\n"
     ]
    },
    {
     "name": "stderr",
     "output_type": "stream",
     "text": [
      "/home/dalai/GNN_E/scripts/utils.py:26: UserWarning: To copy construct from a tensor, it is recommended to use sourceTensor.clone().detach() or sourceTensor.clone().detach().requires_grad_(True), rather than torch.tensor(sourceTensor).\n",
      "  edge_index = torch.tensor(adj.nonzero().t().contiguous(), dtype=torch.long)  # Shape: [2, num_edges]\n",
      "/home/dalai/GNN_E/scripts/utils.py:30: UserWarning: To copy construct from a tensor, it is recommended to use sourceTensor.clone().detach() or sourceTensor.clone().detach().requires_grad_(True), rather than torch.tensor(sourceTensor).\n",
      "  edge_attr = torch.tensor(adj[edge_index[0, :], edge_index[1, :]], dtype=torch.float)\n"
     ]
    },
    {
     "data": {
      "text/plain": [
       "'Shape DF of single sub of single timepoint : (414, 13)'"
      ]
     },
     "metadata": {},
     "output_type": "display_data"
    },
    {
     "name": "stdout",
     "output_type": "stream",
     "text": [
      "Shape adj matrix: torch.Size([414, 414])\n",
      "Label fo the current grpah: 34\n",
      "tensor([[  0,   0,   0,  ..., 413, 413, 413],\n",
      "        [  1,   2,   3,  ..., 410, 411, 412]])\n",
      "torch.Size([2, 170982])\n",
      "tensor([1., 1., 1.,  ..., 1., 1., 1.])\n",
      "torch.Size([170982])\n",
      "GraphEmo(x=[414], edge_index=[2, 170982], edge_attr=[170982], y=34, movie='AfterTheRain', subject='01', timestamp_tr=150, adj=[414, 414])\n",
      "Graph saved at: /home/dalai/GNN_E/data/processed/all_graphs/clique_singlefmri/AfterTheRain_01_150.pt"
     ]
    },
    {
     "name": "stderr",
     "output_type": "stream",
     "text": [
      "/home/dalai/GNN_E/scripts/utils.py:26: UserWarning: To copy construct from a tensor, it is recommended to use sourceTensor.clone().detach() or sourceTensor.clone().detach().requires_grad_(True), rather than torch.tensor(sourceTensor).\n",
      "  edge_index = torch.tensor(adj.nonzero().t().contiguous(), dtype=torch.long)  # Shape: [2, num_edges]\n",
      "/home/dalai/GNN_E/scripts/utils.py:30: UserWarning: To copy construct from a tensor, it is recommended to use sourceTensor.clone().detach() or sourceTensor.clone().detach().requires_grad_(True), rather than torch.tensor(sourceTensor).\n",
      "  edge_attr = torch.tensor(adj[edge_index[0, :], edge_index[1, :]], dtype=torch.float)\n"
     ]
    },
    {
     "name": "stdout",
     "output_type": "stream",
     "text": [
      "\n",
      "\n",
      "\n",
      "01 - 150\n"
     ]
    },
    {
     "data": {
      "text/plain": [
       "'Shape DF of single sub of single timepoint : (414, 13)'"
      ]
     },
     "metadata": {},
     "output_type": "display_data"
    },
    {
     "name": "stdout",
     "output_type": "stream",
     "text": [
      "Shape adj matrix: torch.Size([414, 414])\n",
      "Label fo the current grpah: 34\n",
      "tensor([[  0,   0,   0,  ..., 413, 413, 413],\n",
      "        [  1,   2,   3,  ..., 410, 411, 412]])\n",
      "torch.Size([2, 170982])\n",
      "tensor([1., 1., 1.,  ..., 1., 1., 1.])\n",
      "torch.Size([170982])\n",
      "GraphEmo(x=[414], edge_index=[2, 170982], edge_attr=[170982], y=34, movie='AfterTheRain', subject='01', timestamp_tr=151, adj=[414, 414])\n",
      "Graph saved at: /home/dalai/GNN_E/data/processed/all_graphs/clique_singlefmri/AfterTheRain_01_151.pt"
     ]
    },
    {
     "name": "stderr",
     "output_type": "stream",
     "text": [
      "/home/dalai/GNN_E/scripts/utils.py:26: UserWarning: To copy construct from a tensor, it is recommended to use sourceTensor.clone().detach() or sourceTensor.clone().detach().requires_grad_(True), rather than torch.tensor(sourceTensor).\n",
      "  edge_index = torch.tensor(adj.nonzero().t().contiguous(), dtype=torch.long)  # Shape: [2, num_edges]\n",
      "/home/dalai/GNN_E/scripts/utils.py:30: UserWarning: To copy construct from a tensor, it is recommended to use sourceTensor.clone().detach() or sourceTensor.clone().detach().requires_grad_(True), rather than torch.tensor(sourceTensor).\n",
      "  edge_attr = torch.tensor(adj[edge_index[0, :], edge_index[1, :]], dtype=torch.float)\n"
     ]
    },
    {
     "name": "stdout",
     "output_type": "stream",
     "text": [
      "\n",
      "\n",
      "\n",
      "01 - 151\n"
     ]
    },
    {
     "data": {
      "text/plain": [
       "'Shape DF of single sub of single timepoint : (414, 13)'"
      ]
     },
     "metadata": {},
     "output_type": "display_data"
    },
    {
     "name": "stdout",
     "output_type": "stream",
     "text": [
      "Shape adj matrix: torch.Size([414, 414])\n",
      "Label fo the current grpah: 34\n",
      "tensor([[  0,   0,   0,  ..., 413, 413, 413],\n",
      "        [  1,   2,   3,  ..., 410, 411, 412]])\n",
      "torch.Size([2, 170982])\n",
      "tensor([1., 1., 1.,  ..., 1., 1., 1.])\n",
      "torch.Size([170982])\n",
      "GraphEmo(x=[414], edge_index=[2, 170982], edge_attr=[170982], y=34, movie='AfterTheRain', subject='01', timestamp_tr=152, adj=[414, 414])\n",
      "Graph saved at: /home/dalai/GNN_E/data/processed/all_graphs/clique_singlefmri/AfterTheRain_01_152.pt"
     ]
    },
    {
     "name": "stderr",
     "output_type": "stream",
     "text": [
      "/home/dalai/GNN_E/scripts/utils.py:26: UserWarning: To copy construct from a tensor, it is recommended to use sourceTensor.clone().detach() or sourceTensor.clone().detach().requires_grad_(True), rather than torch.tensor(sourceTensor).\n",
      "  edge_index = torch.tensor(adj.nonzero().t().contiguous(), dtype=torch.long)  # Shape: [2, num_edges]\n",
      "/home/dalai/GNN_E/scripts/utils.py:30: UserWarning: To copy construct from a tensor, it is recommended to use sourceTensor.clone().detach() or sourceTensor.clone().detach().requires_grad_(True), rather than torch.tensor(sourceTensor).\n",
      "  edge_attr = torch.tensor(adj[edge_index[0, :], edge_index[1, :]], dtype=torch.float)\n"
     ]
    },
    {
     "name": "stdout",
     "output_type": "stream",
     "text": [
      "\n",
      "\n",
      "\n",
      "01 - 152\n"
     ]
    },
    {
     "data": {
      "text/plain": [
       "'Shape DF of single sub of single timepoint : (414, 13)'"
      ]
     },
     "metadata": {},
     "output_type": "display_data"
    },
    {
     "name": "stdout",
     "output_type": "stream",
     "text": [
      "Shape adj matrix: torch.Size([414, 414])\n",
      "Label fo the current grpah: 34\n",
      "tensor([[  0,   0,   0,  ..., 413, 413, 413],\n",
      "        [  1,   2,   3,  ..., 410, 411, 412]])\n",
      "torch.Size([2, 170982])\n",
      "tensor([1., 1., 1.,  ..., 1., 1., 1.])\n",
      "torch.Size([170982])\n",
      "GraphEmo(x=[414], edge_index=[2, 170982], edge_attr=[170982], y=34, movie='AfterTheRain', subject='01', timestamp_tr=153, adj=[414, 414])\n",
      "Graph saved at: /home/dalai/GNN_E/data/processed/all_graphs/clique_singlefmri/AfterTheRain_01_153.pt\n",
      "\n",
      "\n",
      "01 - 153\n"
     ]
    },
    {
     "name": "stderr",
     "output_type": "stream",
     "text": [
      "/home/dalai/GNN_E/scripts/utils.py:26: UserWarning: To copy construct from a tensor, it is recommended to use sourceTensor.clone().detach() or sourceTensor.clone().detach().requires_grad_(True), rather than torch.tensor(sourceTensor).\n",
      "  edge_index = torch.tensor(adj.nonzero().t().contiguous(), dtype=torch.long)  # Shape: [2, num_edges]\n",
      "/home/dalai/GNN_E/scripts/utils.py:30: UserWarning: To copy construct from a tensor, it is recommended to use sourceTensor.clone().detach() or sourceTensor.clone().detach().requires_grad_(True), rather than torch.tensor(sourceTensor).\n",
      "  edge_attr = torch.tensor(adj[edge_index[0, :], edge_index[1, :]], dtype=torch.float)\n"
     ]
    },
    {
     "data": {
      "text/plain": [
       "'Shape DF of single sub of single timepoint : (414, 13)'"
      ]
     },
     "metadata": {},
     "output_type": "display_data"
    },
    {
     "name": "stdout",
     "output_type": "stream",
     "text": [
      "Shape adj matrix: torch.Size([414, 414])\n",
      "Label fo the current grpah: 34\n",
      "tensor([[  0,   0,   0,  ..., 413, 413, 413],\n",
      "        [  1,   2,   3,  ..., 410, 411, 412]])\n",
      "torch.Size([2, 170982])\n",
      "tensor([1., 1., 1.,  ..., 1., 1., 1.])\n",
      "torch.Size([170982])\n",
      "GraphEmo(x=[414], edge_index=[2, 170982], edge_attr=[170982], y=34, movie='AfterTheRain', subject='01', timestamp_tr=154, adj=[414, 414])\n"
     ]
    },
    {
     "name": "stderr",
     "output_type": "stream",
     "text": [
      "/home/dalai/GNN_E/scripts/utils.py:26: UserWarning: To copy construct from a tensor, it is recommended to use sourceTensor.clone().detach() or sourceTensor.clone().detach().requires_grad_(True), rather than torch.tensor(sourceTensor).\n",
      "  edge_index = torch.tensor(adj.nonzero().t().contiguous(), dtype=torch.long)  # Shape: [2, num_edges]\n",
      "/home/dalai/GNN_E/scripts/utils.py:30: UserWarning: To copy construct from a tensor, it is recommended to use sourceTensor.clone().detach() or sourceTensor.clone().detach().requires_grad_(True), rather than torch.tensor(sourceTensor).\n",
      "  edge_attr = torch.tensor(adj[edge_index[0, :], edge_index[1, :]], dtype=torch.float)\n"
     ]
    },
    {
     "name": "stdout",
     "output_type": "stream",
     "text": [
      "Graph saved at: /home/dalai/GNN_E/data/processed/all_graphs/clique_singlefmri/AfterTheRain_01_154.pt\n",
      "\n",
      "\n",
      "01 - 154\n"
     ]
    },
    {
     "data": {
      "text/plain": [
       "'Shape DF of single sub of single timepoint : (414, 13)'"
      ]
     },
     "metadata": {},
     "output_type": "display_data"
    },
    {
     "name": "stdout",
     "output_type": "stream",
     "text": [
      "Shape adj matrix: torch.Size([414, 414])\n",
      "Label fo the current grpah: 34\n",
      "tensor([[  0,   0,   0,  ..., 413, 413, 413],\n",
      "        [  1,   2,   3,  ..., 410, 411, 412]])\n",
      "torch.Size([2, 170982])\n",
      "tensor([1., 1., 1.,  ..., 1., 1., 1.])\n",
      "torch.Size([170982])\n",
      "GraphEmo(x=[414], edge_index=[2, 170982], edge_attr=[170982], y=34, movie='AfterTheRain', subject='01', timestamp_tr=155, adj=[414, 414])\n",
      "Graph saved at: /home/dalai/GNN_E/data/processed/all_graphs/clique_singlefmri/AfterTheRain_01_155.pt\n",
      "\n",
      "\n",
      "01 - 155\n"
     ]
    },
    {
     "name": "stderr",
     "output_type": "stream",
     "text": [
      "/home/dalai/GNN_E/scripts/utils.py:26: UserWarning: To copy construct from a tensor, it is recommended to use sourceTensor.clone().detach() or sourceTensor.clone().detach().requires_grad_(True), rather than torch.tensor(sourceTensor).\n",
      "  edge_index = torch.tensor(adj.nonzero().t().contiguous(), dtype=torch.long)  # Shape: [2, num_edges]\n",
      "/home/dalai/GNN_E/scripts/utils.py:30: UserWarning: To copy construct from a tensor, it is recommended to use sourceTensor.clone().detach() or sourceTensor.clone().detach().requires_grad_(True), rather than torch.tensor(sourceTensor).\n",
      "  edge_attr = torch.tensor(adj[edge_index[0, :], edge_index[1, :]], dtype=torch.float)\n"
     ]
    },
    {
     "data": {
      "text/plain": [
       "'Shape DF of single sub of single timepoint : (414, 13)'"
      ]
     },
     "metadata": {},
     "output_type": "display_data"
    },
    {
     "name": "stdout",
     "output_type": "stream",
     "text": [
      "Shape adj matrix: torch.Size([414, 414])\n",
      "Label fo the current grpah: 34\n",
      "tensor([[  0,   0,   0,  ..., 413, 413, 413],\n",
      "        [  1,   2,   3,  ..., 410, 411, 412]])\n",
      "torch.Size([2, 170982])\n",
      "tensor([1., 1., 1.,  ..., 1., 1., 1.])\n",
      "torch.Size([170982])\n",
      "GraphEmo(x=[414], edge_index=[2, 170982], edge_attr=[170982], y=34, movie='AfterTheRain', subject='01', timestamp_tr=156, adj=[414, 414])\n",
      "Graph saved at: /home/dalai/GNN_E/data/processed/all_graphs/clique_singlefmri/AfterTheRain_01_156.pt"
     ]
    },
    {
     "name": "stderr",
     "output_type": "stream",
     "text": [
      "/home/dalai/GNN_E/scripts/utils.py:26: UserWarning: To copy construct from a tensor, it is recommended to use sourceTensor.clone().detach() or sourceTensor.clone().detach().requires_grad_(True), rather than torch.tensor(sourceTensor).\n",
      "  edge_index = torch.tensor(adj.nonzero().t().contiguous(), dtype=torch.long)  # Shape: [2, num_edges]\n",
      "/home/dalai/GNN_E/scripts/utils.py:30: UserWarning: To copy construct from a tensor, it is recommended to use sourceTensor.clone().detach() or sourceTensor.clone().detach().requires_grad_(True), rather than torch.tensor(sourceTensor).\n",
      "  edge_attr = torch.tensor(adj[edge_index[0, :], edge_index[1, :]], dtype=torch.float)\n"
     ]
    },
    {
     "name": "stdout",
     "output_type": "stream",
     "text": [
      "\n",
      "\n",
      "\n",
      "01 - 156\n"
     ]
    },
    {
     "data": {
      "text/plain": [
       "'Shape DF of single sub of single timepoint : (414, 13)'"
      ]
     },
     "metadata": {},
     "output_type": "display_data"
    },
    {
     "name": "stdout",
     "output_type": "stream",
     "text": [
      "Shape adj matrix: torch.Size([414, 414])\n",
      "Label fo the current grpah: 34\n",
      "tensor([[  0,   0,   0,  ..., 413, 413, 413],\n",
      "        [  1,   2,   3,  ..., 410, 411, 412]])\n",
      "torch.Size([2, 170982])\n",
      "tensor([1., 1., 1.,  ..., 1., 1., 1.])\n",
      "torch.Size([170982])\n",
      "GraphEmo(x=[414], edge_index=[2, 170982], edge_attr=[170982], y=34, movie='AfterTheRain', subject='01', timestamp_tr=157, adj=[414, 414])\n",
      "Graph saved at: /home/dalai/GNN_E/data/processed/all_graphs/clique_singlefmri/AfterTheRain_01_157.pt"
     ]
    },
    {
     "name": "stderr",
     "output_type": "stream",
     "text": [
      "/home/dalai/GNN_E/scripts/utils.py:26: UserWarning: To copy construct from a tensor, it is recommended to use sourceTensor.clone().detach() or sourceTensor.clone().detach().requires_grad_(True), rather than torch.tensor(sourceTensor).\n",
      "  edge_index = torch.tensor(adj.nonzero().t().contiguous(), dtype=torch.long)  # Shape: [2, num_edges]\n",
      "/home/dalai/GNN_E/scripts/utils.py:30: UserWarning: To copy construct from a tensor, it is recommended to use sourceTensor.clone().detach() or sourceTensor.clone().detach().requires_grad_(True), rather than torch.tensor(sourceTensor).\n",
      "  edge_attr = torch.tensor(adj[edge_index[0, :], edge_index[1, :]], dtype=torch.float)\n"
     ]
    },
    {
     "name": "stdout",
     "output_type": "stream",
     "text": [
      "\n",
      "\n",
      "\n",
      "01 - 157\n"
     ]
    },
    {
     "data": {
      "text/plain": [
       "'Shape DF of single sub of single timepoint : (414, 13)'"
      ]
     },
     "metadata": {},
     "output_type": "display_data"
    },
    {
     "name": "stdout",
     "output_type": "stream",
     "text": [
      "Shape adj matrix: torch.Size([414, 414])\n",
      "Label fo the current grpah: 34\n",
      "tensor([[  0,   0,   0,  ..., 413, 413, 413],\n",
      "        [  1,   2,   3,  ..., 410, 411, 412]])\n",
      "torch.Size([2, 170982])\n",
      "tensor([1., 1., 1.,  ..., 1., 1., 1.])\n",
      "torch.Size([170982])\n",
      "GraphEmo(x=[414], edge_index=[2, 170982], edge_attr=[170982], y=34, movie='AfterTheRain', subject='01', timestamp_tr=158, adj=[414, 414])\n",
      "Graph saved at: /home/dalai/GNN_E/data/processed/all_graphs/clique_singlefmri/AfterTheRain_01_158.pt"
     ]
    },
    {
     "name": "stderr",
     "output_type": "stream",
     "text": [
      "/home/dalai/GNN_E/scripts/utils.py:26: UserWarning: To copy construct from a tensor, it is recommended to use sourceTensor.clone().detach() or sourceTensor.clone().detach().requires_grad_(True), rather than torch.tensor(sourceTensor).\n",
      "  edge_index = torch.tensor(adj.nonzero().t().contiguous(), dtype=torch.long)  # Shape: [2, num_edges]\n",
      "/home/dalai/GNN_E/scripts/utils.py:30: UserWarning: To copy construct from a tensor, it is recommended to use sourceTensor.clone().detach() or sourceTensor.clone().detach().requires_grad_(True), rather than torch.tensor(sourceTensor).\n",
      "  edge_attr = torch.tensor(adj[edge_index[0, :], edge_index[1, :]], dtype=torch.float)\n"
     ]
    },
    {
     "name": "stdout",
     "output_type": "stream",
     "text": [
      "\n",
      "\n",
      "\n",
      "01 - 158\n"
     ]
    },
    {
     "data": {
      "text/plain": [
       "'Shape DF of single sub of single timepoint : (414, 13)'"
      ]
     },
     "metadata": {},
     "output_type": "display_data"
    },
    {
     "name": "stdout",
     "output_type": "stream",
     "text": [
      "Shape adj matrix: torch.Size([414, 414])\n",
      "Label fo the current grpah: 34\n",
      "tensor([[  0,   0,   0,  ..., 413, 413, 413],\n",
      "        [  1,   2,   3,  ..., 410, 411, 412]])\n",
      "torch.Size([2, 170982])\n",
      "tensor([1., 1., 1.,  ..., 1., 1., 1.])\n",
      "torch.Size([170982])\n",
      "GraphEmo(x=[414], edge_index=[2, 170982], edge_attr=[170982], y=34, movie='AfterTheRain', subject='01', timestamp_tr=159, adj=[414, 414])\n",
      "Graph saved at: /home/dalai/GNN_E/data/processed/all_graphs/clique_singlefmri/AfterTheRain_01_159.pt"
     ]
    },
    {
     "name": "stderr",
     "output_type": "stream",
     "text": [
      "/home/dalai/GNN_E/scripts/utils.py:26: UserWarning: To copy construct from a tensor, it is recommended to use sourceTensor.clone().detach() or sourceTensor.clone().detach().requires_grad_(True), rather than torch.tensor(sourceTensor).\n",
      "  edge_index = torch.tensor(adj.nonzero().t().contiguous(), dtype=torch.long)  # Shape: [2, num_edges]\n",
      "/home/dalai/GNN_E/scripts/utils.py:30: UserWarning: To copy construct from a tensor, it is recommended to use sourceTensor.clone().detach() or sourceTensor.clone().detach().requires_grad_(True), rather than torch.tensor(sourceTensor).\n",
      "  edge_attr = torch.tensor(adj[edge_index[0, :], edge_index[1, :]], dtype=torch.float)\n"
     ]
    },
    {
     "name": "stdout",
     "output_type": "stream",
     "text": [
      "\n",
      "\n",
      "\n",
      "01 - 159\n"
     ]
    },
    {
     "data": {
      "text/plain": [
       "'Shape DF of single sub of single timepoint : (414, 13)'"
      ]
     },
     "metadata": {},
     "output_type": "display_data"
    },
    {
     "name": "stdout",
     "output_type": "stream",
     "text": [
      "Shape adj matrix: torch.Size([414, 414])\n",
      "Label fo the current grpah: 15\n",
      "tensor([[  0,   0,   0,  ..., 413, 413, 413],\n",
      "        [  1,   2,   3,  ..., 410, 411, 412]])\n",
      "torch.Size([2, 170982])\n",
      "tensor([1., 1., 1.,  ..., 1., 1., 1.])\n",
      "torch.Size([170982])\n",
      "GraphEmo(x=[414], edge_index=[2, 170982], edge_attr=[170982], y=15, movie='AfterTheRain', subject='01', timestamp_tr=160, adj=[414, 414])\n",
      "Graph saved at: /home/dalai/GNN_E/data/processed/all_graphs/clique_singlefmri/AfterTheRain_01_160.pt"
     ]
    },
    {
     "name": "stderr",
     "output_type": "stream",
     "text": [
      "/home/dalai/GNN_E/scripts/utils.py:26: UserWarning: To copy construct from a tensor, it is recommended to use sourceTensor.clone().detach() or sourceTensor.clone().detach().requires_grad_(True), rather than torch.tensor(sourceTensor).\n",
      "  edge_index = torch.tensor(adj.nonzero().t().contiguous(), dtype=torch.long)  # Shape: [2, num_edges]\n",
      "/home/dalai/GNN_E/scripts/utils.py:30: UserWarning: To copy construct from a tensor, it is recommended to use sourceTensor.clone().detach() or sourceTensor.clone().detach().requires_grad_(True), rather than torch.tensor(sourceTensor).\n",
      "  edge_attr = torch.tensor(adj[edge_index[0, :], edge_index[1, :]], dtype=torch.float)\n"
     ]
    },
    {
     "name": "stdout",
     "output_type": "stream",
     "text": [
      "\n",
      "\n",
      "\n",
      "01 - 160\n"
     ]
    },
    {
     "data": {
      "text/plain": [
       "'Shape DF of single sub of single timepoint : (414, 13)'"
      ]
     },
     "metadata": {},
     "output_type": "display_data"
    },
    {
     "name": "stdout",
     "output_type": "stream",
     "text": [
      "Shape adj matrix: torch.Size([414, 414])\n",
      "Label fo the current grpah: 15\n",
      "tensor([[  0,   0,   0,  ..., 413, 413, 413],\n",
      "        [  1,   2,   3,  ..., 410, 411, 412]])\n",
      "torch.Size([2, 170982])\n",
      "tensor([1., 1., 1.,  ..., 1., 1., 1.])\n",
      "torch.Size([170982])\n",
      "GraphEmo(x=[414], edge_index=[2, 170982], edge_attr=[170982], y=15, movie='AfterTheRain', subject='01', timestamp_tr=161, adj=[414, 414])\n",
      "Graph saved at: /home/dalai/GNN_E/data/processed/all_graphs/clique_singlefmri/AfterTheRain_01_161.pt"
     ]
    },
    {
     "name": "stderr",
     "output_type": "stream",
     "text": [
      "/home/dalai/GNN_E/scripts/utils.py:26: UserWarning: To copy construct from a tensor, it is recommended to use sourceTensor.clone().detach() or sourceTensor.clone().detach().requires_grad_(True), rather than torch.tensor(sourceTensor).\n",
      "  edge_index = torch.tensor(adj.nonzero().t().contiguous(), dtype=torch.long)  # Shape: [2, num_edges]\n",
      "/home/dalai/GNN_E/scripts/utils.py:30: UserWarning: To copy construct from a tensor, it is recommended to use sourceTensor.clone().detach() or sourceTensor.clone().detach().requires_grad_(True), rather than torch.tensor(sourceTensor).\n",
      "  edge_attr = torch.tensor(adj[edge_index[0, :], edge_index[1, :]], dtype=torch.float)\n"
     ]
    },
    {
     "name": "stdout",
     "output_type": "stream",
     "text": [
      "\n",
      "\n",
      "\n",
      "01 - 161\n"
     ]
    },
    {
     "data": {
      "text/plain": [
       "'Shape DF of single sub of single timepoint : (414, 13)'"
      ]
     },
     "metadata": {},
     "output_type": "display_data"
    },
    {
     "name": "stdout",
     "output_type": "stream",
     "text": [
      "Shape adj matrix: torch.Size([414, 414])\n",
      "Label fo the current grpah: 15\n",
      "tensor([[  0,   0,   0,  ..., 413, 413, 413],\n",
      "        [  1,   2,   3,  ..., 410, 411, 412]])\n",
      "torch.Size([2, 170982])\n",
      "tensor([1., 1., 1.,  ..., 1., 1., 1.])\n",
      "torch.Size([170982])\n",
      "GraphEmo(x=[414], edge_index=[2, 170982], edge_attr=[170982], y=15, movie='AfterTheRain', subject='01', timestamp_tr=162, adj=[414, 414])\n",
      "Graph saved at: /home/dalai/GNN_E/data/processed/all_graphs/clique_singlefmri/AfterTheRain_01_162.pt"
     ]
    },
    {
     "name": "stderr",
     "output_type": "stream",
     "text": [
      "/home/dalai/GNN_E/scripts/utils.py:26: UserWarning: To copy construct from a tensor, it is recommended to use sourceTensor.clone().detach() or sourceTensor.clone().detach().requires_grad_(True), rather than torch.tensor(sourceTensor).\n",
      "  edge_index = torch.tensor(adj.nonzero().t().contiguous(), dtype=torch.long)  # Shape: [2, num_edges]\n",
      "/home/dalai/GNN_E/scripts/utils.py:30: UserWarning: To copy construct from a tensor, it is recommended to use sourceTensor.clone().detach() or sourceTensor.clone().detach().requires_grad_(True), rather than torch.tensor(sourceTensor).\n",
      "  edge_attr = torch.tensor(adj[edge_index[0, :], edge_index[1, :]], dtype=torch.float)\n"
     ]
    },
    {
     "name": "stdout",
     "output_type": "stream",
     "text": [
      "\n",
      "\n",
      "\n",
      "01 - 162\n"
     ]
    },
    {
     "data": {
      "text/plain": [
       "'Shape DF of single sub of single timepoint : (414, 13)'"
      ]
     },
     "metadata": {},
     "output_type": "display_data"
    },
    {
     "name": "stdout",
     "output_type": "stream",
     "text": [
      "Shape adj matrix: torch.Size([414, 414])\n",
      "Label fo the current grpah: 15\n",
      "tensor([[  0,   0,   0,  ..., 413, 413, 413],\n",
      "        [  1,   2,   3,  ..., 410, 411, 412]])\n",
      "torch.Size([2, 170982])\n",
      "tensor([1., 1., 1.,  ..., 1., 1., 1.])\n",
      "torch.Size([170982])\n",
      "GraphEmo(x=[414], edge_index=[2, 170982], edge_attr=[170982], y=15, movie='AfterTheRain', subject='01', timestamp_tr=163, adj=[414, 414])\n",
      "Graph saved at: /home/dalai/GNN_E/data/processed/all_graphs/clique_singlefmri/AfterTheRain_01_163.pt"
     ]
    },
    {
     "name": "stderr",
     "output_type": "stream",
     "text": [
      "/home/dalai/GNN_E/scripts/utils.py:26: UserWarning: To copy construct from a tensor, it is recommended to use sourceTensor.clone().detach() or sourceTensor.clone().detach().requires_grad_(True), rather than torch.tensor(sourceTensor).\n",
      "  edge_index = torch.tensor(adj.nonzero().t().contiguous(), dtype=torch.long)  # Shape: [2, num_edges]\n",
      "/home/dalai/GNN_E/scripts/utils.py:30: UserWarning: To copy construct from a tensor, it is recommended to use sourceTensor.clone().detach() or sourceTensor.clone().detach().requires_grad_(True), rather than torch.tensor(sourceTensor).\n",
      "  edge_attr = torch.tensor(adj[edge_index[0, :], edge_index[1, :]], dtype=torch.float)\n"
     ]
    },
    {
     "name": "stdout",
     "output_type": "stream",
     "text": [
      "\n",
      "\n",
      "\n",
      "01 - 163\n"
     ]
    },
    {
     "data": {
      "text/plain": [
       "'Shape DF of single sub of single timepoint : (414, 13)'"
      ]
     },
     "metadata": {},
     "output_type": "display_data"
    },
    {
     "name": "stdout",
     "output_type": "stream",
     "text": [
      "Shape adj matrix: torch.Size([414, 414])\n",
      "Label fo the current grpah: 15\n",
      "tensor([[  0,   0,   0,  ..., 413, 413, 413],\n",
      "        [  1,   2,   3,  ..., 410, 411, 412]])\n",
      "torch.Size([2, 170982])\n",
      "tensor([1., 1., 1.,  ..., 1., 1., 1.])\n",
      "torch.Size([170982])\n",
      "GraphEmo(x=[414], edge_index=[2, 170982], edge_attr=[170982], y=15, movie='AfterTheRain', subject='01', timestamp_tr=164, adj=[414, 414])\n",
      "Graph saved at: /home/dalai/GNN_E/data/processed/all_graphs/clique_singlefmri/AfterTheRain_01_164.pt"
     ]
    },
    {
     "name": "stderr",
     "output_type": "stream",
     "text": [
      "/home/dalai/GNN_E/scripts/utils.py:26: UserWarning: To copy construct from a tensor, it is recommended to use sourceTensor.clone().detach() or sourceTensor.clone().detach().requires_grad_(True), rather than torch.tensor(sourceTensor).\n",
      "  edge_index = torch.tensor(adj.nonzero().t().contiguous(), dtype=torch.long)  # Shape: [2, num_edges]\n",
      "/home/dalai/GNN_E/scripts/utils.py:30: UserWarning: To copy construct from a tensor, it is recommended to use sourceTensor.clone().detach() or sourceTensor.clone().detach().requires_grad_(True), rather than torch.tensor(sourceTensor).\n",
      "  edge_attr = torch.tensor(adj[edge_index[0, :], edge_index[1, :]], dtype=torch.float)\n"
     ]
    },
    {
     "name": "stdout",
     "output_type": "stream",
     "text": [
      "\n",
      "\n",
      "\n",
      "01 - 164\n"
     ]
    },
    {
     "data": {
      "text/plain": [
       "'Shape DF of single sub of single timepoint : (414, 13)'"
      ]
     },
     "metadata": {},
     "output_type": "display_data"
    },
    {
     "name": "stdout",
     "output_type": "stream",
     "text": [
      "Shape adj matrix: torch.Size([414, 414])\n",
      "Label fo the current grpah: 15\n",
      "tensor([[  0,   0,   0,  ..., 413, 413, 413],\n",
      "        [  1,   2,   3,  ..., 410, 411, 412]])\n",
      "torch.Size([2, 170982])\n",
      "tensor([1., 1., 1.,  ..., 1., 1., 1.])\n",
      "torch.Size([170982])\n",
      "GraphEmo(x=[414], edge_index=[2, 170982], edge_attr=[170982], y=15, movie='AfterTheRain', subject='01', timestamp_tr=165, adj=[414, 414])\n",
      "Graph saved at: /home/dalai/GNN_E/data/processed/all_graphs/clique_singlefmri/AfterTheRain_01_165.pt"
     ]
    },
    {
     "name": "stderr",
     "output_type": "stream",
     "text": [
      "/home/dalai/GNN_E/scripts/utils.py:26: UserWarning: To copy construct from a tensor, it is recommended to use sourceTensor.clone().detach() or sourceTensor.clone().detach().requires_grad_(True), rather than torch.tensor(sourceTensor).\n",
      "  edge_index = torch.tensor(adj.nonzero().t().contiguous(), dtype=torch.long)  # Shape: [2, num_edges]\n",
      "/home/dalai/GNN_E/scripts/utils.py:30: UserWarning: To copy construct from a tensor, it is recommended to use sourceTensor.clone().detach() or sourceTensor.clone().detach().requires_grad_(True), rather than torch.tensor(sourceTensor).\n",
      "  edge_attr = torch.tensor(adj[edge_index[0, :], edge_index[1, :]], dtype=torch.float)\n"
     ]
    },
    {
     "name": "stdout",
     "output_type": "stream",
     "text": [
      "\n",
      "\n",
      "\n",
      "01 - 165\n"
     ]
    },
    {
     "data": {
      "text/plain": [
       "'Shape DF of single sub of single timepoint : (414, 13)'"
      ]
     },
     "metadata": {},
     "output_type": "display_data"
    },
    {
     "name": "stdout",
     "output_type": "stream",
     "text": [
      "Shape adj matrix: torch.Size([414, 414])\n",
      "Label fo the current grpah: 15\n",
      "tensor([[  0,   0,   0,  ..., 413, 413, 413],\n",
      "        [  1,   2,   3,  ..., 410, 411, 412]])\n",
      "torch.Size([2, 170982])\n",
      "tensor([1., 1., 1.,  ..., 1., 1., 1.])\n",
      "torch.Size([170982])\n",
      "GraphEmo(x=[414], edge_index=[2, 170982], edge_attr=[170982], y=15, movie='AfterTheRain', subject='01', timestamp_tr=166, adj=[414, 414])\n"
     ]
    },
    {
     "name": "stderr",
     "output_type": "stream",
     "text": [
      "/home/dalai/GNN_E/scripts/utils.py:26: UserWarning: To copy construct from a tensor, it is recommended to use sourceTensor.clone().detach() or sourceTensor.clone().detach().requires_grad_(True), rather than torch.tensor(sourceTensor).\n",
      "  edge_index = torch.tensor(adj.nonzero().t().contiguous(), dtype=torch.long)  # Shape: [2, num_edges]\n",
      "/home/dalai/GNN_E/scripts/utils.py:30: UserWarning: To copy construct from a tensor, it is recommended to use sourceTensor.clone().detach() or sourceTensor.clone().detach().requires_grad_(True), rather than torch.tensor(sourceTensor).\n",
      "  edge_attr = torch.tensor(adj[edge_index[0, :], edge_index[1, :]], dtype=torch.float)\n"
     ]
    },
    {
     "name": "stdout",
     "output_type": "stream",
     "text": [
      "Graph saved at: /home/dalai/GNN_E/data/processed/all_graphs/clique_singlefmri/AfterTheRain_01_166.pt\n",
      "\n",
      "\n",
      "01 - 166\n"
     ]
    },
    {
     "data": {
      "text/plain": [
       "'Shape DF of single sub of single timepoint : (414, 13)'"
      ]
     },
     "metadata": {},
     "output_type": "display_data"
    },
    {
     "name": "stdout",
     "output_type": "stream",
     "text": [
      "Shape adj matrix: torch.Size([414, 414])\n",
      "Label fo the current grpah: 15\n",
      "tensor([[  0,   0,   0,  ..., 413, 413, 413],\n",
      "        [  1,   2,   3,  ..., 410, 411, 412]])\n",
      "torch.Size([2, 170982])\n",
      "tensor([1., 1., 1.,  ..., 1., 1., 1.])\n",
      "torch.Size([170982])\n",
      "GraphEmo(x=[414], edge_index=[2, 170982], edge_attr=[170982], y=15, movie='AfterTheRain', subject='01', timestamp_tr=167, adj=[414, 414])\n"
     ]
    },
    {
     "name": "stderr",
     "output_type": "stream",
     "text": [
      "/home/dalai/GNN_E/scripts/utils.py:26: UserWarning: To copy construct from a tensor, it is recommended to use sourceTensor.clone().detach() or sourceTensor.clone().detach().requires_grad_(True), rather than torch.tensor(sourceTensor).\n",
      "  edge_index = torch.tensor(adj.nonzero().t().contiguous(), dtype=torch.long)  # Shape: [2, num_edges]\n",
      "/home/dalai/GNN_E/scripts/utils.py:30: UserWarning: To copy construct from a tensor, it is recommended to use sourceTensor.clone().detach() or sourceTensor.clone().detach().requires_grad_(True), rather than torch.tensor(sourceTensor).\n",
      "  edge_attr = torch.tensor(adj[edge_index[0, :], edge_index[1, :]], dtype=torch.float)\n"
     ]
    },
    {
     "name": "stdout",
     "output_type": "stream",
     "text": [
      "Graph saved at: /home/dalai/GNN_E/data/processed/all_graphs/clique_singlefmri/AfterTheRain_01_167.pt\n",
      "\n",
      "\n",
      "01 - 167\n"
     ]
    },
    {
     "data": {
      "text/plain": [
       "'Shape DF of single sub of single timepoint : (414, 13)'"
      ]
     },
     "metadata": {},
     "output_type": "display_data"
    },
    {
     "name": "stdout",
     "output_type": "stream",
     "text": [
      "Shape adj matrix: torch.Size([414, 414])\n",
      "Label fo the current grpah: 15\n",
      "tensor([[  0,   0,   0,  ..., 413, 413, 413],\n",
      "        [  1,   2,   3,  ..., 410, 411, 412]])\n",
      "torch.Size([2, 170982])\n",
      "tensor([1., 1., 1.,  ..., 1., 1., 1.])\n",
      "torch.Size([170982])\n",
      "GraphEmo(x=[414], edge_index=[2, 170982], edge_attr=[170982], y=15, movie='AfterTheRain', subject='01', timestamp_tr=168, adj=[414, 414])\n"
     ]
    },
    {
     "name": "stderr",
     "output_type": "stream",
     "text": [
      "/home/dalai/GNN_E/scripts/utils.py:26: UserWarning: To copy construct from a tensor, it is recommended to use sourceTensor.clone().detach() or sourceTensor.clone().detach().requires_grad_(True), rather than torch.tensor(sourceTensor).\n",
      "  edge_index = torch.tensor(adj.nonzero().t().contiguous(), dtype=torch.long)  # Shape: [2, num_edges]\n",
      "/home/dalai/GNN_E/scripts/utils.py:30: UserWarning: To copy construct from a tensor, it is recommended to use sourceTensor.clone().detach() or sourceTensor.clone().detach().requires_grad_(True), rather than torch.tensor(sourceTensor).\n",
      "  edge_attr = torch.tensor(adj[edge_index[0, :], edge_index[1, :]], dtype=torch.float)\n"
     ]
    },
    {
     "name": "stdout",
     "output_type": "stream",
     "text": [
      "Graph saved at: /home/dalai/GNN_E/data/processed/all_graphs/clique_singlefmri/AfterTheRain_01_168.pt\n",
      "\n",
      "\n",
      "01 - 168\n"
     ]
    },
    {
     "data": {
      "text/plain": [
       "'Shape DF of single sub of single timepoint : (414, 13)'"
      ]
     },
     "metadata": {},
     "output_type": "display_data"
    },
    {
     "name": "stdout",
     "output_type": "stream",
     "text": [
      "Shape adj matrix: torch.Size([414, 414])\n",
      "Label fo the current grpah: 15\n",
      "tensor([[  0,   0,   0,  ..., 413, 413, 413],\n",
      "        [  1,   2,   3,  ..., 410, 411, 412]])\n",
      "torch.Size([2, 170982])\n",
      "tensor([1., 1., 1.,  ..., 1., 1., 1.])\n",
      "torch.Size([170982])\n",
      "GraphEmo(x=[414], edge_index=[2, 170982], edge_attr=[170982], y=15, movie='AfterTheRain', subject='01', timestamp_tr=169, adj=[414, 414])\n"
     ]
    },
    {
     "name": "stderr",
     "output_type": "stream",
     "text": [
      "/home/dalai/GNN_E/scripts/utils.py:26: UserWarning: To copy construct from a tensor, it is recommended to use sourceTensor.clone().detach() or sourceTensor.clone().detach().requires_grad_(True), rather than torch.tensor(sourceTensor).\n",
      "  edge_index = torch.tensor(adj.nonzero().t().contiguous(), dtype=torch.long)  # Shape: [2, num_edges]\n",
      "/home/dalai/GNN_E/scripts/utils.py:30: UserWarning: To copy construct from a tensor, it is recommended to use sourceTensor.clone().detach() or sourceTensor.clone().detach().requires_grad_(True), rather than torch.tensor(sourceTensor).\n",
      "  edge_attr = torch.tensor(adj[edge_index[0, :], edge_index[1, :]], dtype=torch.float)\n"
     ]
    },
    {
     "name": "stdout",
     "output_type": "stream",
     "text": [
      "Graph saved at: /home/dalai/GNN_E/data/processed/all_graphs/clique_singlefmri/AfterTheRain_01_169.pt\n",
      "\n",
      "\n",
      "01 - 169\n"
     ]
    },
    {
     "data": {
      "text/plain": [
       "'Shape DF of single sub of single timepoint : (414, 13)'"
      ]
     },
     "metadata": {},
     "output_type": "display_data"
    },
    {
     "name": "stdout",
     "output_type": "stream",
     "text": [
      "Shape adj matrix: torch.Size([414, 414])\n",
      "Label fo the current grpah: 15\n",
      "tensor([[  0,   0,   0,  ..., 413, 413, 413],\n",
      "        [  1,   2,   3,  ..., 410, 411, 412]])\n",
      "torch.Size([2, 170982])\n",
      "tensor([1., 1., 1.,  ..., 1., 1., 1.])\n",
      "torch.Size([170982])\n",
      "GraphEmo(x=[414], edge_index=[2, 170982], edge_attr=[170982], y=15, movie='AfterTheRain', subject='01', timestamp_tr=170, adj=[414, 414])\n"
     ]
    },
    {
     "name": "stderr",
     "output_type": "stream",
     "text": [
      "/home/dalai/GNN_E/scripts/utils.py:26: UserWarning: To copy construct from a tensor, it is recommended to use sourceTensor.clone().detach() or sourceTensor.clone().detach().requires_grad_(True), rather than torch.tensor(sourceTensor).\n",
      "  edge_index = torch.tensor(adj.nonzero().t().contiguous(), dtype=torch.long)  # Shape: [2, num_edges]\n",
      "/home/dalai/GNN_E/scripts/utils.py:30: UserWarning: To copy construct from a tensor, it is recommended to use sourceTensor.clone().detach() or sourceTensor.clone().detach().requires_grad_(True), rather than torch.tensor(sourceTensor).\n",
      "  edge_attr = torch.tensor(adj[edge_index[0, :], edge_index[1, :]], dtype=torch.float)\n"
     ]
    },
    {
     "name": "stdout",
     "output_type": "stream",
     "text": [
      "Graph saved at: /home/dalai/GNN_E/data/processed/all_graphs/clique_singlefmri/AfterTheRain_01_170.pt\n",
      "\n",
      "\n",
      "01 - 170\n"
     ]
    },
    {
     "data": {
      "text/plain": [
       "'Shape DF of single sub of single timepoint : (414, 13)'"
      ]
     },
     "metadata": {},
     "output_type": "display_data"
    },
    {
     "name": "stdout",
     "output_type": "stream",
     "text": [
      "Shape adj matrix: torch.Size([414, 414])\n",
      "Label fo the current grpah: 15\n",
      "tensor([[  0,   0,   0,  ..., 413, 413, 413],\n",
      "        [  1,   2,   3,  ..., 410, 411, 412]])\n",
      "torch.Size([2, 170982])\n",
      "tensor([1., 1., 1.,  ..., 1., 1., 1.])\n",
      "torch.Size([170982])\n",
      "GraphEmo(x=[414], edge_index=[2, 170982], edge_attr=[170982], y=15, movie='AfterTheRain', subject='01', timestamp_tr=171, adj=[414, 414])\n"
     ]
    },
    {
     "name": "stderr",
     "output_type": "stream",
     "text": [
      "/home/dalai/GNN_E/scripts/utils.py:26: UserWarning: To copy construct from a tensor, it is recommended to use sourceTensor.clone().detach() or sourceTensor.clone().detach().requires_grad_(True), rather than torch.tensor(sourceTensor).\n",
      "  edge_index = torch.tensor(adj.nonzero().t().contiguous(), dtype=torch.long)  # Shape: [2, num_edges]\n",
      "/home/dalai/GNN_E/scripts/utils.py:30: UserWarning: To copy construct from a tensor, it is recommended to use sourceTensor.clone().detach() or sourceTensor.clone().detach().requires_grad_(True), rather than torch.tensor(sourceTensor).\n",
      "  edge_attr = torch.tensor(adj[edge_index[0, :], edge_index[1, :]], dtype=torch.float)\n"
     ]
    },
    {
     "name": "stdout",
     "output_type": "stream",
     "text": [
      "Graph saved at: /home/dalai/GNN_E/data/processed/all_graphs/clique_singlefmri/AfterTheRain_01_171.pt\n",
      "\n",
      "\n",
      "01 - 171\n"
     ]
    },
    {
     "data": {
      "text/plain": [
       "'Shape DF of single sub of single timepoint : (414, 13)'"
      ]
     },
     "metadata": {},
     "output_type": "display_data"
    },
    {
     "name": "stdout",
     "output_type": "stream",
     "text": [
      "Shape adj matrix: torch.Size([414, 414])\n",
      "Label fo the current grpah: 15\n",
      "tensor([[  0,   0,   0,  ..., 413, 413, 413],\n",
      "        [  1,   2,   3,  ..., 410, 411, 412]])\n",
      "torch.Size([2, 170982])\n",
      "tensor([1., 1., 1.,  ..., 1., 1., 1.])\n",
      "torch.Size([170982])\n",
      "GraphEmo(x=[414], edge_index=[2, 170982], edge_attr=[170982], y=15, movie='AfterTheRain', subject='01', timestamp_tr=172, adj=[414, 414])\n",
      "Graph saved at: /home/dalai/GNN_E/data/processed/all_graphs/clique_singlefmri/AfterTheRain_01_172.pt"
     ]
    },
    {
     "name": "stderr",
     "output_type": "stream",
     "text": [
      "/home/dalai/GNN_E/scripts/utils.py:26: UserWarning: To copy construct from a tensor, it is recommended to use sourceTensor.clone().detach() or sourceTensor.clone().detach().requires_grad_(True), rather than torch.tensor(sourceTensor).\n",
      "  edge_index = torch.tensor(adj.nonzero().t().contiguous(), dtype=torch.long)  # Shape: [2, num_edges]\n",
      "/home/dalai/GNN_E/scripts/utils.py:30: UserWarning: To copy construct from a tensor, it is recommended to use sourceTensor.clone().detach() or sourceTensor.clone().detach().requires_grad_(True), rather than torch.tensor(sourceTensor).\n",
      "  edge_attr = torch.tensor(adj[edge_index[0, :], edge_index[1, :]], dtype=torch.float)\n"
     ]
    },
    {
     "name": "stdout",
     "output_type": "stream",
     "text": [
      "\n",
      "\n",
      "\n",
      "01 - 172\n"
     ]
    },
    {
     "data": {
      "text/plain": [
       "'Shape DF of single sub of single timepoint : (414, 13)'"
      ]
     },
     "metadata": {},
     "output_type": "display_data"
    },
    {
     "name": "stdout",
     "output_type": "stream",
     "text": [
      "Shape adj matrix: torch.Size([414, 414])\n",
      "Label fo the current grpah: 12\n",
      "tensor([[  0,   0,   0,  ..., 413, 413, 413],\n",
      "        [  1,   2,   3,  ..., 410, 411, 412]])\n",
      "torch.Size([2, 170982])\n",
      "tensor([1., 1., 1.,  ..., 1., 1., 1.])\n",
      "torch.Size([170982])\n",
      "GraphEmo(x=[414], edge_index=[2, 170982], edge_attr=[170982], y=12, movie='AfterTheRain', subject='01', timestamp_tr=173, adj=[414, 414])\n",
      "Graph saved at: /home/dalai/GNN_E/data/processed/all_graphs/clique_singlefmri/AfterTheRain_01_173.pt"
     ]
    },
    {
     "name": "stderr",
     "output_type": "stream",
     "text": [
      "/home/dalai/GNN_E/scripts/utils.py:26: UserWarning: To copy construct from a tensor, it is recommended to use sourceTensor.clone().detach() or sourceTensor.clone().detach().requires_grad_(True), rather than torch.tensor(sourceTensor).\n",
      "  edge_index = torch.tensor(adj.nonzero().t().contiguous(), dtype=torch.long)  # Shape: [2, num_edges]\n",
      "/home/dalai/GNN_E/scripts/utils.py:30: UserWarning: To copy construct from a tensor, it is recommended to use sourceTensor.clone().detach() or sourceTensor.clone().detach().requires_grad_(True), rather than torch.tensor(sourceTensor).\n",
      "  edge_attr = torch.tensor(adj[edge_index[0, :], edge_index[1, :]], dtype=torch.float)\n"
     ]
    },
    {
     "name": "stdout",
     "output_type": "stream",
     "text": [
      "\n",
      "\n",
      "\n",
      "01 - 173\n"
     ]
    },
    {
     "data": {
      "text/plain": [
       "'Shape DF of single sub of single timepoint : (414, 13)'"
      ]
     },
     "metadata": {},
     "output_type": "display_data"
    },
    {
     "name": "stdout",
     "output_type": "stream",
     "text": [
      "Shape adj matrix: torch.Size([414, 414])\n",
      "Label fo the current grpah: 12\n",
      "tensor([[  0,   0,   0,  ..., 413, 413, 413],\n",
      "        [  1,   2,   3,  ..., 410, 411, 412]])\n",
      "torch.Size([2, 170982])\n",
      "tensor([1., 1., 1.,  ..., 1., 1., 1.])\n",
      "torch.Size([170982])\n",
      "GraphEmo(x=[414], edge_index=[2, 170982], edge_attr=[170982], y=12, movie='AfterTheRain', subject='01', timestamp_tr=174, adj=[414, 414])\n",
      "Graph saved at: /home/dalai/GNN_E/data/processed/all_graphs/clique_singlefmri/AfterTheRain_01_174.pt"
     ]
    },
    {
     "name": "stderr",
     "output_type": "stream",
     "text": [
      "/home/dalai/GNN_E/scripts/utils.py:26: UserWarning: To copy construct from a tensor, it is recommended to use sourceTensor.clone().detach() or sourceTensor.clone().detach().requires_grad_(True), rather than torch.tensor(sourceTensor).\n",
      "  edge_index = torch.tensor(adj.nonzero().t().contiguous(), dtype=torch.long)  # Shape: [2, num_edges]\n",
      "/home/dalai/GNN_E/scripts/utils.py:30: UserWarning: To copy construct from a tensor, it is recommended to use sourceTensor.clone().detach() or sourceTensor.clone().detach().requires_grad_(True), rather than torch.tensor(sourceTensor).\n",
      "  edge_attr = torch.tensor(adj[edge_index[0, :], edge_index[1, :]], dtype=torch.float)\n"
     ]
    },
    {
     "name": "stdout",
     "output_type": "stream",
     "text": [
      "\n",
      "\n",
      "\n",
      "01 - 174\n"
     ]
    },
    {
     "data": {
      "text/plain": [
       "'Shape DF of single sub of single timepoint : (414, 13)'"
      ]
     },
     "metadata": {},
     "output_type": "display_data"
    },
    {
     "name": "stdout",
     "output_type": "stream",
     "text": [
      "Shape adj matrix: torch.Size([414, 414])\n",
      "Label fo the current grpah: 34\n",
      "tensor([[  0,   0,   0,  ..., 413, 413, 413],\n",
      "        [  1,   2,   3,  ..., 410, 411, 412]])\n",
      "torch.Size([2, 170982])\n",
      "tensor([1., 1., 1.,  ..., 1., 1., 1.])\n",
      "torch.Size([170982])\n",
      "GraphEmo(x=[414], edge_index=[2, 170982], edge_attr=[170982], y=34, movie='AfterTheRain', subject='01', timestamp_tr=175, adj=[414, 414])\n",
      "Graph saved at: /home/dalai/GNN_E/data/processed/all_graphs/clique_singlefmri/AfterTheRain_01_175.pt"
     ]
    },
    {
     "name": "stderr",
     "output_type": "stream",
     "text": [
      "/home/dalai/GNN_E/scripts/utils.py:26: UserWarning: To copy construct from a tensor, it is recommended to use sourceTensor.clone().detach() or sourceTensor.clone().detach().requires_grad_(True), rather than torch.tensor(sourceTensor).\n",
      "  edge_index = torch.tensor(adj.nonzero().t().contiguous(), dtype=torch.long)  # Shape: [2, num_edges]\n",
      "/home/dalai/GNN_E/scripts/utils.py:30: UserWarning: To copy construct from a tensor, it is recommended to use sourceTensor.clone().detach() or sourceTensor.clone().detach().requires_grad_(True), rather than torch.tensor(sourceTensor).\n",
      "  edge_attr = torch.tensor(adj[edge_index[0, :], edge_index[1, :]], dtype=torch.float)\n"
     ]
    },
    {
     "name": "stdout",
     "output_type": "stream",
     "text": [
      "\n",
      "\n",
      "\n",
      "01 - 175\n"
     ]
    },
    {
     "data": {
      "text/plain": [
       "'Shape DF of single sub of single timepoint : (414, 13)'"
      ]
     },
     "metadata": {},
     "output_type": "display_data"
    },
    {
     "name": "stdout",
     "output_type": "stream",
     "text": [
      "Shape adj matrix: torch.Size([414, 414])\n",
      "Label fo the current grpah: 34\n",
      "tensor([[  0,   0,   0,  ..., 413, 413, 413],\n",
      "        [  1,   2,   3,  ..., 410, 411, 412]])\n",
      "torch.Size([2, 170982])\n",
      "tensor([1., 1., 1.,  ..., 1., 1., 1.])\n",
      "torch.Size([170982])\n",
      "GraphEmo(x=[414], edge_index=[2, 170982], edge_attr=[170982], y=34, movie='AfterTheRain', subject='01', timestamp_tr=176, adj=[414, 414])\n",
      "Graph saved at: /home/dalai/GNN_E/data/processed/all_graphs/clique_singlefmri/AfterTheRain_01_176.pt"
     ]
    },
    {
     "name": "stderr",
     "output_type": "stream",
     "text": [
      "/home/dalai/GNN_E/scripts/utils.py:26: UserWarning: To copy construct from a tensor, it is recommended to use sourceTensor.clone().detach() or sourceTensor.clone().detach().requires_grad_(True), rather than torch.tensor(sourceTensor).\n",
      "  edge_index = torch.tensor(adj.nonzero().t().contiguous(), dtype=torch.long)  # Shape: [2, num_edges]\n",
      "/home/dalai/GNN_E/scripts/utils.py:30: UserWarning: To copy construct from a tensor, it is recommended to use sourceTensor.clone().detach() or sourceTensor.clone().detach().requires_grad_(True), rather than torch.tensor(sourceTensor).\n",
      "  edge_attr = torch.tensor(adj[edge_index[0, :], edge_index[1, :]], dtype=torch.float)\n"
     ]
    },
    {
     "name": "stdout",
     "output_type": "stream",
     "text": [
      "\n",
      "\n",
      "\n",
      "01 - 176\n"
     ]
    },
    {
     "data": {
      "text/plain": [
       "'Shape DF of single sub of single timepoint : (414, 13)'"
      ]
     },
     "metadata": {},
     "output_type": "display_data"
    },
    {
     "name": "stdout",
     "output_type": "stream",
     "text": [
      "Shape adj matrix: torch.Size([414, 414])\n",
      "Label fo the current grpah: 34\n",
      "tensor([[  0,   0,   0,  ..., 413, 413, 413],\n",
      "        [  1,   2,   3,  ..., 410, 411, 412]])\n",
      "torch.Size([2, 170982])\n",
      "tensor([1., 1., 1.,  ..., 1., 1., 1.])\n",
      "torch.Size([170982])\n",
      "GraphEmo(x=[414], edge_index=[2, 170982], edge_attr=[170982], y=34, movie='AfterTheRain', subject='01', timestamp_tr=177, adj=[414, 414])\n",
      "Graph saved at: /home/dalai/GNN_E/data/processed/all_graphs/clique_singlefmri/AfterTheRain_01_177.pt"
     ]
    },
    {
     "name": "stderr",
     "output_type": "stream",
     "text": [
      "/home/dalai/GNN_E/scripts/utils.py:26: UserWarning: To copy construct from a tensor, it is recommended to use sourceTensor.clone().detach() or sourceTensor.clone().detach().requires_grad_(True), rather than torch.tensor(sourceTensor).\n",
      "  edge_index = torch.tensor(adj.nonzero().t().contiguous(), dtype=torch.long)  # Shape: [2, num_edges]\n",
      "/home/dalai/GNN_E/scripts/utils.py:30: UserWarning: To copy construct from a tensor, it is recommended to use sourceTensor.clone().detach() or sourceTensor.clone().detach().requires_grad_(True), rather than torch.tensor(sourceTensor).\n",
      "  edge_attr = torch.tensor(adj[edge_index[0, :], edge_index[1, :]], dtype=torch.float)\n"
     ]
    },
    {
     "name": "stdout",
     "output_type": "stream",
     "text": [
      "\n",
      "\n",
      "\n",
      "01 - 177\n"
     ]
    },
    {
     "data": {
      "text/plain": [
       "'Shape DF of single sub of single timepoint : (414, 13)'"
      ]
     },
     "metadata": {},
     "output_type": "display_data"
    },
    {
     "name": "stdout",
     "output_type": "stream",
     "text": [
      "Shape adj matrix: torch.Size([414, 414])\n",
      "Label fo the current grpah: 34\n",
      "tensor([[  0,   0,   0,  ..., 413, 413, 413],\n",
      "        [  1,   2,   3,  ..., 410, 411, 412]])\n",
      "torch.Size([2, 170982])\n",
      "tensor([1., 1., 1.,  ..., 1., 1., 1.])\n",
      "torch.Size([170982])\n",
      "GraphEmo(x=[414], edge_index=[2, 170982], edge_attr=[170982], y=34, movie='AfterTheRain', subject='01', timestamp_tr=178, adj=[414, 414])\n",
      "Graph saved at: /home/dalai/GNN_E/data/processed/all_graphs/clique_singlefmri/AfterTheRain_01_178.pt"
     ]
    },
    {
     "name": "stderr",
     "output_type": "stream",
     "text": [
      "/home/dalai/GNN_E/scripts/utils.py:26: UserWarning: To copy construct from a tensor, it is recommended to use sourceTensor.clone().detach() or sourceTensor.clone().detach().requires_grad_(True), rather than torch.tensor(sourceTensor).\n",
      "  edge_index = torch.tensor(adj.nonzero().t().contiguous(), dtype=torch.long)  # Shape: [2, num_edges]\n",
      "/home/dalai/GNN_E/scripts/utils.py:30: UserWarning: To copy construct from a tensor, it is recommended to use sourceTensor.clone().detach() or sourceTensor.clone().detach().requires_grad_(True), rather than torch.tensor(sourceTensor).\n",
      "  edge_attr = torch.tensor(adj[edge_index[0, :], edge_index[1, :]], dtype=torch.float)\n"
     ]
    },
    {
     "name": "stdout",
     "output_type": "stream",
     "text": [
      "\n",
      "\n",
      "\n",
      "01 - 178\n"
     ]
    },
    {
     "data": {
      "text/plain": [
       "'Shape DF of single sub of single timepoint : (414, 13)'"
      ]
     },
     "metadata": {},
     "output_type": "display_data"
    },
    {
     "name": "stdout",
     "output_type": "stream",
     "text": [
      "Shape adj matrix: torch.Size([414, 414])\n",
      "Label fo the current grpah: 34\n",
      "tensor([[  0,   0,   0,  ..., 413, 413, 413],\n",
      "        [  1,   2,   3,  ..., 410, 411, 412]])\n",
      "torch.Size([2, 170982])\n",
      "tensor([1., 1., 1.,  ..., 1., 1., 1.])\n",
      "torch.Size([170982])\n",
      "GraphEmo(x=[414], edge_index=[2, 170982], edge_attr=[170982], y=34, movie='AfterTheRain', subject='01', timestamp_tr=179, adj=[414, 414])\n",
      "Graph saved at: /home/dalai/GNN_E/data/processed/all_graphs/clique_singlefmri/AfterTheRain_01_179.pt"
     ]
    },
    {
     "name": "stderr",
     "output_type": "stream",
     "text": [
      "/home/dalai/GNN_E/scripts/utils.py:26: UserWarning: To copy construct from a tensor, it is recommended to use sourceTensor.clone().detach() or sourceTensor.clone().detach().requires_grad_(True), rather than torch.tensor(sourceTensor).\n",
      "  edge_index = torch.tensor(adj.nonzero().t().contiguous(), dtype=torch.long)  # Shape: [2, num_edges]\n",
      "/home/dalai/GNN_E/scripts/utils.py:30: UserWarning: To copy construct from a tensor, it is recommended to use sourceTensor.clone().detach() or sourceTensor.clone().detach().requires_grad_(True), rather than torch.tensor(sourceTensor).\n",
      "  edge_attr = torch.tensor(adj[edge_index[0, :], edge_index[1, :]], dtype=torch.float)\n"
     ]
    },
    {
     "name": "stdout",
     "output_type": "stream",
     "text": [
      "\n",
      "\n",
      "\n",
      "01 - 179\n"
     ]
    },
    {
     "data": {
      "text/plain": [
       "'Shape DF of single sub of single timepoint : (414, 13)'"
      ]
     },
     "metadata": {},
     "output_type": "display_data"
    },
    {
     "name": "stdout",
     "output_type": "stream",
     "text": [
      "Shape adj matrix: torch.Size([414, 414])\n",
      "Label fo the current grpah: 34\n",
      "tensor([[  0,   0,   0,  ..., 413, 413, 413],\n",
      "        [  1,   2,   3,  ..., 410, 411, 412]])\n",
      "torch.Size([2, 170982])\n",
      "tensor([1., 1., 1.,  ..., 1., 1., 1.])\n",
      "torch.Size([170982])\n",
      "GraphEmo(x=[414], edge_index=[2, 170982], edge_attr=[170982], y=34, movie='AfterTheRain', subject='01', timestamp_tr=180, adj=[414, 414])\n",
      "Graph saved at: /home/dalai/GNN_E/data/processed/all_graphs/clique_singlefmri/AfterTheRain_01_180.pt"
     ]
    },
    {
     "name": "stderr",
     "output_type": "stream",
     "text": [
      "/home/dalai/GNN_E/scripts/utils.py:26: UserWarning: To copy construct from a tensor, it is recommended to use sourceTensor.clone().detach() or sourceTensor.clone().detach().requires_grad_(True), rather than torch.tensor(sourceTensor).\n",
      "  edge_index = torch.tensor(adj.nonzero().t().contiguous(), dtype=torch.long)  # Shape: [2, num_edges]\n",
      "/home/dalai/GNN_E/scripts/utils.py:30: UserWarning: To copy construct from a tensor, it is recommended to use sourceTensor.clone().detach() or sourceTensor.clone().detach().requires_grad_(True), rather than torch.tensor(sourceTensor).\n",
      "  edge_attr = torch.tensor(adj[edge_index[0, :], edge_index[1, :]], dtype=torch.float)\n"
     ]
    },
    {
     "name": "stdout",
     "output_type": "stream",
     "text": [
      "\n",
      "\n",
      "\n",
      "01 - 180\n"
     ]
    },
    {
     "data": {
      "text/plain": [
       "'Shape DF of single sub of single timepoint : (414, 13)'"
      ]
     },
     "metadata": {},
     "output_type": "display_data"
    },
    {
     "name": "stdout",
     "output_type": "stream",
     "text": [
      "Shape adj matrix: torch.Size([414, 414])\n",
      "Label fo the current grpah: 34\n",
      "tensor([[  0,   0,   0,  ..., 413, 413, 413],\n",
      "        [  1,   2,   3,  ..., 410, 411, 412]])\n",
      "torch.Size([2, 170982])\n",
      "tensor([1., 1., 1.,  ..., 1., 1., 1.])\n",
      "torch.Size([170982])\n",
      "GraphEmo(x=[414], edge_index=[2, 170982], edge_attr=[170982], y=34, movie='AfterTheRain', subject='01', timestamp_tr=181, adj=[414, 414])\n",
      "Graph saved at: /home/dalai/GNN_E/data/processed/all_graphs/clique_singlefmri/AfterTheRain_01_181.pt"
     ]
    },
    {
     "name": "stderr",
     "output_type": "stream",
     "text": [
      "/home/dalai/GNN_E/scripts/utils.py:26: UserWarning: To copy construct from a tensor, it is recommended to use sourceTensor.clone().detach() or sourceTensor.clone().detach().requires_grad_(True), rather than torch.tensor(sourceTensor).\n",
      "  edge_index = torch.tensor(adj.nonzero().t().contiguous(), dtype=torch.long)  # Shape: [2, num_edges]\n",
      "/home/dalai/GNN_E/scripts/utils.py:30: UserWarning: To copy construct from a tensor, it is recommended to use sourceTensor.clone().detach() or sourceTensor.clone().detach().requires_grad_(True), rather than torch.tensor(sourceTensor).\n",
      "  edge_attr = torch.tensor(adj[edge_index[0, :], edge_index[1, :]], dtype=torch.float)\n"
     ]
    },
    {
     "name": "stdout",
     "output_type": "stream",
     "text": [
      "\n",
      "\n",
      "\n",
      "01 - 181\n"
     ]
    },
    {
     "data": {
      "text/plain": [
       "'Shape DF of single sub of single timepoint : (414, 13)'"
      ]
     },
     "metadata": {},
     "output_type": "display_data"
    },
    {
     "name": "stdout",
     "output_type": "stream",
     "text": [
      "Shape adj matrix: torch.Size([414, 414])\n",
      "Label fo the current grpah: 34\n",
      "tensor([[  0,   0,   0,  ..., 413, 413, 413],\n",
      "        [  1,   2,   3,  ..., 410, 411, 412]])\n",
      "torch.Size([2, 170982])\n",
      "tensor([1., 1., 1.,  ..., 1., 1., 1.])\n",
      "torch.Size([170982])\n",
      "GraphEmo(x=[414], edge_index=[2, 170982], edge_attr=[170982], y=34, movie='AfterTheRain', subject='01', timestamp_tr=182, adj=[414, 414])\n",
      "Graph saved at: /home/dalai/GNN_E/data/processed/all_graphs/clique_singlefmri/AfterTheRain_01_182.pt"
     ]
    },
    {
     "name": "stderr",
     "output_type": "stream",
     "text": [
      "/home/dalai/GNN_E/scripts/utils.py:26: UserWarning: To copy construct from a tensor, it is recommended to use sourceTensor.clone().detach() or sourceTensor.clone().detach().requires_grad_(True), rather than torch.tensor(sourceTensor).\n",
      "  edge_index = torch.tensor(adj.nonzero().t().contiguous(), dtype=torch.long)  # Shape: [2, num_edges]\n",
      "/home/dalai/GNN_E/scripts/utils.py:30: UserWarning: To copy construct from a tensor, it is recommended to use sourceTensor.clone().detach() or sourceTensor.clone().detach().requires_grad_(True), rather than torch.tensor(sourceTensor).\n",
      "  edge_attr = torch.tensor(adj[edge_index[0, :], edge_index[1, :]], dtype=torch.float)\n"
     ]
    },
    {
     "name": "stdout",
     "output_type": "stream",
     "text": [
      "\n",
      "\n",
      "\n",
      "01 - 182\n"
     ]
    },
    {
     "data": {
      "text/plain": [
       "'Shape DF of single sub of single timepoint : (414, 13)'"
      ]
     },
     "metadata": {},
     "output_type": "display_data"
    },
    {
     "name": "stdout",
     "output_type": "stream",
     "text": [
      "Shape adj matrix: torch.Size([414, 414])\n",
      "Label fo the current grpah: 35\n",
      "tensor([[  0,   0,   0,  ..., 413, 413, 413],\n",
      "        [  1,   2,   3,  ..., 410, 411, 412]])\n",
      "torch.Size([2, 170982])\n",
      "tensor([1., 1., 1.,  ..., 1., 1., 1.])\n",
      "torch.Size([170982])\n",
      "GraphEmo(x=[414], edge_index=[2, 170982], edge_attr=[170982], y=35, movie='AfterTheRain', subject='01', timestamp_tr=183, adj=[414, 414])\n",
      "Graph saved at: /home/dalai/GNN_E/data/processed/all_graphs/clique_singlefmri/AfterTheRain_01_183.pt"
     ]
    },
    {
     "name": "stderr",
     "output_type": "stream",
     "text": [
      "/home/dalai/GNN_E/scripts/utils.py:26: UserWarning: To copy construct from a tensor, it is recommended to use sourceTensor.clone().detach() or sourceTensor.clone().detach().requires_grad_(True), rather than torch.tensor(sourceTensor).\n",
      "  edge_index = torch.tensor(adj.nonzero().t().contiguous(), dtype=torch.long)  # Shape: [2, num_edges]\n",
      "/home/dalai/GNN_E/scripts/utils.py:30: UserWarning: To copy construct from a tensor, it is recommended to use sourceTensor.clone().detach() or sourceTensor.clone().detach().requires_grad_(True), rather than torch.tensor(sourceTensor).\n",
      "  edge_attr = torch.tensor(adj[edge_index[0, :], edge_index[1, :]], dtype=torch.float)\n"
     ]
    },
    {
     "name": "stdout",
     "output_type": "stream",
     "text": [
      "\n",
      "\n",
      "\n",
      "01 - 183\n"
     ]
    },
    {
     "data": {
      "text/plain": [
       "'Shape DF of single sub of single timepoint : (414, 13)'"
      ]
     },
     "metadata": {},
     "output_type": "display_data"
    },
    {
     "name": "stdout",
     "output_type": "stream",
     "text": [
      "Shape adj matrix: torch.Size([414, 414])\n",
      "Label fo the current grpah: 35\n",
      "tensor([[  0,   0,   0,  ..., 413, 413, 413],\n",
      "        [  1,   2,   3,  ..., 410, 411, 412]])\n",
      "torch.Size([2, 170982])\n",
      "tensor([1., 1., 1.,  ..., 1., 1., 1.])\n",
      "torch.Size([170982])\n",
      "GraphEmo(x=[414], edge_index=[2, 170982], edge_attr=[170982], y=35, movie='AfterTheRain', subject='01', timestamp_tr=184, adj=[414, 414])\n",
      "Graph saved at: /home/dalai/GNN_E/data/processed/all_graphs/clique_singlefmri/AfterTheRain_01_184.pt"
     ]
    },
    {
     "name": "stderr",
     "output_type": "stream",
     "text": [
      "/home/dalai/GNN_E/scripts/utils.py:26: UserWarning: To copy construct from a tensor, it is recommended to use sourceTensor.clone().detach() or sourceTensor.clone().detach().requires_grad_(True), rather than torch.tensor(sourceTensor).\n",
      "  edge_index = torch.tensor(adj.nonzero().t().contiguous(), dtype=torch.long)  # Shape: [2, num_edges]\n",
      "/home/dalai/GNN_E/scripts/utils.py:30: UserWarning: To copy construct from a tensor, it is recommended to use sourceTensor.clone().detach() or sourceTensor.clone().detach().requires_grad_(True), rather than torch.tensor(sourceTensor).\n",
      "  edge_attr = torch.tensor(adj[edge_index[0, :], edge_index[1, :]], dtype=torch.float)\n"
     ]
    },
    {
     "name": "stdout",
     "output_type": "stream",
     "text": [
      "\n",
      "\n",
      "\n",
      "01 - 184\n"
     ]
    },
    {
     "data": {
      "text/plain": [
       "'Shape DF of single sub of single timepoint : (414, 13)'"
      ]
     },
     "metadata": {},
     "output_type": "display_data"
    },
    {
     "name": "stdout",
     "output_type": "stream",
     "text": [
      "Shape adj matrix: torch.Size([414, 414])\n",
      "Label fo the current grpah: 35\n",
      "tensor([[  0,   0,   0,  ..., 413, 413, 413],\n",
      "        [  1,   2,   3,  ..., 410, 411, 412]])\n",
      "torch.Size([2, 170982])\n",
      "tensor([1., 1., 1.,  ..., 1., 1., 1.])\n",
      "torch.Size([170982])\n",
      "GraphEmo(x=[414], edge_index=[2, 170982], edge_attr=[170982], y=35, movie='AfterTheRain', subject='01', timestamp_tr=185, adj=[414, 414])\n",
      "Graph saved at: /home/dalai/GNN_E/data/processed/all_graphs/clique_singlefmri/AfterTheRain_01_185.pt"
     ]
    },
    {
     "name": "stderr",
     "output_type": "stream",
     "text": [
      "/home/dalai/GNN_E/scripts/utils.py:26: UserWarning: To copy construct from a tensor, it is recommended to use sourceTensor.clone().detach() or sourceTensor.clone().detach().requires_grad_(True), rather than torch.tensor(sourceTensor).\n",
      "  edge_index = torch.tensor(adj.nonzero().t().contiguous(), dtype=torch.long)  # Shape: [2, num_edges]\n",
      "/home/dalai/GNN_E/scripts/utils.py:30: UserWarning: To copy construct from a tensor, it is recommended to use sourceTensor.clone().detach() or sourceTensor.clone().detach().requires_grad_(True), rather than torch.tensor(sourceTensor).\n",
      "  edge_attr = torch.tensor(adj[edge_index[0, :], edge_index[1, :]], dtype=torch.float)\n"
     ]
    },
    {
     "name": "stdout",
     "output_type": "stream",
     "text": [
      "\n",
      "\n",
      "\n",
      "01 - 185\n"
     ]
    },
    {
     "data": {
      "text/plain": [
       "'Shape DF of single sub of single timepoint : (414, 13)'"
      ]
     },
     "metadata": {},
     "output_type": "display_data"
    },
    {
     "name": "stdout",
     "output_type": "stream",
     "text": [
      "Shape adj matrix: torch.Size([414, 414])\n",
      "Label fo the current grpah: 35\n",
      "tensor([[  0,   0,   0,  ..., 413, 413, 413],\n",
      "        [  1,   2,   3,  ..., 410, 411, 412]])\n",
      "torch.Size([2, 170982])\n",
      "tensor([1., 1., 1.,  ..., 1., 1., 1.])\n",
      "torch.Size([170982])\n",
      "GraphEmo(x=[414], edge_index=[2, 170982], edge_attr=[170982], y=35, movie='AfterTheRain', subject='01', timestamp_tr=186, adj=[414, 414])\n",
      "Graph saved at: /home/dalai/GNN_E/data/processed/all_graphs/clique_singlefmri/AfterTheRain_01_186.pt"
     ]
    },
    {
     "name": "stderr",
     "output_type": "stream",
     "text": [
      "/home/dalai/GNN_E/scripts/utils.py:26: UserWarning: To copy construct from a tensor, it is recommended to use sourceTensor.clone().detach() or sourceTensor.clone().detach().requires_grad_(True), rather than torch.tensor(sourceTensor).\n",
      "  edge_index = torch.tensor(adj.nonzero().t().contiguous(), dtype=torch.long)  # Shape: [2, num_edges]\n",
      "/home/dalai/GNN_E/scripts/utils.py:30: UserWarning: To copy construct from a tensor, it is recommended to use sourceTensor.clone().detach() or sourceTensor.clone().detach().requires_grad_(True), rather than torch.tensor(sourceTensor).\n",
      "  edge_attr = torch.tensor(adj[edge_index[0, :], edge_index[1, :]], dtype=torch.float)\n"
     ]
    },
    {
     "name": "stdout",
     "output_type": "stream",
     "text": [
      "\n",
      "\n",
      "\n",
      "01 - 186\n"
     ]
    },
    {
     "data": {
      "text/plain": [
       "'Shape DF of single sub of single timepoint : (414, 13)'"
      ]
     },
     "metadata": {},
     "output_type": "display_data"
    },
    {
     "name": "stdout",
     "output_type": "stream",
     "text": [
      "Shape adj matrix: torch.Size([414, 414])\n",
      "Label fo the current grpah: 38\n",
      "tensor([[  0,   0,   0,  ..., 413, 413, 413],\n",
      "        [  1,   2,   3,  ..., 410, 411, 412]])\n",
      "torch.Size([2, 170982])\n",
      "tensor([1., 1., 1.,  ..., 1., 1., 1.])\n",
      "torch.Size([170982])\n",
      "GraphEmo(x=[414], edge_index=[2, 170982], edge_attr=[170982], y=38, movie='AfterTheRain', subject='01', timestamp_tr=187, adj=[414, 414])\n",
      "Graph saved at: /home/dalai/GNN_E/data/processed/all_graphs/clique_singlefmri/AfterTheRain_01_187.pt"
     ]
    },
    {
     "name": "stderr",
     "output_type": "stream",
     "text": [
      "/home/dalai/GNN_E/scripts/utils.py:26: UserWarning: To copy construct from a tensor, it is recommended to use sourceTensor.clone().detach() or sourceTensor.clone().detach().requires_grad_(True), rather than torch.tensor(sourceTensor).\n",
      "  edge_index = torch.tensor(adj.nonzero().t().contiguous(), dtype=torch.long)  # Shape: [2, num_edges]\n",
      "/home/dalai/GNN_E/scripts/utils.py:30: UserWarning: To copy construct from a tensor, it is recommended to use sourceTensor.clone().detach() or sourceTensor.clone().detach().requires_grad_(True), rather than torch.tensor(sourceTensor).\n",
      "  edge_attr = torch.tensor(adj[edge_index[0, :], edge_index[1, :]], dtype=torch.float)\n"
     ]
    },
    {
     "name": "stdout",
     "output_type": "stream",
     "text": [
      "\n",
      "\n",
      "\n",
      "01 - 187\n"
     ]
    },
    {
     "data": {
      "text/plain": [
       "'Shape DF of single sub of single timepoint : (414, 13)'"
      ]
     },
     "metadata": {},
     "output_type": "display_data"
    },
    {
     "name": "stdout",
     "output_type": "stream",
     "text": [
      "Shape adj matrix: torch.Size([414, 414])\n",
      "Label fo the current grpah: 38\n",
      "tensor([[  0,   0,   0,  ..., 413, 413, 413],\n",
      "        [  1,   2,   3,  ..., 410, 411, 412]])\n",
      "torch.Size([2, 170982])\n",
      "tensor([1., 1., 1.,  ..., 1., 1., 1.])\n",
      "torch.Size([170982])\n",
      "GraphEmo(x=[414], edge_index=[2, 170982], edge_attr=[170982], y=38, movie='AfterTheRain', subject='01', timestamp_tr=188, adj=[414, 414])\n",
      "Graph saved at: /home/dalai/GNN_E/data/processed/all_graphs/clique_singlefmri/AfterTheRain_01_188.pt"
     ]
    },
    {
     "name": "stderr",
     "output_type": "stream",
     "text": [
      "/home/dalai/GNN_E/scripts/utils.py:26: UserWarning: To copy construct from a tensor, it is recommended to use sourceTensor.clone().detach() or sourceTensor.clone().detach().requires_grad_(True), rather than torch.tensor(sourceTensor).\n",
      "  edge_index = torch.tensor(adj.nonzero().t().contiguous(), dtype=torch.long)  # Shape: [2, num_edges]\n",
      "/home/dalai/GNN_E/scripts/utils.py:30: UserWarning: To copy construct from a tensor, it is recommended to use sourceTensor.clone().detach() or sourceTensor.clone().detach().requires_grad_(True), rather than torch.tensor(sourceTensor).\n",
      "  edge_attr = torch.tensor(adj[edge_index[0, :], edge_index[1, :]], dtype=torch.float)\n"
     ]
    },
    {
     "name": "stdout",
     "output_type": "stream",
     "text": [
      "\n",
      "\n",
      "\n",
      "01 - 188\n"
     ]
    },
    {
     "data": {
      "text/plain": [
       "'Shape DF of single sub of single timepoint : (414, 13)'"
      ]
     },
     "metadata": {},
     "output_type": "display_data"
    },
    {
     "name": "stdout",
     "output_type": "stream",
     "text": [
      "Shape adj matrix: torch.Size([414, 414])\n",
      "Label fo the current grpah: 38\n",
      "tensor([[  0,   0,   0,  ..., 413, 413, 413],\n",
      "        [  1,   2,   3,  ..., 410, 411, 412]])\n",
      "torch.Size([2, 170982])\n",
      "tensor([1., 1., 1.,  ..., 1., 1., 1.])\n",
      "torch.Size([170982])\n",
      "GraphEmo(x=[414], edge_index=[2, 170982], edge_attr=[170982], y=38, movie='AfterTheRain', subject='01', timestamp_tr=189, adj=[414, 414])\n",
      "Graph saved at: /home/dalai/GNN_E/data/processed/all_graphs/clique_singlefmri/AfterTheRain_01_189.pt"
     ]
    },
    {
     "name": "stderr",
     "output_type": "stream",
     "text": [
      "/home/dalai/GNN_E/scripts/utils.py:26: UserWarning: To copy construct from a tensor, it is recommended to use sourceTensor.clone().detach() or sourceTensor.clone().detach().requires_grad_(True), rather than torch.tensor(sourceTensor).\n",
      "  edge_index = torch.tensor(adj.nonzero().t().contiguous(), dtype=torch.long)  # Shape: [2, num_edges]\n",
      "/home/dalai/GNN_E/scripts/utils.py:30: UserWarning: To copy construct from a tensor, it is recommended to use sourceTensor.clone().detach() or sourceTensor.clone().detach().requires_grad_(True), rather than torch.tensor(sourceTensor).\n",
      "  edge_attr = torch.tensor(adj[edge_index[0, :], edge_index[1, :]], dtype=torch.float)\n"
     ]
    },
    {
     "name": "stdout",
     "output_type": "stream",
     "text": [
      "\n",
      "\n",
      "\n",
      "01 - 189\n"
     ]
    },
    {
     "data": {
      "text/plain": [
       "'Shape DF of single sub of single timepoint : (414, 13)'"
      ]
     },
     "metadata": {},
     "output_type": "display_data"
    },
    {
     "name": "stdout",
     "output_type": "stream",
     "text": [
      "Shape adj matrix: torch.Size([414, 414])\n",
      "Label fo the current grpah: 38\n",
      "tensor([[  0,   0,   0,  ..., 413, 413, 413],\n",
      "        [  1,   2,   3,  ..., 410, 411, 412]])\n",
      "torch.Size([2, 170982])\n",
      "tensor([1., 1., 1.,  ..., 1., 1., 1.])\n",
      "torch.Size([170982])\n",
      "GraphEmo(x=[414], edge_index=[2, 170982], edge_attr=[170982], y=38, movie='AfterTheRain', subject='01', timestamp_tr=190, adj=[414, 414])\n",
      "Graph saved at: /home/dalai/GNN_E/data/processed/all_graphs/clique_singlefmri/AfterTheRain_01_190.pt"
     ]
    },
    {
     "name": "stderr",
     "output_type": "stream",
     "text": [
      "/home/dalai/GNN_E/scripts/utils.py:26: UserWarning: To copy construct from a tensor, it is recommended to use sourceTensor.clone().detach() or sourceTensor.clone().detach().requires_grad_(True), rather than torch.tensor(sourceTensor).\n",
      "  edge_index = torch.tensor(adj.nonzero().t().contiguous(), dtype=torch.long)  # Shape: [2, num_edges]\n",
      "/home/dalai/GNN_E/scripts/utils.py:30: UserWarning: To copy construct from a tensor, it is recommended to use sourceTensor.clone().detach() or sourceTensor.clone().detach().requires_grad_(True), rather than torch.tensor(sourceTensor).\n",
      "  edge_attr = torch.tensor(adj[edge_index[0, :], edge_index[1, :]], dtype=torch.float)\n"
     ]
    },
    {
     "name": "stdout",
     "output_type": "stream",
     "text": [
      "\n",
      "\n",
      "\n",
      "01 - 190\n"
     ]
    },
    {
     "data": {
      "text/plain": [
       "'Shape DF of single sub of single timepoint : (414, 13)'"
      ]
     },
     "metadata": {},
     "output_type": "display_data"
    },
    {
     "name": "stdout",
     "output_type": "stream",
     "text": [
      "Shape adj matrix: torch.Size([414, 414])\n",
      "Label fo the current grpah: 38\n",
      "tensor([[  0,   0,   0,  ..., 413, 413, 413],\n",
      "        [  1,   2,   3,  ..., 410, 411, 412]])\n",
      "torch.Size([2, 170982])\n",
      "tensor([1., 1., 1.,  ..., 1., 1., 1.])\n",
      "torch.Size([170982])\n",
      "GraphEmo(x=[414], edge_index=[2, 170982], edge_attr=[170982], y=38, movie='AfterTheRain', subject='01', timestamp_tr=191, adj=[414, 414])\n",
      "Graph saved at: /home/dalai/GNN_E/data/processed/all_graphs/clique_singlefmri/AfterTheRain_01_191.pt"
     ]
    },
    {
     "name": "stderr",
     "output_type": "stream",
     "text": [
      "/home/dalai/GNN_E/scripts/utils.py:26: UserWarning: To copy construct from a tensor, it is recommended to use sourceTensor.clone().detach() or sourceTensor.clone().detach().requires_grad_(True), rather than torch.tensor(sourceTensor).\n",
      "  edge_index = torch.tensor(adj.nonzero().t().contiguous(), dtype=torch.long)  # Shape: [2, num_edges]\n",
      "/home/dalai/GNN_E/scripts/utils.py:30: UserWarning: To copy construct from a tensor, it is recommended to use sourceTensor.clone().detach() or sourceTensor.clone().detach().requires_grad_(True), rather than torch.tensor(sourceTensor).\n",
      "  edge_attr = torch.tensor(adj[edge_index[0, :], edge_index[1, :]], dtype=torch.float)\n"
     ]
    },
    {
     "name": "stdout",
     "output_type": "stream",
     "text": [
      "\n",
      "\n",
      "\n",
      "01 - 191\n"
     ]
    },
    {
     "data": {
      "text/plain": [
       "'Shape DF of single sub of single timepoint : (414, 13)'"
      ]
     },
     "metadata": {},
     "output_type": "display_data"
    },
    {
     "name": "stdout",
     "output_type": "stream",
     "text": [
      "Shape adj matrix: torch.Size([414, 414])\n",
      "Label fo the current grpah: 32\n",
      "tensor([[  0,   0,   0,  ..., 413, 413, 413],\n",
      "        [  1,   2,   3,  ..., 410, 411, 412]])\n",
      "torch.Size([2, 170982])\n",
      "tensor([1., 1., 1.,  ..., 1., 1., 1.])\n",
      "torch.Size([170982])\n",
      "GraphEmo(x=[414], edge_index=[2, 170982], edge_attr=[170982], y=32, movie='AfterTheRain', subject='01', timestamp_tr=192, adj=[414, 414])\n",
      "Graph saved at: /home/dalai/GNN_E/data/processed/all_graphs/clique_singlefmri/AfterTheRain_01_192.pt"
     ]
    },
    {
     "name": "stderr",
     "output_type": "stream",
     "text": [
      "/home/dalai/GNN_E/scripts/utils.py:26: UserWarning: To copy construct from a tensor, it is recommended to use sourceTensor.clone().detach() or sourceTensor.clone().detach().requires_grad_(True), rather than torch.tensor(sourceTensor).\n",
      "  edge_index = torch.tensor(adj.nonzero().t().contiguous(), dtype=torch.long)  # Shape: [2, num_edges]\n",
      "/home/dalai/GNN_E/scripts/utils.py:30: UserWarning: To copy construct from a tensor, it is recommended to use sourceTensor.clone().detach() or sourceTensor.clone().detach().requires_grad_(True), rather than torch.tensor(sourceTensor).\n",
      "  edge_attr = torch.tensor(adj[edge_index[0, :], edge_index[1, :]], dtype=torch.float)\n"
     ]
    },
    {
     "name": "stdout",
     "output_type": "stream",
     "text": [
      "\n",
      "\n",
      "\n",
      "01 - 192\n"
     ]
    },
    {
     "data": {
      "text/plain": [
       "'Shape DF of single sub of single timepoint : (414, 13)'"
      ]
     },
     "metadata": {},
     "output_type": "display_data"
    },
    {
     "name": "stdout",
     "output_type": "stream",
     "text": [
      "Shape adj matrix: torch.Size([414, 414])\n",
      "Label fo the current grpah: 32\n",
      "tensor([[  0,   0,   0,  ..., 413, 413, 413],\n",
      "        [  1,   2,   3,  ..., 410, 411, 412]])\n",
      "torch.Size([2, 170982])\n",
      "tensor([1., 1., 1.,  ..., 1., 1., 1.])\n",
      "torch.Size([170982])\n",
      "GraphEmo(x=[414], edge_index=[2, 170982], edge_attr=[170982], y=32, movie='AfterTheRain', subject='01', timestamp_tr=193, adj=[414, 414])\n",
      "Graph saved at: /home/dalai/GNN_E/data/processed/all_graphs/clique_singlefmri/AfterTheRain_01_193.pt"
     ]
    },
    {
     "name": "stderr",
     "output_type": "stream",
     "text": [
      "/home/dalai/GNN_E/scripts/utils.py:26: UserWarning: To copy construct from a tensor, it is recommended to use sourceTensor.clone().detach() or sourceTensor.clone().detach().requires_grad_(True), rather than torch.tensor(sourceTensor).\n",
      "  edge_index = torch.tensor(adj.nonzero().t().contiguous(), dtype=torch.long)  # Shape: [2, num_edges]\n",
      "/home/dalai/GNN_E/scripts/utils.py:30: UserWarning: To copy construct from a tensor, it is recommended to use sourceTensor.clone().detach() or sourceTensor.clone().detach().requires_grad_(True), rather than torch.tensor(sourceTensor).\n",
      "  edge_attr = torch.tensor(adj[edge_index[0, :], edge_index[1, :]], dtype=torch.float)\n"
     ]
    },
    {
     "name": "stdout",
     "output_type": "stream",
     "text": [
      "\n",
      "\n",
      "\n",
      "01 - 193\n"
     ]
    },
    {
     "data": {
      "text/plain": [
       "'Shape DF of single sub of single timepoint : (414, 13)'"
      ]
     },
     "metadata": {},
     "output_type": "display_data"
    },
    {
     "name": "stdout",
     "output_type": "stream",
     "text": [
      "Shape adj matrix: torch.Size([414, 414])\n",
      "Label fo the current grpah: 32\n",
      "tensor([[  0,   0,   0,  ..., 413, 413, 413],\n",
      "        [  1,   2,   3,  ..., 410, 411, 412]])\n",
      "torch.Size([2, 170982])\n",
      "tensor([1., 1., 1.,  ..., 1., 1., 1.])\n",
      "torch.Size([170982])\n",
      "GraphEmo(x=[414], edge_index=[2, 170982], edge_attr=[170982], y=32, movie='AfterTheRain', subject='01', timestamp_tr=194, adj=[414, 414])\n",
      "Graph saved at: /home/dalai/GNN_E/data/processed/all_graphs/clique_singlefmri/AfterTheRain_01_194.pt"
     ]
    },
    {
     "name": "stderr",
     "output_type": "stream",
     "text": [
      "/home/dalai/GNN_E/scripts/utils.py:26: UserWarning: To copy construct from a tensor, it is recommended to use sourceTensor.clone().detach() or sourceTensor.clone().detach().requires_grad_(True), rather than torch.tensor(sourceTensor).\n",
      "  edge_index = torch.tensor(adj.nonzero().t().contiguous(), dtype=torch.long)  # Shape: [2, num_edges]\n",
      "/home/dalai/GNN_E/scripts/utils.py:30: UserWarning: To copy construct from a tensor, it is recommended to use sourceTensor.clone().detach() or sourceTensor.clone().detach().requires_grad_(True), rather than torch.tensor(sourceTensor).\n",
      "  edge_attr = torch.tensor(adj[edge_index[0, :], edge_index[1, :]], dtype=torch.float)\n"
     ]
    },
    {
     "name": "stdout",
     "output_type": "stream",
     "text": [
      "\n",
      "\n",
      "\n",
      "01 - 194\n"
     ]
    },
    {
     "data": {
      "text/plain": [
       "'Shape DF of single sub of single timepoint : (414, 13)'"
      ]
     },
     "metadata": {},
     "output_type": "display_data"
    },
    {
     "name": "stdout",
     "output_type": "stream",
     "text": [
      "Shape adj matrix: torch.Size([414, 414])\n",
      "Label fo the current grpah: 34\n",
      "tensor([[  0,   0,   0,  ..., 413, 413, 413],\n",
      "        [  1,   2,   3,  ..., 410, 411, 412]])\n",
      "torch.Size([2, 170982])\n",
      "tensor([1., 1., 1.,  ..., 1., 1., 1.])\n",
      "torch.Size([170982])\n",
      "GraphEmo(x=[414], edge_index=[2, 170982], edge_attr=[170982], y=34, movie='AfterTheRain', subject='01', timestamp_tr=195, adj=[414, 414])\n",
      "Graph saved at: /home/dalai/GNN_E/data/processed/all_graphs/clique_singlefmri/AfterTheRain_01_195.pt"
     ]
    },
    {
     "name": "stderr",
     "output_type": "stream",
     "text": [
      "/home/dalai/GNN_E/scripts/utils.py:26: UserWarning: To copy construct from a tensor, it is recommended to use sourceTensor.clone().detach() or sourceTensor.clone().detach().requires_grad_(True), rather than torch.tensor(sourceTensor).\n",
      "  edge_index = torch.tensor(adj.nonzero().t().contiguous(), dtype=torch.long)  # Shape: [2, num_edges]\n",
      "/home/dalai/GNN_E/scripts/utils.py:30: UserWarning: To copy construct from a tensor, it is recommended to use sourceTensor.clone().detach() or sourceTensor.clone().detach().requires_grad_(True), rather than torch.tensor(sourceTensor).\n",
      "  edge_attr = torch.tensor(adj[edge_index[0, :], edge_index[1, :]], dtype=torch.float)\n"
     ]
    },
    {
     "name": "stdout",
     "output_type": "stream",
     "text": [
      "\n",
      "\n",
      "\n",
      "01 - 195\n"
     ]
    },
    {
     "data": {
      "text/plain": [
       "'Shape DF of single sub of single timepoint : (414, 13)'"
      ]
     },
     "metadata": {},
     "output_type": "display_data"
    },
    {
     "name": "stdout",
     "output_type": "stream",
     "text": [
      "Shape adj matrix: torch.Size([414, 414])\n",
      "Label fo the current grpah: 34\n",
      "tensor([[  0,   0,   0,  ..., 413, 413, 413],\n",
      "        [  1,   2,   3,  ..., 410, 411, 412]])\n",
      "torch.Size([2, 170982])\n",
      "tensor([1., 1., 1.,  ..., 1., 1., 1.])\n",
      "torch.Size([170982])\n",
      "GraphEmo(x=[414], edge_index=[2, 170982], edge_attr=[170982], y=34, movie='AfterTheRain', subject='01', timestamp_tr=196, adj=[414, 414])\n",
      "Graph saved at: /home/dalai/GNN_E/data/processed/all_graphs/clique_singlefmri/AfterTheRain_01_196.pt"
     ]
    },
    {
     "name": "stderr",
     "output_type": "stream",
     "text": [
      "/home/dalai/GNN_E/scripts/utils.py:26: UserWarning: To copy construct from a tensor, it is recommended to use sourceTensor.clone().detach() or sourceTensor.clone().detach().requires_grad_(True), rather than torch.tensor(sourceTensor).\n",
      "  edge_index = torch.tensor(adj.nonzero().t().contiguous(), dtype=torch.long)  # Shape: [2, num_edges]\n",
      "/home/dalai/GNN_E/scripts/utils.py:30: UserWarning: To copy construct from a tensor, it is recommended to use sourceTensor.clone().detach() or sourceTensor.clone().detach().requires_grad_(True), rather than torch.tensor(sourceTensor).\n",
      "  edge_attr = torch.tensor(adj[edge_index[0, :], edge_index[1, :]], dtype=torch.float)\n"
     ]
    },
    {
     "name": "stdout",
     "output_type": "stream",
     "text": [
      "\n",
      "\n",
      "\n",
      "01 - 196\n"
     ]
    },
    {
     "data": {
      "text/plain": [
       "'Shape DF of single sub of single timepoint : (414, 13)'"
      ]
     },
     "metadata": {},
     "output_type": "display_data"
    },
    {
     "name": "stdout",
     "output_type": "stream",
     "text": [
      "Shape adj matrix: torch.Size([414, 414])\n",
      "Label fo the current grpah: 34\n",
      "tensor([[  0,   0,   0,  ..., 413, 413, 413],\n",
      "        [  1,   2,   3,  ..., 410, 411, 412]])\n",
      "torch.Size([2, 170982])\n",
      "tensor([1., 1., 1.,  ..., 1., 1., 1.])\n",
      "torch.Size([170982])\n",
      "GraphEmo(x=[414], edge_index=[2, 170982], edge_attr=[170982], y=34, movie='AfterTheRain', subject='01', timestamp_tr=197, adj=[414, 414])\n",
      "Graph saved at: /home/dalai/GNN_E/data/processed/all_graphs/clique_singlefmri/AfterTheRain_01_197.pt"
     ]
    },
    {
     "name": "stderr",
     "output_type": "stream",
     "text": [
      "/home/dalai/GNN_E/scripts/utils.py:26: UserWarning: To copy construct from a tensor, it is recommended to use sourceTensor.clone().detach() or sourceTensor.clone().detach().requires_grad_(True), rather than torch.tensor(sourceTensor).\n",
      "  edge_index = torch.tensor(adj.nonzero().t().contiguous(), dtype=torch.long)  # Shape: [2, num_edges]\n",
      "/home/dalai/GNN_E/scripts/utils.py:30: UserWarning: To copy construct from a tensor, it is recommended to use sourceTensor.clone().detach() or sourceTensor.clone().detach().requires_grad_(True), rather than torch.tensor(sourceTensor).\n",
      "  edge_attr = torch.tensor(adj[edge_index[0, :], edge_index[1, :]], dtype=torch.float)\n"
     ]
    },
    {
     "name": "stdout",
     "output_type": "stream",
     "text": [
      "\n",
      "\n",
      "\n",
      "01 - 197\n"
     ]
    },
    {
     "data": {
      "text/plain": [
       "'Shape DF of single sub of single timepoint : (414, 13)'"
      ]
     },
     "metadata": {},
     "output_type": "display_data"
    },
    {
     "name": "stdout",
     "output_type": "stream",
     "text": [
      "Shape adj matrix: torch.Size([414, 414])\n",
      "Label fo the current grpah: 34\n",
      "tensor([[  0,   0,   0,  ..., 413, 413, 413],\n",
      "        [  1,   2,   3,  ..., 410, 411, 412]])\n",
      "torch.Size([2, 170982])\n",
      "tensor([1., 1., 1.,  ..., 1., 1., 1.])\n",
      "torch.Size([170982])\n",
      "GraphEmo(x=[414], edge_index=[2, 170982], edge_attr=[170982], y=34, movie='AfterTheRain', subject='01', timestamp_tr=198, adj=[414, 414])\n"
     ]
    },
    {
     "name": "stderr",
     "output_type": "stream",
     "text": [
      "/home/dalai/GNN_E/scripts/utils.py:26: UserWarning: To copy construct from a tensor, it is recommended to use sourceTensor.clone().detach() or sourceTensor.clone().detach().requires_grad_(True), rather than torch.tensor(sourceTensor).\n",
      "  edge_index = torch.tensor(adj.nonzero().t().contiguous(), dtype=torch.long)  # Shape: [2, num_edges]\n",
      "/home/dalai/GNN_E/scripts/utils.py:30: UserWarning: To copy construct from a tensor, it is recommended to use sourceTensor.clone().detach() or sourceTensor.clone().detach().requires_grad_(True), rather than torch.tensor(sourceTensor).\n",
      "  edge_attr = torch.tensor(adj[edge_index[0, :], edge_index[1, :]], dtype=torch.float)\n"
     ]
    },
    {
     "name": "stdout",
     "output_type": "stream",
     "text": [
      "Graph saved at: /home/dalai/GNN_E/data/processed/all_graphs/clique_singlefmri/AfterTheRain_01_198.pt\n",
      "\n",
      "\n",
      "01 - 198\n"
     ]
    },
    {
     "data": {
      "text/plain": [
       "'Shape DF of single sub of single timepoint : (414, 13)'"
      ]
     },
     "metadata": {},
     "output_type": "display_data"
    },
    {
     "name": "stdout",
     "output_type": "stream",
     "text": [
      "Shape adj matrix: torch.Size([414, 414])\n",
      "Label fo the current grpah: 34\n",
      "tensor([[  0,   0,   0,  ..., 413, 413, 413],\n",
      "        [  1,   2,   3,  ..., 410, 411, 412]])\n",
      "torch.Size([2, 170982])\n",
      "tensor([1., 1., 1.,  ..., 1., 1., 1.])\n",
      "torch.Size([170982])\n",
      "GraphEmo(x=[414], edge_index=[2, 170982], edge_attr=[170982], y=34, movie='AfterTheRain', subject='01', timestamp_tr=199, adj=[414, 414])\n"
     ]
    },
    {
     "name": "stderr",
     "output_type": "stream",
     "text": [
      "/home/dalai/GNN_E/scripts/utils.py:26: UserWarning: To copy construct from a tensor, it is recommended to use sourceTensor.clone().detach() or sourceTensor.clone().detach().requires_grad_(True), rather than torch.tensor(sourceTensor).\n",
      "  edge_index = torch.tensor(adj.nonzero().t().contiguous(), dtype=torch.long)  # Shape: [2, num_edges]\n",
      "/home/dalai/GNN_E/scripts/utils.py:30: UserWarning: To copy construct from a tensor, it is recommended to use sourceTensor.clone().detach() or sourceTensor.clone().detach().requires_grad_(True), rather than torch.tensor(sourceTensor).\n",
      "  edge_attr = torch.tensor(adj[edge_index[0, :], edge_index[1, :]], dtype=torch.float)\n"
     ]
    },
    {
     "name": "stdout",
     "output_type": "stream",
     "text": [
      "Graph saved at: /home/dalai/GNN_E/data/processed/all_graphs/clique_singlefmri/AfterTheRain_01_199.pt\n",
      "\n",
      "\n",
      "01 - 199\n"
     ]
    },
    {
     "data": {
      "text/plain": [
       "'Shape DF of single sub of single timepoint : (414, 13)'"
      ]
     },
     "metadata": {},
     "output_type": "display_data"
    },
    {
     "name": "stdout",
     "output_type": "stream",
     "text": [
      "Shape adj matrix: torch.Size([414, 414])\n",
      "Label fo the current grpah: 34\n",
      "tensor([[  0,   0,   0,  ..., 413, 413, 413],\n",
      "        [  1,   2,   3,  ..., 410, 411, 412]])\n",
      "torch.Size([2, 170982])\n",
      "tensor([1., 1., 1.,  ..., 1., 1., 1.])\n",
      "torch.Size([170982])\n",
      "GraphEmo(x=[414], edge_index=[2, 170982], edge_attr=[170982], y=34, movie='AfterTheRain', subject='01', timestamp_tr=200, adj=[414, 414])\n"
     ]
    },
    {
     "name": "stderr",
     "output_type": "stream",
     "text": [
      "/home/dalai/GNN_E/scripts/utils.py:26: UserWarning: To copy construct from a tensor, it is recommended to use sourceTensor.clone().detach() or sourceTensor.clone().detach().requires_grad_(True), rather than torch.tensor(sourceTensor).\n",
      "  edge_index = torch.tensor(adj.nonzero().t().contiguous(), dtype=torch.long)  # Shape: [2, num_edges]\n",
      "/home/dalai/GNN_E/scripts/utils.py:30: UserWarning: To copy construct from a tensor, it is recommended to use sourceTensor.clone().detach() or sourceTensor.clone().detach().requires_grad_(True), rather than torch.tensor(sourceTensor).\n",
      "  edge_attr = torch.tensor(adj[edge_index[0, :], edge_index[1, :]], dtype=torch.float)\n"
     ]
    },
    {
     "name": "stdout",
     "output_type": "stream",
     "text": [
      "Graph saved at: /home/dalai/GNN_E/data/processed/all_graphs/clique_singlefmri/AfterTheRain_01_200.pt\n",
      "\n",
      "\n",
      "01 - 200\n"
     ]
    },
    {
     "data": {
      "text/plain": [
       "'Shape DF of single sub of single timepoint : (414, 13)'"
      ]
     },
     "metadata": {},
     "output_type": "display_data"
    },
    {
     "name": "stdout",
     "output_type": "stream",
     "text": [
      "Shape adj matrix: torch.Size([414, 414])\n",
      "Label fo the current grpah: 34\n",
      "tensor([[  0,   0,   0,  ..., 413, 413, 413],\n",
      "        [  1,   2,   3,  ..., 410, 411, 412]])\n",
      "torch.Size([2, 170982])\n",
      "tensor([1., 1., 1.,  ..., 1., 1., 1.])\n",
      "torch.Size([170982])\n",
      "GraphEmo(x=[414], edge_index=[2, 170982], edge_attr=[170982], y=34, movie='AfterTheRain', subject='01', timestamp_tr=201, adj=[414, 414])\n"
     ]
    },
    {
     "name": "stderr",
     "output_type": "stream",
     "text": [
      "/home/dalai/GNN_E/scripts/utils.py:26: UserWarning: To copy construct from a tensor, it is recommended to use sourceTensor.clone().detach() or sourceTensor.clone().detach().requires_grad_(True), rather than torch.tensor(sourceTensor).\n",
      "  edge_index = torch.tensor(adj.nonzero().t().contiguous(), dtype=torch.long)  # Shape: [2, num_edges]\n",
      "/home/dalai/GNN_E/scripts/utils.py:30: UserWarning: To copy construct from a tensor, it is recommended to use sourceTensor.clone().detach() or sourceTensor.clone().detach().requires_grad_(True), rather than torch.tensor(sourceTensor).\n",
      "  edge_attr = torch.tensor(adj[edge_index[0, :], edge_index[1, :]], dtype=torch.float)\n"
     ]
    },
    {
     "name": "stdout",
     "output_type": "stream",
     "text": [
      "Graph saved at: /home/dalai/GNN_E/data/processed/all_graphs/clique_singlefmri/AfterTheRain_01_201.pt\n",
      "\n",
      "\n",
      "01 - 201\n"
     ]
    },
    {
     "data": {
      "text/plain": [
       "'Shape DF of single sub of single timepoint : (414, 13)'"
      ]
     },
     "metadata": {},
     "output_type": "display_data"
    },
    {
     "name": "stdout",
     "output_type": "stream",
     "text": [
      "Shape adj matrix: torch.Size([414, 414])\n",
      "Label fo the current grpah: 34\n",
      "tensor([[  0,   0,   0,  ..., 413, 413, 413],\n",
      "        [  1,   2,   3,  ..., 410, 411, 412]])\n",
      "torch.Size([2, 170982])\n",
      "tensor([1., 1., 1.,  ..., 1., 1., 1.])\n",
      "torch.Size([170982])\n",
      "GraphEmo(x=[414], edge_index=[2, 170982], edge_attr=[170982], y=34, movie='AfterTheRain', subject='01', timestamp_tr=202, adj=[414, 414])\n",
      "Graph saved at: /home/dalai/GNN_E/data/processed/all_graphs/clique_singlefmri/AfterTheRain_01_202.pt\n",
      "\n",
      "\n",
      "01 - 202\n"
     ]
    },
    {
     "name": "stderr",
     "output_type": "stream",
     "text": [
      "/home/dalai/GNN_E/scripts/utils.py:26: UserWarning: To copy construct from a tensor, it is recommended to use sourceTensor.clone().detach() or sourceTensor.clone().detach().requires_grad_(True), rather than torch.tensor(sourceTensor).\n",
      "  edge_index = torch.tensor(adj.nonzero().t().contiguous(), dtype=torch.long)  # Shape: [2, num_edges]\n",
      "/home/dalai/GNN_E/scripts/utils.py:30: UserWarning: To copy construct from a tensor, it is recommended to use sourceTensor.clone().detach() or sourceTensor.clone().detach().requires_grad_(True), rather than torch.tensor(sourceTensor).\n",
      "  edge_attr = torch.tensor(adj[edge_index[0, :], edge_index[1, :]], dtype=torch.float)\n"
     ]
    },
    {
     "data": {
      "text/plain": [
       "'Shape DF of single sub of single timepoint : (414, 13)'"
      ]
     },
     "metadata": {},
     "output_type": "display_data"
    },
    {
     "name": "stdout",
     "output_type": "stream",
     "text": [
      "Shape adj matrix: torch.Size([414, 414])\n",
      "Label fo the current grpah: 34\n",
      "tensor([[  0,   0,   0,  ..., 413, 413, 413],\n",
      "        [  1,   2,   3,  ..., 410, 411, 412]])\n",
      "torch.Size([2, 170982])\n",
      "tensor([1., 1., 1.,  ..., 1., 1., 1.])\n",
      "torch.Size([170982])\n",
      "GraphEmo(x=[414], edge_index=[2, 170982], edge_attr=[170982], y=34, movie='AfterTheRain', subject='01', timestamp_tr=203, adj=[414, 414])\n",
      "Graph saved at: /home/dalai/GNN_E/data/processed/all_graphs/clique_singlefmri/AfterTheRain_01_203.pt"
     ]
    },
    {
     "name": "stderr",
     "output_type": "stream",
     "text": [
      "/home/dalai/GNN_E/scripts/utils.py:26: UserWarning: To copy construct from a tensor, it is recommended to use sourceTensor.clone().detach() or sourceTensor.clone().detach().requires_grad_(True), rather than torch.tensor(sourceTensor).\n",
      "  edge_index = torch.tensor(adj.nonzero().t().contiguous(), dtype=torch.long)  # Shape: [2, num_edges]\n",
      "/home/dalai/GNN_E/scripts/utils.py:30: UserWarning: To copy construct from a tensor, it is recommended to use sourceTensor.clone().detach() or sourceTensor.clone().detach().requires_grad_(True), rather than torch.tensor(sourceTensor).\n",
      "  edge_attr = torch.tensor(adj[edge_index[0, :], edge_index[1, :]], dtype=torch.float)\n"
     ]
    },
    {
     "name": "stdout",
     "output_type": "stream",
     "text": [
      "\n",
      "\n",
      "\n",
      "01 - 203\n"
     ]
    },
    {
     "data": {
      "text/plain": [
       "'Shape DF of single sub of single timepoint : (414, 13)'"
      ]
     },
     "metadata": {},
     "output_type": "display_data"
    },
    {
     "name": "stdout",
     "output_type": "stream",
     "text": [
      "Shape adj matrix: torch.Size([414, 414])\n",
      "Label fo the current grpah: 34\n",
      "tensor([[  0,   0,   0,  ..., 413, 413, 413],\n",
      "        [  1,   2,   3,  ..., 410, 411, 412]])\n",
      "torch.Size([2, 170982])\n",
      "tensor([1., 1., 1.,  ..., 1., 1., 1.])\n",
      "torch.Size([170982])\n",
      "GraphEmo(x=[414], edge_index=[2, 170982], edge_attr=[170982], y=34, movie='AfterTheRain', subject='01', timestamp_tr=204, adj=[414, 414])\n",
      "Graph saved at: /home/dalai/GNN_E/data/processed/all_graphs/clique_singlefmri/AfterTheRain_01_204.pt"
     ]
    },
    {
     "name": "stderr",
     "output_type": "stream",
     "text": [
      "/home/dalai/GNN_E/scripts/utils.py:26: UserWarning: To copy construct from a tensor, it is recommended to use sourceTensor.clone().detach() or sourceTensor.clone().detach().requires_grad_(True), rather than torch.tensor(sourceTensor).\n",
      "  edge_index = torch.tensor(adj.nonzero().t().contiguous(), dtype=torch.long)  # Shape: [2, num_edges]\n",
      "/home/dalai/GNN_E/scripts/utils.py:30: UserWarning: To copy construct from a tensor, it is recommended to use sourceTensor.clone().detach() or sourceTensor.clone().detach().requires_grad_(True), rather than torch.tensor(sourceTensor).\n",
      "  edge_attr = torch.tensor(adj[edge_index[0, :], edge_index[1, :]], dtype=torch.float)\n"
     ]
    },
    {
     "name": "stdout",
     "output_type": "stream",
     "text": [
      "\n",
      "\n",
      "\n",
      "01 - 204\n"
     ]
    },
    {
     "data": {
      "text/plain": [
       "'Shape DF of single sub of single timepoint : (414, 13)'"
      ]
     },
     "metadata": {},
     "output_type": "display_data"
    },
    {
     "name": "stdout",
     "output_type": "stream",
     "text": [
      "Shape adj matrix: torch.Size([414, 414])\n",
      "Label fo the current grpah: 34\n",
      "tensor([[  0,   0,   0,  ..., 413, 413, 413],\n",
      "        [  1,   2,   3,  ..., 410, 411, 412]])\n",
      "torch.Size([2, 170982])\n",
      "tensor([1., 1., 1.,  ..., 1., 1., 1.])\n",
      "torch.Size([170982])\n",
      "GraphEmo(x=[414], edge_index=[2, 170982], edge_attr=[170982], y=34, movie='AfterTheRain', subject='01', timestamp_tr=205, adj=[414, 414])\n",
      "Graph saved at: /home/dalai/GNN_E/data/processed/all_graphs/clique_singlefmri/AfterTheRain_01_205.pt"
     ]
    },
    {
     "name": "stderr",
     "output_type": "stream",
     "text": [
      "/home/dalai/GNN_E/scripts/utils.py:26: UserWarning: To copy construct from a tensor, it is recommended to use sourceTensor.clone().detach() or sourceTensor.clone().detach().requires_grad_(True), rather than torch.tensor(sourceTensor).\n",
      "  edge_index = torch.tensor(adj.nonzero().t().contiguous(), dtype=torch.long)  # Shape: [2, num_edges]\n",
      "/home/dalai/GNN_E/scripts/utils.py:30: UserWarning: To copy construct from a tensor, it is recommended to use sourceTensor.clone().detach() or sourceTensor.clone().detach().requires_grad_(True), rather than torch.tensor(sourceTensor).\n",
      "  edge_attr = torch.tensor(adj[edge_index[0, :], edge_index[1, :]], dtype=torch.float)\n"
     ]
    },
    {
     "name": "stdout",
     "output_type": "stream",
     "text": [
      "\n",
      "\n",
      "\n",
      "01 - 205\n"
     ]
    },
    {
     "data": {
      "text/plain": [
       "'Shape DF of single sub of single timepoint : (414, 13)'"
      ]
     },
     "metadata": {},
     "output_type": "display_data"
    },
    {
     "name": "stdout",
     "output_type": "stream",
     "text": [
      "Shape adj matrix: torch.Size([414, 414])\n",
      "Label fo the current grpah: 34\n",
      "tensor([[  0,   0,   0,  ..., 413, 413, 413],\n",
      "        [  1,   2,   3,  ..., 410, 411, 412]])\n",
      "torch.Size([2, 170982])\n",
      "tensor([1., 1., 1.,  ..., 1., 1., 1.])\n",
      "torch.Size([170982])\n",
      "GraphEmo(x=[414], edge_index=[2, 170982], edge_attr=[170982], y=34, movie='AfterTheRain', subject='01', timestamp_tr=206, adj=[414, 414])\n",
      "Graph saved at: /home/dalai/GNN_E/data/processed/all_graphs/clique_singlefmri/AfterTheRain_01_206.pt"
     ]
    },
    {
     "name": "stderr",
     "output_type": "stream",
     "text": [
      "/home/dalai/GNN_E/scripts/utils.py:26: UserWarning: To copy construct from a tensor, it is recommended to use sourceTensor.clone().detach() or sourceTensor.clone().detach().requires_grad_(True), rather than torch.tensor(sourceTensor).\n",
      "  edge_index = torch.tensor(adj.nonzero().t().contiguous(), dtype=torch.long)  # Shape: [2, num_edges]\n",
      "/home/dalai/GNN_E/scripts/utils.py:30: UserWarning: To copy construct from a tensor, it is recommended to use sourceTensor.clone().detach() or sourceTensor.clone().detach().requires_grad_(True), rather than torch.tensor(sourceTensor).\n",
      "  edge_attr = torch.tensor(adj[edge_index[0, :], edge_index[1, :]], dtype=torch.float)\n"
     ]
    },
    {
     "name": "stdout",
     "output_type": "stream",
     "text": [
      "\n",
      "\n",
      "\n",
      "01 - 206\n"
     ]
    },
    {
     "data": {
      "text/plain": [
       "'Shape DF of single sub of single timepoint : (414, 13)'"
      ]
     },
     "metadata": {},
     "output_type": "display_data"
    },
    {
     "name": "stdout",
     "output_type": "stream",
     "text": [
      "Shape adj matrix: torch.Size([414, 414])\n",
      "Label fo the current grpah: 34\n",
      "tensor([[  0,   0,   0,  ..., 413, 413, 413],\n",
      "        [  1,   2,   3,  ..., 410, 411, 412]])\n",
      "torch.Size([2, 170982])\n",
      "tensor([1., 1., 1.,  ..., 1., 1., 1.])\n",
      "torch.Size([170982])\n",
      "GraphEmo(x=[414], edge_index=[2, 170982], edge_attr=[170982], y=34, movie='AfterTheRain', subject='01', timestamp_tr=207, adj=[414, 414])\n",
      "Graph saved at: /home/dalai/GNN_E/data/processed/all_graphs/clique_singlefmri/AfterTheRain_01_207.pt"
     ]
    },
    {
     "name": "stderr",
     "output_type": "stream",
     "text": [
      "/home/dalai/GNN_E/scripts/utils.py:26: UserWarning: To copy construct from a tensor, it is recommended to use sourceTensor.clone().detach() or sourceTensor.clone().detach().requires_grad_(True), rather than torch.tensor(sourceTensor).\n",
      "  edge_index = torch.tensor(adj.nonzero().t().contiguous(), dtype=torch.long)  # Shape: [2, num_edges]\n",
      "/home/dalai/GNN_E/scripts/utils.py:30: UserWarning: To copy construct from a tensor, it is recommended to use sourceTensor.clone().detach() or sourceTensor.clone().detach().requires_grad_(True), rather than torch.tensor(sourceTensor).\n",
      "  edge_attr = torch.tensor(adj[edge_index[0, :], edge_index[1, :]], dtype=torch.float)\n"
     ]
    },
    {
     "name": "stdout",
     "output_type": "stream",
     "text": [
      "\n",
      "\n",
      "\n",
      "01 - 207\n"
     ]
    },
    {
     "data": {
      "text/plain": [
       "'Shape DF of single sub of single timepoint : (414, 13)'"
      ]
     },
     "metadata": {},
     "output_type": "display_data"
    },
    {
     "name": "stdout",
     "output_type": "stream",
     "text": [
      "Shape adj matrix: torch.Size([414, 414])\n",
      "Label fo the current grpah: 34\n",
      "tensor([[  0,   0,   0,  ..., 413, 413, 413],\n",
      "        [  1,   2,   3,  ..., 410, 411, 412]])\n",
      "torch.Size([2, 170982])\n",
      "tensor([1., 1., 1.,  ..., 1., 1., 1.])\n",
      "torch.Size([170982])\n",
      "GraphEmo(x=[414], edge_index=[2, 170982], edge_attr=[170982], y=34, movie='AfterTheRain', subject='01', timestamp_tr=208, adj=[414, 414])\n",
      "Graph saved at: /home/dalai/GNN_E/data/processed/all_graphs/clique_singlefmri/AfterTheRain_01_208.pt"
     ]
    },
    {
     "name": "stderr",
     "output_type": "stream",
     "text": [
      "/home/dalai/GNN_E/scripts/utils.py:26: UserWarning: To copy construct from a tensor, it is recommended to use sourceTensor.clone().detach() or sourceTensor.clone().detach().requires_grad_(True), rather than torch.tensor(sourceTensor).\n",
      "  edge_index = torch.tensor(adj.nonzero().t().contiguous(), dtype=torch.long)  # Shape: [2, num_edges]\n",
      "/home/dalai/GNN_E/scripts/utils.py:30: UserWarning: To copy construct from a tensor, it is recommended to use sourceTensor.clone().detach() or sourceTensor.clone().detach().requires_grad_(True), rather than torch.tensor(sourceTensor).\n",
      "  edge_attr = torch.tensor(adj[edge_index[0, :], edge_index[1, :]], dtype=torch.float)\n"
     ]
    },
    {
     "name": "stdout",
     "output_type": "stream",
     "text": [
      "\n",
      "\n",
      "\n",
      "01 - 208\n"
     ]
    },
    {
     "data": {
      "text/plain": [
       "'Shape DF of single sub of single timepoint : (414, 13)'"
      ]
     },
     "metadata": {},
     "output_type": "display_data"
    },
    {
     "name": "stdout",
     "output_type": "stream",
     "text": [
      "Shape adj matrix: torch.Size([414, 414])\n",
      "Label fo the current grpah: 34\n",
      "tensor([[  0,   0,   0,  ..., 413, 413, 413],\n",
      "        [  1,   2,   3,  ..., 410, 411, 412]])\n",
      "torch.Size([2, 170982])\n",
      "tensor([1., 1., 1.,  ..., 1., 1., 1.])\n",
      "torch.Size([170982])\n",
      "GraphEmo(x=[414], edge_index=[2, 170982], edge_attr=[170982], y=34, movie='AfterTheRain', subject='01', timestamp_tr=209, adj=[414, 414])\n",
      "Graph saved at: /home/dalai/GNN_E/data/processed/all_graphs/clique_singlefmri/AfterTheRain_01_209.pt\n",
      "\n",
      "\n",
      "01 - 209\n"
     ]
    },
    {
     "name": "stderr",
     "output_type": "stream",
     "text": [
      "/home/dalai/GNN_E/scripts/utils.py:26: UserWarning: To copy construct from a tensor, it is recommended to use sourceTensor.clone().detach() or sourceTensor.clone().detach().requires_grad_(True), rather than torch.tensor(sourceTensor).\n",
      "  edge_index = torch.tensor(adj.nonzero().t().contiguous(), dtype=torch.long)  # Shape: [2, num_edges]\n",
      "/home/dalai/GNN_E/scripts/utils.py:30: UserWarning: To copy construct from a tensor, it is recommended to use sourceTensor.clone().detach() or sourceTensor.clone().detach().requires_grad_(True), rather than torch.tensor(sourceTensor).\n",
      "  edge_attr = torch.tensor(adj[edge_index[0, :], edge_index[1, :]], dtype=torch.float)\n"
     ]
    },
    {
     "data": {
      "text/plain": [
       "'Shape DF of single sub of single timepoint : (414, 13)'"
      ]
     },
     "metadata": {},
     "output_type": "display_data"
    },
    {
     "name": "stdout",
     "output_type": "stream",
     "text": [
      "Shape adj matrix: torch.Size([414, 414])\n",
      "Label fo the current grpah: 34\n",
      "tensor([[  0,   0,   0,  ..., 413, 413, 413],\n",
      "        [  1,   2,   3,  ..., 410, 411, 412]])\n",
      "torch.Size([2, 170982])\n",
      "tensor([1., 1., 1.,  ..., 1., 1., 1.])\n",
      "torch.Size([170982])\n",
      "GraphEmo(x=[414], edge_index=[2, 170982], edge_attr=[170982], y=34, movie='AfterTheRain', subject='01', timestamp_tr=210, adj=[414, 414])\n",
      "Graph saved at: /home/dalai/GNN_E/data/processed/all_graphs/clique_singlefmri/AfterTheRain_01_210.pt"
     ]
    },
    {
     "name": "stderr",
     "output_type": "stream",
     "text": [
      "/home/dalai/GNN_E/scripts/utils.py:26: UserWarning: To copy construct from a tensor, it is recommended to use sourceTensor.clone().detach() or sourceTensor.clone().detach().requires_grad_(True), rather than torch.tensor(sourceTensor).\n",
      "  edge_index = torch.tensor(adj.nonzero().t().contiguous(), dtype=torch.long)  # Shape: [2, num_edges]\n",
      "/home/dalai/GNN_E/scripts/utils.py:30: UserWarning: To copy construct from a tensor, it is recommended to use sourceTensor.clone().detach() or sourceTensor.clone().detach().requires_grad_(True), rather than torch.tensor(sourceTensor).\n",
      "  edge_attr = torch.tensor(adj[edge_index[0, :], edge_index[1, :]], dtype=torch.float)\n"
     ]
    },
    {
     "name": "stdout",
     "output_type": "stream",
     "text": [
      "\n",
      "\n",
      "\n",
      "01 - 210\n"
     ]
    },
    {
     "data": {
      "text/plain": [
       "'Shape DF of single sub of single timepoint : (414, 13)'"
      ]
     },
     "metadata": {},
     "output_type": "display_data"
    },
    {
     "name": "stdout",
     "output_type": "stream",
     "text": [
      "Shape adj matrix: torch.Size([414, 414])\n",
      "Label fo the current grpah: 34\n",
      "tensor([[  0,   0,   0,  ..., 413, 413, 413],\n",
      "        [  1,   2,   3,  ..., 410, 411, 412]])\n",
      "torch.Size([2, 170982])\n",
      "tensor([1., 1., 1.,  ..., 1., 1., 1.])\n",
      "torch.Size([170982])\n",
      "GraphEmo(x=[414], edge_index=[2, 170982], edge_attr=[170982], y=34, movie='AfterTheRain', subject='01', timestamp_tr=211, adj=[414, 414])\n",
      "Graph saved at: /home/dalai/GNN_E/data/processed/all_graphs/clique_singlefmri/AfterTheRain_01_211.pt"
     ]
    },
    {
     "name": "stderr",
     "output_type": "stream",
     "text": [
      "/home/dalai/GNN_E/scripts/utils.py:26: UserWarning: To copy construct from a tensor, it is recommended to use sourceTensor.clone().detach() or sourceTensor.clone().detach().requires_grad_(True), rather than torch.tensor(sourceTensor).\n",
      "  edge_index = torch.tensor(adj.nonzero().t().contiguous(), dtype=torch.long)  # Shape: [2, num_edges]\n",
      "/home/dalai/GNN_E/scripts/utils.py:30: UserWarning: To copy construct from a tensor, it is recommended to use sourceTensor.clone().detach() or sourceTensor.clone().detach().requires_grad_(True), rather than torch.tensor(sourceTensor).\n",
      "  edge_attr = torch.tensor(adj[edge_index[0, :], edge_index[1, :]], dtype=torch.float)\n"
     ]
    },
    {
     "name": "stdout",
     "output_type": "stream",
     "text": [
      "\n",
      "\n",
      "\n",
      "01 - 211\n"
     ]
    },
    {
     "data": {
      "text/plain": [
       "'Shape DF of single sub of single timepoint : (414, 13)'"
      ]
     },
     "metadata": {},
     "output_type": "display_data"
    },
    {
     "name": "stdout",
     "output_type": "stream",
     "text": [
      "Shape adj matrix: torch.Size([414, 414])\n",
      "Label fo the current grpah: 34\n",
      "tensor([[  0,   0,   0,  ..., 413, 413, 413],\n",
      "        [  1,   2,   3,  ..., 410, 411, 412]])\n",
      "torch.Size([2, 170982])\n",
      "tensor([1., 1., 1.,  ..., 1., 1., 1.])\n",
      "torch.Size([170982])\n",
      "GraphEmo(x=[414], edge_index=[2, 170982], edge_attr=[170982], y=34, movie='AfterTheRain', subject='01', timestamp_tr=212, adj=[414, 414])\n",
      "Graph saved at: /home/dalai/GNN_E/data/processed/all_graphs/clique_singlefmri/AfterTheRain_01_212.pt"
     ]
    },
    {
     "name": "stderr",
     "output_type": "stream",
     "text": [
      "/home/dalai/GNN_E/scripts/utils.py:26: UserWarning: To copy construct from a tensor, it is recommended to use sourceTensor.clone().detach() or sourceTensor.clone().detach().requires_grad_(True), rather than torch.tensor(sourceTensor).\n",
      "  edge_index = torch.tensor(adj.nonzero().t().contiguous(), dtype=torch.long)  # Shape: [2, num_edges]\n",
      "/home/dalai/GNN_E/scripts/utils.py:30: UserWarning: To copy construct from a tensor, it is recommended to use sourceTensor.clone().detach() or sourceTensor.clone().detach().requires_grad_(True), rather than torch.tensor(sourceTensor).\n",
      "  edge_attr = torch.tensor(adj[edge_index[0, :], edge_index[1, :]], dtype=torch.float)\n"
     ]
    },
    {
     "name": "stdout",
     "output_type": "stream",
     "text": [
      "\n",
      "\n",
      "\n",
      "01 - 212\n"
     ]
    },
    {
     "data": {
      "text/plain": [
       "'Shape DF of single sub of single timepoint : (414, 13)'"
      ]
     },
     "metadata": {},
     "output_type": "display_data"
    },
    {
     "name": "stdout",
     "output_type": "stream",
     "text": [
      "Shape adj matrix: torch.Size([414, 414])\n",
      "Label fo the current grpah: 34\n",
      "tensor([[  0,   0,   0,  ..., 413, 413, 413],\n",
      "        [  1,   2,   3,  ..., 410, 411, 412]])\n",
      "torch.Size([2, 170982])\n",
      "tensor([1., 1., 1.,  ..., 1., 1., 1.])\n",
      "torch.Size([170982])\n",
      "GraphEmo(x=[414], edge_index=[2, 170982], edge_attr=[170982], y=34, movie='AfterTheRain', subject='01', timestamp_tr=213, adj=[414, 414])\n",
      "Graph saved at: /home/dalai/GNN_E/data/processed/all_graphs/clique_singlefmri/AfterTheRain_01_213.pt"
     ]
    },
    {
     "name": "stderr",
     "output_type": "stream",
     "text": [
      "/home/dalai/GNN_E/scripts/utils.py:26: UserWarning: To copy construct from a tensor, it is recommended to use sourceTensor.clone().detach() or sourceTensor.clone().detach().requires_grad_(True), rather than torch.tensor(sourceTensor).\n",
      "  edge_index = torch.tensor(adj.nonzero().t().contiguous(), dtype=torch.long)  # Shape: [2, num_edges]\n",
      "/home/dalai/GNN_E/scripts/utils.py:30: UserWarning: To copy construct from a tensor, it is recommended to use sourceTensor.clone().detach() or sourceTensor.clone().detach().requires_grad_(True), rather than torch.tensor(sourceTensor).\n",
      "  edge_attr = torch.tensor(adj[edge_index[0, :], edge_index[1, :]], dtype=torch.float)\n"
     ]
    },
    {
     "name": "stdout",
     "output_type": "stream",
     "text": [
      "\n",
      "\n",
      "\n",
      "01 - 213\n"
     ]
    },
    {
     "data": {
      "text/plain": [
       "'Shape DF of single sub of single timepoint : (414, 13)'"
      ]
     },
     "metadata": {},
     "output_type": "display_data"
    },
    {
     "name": "stdout",
     "output_type": "stream",
     "text": [
      "Shape adj matrix: torch.Size([414, 414])\n",
      "Label fo the current grpah: 34\n",
      "tensor([[  0,   0,   0,  ..., 413, 413, 413],\n",
      "        [  1,   2,   3,  ..., 410, 411, 412]])\n",
      "torch.Size([2, 170982])\n",
      "tensor([1., 1., 1.,  ..., 1., 1., 1.])\n",
      "torch.Size([170982])\n",
      "GraphEmo(x=[414], edge_index=[2, 170982], edge_attr=[170982], y=34, movie='AfterTheRain', subject='01', timestamp_tr=214, adj=[414, 414])\n",
      "Graph saved at: /home/dalai/GNN_E/data/processed/all_graphs/clique_singlefmri/AfterTheRain_01_214.pt"
     ]
    },
    {
     "name": "stderr",
     "output_type": "stream",
     "text": [
      "/home/dalai/GNN_E/scripts/utils.py:26: UserWarning: To copy construct from a tensor, it is recommended to use sourceTensor.clone().detach() or sourceTensor.clone().detach().requires_grad_(True), rather than torch.tensor(sourceTensor).\n",
      "  edge_index = torch.tensor(adj.nonzero().t().contiguous(), dtype=torch.long)  # Shape: [2, num_edges]\n",
      "/home/dalai/GNN_E/scripts/utils.py:30: UserWarning: To copy construct from a tensor, it is recommended to use sourceTensor.clone().detach() or sourceTensor.clone().detach().requires_grad_(True), rather than torch.tensor(sourceTensor).\n",
      "  edge_attr = torch.tensor(adj[edge_index[0, :], edge_index[1, :]], dtype=torch.float)\n"
     ]
    },
    {
     "name": "stdout",
     "output_type": "stream",
     "text": [
      "\n",
      "\n",
      "\n",
      "01 - 214\n"
     ]
    },
    {
     "data": {
      "text/plain": [
       "'Shape DF of single sub of single timepoint : (414, 13)'"
      ]
     },
     "metadata": {},
     "output_type": "display_data"
    },
    {
     "name": "stdout",
     "output_type": "stream",
     "text": [
      "Shape adj matrix: torch.Size([414, 414])\n",
      "Label fo the current grpah: 34\n",
      "tensor([[  0,   0,   0,  ..., 413, 413, 413],\n",
      "        [  1,   2,   3,  ..., 410, 411, 412]])\n",
      "torch.Size([2, 170982])\n",
      "tensor([1., 1., 1.,  ..., 1., 1., 1.])\n",
      "torch.Size([170982])\n",
      "GraphEmo(x=[414], edge_index=[2, 170982], edge_attr=[170982], y=34, movie='AfterTheRain', subject='01', timestamp_tr=215, adj=[414, 414])\n",
      "Graph saved at: /home/dalai/GNN_E/data/processed/all_graphs/clique_singlefmri/AfterTheRain_01_215.pt"
     ]
    },
    {
     "name": "stderr",
     "output_type": "stream",
     "text": [
      "/home/dalai/GNN_E/scripts/utils.py:26: UserWarning: To copy construct from a tensor, it is recommended to use sourceTensor.clone().detach() or sourceTensor.clone().detach().requires_grad_(True), rather than torch.tensor(sourceTensor).\n",
      "  edge_index = torch.tensor(adj.nonzero().t().contiguous(), dtype=torch.long)  # Shape: [2, num_edges]\n",
      "/home/dalai/GNN_E/scripts/utils.py:30: UserWarning: To copy construct from a tensor, it is recommended to use sourceTensor.clone().detach() or sourceTensor.clone().detach().requires_grad_(True), rather than torch.tensor(sourceTensor).\n",
      "  edge_attr = torch.tensor(adj[edge_index[0, :], edge_index[1, :]], dtype=torch.float)\n"
     ]
    },
    {
     "name": "stdout",
     "output_type": "stream",
     "text": [
      "\n",
      "\n",
      "\n",
      "01 - 215\n"
     ]
    },
    {
     "data": {
      "text/plain": [
       "'Shape DF of single sub of single timepoint : (414, 13)'"
      ]
     },
     "metadata": {},
     "output_type": "display_data"
    },
    {
     "name": "stdout",
     "output_type": "stream",
     "text": [
      "Shape adj matrix: torch.Size([414, 414])\n",
      "Label fo the current grpah: 34\n",
      "tensor([[  0,   0,   0,  ..., 413, 413, 413],\n",
      "        [  1,   2,   3,  ..., 410, 411, 412]])\n",
      "torch.Size([2, 170982])\n",
      "tensor([1., 1., 1.,  ..., 1., 1., 1.])\n",
      "torch.Size([170982])\n",
      "GraphEmo(x=[414], edge_index=[2, 170982], edge_attr=[170982], y=34, movie='AfterTheRain', subject='01', timestamp_tr=216, adj=[414, 414])\n",
      "Graph saved at: /home/dalai/GNN_E/data/processed/all_graphs/clique_singlefmri/AfterTheRain_01_216.pt"
     ]
    },
    {
     "name": "stderr",
     "output_type": "stream",
     "text": [
      "/home/dalai/GNN_E/scripts/utils.py:26: UserWarning: To copy construct from a tensor, it is recommended to use sourceTensor.clone().detach() or sourceTensor.clone().detach().requires_grad_(True), rather than torch.tensor(sourceTensor).\n",
      "  edge_index = torch.tensor(adj.nonzero().t().contiguous(), dtype=torch.long)  # Shape: [2, num_edges]\n",
      "/home/dalai/GNN_E/scripts/utils.py:30: UserWarning: To copy construct from a tensor, it is recommended to use sourceTensor.clone().detach() or sourceTensor.clone().detach().requires_grad_(True), rather than torch.tensor(sourceTensor).\n",
      "  edge_attr = torch.tensor(adj[edge_index[0, :], edge_index[1, :]], dtype=torch.float)\n"
     ]
    },
    {
     "name": "stdout",
     "output_type": "stream",
     "text": [
      "\n",
      "\n",
      "\n",
      "01 - 216\n"
     ]
    },
    {
     "data": {
      "text/plain": [
       "'Shape DF of single sub of single timepoint : (414, 13)'"
      ]
     },
     "metadata": {},
     "output_type": "display_data"
    },
    {
     "name": "stdout",
     "output_type": "stream",
     "text": [
      "Shape adj matrix: torch.Size([414, 414])\n",
      "Label fo the current grpah: 34\n",
      "tensor([[  0,   0,   0,  ..., 413, 413, 413],\n",
      "        [  1,   2,   3,  ..., 410, 411, 412]])\n",
      "torch.Size([2, 170982])\n",
      "tensor([1., 1., 1.,  ..., 1., 1., 1.])\n",
      "torch.Size([170982])\n",
      "GraphEmo(x=[414], edge_index=[2, 170982], edge_attr=[170982], y=34, movie='AfterTheRain', subject='01', timestamp_tr=217, adj=[414, 414])\n",
      "Graph saved at: /home/dalai/GNN_E/data/processed/all_graphs/clique_singlefmri/AfterTheRain_01_217.pt"
     ]
    },
    {
     "name": "stderr",
     "output_type": "stream",
     "text": [
      "/home/dalai/GNN_E/scripts/utils.py:26: UserWarning: To copy construct from a tensor, it is recommended to use sourceTensor.clone().detach() or sourceTensor.clone().detach().requires_grad_(True), rather than torch.tensor(sourceTensor).\n",
      "  edge_index = torch.tensor(adj.nonzero().t().contiguous(), dtype=torch.long)  # Shape: [2, num_edges]\n",
      "/home/dalai/GNN_E/scripts/utils.py:30: UserWarning: To copy construct from a tensor, it is recommended to use sourceTensor.clone().detach() or sourceTensor.clone().detach().requires_grad_(True), rather than torch.tensor(sourceTensor).\n",
      "  edge_attr = torch.tensor(adj[edge_index[0, :], edge_index[1, :]], dtype=torch.float)\n"
     ]
    },
    {
     "name": "stdout",
     "output_type": "stream",
     "text": [
      "\n",
      "\n",
      "\n",
      "01 - 217\n"
     ]
    },
    {
     "data": {
      "text/plain": [
       "'Shape DF of single sub of single timepoint : (414, 13)'"
      ]
     },
     "metadata": {},
     "output_type": "display_data"
    },
    {
     "name": "stdout",
     "output_type": "stream",
     "text": [
      "Shape adj matrix: torch.Size([414, 414])\n",
      "Label fo the current grpah: 34\n",
      "tensor([[  0,   0,   0,  ..., 413, 413, 413],\n",
      "        [  1,   2,   3,  ..., 410, 411, 412]])\n",
      "torch.Size([2, 170982])\n",
      "tensor([1., 1., 1.,  ..., 1., 1., 1.])\n",
      "torch.Size([170982])\n",
      "GraphEmo(x=[414], edge_index=[2, 170982], edge_attr=[170982], y=34, movie='AfterTheRain', subject='01', timestamp_tr=218, adj=[414, 414])\n",
      "Graph saved at: /home/dalai/GNN_E/data/processed/all_graphs/clique_singlefmri/AfterTheRain_01_218.pt"
     ]
    },
    {
     "name": "stderr",
     "output_type": "stream",
     "text": [
      "/home/dalai/GNN_E/scripts/utils.py:26: UserWarning: To copy construct from a tensor, it is recommended to use sourceTensor.clone().detach() or sourceTensor.clone().detach().requires_grad_(True), rather than torch.tensor(sourceTensor).\n",
      "  edge_index = torch.tensor(adj.nonzero().t().contiguous(), dtype=torch.long)  # Shape: [2, num_edges]\n",
      "/home/dalai/GNN_E/scripts/utils.py:30: UserWarning: To copy construct from a tensor, it is recommended to use sourceTensor.clone().detach() or sourceTensor.clone().detach().requires_grad_(True), rather than torch.tensor(sourceTensor).\n",
      "  edge_attr = torch.tensor(adj[edge_index[0, :], edge_index[1, :]], dtype=torch.float)\n"
     ]
    },
    {
     "name": "stdout",
     "output_type": "stream",
     "text": [
      "\n",
      "\n",
      "\n",
      "01 - 218\n"
     ]
    },
    {
     "data": {
      "text/plain": [
       "'Shape DF of single sub of single timepoint : (414, 13)'"
      ]
     },
     "metadata": {},
     "output_type": "display_data"
    },
    {
     "name": "stdout",
     "output_type": "stream",
     "text": [
      "Shape adj matrix: torch.Size([414, 414])\n",
      "Label fo the current grpah: 34\n",
      "tensor([[  0,   0,   0,  ..., 413, 413, 413],\n",
      "        [  1,   2,   3,  ..., 410, 411, 412]])\n",
      "torch.Size([2, 170982])\n",
      "tensor([1., 1., 1.,  ..., 1., 1., 1.])\n",
      "torch.Size([170982])\n",
      "GraphEmo(x=[414], edge_index=[2, 170982], edge_attr=[170982], y=34, movie='AfterTheRain', subject='01', timestamp_tr=219, adj=[414, 414])\n",
      "Graph saved at: /home/dalai/GNN_E/data/processed/all_graphs/clique_singlefmri/AfterTheRain_01_219.pt"
     ]
    },
    {
     "name": "stderr",
     "output_type": "stream",
     "text": [
      "/home/dalai/GNN_E/scripts/utils.py:26: UserWarning: To copy construct from a tensor, it is recommended to use sourceTensor.clone().detach() or sourceTensor.clone().detach().requires_grad_(True), rather than torch.tensor(sourceTensor).\n",
      "  edge_index = torch.tensor(adj.nonzero().t().contiguous(), dtype=torch.long)  # Shape: [2, num_edges]\n",
      "/home/dalai/GNN_E/scripts/utils.py:30: UserWarning: To copy construct from a tensor, it is recommended to use sourceTensor.clone().detach() or sourceTensor.clone().detach().requires_grad_(True), rather than torch.tensor(sourceTensor).\n",
      "  edge_attr = torch.tensor(adj[edge_index[0, :], edge_index[1, :]], dtype=torch.float)\n"
     ]
    },
    {
     "name": "stdout",
     "output_type": "stream",
     "text": [
      "\n",
      "\n",
      "\n",
      "01 - 219\n"
     ]
    },
    {
     "data": {
      "text/plain": [
       "'Shape DF of single sub of single timepoint : (414, 13)'"
      ]
     },
     "metadata": {},
     "output_type": "display_data"
    },
    {
     "name": "stdout",
     "output_type": "stream",
     "text": [
      "Shape adj matrix: torch.Size([414, 414])\n",
      "Label fo the current grpah: 34\n",
      "tensor([[  0,   0,   0,  ..., 413, 413, 413],\n",
      "        [  1,   2,   3,  ..., 410, 411, 412]])\n",
      "torch.Size([2, 170982])\n",
      "tensor([1., 1., 1.,  ..., 1., 1., 1.])\n",
      "torch.Size([170982])\n",
      "GraphEmo(x=[414], edge_index=[2, 170982], edge_attr=[170982], y=34, movie='AfterTheRain', subject='01', timestamp_tr=220, adj=[414, 414])\n",
      "Graph saved at: /home/dalai/GNN_E/data/processed/all_graphs/clique_singlefmri/AfterTheRain_01_220.pt"
     ]
    },
    {
     "name": "stderr",
     "output_type": "stream",
     "text": [
      "/home/dalai/GNN_E/scripts/utils.py:26: UserWarning: To copy construct from a tensor, it is recommended to use sourceTensor.clone().detach() or sourceTensor.clone().detach().requires_grad_(True), rather than torch.tensor(sourceTensor).\n",
      "  edge_index = torch.tensor(adj.nonzero().t().contiguous(), dtype=torch.long)  # Shape: [2, num_edges]\n",
      "/home/dalai/GNN_E/scripts/utils.py:30: UserWarning: To copy construct from a tensor, it is recommended to use sourceTensor.clone().detach() or sourceTensor.clone().detach().requires_grad_(True), rather than torch.tensor(sourceTensor).\n",
      "  edge_attr = torch.tensor(adj[edge_index[0, :], edge_index[1, :]], dtype=torch.float)\n"
     ]
    },
    {
     "name": "stdout",
     "output_type": "stream",
     "text": [
      "\n",
      "\n",
      "\n",
      "01 - 220\n"
     ]
    },
    {
     "data": {
      "text/plain": [
       "'Shape DF of single sub of single timepoint : (414, 13)'"
      ]
     },
     "metadata": {},
     "output_type": "display_data"
    },
    {
     "name": "stdout",
     "output_type": "stream",
     "text": [
      "Shape adj matrix: torch.Size([414, 414])\n",
      "Label fo the current grpah: 34\n",
      "tensor([[  0,   0,   0,  ..., 413, 413, 413],\n",
      "        [  1,   2,   3,  ..., 410, 411, 412]])\n",
      "torch.Size([2, 170982])\n",
      "tensor([1., 1., 1.,  ..., 1., 1., 1.])\n",
      "torch.Size([170982])\n",
      "GraphEmo(x=[414], edge_index=[2, 170982], edge_attr=[170982], y=34, movie='AfterTheRain', subject='01', timestamp_tr=221, adj=[414, 414])\n",
      "Graph saved at: /home/dalai/GNN_E/data/processed/all_graphs/clique_singlefmri/AfterTheRain_01_221.pt"
     ]
    },
    {
     "name": "stderr",
     "output_type": "stream",
     "text": [
      "/home/dalai/GNN_E/scripts/utils.py:26: UserWarning: To copy construct from a tensor, it is recommended to use sourceTensor.clone().detach() or sourceTensor.clone().detach().requires_grad_(True), rather than torch.tensor(sourceTensor).\n",
      "  edge_index = torch.tensor(adj.nonzero().t().contiguous(), dtype=torch.long)  # Shape: [2, num_edges]\n",
      "/home/dalai/GNN_E/scripts/utils.py:30: UserWarning: To copy construct from a tensor, it is recommended to use sourceTensor.clone().detach() or sourceTensor.clone().detach().requires_grad_(True), rather than torch.tensor(sourceTensor).\n",
      "  edge_attr = torch.tensor(adj[edge_index[0, :], edge_index[1, :]], dtype=torch.float)\n"
     ]
    },
    {
     "name": "stdout",
     "output_type": "stream",
     "text": [
      "\n",
      "\n",
      "\n",
      "01 - 221\n"
     ]
    },
    {
     "data": {
      "text/plain": [
       "'Shape DF of single sub of single timepoint : (414, 13)'"
      ]
     },
     "metadata": {},
     "output_type": "display_data"
    },
    {
     "name": "stdout",
     "output_type": "stream",
     "text": [
      "Shape adj matrix: torch.Size([414, 414])\n",
      "Label fo the current grpah: 34\n",
      "tensor([[  0,   0,   0,  ..., 413, 413, 413],\n",
      "        [  1,   2,   3,  ..., 410, 411, 412]])\n",
      "torch.Size([2, 170982])\n",
      "tensor([1., 1., 1.,  ..., 1., 1., 1.])\n",
      "torch.Size([170982])\n",
      "GraphEmo(x=[414], edge_index=[2, 170982], edge_attr=[170982], y=34, movie='AfterTheRain', subject='01', timestamp_tr=222, adj=[414, 414])\n",
      "Graph saved at: /home/dalai/GNN_E/data/processed/all_graphs/clique_singlefmri/AfterTheRain_01_222.pt"
     ]
    },
    {
     "name": "stderr",
     "output_type": "stream",
     "text": [
      "/home/dalai/GNN_E/scripts/utils.py:26: UserWarning: To copy construct from a tensor, it is recommended to use sourceTensor.clone().detach() or sourceTensor.clone().detach().requires_grad_(True), rather than torch.tensor(sourceTensor).\n",
      "  edge_index = torch.tensor(adj.nonzero().t().contiguous(), dtype=torch.long)  # Shape: [2, num_edges]\n",
      "/home/dalai/GNN_E/scripts/utils.py:30: UserWarning: To copy construct from a tensor, it is recommended to use sourceTensor.clone().detach() or sourceTensor.clone().detach().requires_grad_(True), rather than torch.tensor(sourceTensor).\n",
      "  edge_attr = torch.tensor(adj[edge_index[0, :], edge_index[1, :]], dtype=torch.float)\n"
     ]
    },
    {
     "name": "stdout",
     "output_type": "stream",
     "text": [
      "\n",
      "\n",
      "\n",
      "01 - 222\n"
     ]
    },
    {
     "data": {
      "text/plain": [
       "'Shape DF of single sub of single timepoint : (414, 13)'"
      ]
     },
     "metadata": {},
     "output_type": "display_data"
    },
    {
     "name": "stdout",
     "output_type": "stream",
     "text": [
      "Shape adj matrix: torch.Size([414, 414])\n",
      "Label fo the current grpah: 34\n",
      "tensor([[  0,   0,   0,  ..., 413, 413, 413],\n",
      "        [  1,   2,   3,  ..., 410, 411, 412]])\n",
      "torch.Size([2, 170982])\n",
      "tensor([1., 1., 1.,  ..., 1., 1., 1.])\n",
      "torch.Size([170982])\n",
      "GraphEmo(x=[414], edge_index=[2, 170982], edge_attr=[170982], y=34, movie='AfterTheRain', subject='01', timestamp_tr=223, adj=[414, 414])\n",
      "Graph saved at: /home/dalai/GNN_E/data/processed/all_graphs/clique_singlefmri/AfterTheRain_01_223.pt"
     ]
    },
    {
     "name": "stderr",
     "output_type": "stream",
     "text": [
      "/home/dalai/GNN_E/scripts/utils.py:26: UserWarning: To copy construct from a tensor, it is recommended to use sourceTensor.clone().detach() or sourceTensor.clone().detach().requires_grad_(True), rather than torch.tensor(sourceTensor).\n",
      "  edge_index = torch.tensor(adj.nonzero().t().contiguous(), dtype=torch.long)  # Shape: [2, num_edges]\n",
      "/home/dalai/GNN_E/scripts/utils.py:30: UserWarning: To copy construct from a tensor, it is recommended to use sourceTensor.clone().detach() or sourceTensor.clone().detach().requires_grad_(True), rather than torch.tensor(sourceTensor).\n",
      "  edge_attr = torch.tensor(adj[edge_index[0, :], edge_index[1, :]], dtype=torch.float)\n"
     ]
    },
    {
     "name": "stdout",
     "output_type": "stream",
     "text": [
      "\n",
      "\n",
      "\n",
      "01 - 223\n"
     ]
    },
    {
     "data": {
      "text/plain": [
       "'Shape DF of single sub of single timepoint : (414, 13)'"
      ]
     },
     "metadata": {},
     "output_type": "display_data"
    },
    {
     "name": "stdout",
     "output_type": "stream",
     "text": [
      "Shape adj matrix: torch.Size([414, 414])\n",
      "Label fo the current grpah: 34\n",
      "tensor([[  0,   0,   0,  ..., 413, 413, 413],\n",
      "        [  1,   2,   3,  ..., 410, 411, 412]])\n",
      "torch.Size([2, 170982])\n",
      "tensor([1., 1., 1.,  ..., 1., 1., 1.])\n",
      "torch.Size([170982])\n",
      "GraphEmo(x=[414], edge_index=[2, 170982], edge_attr=[170982], y=34, movie='AfterTheRain', subject='01', timestamp_tr=224, adj=[414, 414])\n",
      "Graph saved at: /home/dalai/GNN_E/data/processed/all_graphs/clique_singlefmri/AfterTheRain_01_224.pt"
     ]
    },
    {
     "name": "stderr",
     "output_type": "stream",
     "text": [
      "/home/dalai/GNN_E/scripts/utils.py:26: UserWarning: To copy construct from a tensor, it is recommended to use sourceTensor.clone().detach() or sourceTensor.clone().detach().requires_grad_(True), rather than torch.tensor(sourceTensor).\n",
      "  edge_index = torch.tensor(adj.nonzero().t().contiguous(), dtype=torch.long)  # Shape: [2, num_edges]\n",
      "/home/dalai/GNN_E/scripts/utils.py:30: UserWarning: To copy construct from a tensor, it is recommended to use sourceTensor.clone().detach() or sourceTensor.clone().detach().requires_grad_(True), rather than torch.tensor(sourceTensor).\n",
      "  edge_attr = torch.tensor(adj[edge_index[0, :], edge_index[1, :]], dtype=torch.float)\n"
     ]
    },
    {
     "name": "stdout",
     "output_type": "stream",
     "text": [
      "\n",
      "\n",
      "\n",
      "01 - 224\n"
     ]
    },
    {
     "data": {
      "text/plain": [
       "'Shape DF of single sub of single timepoint : (414, 13)'"
      ]
     },
     "metadata": {},
     "output_type": "display_data"
    },
    {
     "name": "stdout",
     "output_type": "stream",
     "text": [
      "Shape adj matrix: torch.Size([414, 414])\n",
      "Label fo the current grpah: 34\n",
      "tensor([[  0,   0,   0,  ..., 413, 413, 413],\n",
      "        [  1,   2,   3,  ..., 410, 411, 412]])\n",
      "torch.Size([2, 170982])\n",
      "tensor([1., 1., 1.,  ..., 1., 1., 1.])\n",
      "torch.Size([170982])\n",
      "GraphEmo(x=[414], edge_index=[2, 170982], edge_attr=[170982], y=34, movie='AfterTheRain', subject='01', timestamp_tr=225, adj=[414, 414])\n",
      "Graph saved at: /home/dalai/GNN_E/data/processed/all_graphs/clique_singlefmri/AfterTheRain_01_225.pt"
     ]
    },
    {
     "name": "stderr",
     "output_type": "stream",
     "text": [
      "/home/dalai/GNN_E/scripts/utils.py:26: UserWarning: To copy construct from a tensor, it is recommended to use sourceTensor.clone().detach() or sourceTensor.clone().detach().requires_grad_(True), rather than torch.tensor(sourceTensor).\n",
      "  edge_index = torch.tensor(adj.nonzero().t().contiguous(), dtype=torch.long)  # Shape: [2, num_edges]\n",
      "/home/dalai/GNN_E/scripts/utils.py:30: UserWarning: To copy construct from a tensor, it is recommended to use sourceTensor.clone().detach() or sourceTensor.clone().detach().requires_grad_(True), rather than torch.tensor(sourceTensor).\n",
      "  edge_attr = torch.tensor(adj[edge_index[0, :], edge_index[1, :]], dtype=torch.float)\n"
     ]
    },
    {
     "name": "stdout",
     "output_type": "stream",
     "text": [
      "\n",
      "\n",
      "\n",
      "01 - 225\n"
     ]
    },
    {
     "data": {
      "text/plain": [
       "'Shape DF of single sub of single timepoint : (414, 13)'"
      ]
     },
     "metadata": {},
     "output_type": "display_data"
    },
    {
     "name": "stdout",
     "output_type": "stream",
     "text": [
      "Shape adj matrix: torch.Size([414, 414])\n",
      "Label fo the current grpah: 34\n",
      "tensor([[  0,   0,   0,  ..., 413, 413, 413],\n",
      "        [  1,   2,   3,  ..., 410, 411, 412]])\n",
      "torch.Size([2, 170982])\n",
      "tensor([1., 1., 1.,  ..., 1., 1., 1.])\n",
      "torch.Size([170982])\n",
      "GraphEmo(x=[414], edge_index=[2, 170982], edge_attr=[170982], y=34, movie='AfterTheRain', subject='01', timestamp_tr=226, adj=[414, 414])\n",
      "Graph saved at: /home/dalai/GNN_E/data/processed/all_graphs/clique_singlefmri/AfterTheRain_01_226.pt"
     ]
    },
    {
     "name": "stderr",
     "output_type": "stream",
     "text": [
      "/home/dalai/GNN_E/scripts/utils.py:26: UserWarning: To copy construct from a tensor, it is recommended to use sourceTensor.clone().detach() or sourceTensor.clone().detach().requires_grad_(True), rather than torch.tensor(sourceTensor).\n",
      "  edge_index = torch.tensor(adj.nonzero().t().contiguous(), dtype=torch.long)  # Shape: [2, num_edges]\n",
      "/home/dalai/GNN_E/scripts/utils.py:30: UserWarning: To copy construct from a tensor, it is recommended to use sourceTensor.clone().detach() or sourceTensor.clone().detach().requires_grad_(True), rather than torch.tensor(sourceTensor).\n",
      "  edge_attr = torch.tensor(adj[edge_index[0, :], edge_index[1, :]], dtype=torch.float)\n"
     ]
    },
    {
     "name": "stdout",
     "output_type": "stream",
     "text": [
      "\n",
      "\n",
      "\n",
      "01 - 226\n"
     ]
    },
    {
     "data": {
      "text/plain": [
       "'Shape DF of single sub of single timepoint : (414, 13)'"
      ]
     },
     "metadata": {},
     "output_type": "display_data"
    },
    {
     "name": "stdout",
     "output_type": "stream",
     "text": [
      "Shape adj matrix: torch.Size([414, 414])\n",
      "Label fo the current grpah: 34\n",
      "tensor([[  0,   0,   0,  ..., 413, 413, 413],\n",
      "        [  1,   2,   3,  ..., 410, 411, 412]])\n",
      "torch.Size([2, 170982])\n",
      "tensor([1., 1., 1.,  ..., 1., 1., 1.])\n",
      "torch.Size([170982])\n",
      "GraphEmo(x=[414], edge_index=[2, 170982], edge_attr=[170982], y=34, movie='AfterTheRain', subject='01', timestamp_tr=227, adj=[414, 414])\n",
      "Graph saved at: /home/dalai/GNN_E/data/processed/all_graphs/clique_singlefmri/AfterTheRain_01_227.pt"
     ]
    },
    {
     "name": "stderr",
     "output_type": "stream",
     "text": [
      "/home/dalai/GNN_E/scripts/utils.py:26: UserWarning: To copy construct from a tensor, it is recommended to use sourceTensor.clone().detach() or sourceTensor.clone().detach().requires_grad_(True), rather than torch.tensor(sourceTensor).\n",
      "  edge_index = torch.tensor(adj.nonzero().t().contiguous(), dtype=torch.long)  # Shape: [2, num_edges]\n",
      "/home/dalai/GNN_E/scripts/utils.py:30: UserWarning: To copy construct from a tensor, it is recommended to use sourceTensor.clone().detach() or sourceTensor.clone().detach().requires_grad_(True), rather than torch.tensor(sourceTensor).\n",
      "  edge_attr = torch.tensor(adj[edge_index[0, :], edge_index[1, :]], dtype=torch.float)\n"
     ]
    },
    {
     "name": "stdout",
     "output_type": "stream",
     "text": [
      "\n",
      "\n",
      "\n",
      "01 - 227\n"
     ]
    },
    {
     "data": {
      "text/plain": [
       "'Shape DF of single sub of single timepoint : (414, 13)'"
      ]
     },
     "metadata": {},
     "output_type": "display_data"
    },
    {
     "name": "stdout",
     "output_type": "stream",
     "text": [
      "Shape adj matrix: torch.Size([414, 414])\n",
      "Label fo the current grpah: 34\n",
      "tensor([[  0,   0,   0,  ..., 413, 413, 413],\n",
      "        [  1,   2,   3,  ..., 410, 411, 412]])\n",
      "torch.Size([2, 170982])\n",
      "tensor([1., 1., 1.,  ..., 1., 1., 1.])\n",
      "torch.Size([170982])\n",
      "GraphEmo(x=[414], edge_index=[2, 170982], edge_attr=[170982], y=34, movie='AfterTheRain', subject='01', timestamp_tr=228, adj=[414, 414])\n"
     ]
    },
    {
     "name": "stderr",
     "output_type": "stream",
     "text": [
      "/home/dalai/GNN_E/scripts/utils.py:26: UserWarning: To copy construct from a tensor, it is recommended to use sourceTensor.clone().detach() or sourceTensor.clone().detach().requires_grad_(True), rather than torch.tensor(sourceTensor).\n",
      "  edge_index = torch.tensor(adj.nonzero().t().contiguous(), dtype=torch.long)  # Shape: [2, num_edges]\n",
      "/home/dalai/GNN_E/scripts/utils.py:30: UserWarning: To copy construct from a tensor, it is recommended to use sourceTensor.clone().detach() or sourceTensor.clone().detach().requires_grad_(True), rather than torch.tensor(sourceTensor).\n",
      "  edge_attr = torch.tensor(adj[edge_index[0, :], edge_index[1, :]], dtype=torch.float)\n"
     ]
    },
    {
     "name": "stdout",
     "output_type": "stream",
     "text": [
      "Graph saved at: /home/dalai/GNN_E/data/processed/all_graphs/clique_singlefmri/AfterTheRain_01_228.pt\n",
      "\n",
      "\n",
      "01 - 228\n"
     ]
    },
    {
     "data": {
      "text/plain": [
       "'Shape DF of single sub of single timepoint : (414, 13)'"
      ]
     },
     "metadata": {},
     "output_type": "display_data"
    },
    {
     "name": "stdout",
     "output_type": "stream",
     "text": [
      "Shape adj matrix: torch.Size([414, 414])\n",
      "Label fo the current grpah: 34\n",
      "tensor([[  0,   0,   0,  ..., 413, 413, 413],\n",
      "        [  1,   2,   3,  ..., 410, 411, 412]])\n",
      "torch.Size([2, 170982])\n",
      "tensor([1., 1., 1.,  ..., 1., 1., 1.])\n",
      "torch.Size([170982])\n",
      "GraphEmo(x=[414], edge_index=[2, 170982], edge_attr=[170982], y=34, movie='AfterTheRain', subject='01', timestamp_tr=229, adj=[414, 414])\n"
     ]
    },
    {
     "name": "stderr",
     "output_type": "stream",
     "text": [
      "/home/dalai/GNN_E/scripts/utils.py:26: UserWarning: To copy construct from a tensor, it is recommended to use sourceTensor.clone().detach() or sourceTensor.clone().detach().requires_grad_(True), rather than torch.tensor(sourceTensor).\n",
      "  edge_index = torch.tensor(adj.nonzero().t().contiguous(), dtype=torch.long)  # Shape: [2, num_edges]\n",
      "/home/dalai/GNN_E/scripts/utils.py:30: UserWarning: To copy construct from a tensor, it is recommended to use sourceTensor.clone().detach() or sourceTensor.clone().detach().requires_grad_(True), rather than torch.tensor(sourceTensor).\n",
      "  edge_attr = torch.tensor(adj[edge_index[0, :], edge_index[1, :]], dtype=torch.float)\n"
     ]
    },
    {
     "name": "stdout",
     "output_type": "stream",
     "text": [
      "Graph saved at: /home/dalai/GNN_E/data/processed/all_graphs/clique_singlefmri/AfterTheRain_01_229.pt\n",
      "\n",
      "\n",
      "01 - 229\n"
     ]
    },
    {
     "data": {
      "text/plain": [
       "'Shape DF of single sub of single timepoint : (414, 13)'"
      ]
     },
     "metadata": {},
     "output_type": "display_data"
    },
    {
     "name": "stdout",
     "output_type": "stream",
     "text": [
      "Shape adj matrix: torch.Size([414, 414])\n",
      "Label fo the current grpah: 34\n",
      "tensor([[  0,   0,   0,  ..., 413, 413, 413],\n",
      "        [  1,   2,   3,  ..., 410, 411, 412]])\n",
      "torch.Size([2, 170982])\n",
      "tensor([1., 1., 1.,  ..., 1., 1., 1.])\n",
      "torch.Size([170982])\n",
      "GraphEmo(x=[414], edge_index=[2, 170982], edge_attr=[170982], y=34, movie='AfterTheRain', subject='01', timestamp_tr=230, adj=[414, 414])\n"
     ]
    },
    {
     "name": "stderr",
     "output_type": "stream",
     "text": [
      "/home/dalai/GNN_E/scripts/utils.py:26: UserWarning: To copy construct from a tensor, it is recommended to use sourceTensor.clone().detach() or sourceTensor.clone().detach().requires_grad_(True), rather than torch.tensor(sourceTensor).\n",
      "  edge_index = torch.tensor(adj.nonzero().t().contiguous(), dtype=torch.long)  # Shape: [2, num_edges]\n",
      "/home/dalai/GNN_E/scripts/utils.py:30: UserWarning: To copy construct from a tensor, it is recommended to use sourceTensor.clone().detach() or sourceTensor.clone().detach().requires_grad_(True), rather than torch.tensor(sourceTensor).\n",
      "  edge_attr = torch.tensor(adj[edge_index[0, :], edge_index[1, :]], dtype=torch.float)\n"
     ]
    },
    {
     "name": "stdout",
     "output_type": "stream",
     "text": [
      "Graph saved at: /home/dalai/GNN_E/data/processed/all_graphs/clique_singlefmri/AfterTheRain_01_230.pt\n",
      "\n",
      "\n",
      "01 - 230\n"
     ]
    },
    {
     "data": {
      "text/plain": [
       "'Shape DF of single sub of single timepoint : (414, 13)'"
      ]
     },
     "metadata": {},
     "output_type": "display_data"
    },
    {
     "name": "stdout",
     "output_type": "stream",
     "text": [
      "Shape adj matrix: torch.Size([414, 414])\n",
      "Label fo the current grpah: 34\n",
      "tensor([[  0,   0,   0,  ..., 413, 413, 413],\n",
      "        [  1,   2,   3,  ..., 410, 411, 412]])\n",
      "torch.Size([2, 170982])\n",
      "tensor([1., 1., 1.,  ..., 1., 1., 1.])\n",
      "torch.Size([170982])\n",
      "GraphEmo(x=[414], edge_index=[2, 170982], edge_attr=[170982], y=34, movie='AfterTheRain', subject='01', timestamp_tr=231, adj=[414, 414])\n"
     ]
    },
    {
     "name": "stderr",
     "output_type": "stream",
     "text": [
      "/home/dalai/GNN_E/scripts/utils.py:26: UserWarning: To copy construct from a tensor, it is recommended to use sourceTensor.clone().detach() or sourceTensor.clone().detach().requires_grad_(True), rather than torch.tensor(sourceTensor).\n",
      "  edge_index = torch.tensor(adj.nonzero().t().contiguous(), dtype=torch.long)  # Shape: [2, num_edges]\n",
      "/home/dalai/GNN_E/scripts/utils.py:30: UserWarning: To copy construct from a tensor, it is recommended to use sourceTensor.clone().detach() or sourceTensor.clone().detach().requires_grad_(True), rather than torch.tensor(sourceTensor).\n",
      "  edge_attr = torch.tensor(adj[edge_index[0, :], edge_index[1, :]], dtype=torch.float)\n"
     ]
    },
    {
     "name": "stdout",
     "output_type": "stream",
     "text": [
      "Graph saved at: /home/dalai/GNN_E/data/processed/all_graphs/clique_singlefmri/AfterTheRain_01_231.pt\n",
      "\n",
      "\n",
      "01 - 231\n"
     ]
    },
    {
     "data": {
      "text/plain": [
       "'Shape DF of single sub of single timepoint : (414, 13)'"
      ]
     },
     "metadata": {},
     "output_type": "display_data"
    },
    {
     "name": "stdout",
     "output_type": "stream",
     "text": [
      "Shape adj matrix: torch.Size([414, 414])\n",
      "Label fo the current grpah: 34\n",
      "tensor([[  0,   0,   0,  ..., 413, 413, 413],\n",
      "        [  1,   2,   3,  ..., 410, 411, 412]])\n",
      "torch.Size([2, 170982])\n",
      "tensor([1., 1., 1.,  ..., 1., 1., 1.])\n",
      "torch.Size([170982])\n",
      "GraphEmo(x=[414], edge_index=[2, 170982], edge_attr=[170982], y=34, movie='AfterTheRain', subject='01', timestamp_tr=232, adj=[414, 414])\n"
     ]
    },
    {
     "name": "stderr",
     "output_type": "stream",
     "text": [
      "/home/dalai/GNN_E/scripts/utils.py:26: UserWarning: To copy construct from a tensor, it is recommended to use sourceTensor.clone().detach() or sourceTensor.clone().detach().requires_grad_(True), rather than torch.tensor(sourceTensor).\n",
      "  edge_index = torch.tensor(adj.nonzero().t().contiguous(), dtype=torch.long)  # Shape: [2, num_edges]\n",
      "/home/dalai/GNN_E/scripts/utils.py:30: UserWarning: To copy construct from a tensor, it is recommended to use sourceTensor.clone().detach() or sourceTensor.clone().detach().requires_grad_(True), rather than torch.tensor(sourceTensor).\n",
      "  edge_attr = torch.tensor(adj[edge_index[0, :], edge_index[1, :]], dtype=torch.float)\n"
     ]
    },
    {
     "name": "stdout",
     "output_type": "stream",
     "text": [
      "Graph saved at: /home/dalai/GNN_E/data/processed/all_graphs/clique_singlefmri/AfterTheRain_01_232.pt\n",
      "\n",
      "\n",
      "01 - 232\n"
     ]
    },
    {
     "data": {
      "text/plain": [
       "'Shape DF of single sub of single timepoint : (414, 13)'"
      ]
     },
     "metadata": {},
     "output_type": "display_data"
    },
    {
     "name": "stdout",
     "output_type": "stream",
     "text": [
      "Shape adj matrix: torch.Size([414, 414])\n",
      "Label fo the current grpah: 34\n",
      "tensor([[  0,   0,   0,  ..., 413, 413, 413],\n",
      "        [  1,   2,   3,  ..., 410, 411, 412]])\n",
      "torch.Size([2, 170982])\n",
      "tensor([1., 1., 1.,  ..., 1., 1., 1.])\n",
      "torch.Size([170982])\n",
      "GraphEmo(x=[414], edge_index=[2, 170982], edge_attr=[170982], y=34, movie='AfterTheRain', subject='01', timestamp_tr=233, adj=[414, 414])\n",
      "Graph saved at: /home/dalai/GNN_E/data/processed/all_graphs/clique_singlefmri/AfterTheRain_01_233.pt"
     ]
    },
    {
     "name": "stderr",
     "output_type": "stream",
     "text": [
      "/home/dalai/GNN_E/scripts/utils.py:26: UserWarning: To copy construct from a tensor, it is recommended to use sourceTensor.clone().detach() or sourceTensor.clone().detach().requires_grad_(True), rather than torch.tensor(sourceTensor).\n",
      "  edge_index = torch.tensor(adj.nonzero().t().contiguous(), dtype=torch.long)  # Shape: [2, num_edges]\n",
      "/home/dalai/GNN_E/scripts/utils.py:30: UserWarning: To copy construct from a tensor, it is recommended to use sourceTensor.clone().detach() or sourceTensor.clone().detach().requires_grad_(True), rather than torch.tensor(sourceTensor).\n",
      "  edge_attr = torch.tensor(adj[edge_index[0, :], edge_index[1, :]], dtype=torch.float)\n"
     ]
    },
    {
     "name": "stdout",
     "output_type": "stream",
     "text": [
      "\n",
      "\n",
      "\n",
      "01 - 233\n"
     ]
    },
    {
     "data": {
      "text/plain": [
       "'Shape DF of single sub of single timepoint : (414, 13)'"
      ]
     },
     "metadata": {},
     "output_type": "display_data"
    },
    {
     "name": "stdout",
     "output_type": "stream",
     "text": [
      "Shape adj matrix: torch.Size([414, 414])\n",
      "Label fo the current grpah: 34\n",
      "tensor([[  0,   0,   0,  ..., 413, 413, 413],\n",
      "        [  1,   2,   3,  ..., 410, 411, 412]])\n",
      "torch.Size([2, 170982])\n",
      "tensor([1., 1., 1.,  ..., 1., 1., 1.])\n",
      "torch.Size([170982])\n",
      "GraphEmo(x=[414], edge_index=[2, 170982], edge_attr=[170982], y=34, movie='AfterTheRain', subject='01', timestamp_tr=234, adj=[414, 414])\n"
     ]
    },
    {
     "name": "stderr",
     "output_type": "stream",
     "text": [
      "/home/dalai/GNN_E/scripts/utils.py:26: UserWarning: To copy construct from a tensor, it is recommended to use sourceTensor.clone().detach() or sourceTensor.clone().detach().requires_grad_(True), rather than torch.tensor(sourceTensor).\n",
      "  edge_index = torch.tensor(adj.nonzero().t().contiguous(), dtype=torch.long)  # Shape: [2, num_edges]\n",
      "/home/dalai/GNN_E/scripts/utils.py:30: UserWarning: To copy construct from a tensor, it is recommended to use sourceTensor.clone().detach() or sourceTensor.clone().detach().requires_grad_(True), rather than torch.tensor(sourceTensor).\n",
      "  edge_attr = torch.tensor(adj[edge_index[0, :], edge_index[1, :]], dtype=torch.float)\n"
     ]
    },
    {
     "name": "stdout",
     "output_type": "stream",
     "text": [
      "Graph saved at: /home/dalai/GNN_E/data/processed/all_graphs/clique_singlefmri/AfterTheRain_01_234.pt\n",
      "\n",
      "\n",
      "01 - 234\n"
     ]
    },
    {
     "data": {
      "text/plain": [
       "'Shape DF of single sub of single timepoint : (414, 13)'"
      ]
     },
     "metadata": {},
     "output_type": "display_data"
    },
    {
     "name": "stdout",
     "output_type": "stream",
     "text": [
      "Shape adj matrix: torch.Size([414, 414])\n",
      "Label fo the current grpah: 34\n",
      "tensor([[  0,   0,   0,  ..., 413, 413, 413],\n",
      "        [  1,   2,   3,  ..., 410, 411, 412]])\n",
      "torch.Size([2, 170982])\n",
      "tensor([1., 1., 1.,  ..., 1., 1., 1.])\n",
      "torch.Size([170982])\n",
      "GraphEmo(x=[414], edge_index=[2, 170982], edge_attr=[170982], y=34, movie='AfterTheRain', subject='01', timestamp_tr=235, adj=[414, 414])\n"
     ]
    },
    {
     "name": "stderr",
     "output_type": "stream",
     "text": [
      "/home/dalai/GNN_E/scripts/utils.py:26: UserWarning: To copy construct from a tensor, it is recommended to use sourceTensor.clone().detach() or sourceTensor.clone().detach().requires_grad_(True), rather than torch.tensor(sourceTensor).\n",
      "  edge_index = torch.tensor(adj.nonzero().t().contiguous(), dtype=torch.long)  # Shape: [2, num_edges]\n",
      "/home/dalai/GNN_E/scripts/utils.py:30: UserWarning: To copy construct from a tensor, it is recommended to use sourceTensor.clone().detach() or sourceTensor.clone().detach().requires_grad_(True), rather than torch.tensor(sourceTensor).\n",
      "  edge_attr = torch.tensor(adj[edge_index[0, :], edge_index[1, :]], dtype=torch.float)\n"
     ]
    },
    {
     "name": "stdout",
     "output_type": "stream",
     "text": [
      "Graph saved at: /home/dalai/GNN_E/data/processed/all_graphs/clique_singlefmri/AfterTheRain_01_235.pt\n",
      "\n",
      "\n",
      "01 - 235\n"
     ]
    },
    {
     "data": {
      "text/plain": [
       "'Shape DF of single sub of single timepoint : (414, 13)'"
      ]
     },
     "metadata": {},
     "output_type": "display_data"
    },
    {
     "name": "stdout",
     "output_type": "stream",
     "text": [
      "Shape adj matrix: torch.Size([414, 414])\n",
      "Label fo the current grpah: 34\n",
      "tensor([[  0,   0,   0,  ..., 413, 413, 413],\n",
      "        [  1,   2,   3,  ..., 410, 411, 412]])\n",
      "torch.Size([2, 170982])\n",
      "tensor([1., 1., 1.,  ..., 1., 1., 1.])\n",
      "torch.Size([170982])\n",
      "GraphEmo(x=[414], edge_index=[2, 170982], edge_attr=[170982], y=34, movie='AfterTheRain', subject='01', timestamp_tr=236, adj=[414, 414])\n"
     ]
    },
    {
     "name": "stderr",
     "output_type": "stream",
     "text": [
      "/home/dalai/GNN_E/scripts/utils.py:26: UserWarning: To copy construct from a tensor, it is recommended to use sourceTensor.clone().detach() or sourceTensor.clone().detach().requires_grad_(True), rather than torch.tensor(sourceTensor).\n",
      "  edge_index = torch.tensor(adj.nonzero().t().contiguous(), dtype=torch.long)  # Shape: [2, num_edges]\n",
      "/home/dalai/GNN_E/scripts/utils.py:30: UserWarning: To copy construct from a tensor, it is recommended to use sourceTensor.clone().detach() or sourceTensor.clone().detach().requires_grad_(True), rather than torch.tensor(sourceTensor).\n",
      "  edge_attr = torch.tensor(adj[edge_index[0, :], edge_index[1, :]], dtype=torch.float)\n"
     ]
    },
    {
     "name": "stdout",
     "output_type": "stream",
     "text": [
      "Graph saved at: /home/dalai/GNN_E/data/processed/all_graphs/clique_singlefmri/AfterTheRain_01_236.pt\n",
      "\n",
      "\n",
      "01 - 236\n"
     ]
    },
    {
     "data": {
      "text/plain": [
       "'Shape DF of single sub of single timepoint : (414, 13)'"
      ]
     },
     "metadata": {},
     "output_type": "display_data"
    },
    {
     "name": "stdout",
     "output_type": "stream",
     "text": [
      "Shape adj matrix: torch.Size([414, 414])\n",
      "Label fo the current grpah: 34\n",
      "tensor([[  0,   0,   0,  ..., 413, 413, 413],\n",
      "        [  1,   2,   3,  ..., 410, 411, 412]])\n",
      "torch.Size([2, 170982])\n",
      "tensor([1., 1., 1.,  ..., 1., 1., 1.])\n",
      "torch.Size([170982])\n",
      "GraphEmo(x=[414], edge_index=[2, 170982], edge_attr=[170982], y=34, movie='AfterTheRain', subject='01', timestamp_tr=237, adj=[414, 414])\n"
     ]
    },
    {
     "name": "stderr",
     "output_type": "stream",
     "text": [
      "/home/dalai/GNN_E/scripts/utils.py:26: UserWarning: To copy construct from a tensor, it is recommended to use sourceTensor.clone().detach() or sourceTensor.clone().detach().requires_grad_(True), rather than torch.tensor(sourceTensor).\n",
      "  edge_index = torch.tensor(adj.nonzero().t().contiguous(), dtype=torch.long)  # Shape: [2, num_edges]\n",
      "/home/dalai/GNN_E/scripts/utils.py:30: UserWarning: To copy construct from a tensor, it is recommended to use sourceTensor.clone().detach() or sourceTensor.clone().detach().requires_grad_(True), rather than torch.tensor(sourceTensor).\n",
      "  edge_attr = torch.tensor(adj[edge_index[0, :], edge_index[1, :]], dtype=torch.float)\n"
     ]
    },
    {
     "name": "stdout",
     "output_type": "stream",
     "text": [
      "Graph saved at: /home/dalai/GNN_E/data/processed/all_graphs/clique_singlefmri/AfterTheRain_01_237.pt\n",
      "\n",
      "\n",
      "01 - 237\n"
     ]
    },
    {
     "data": {
      "text/plain": [
       "'Shape DF of single sub of single timepoint : (414, 13)'"
      ]
     },
     "metadata": {},
     "output_type": "display_data"
    },
    {
     "name": "stdout",
     "output_type": "stream",
     "text": [
      "Shape adj matrix: torch.Size([414, 414])\n",
      "Label fo the current grpah: 34\n",
      "tensor([[  0,   0,   0,  ..., 413, 413, 413],\n",
      "        [  1,   2,   3,  ..., 410, 411, 412]])\n",
      "torch.Size([2, 170982])\n",
      "tensor([1., 1., 1.,  ..., 1., 1., 1.])\n",
      "torch.Size([170982])\n",
      "GraphEmo(x=[414], edge_index=[2, 170982], edge_attr=[170982], y=34, movie='AfterTheRain', subject='01', timestamp_tr=238, adj=[414, 414])\n"
     ]
    },
    {
     "name": "stderr",
     "output_type": "stream",
     "text": [
      "/home/dalai/GNN_E/scripts/utils.py:26: UserWarning: To copy construct from a tensor, it is recommended to use sourceTensor.clone().detach() or sourceTensor.clone().detach().requires_grad_(True), rather than torch.tensor(sourceTensor).\n",
      "  edge_index = torch.tensor(adj.nonzero().t().contiguous(), dtype=torch.long)  # Shape: [2, num_edges]\n",
      "/home/dalai/GNN_E/scripts/utils.py:30: UserWarning: To copy construct from a tensor, it is recommended to use sourceTensor.clone().detach() or sourceTensor.clone().detach().requires_grad_(True), rather than torch.tensor(sourceTensor).\n",
      "  edge_attr = torch.tensor(adj[edge_index[0, :], edge_index[1, :]], dtype=torch.float)\n"
     ]
    },
    {
     "name": "stdout",
     "output_type": "stream",
     "text": [
      "Graph saved at: /home/dalai/GNN_E/data/processed/all_graphs/clique_singlefmri/AfterTheRain_01_238.pt\n",
      "\n",
      "\n",
      "01 - 238\n"
     ]
    },
    {
     "data": {
      "text/plain": [
       "'Shape DF of single sub of single timepoint : (414, 13)'"
      ]
     },
     "metadata": {},
     "output_type": "display_data"
    },
    {
     "name": "stdout",
     "output_type": "stream",
     "text": [
      "Shape adj matrix: torch.Size([414, 414])\n",
      "Label fo the current grpah: 34\n",
      "tensor([[  0,   0,   0,  ..., 413, 413, 413],\n",
      "        [  1,   2,   3,  ..., 410, 411, 412]])\n",
      "torch.Size([2, 170982])\n",
      "tensor([1., 1., 1.,  ..., 1., 1., 1.])\n",
      "torch.Size([170982])\n",
      "GraphEmo(x=[414], edge_index=[2, 170982], edge_attr=[170982], y=34, movie='AfterTheRain', subject='01', timestamp_tr=239, adj=[414, 414])\n"
     ]
    },
    {
     "name": "stderr",
     "output_type": "stream",
     "text": [
      "/home/dalai/GNN_E/scripts/utils.py:26: UserWarning: To copy construct from a tensor, it is recommended to use sourceTensor.clone().detach() or sourceTensor.clone().detach().requires_grad_(True), rather than torch.tensor(sourceTensor).\n",
      "  edge_index = torch.tensor(adj.nonzero().t().contiguous(), dtype=torch.long)  # Shape: [2, num_edges]\n",
      "/home/dalai/GNN_E/scripts/utils.py:30: UserWarning: To copy construct from a tensor, it is recommended to use sourceTensor.clone().detach() or sourceTensor.clone().detach().requires_grad_(True), rather than torch.tensor(sourceTensor).\n",
      "  edge_attr = torch.tensor(adj[edge_index[0, :], edge_index[1, :]], dtype=torch.float)\n"
     ]
    },
    {
     "name": "stdout",
     "output_type": "stream",
     "text": [
      "Graph saved at: /home/dalai/GNN_E/data/processed/all_graphs/clique_singlefmri/AfterTheRain_01_239.pt\n",
      "\n",
      "\n",
      "01 - 239\n"
     ]
    },
    {
     "data": {
      "text/plain": [
       "'Shape DF of single sub of single timepoint : (414, 13)'"
      ]
     },
     "metadata": {},
     "output_type": "display_data"
    },
    {
     "name": "stdout",
     "output_type": "stream",
     "text": [
      "Shape adj matrix: torch.Size([414, 414])\n",
      "Label fo the current grpah: 34\n",
      "tensor([[  0,   0,   0,  ..., 413, 413, 413],\n",
      "        [  1,   2,   3,  ..., 410, 411, 412]])\n",
      "torch.Size([2, 170982])\n",
      "tensor([1., 1., 1.,  ..., 1., 1., 1.])\n",
      "torch.Size([170982])\n",
      "GraphEmo(x=[414], edge_index=[2, 170982], edge_attr=[170982], y=34, movie='AfterTheRain', subject='01', timestamp_tr=240, adj=[414, 414])\n",
      "Graph saved at: /home/dalai/GNN_E/data/processed/all_graphs/clique_singlefmri/AfterTheRain_01_240.pt"
     ]
    },
    {
     "name": "stderr",
     "output_type": "stream",
     "text": [
      "/home/dalai/GNN_E/scripts/utils.py:26: UserWarning: To copy construct from a tensor, it is recommended to use sourceTensor.clone().detach() or sourceTensor.clone().detach().requires_grad_(True), rather than torch.tensor(sourceTensor).\n",
      "  edge_index = torch.tensor(adj.nonzero().t().contiguous(), dtype=torch.long)  # Shape: [2, num_edges]\n",
      "/home/dalai/GNN_E/scripts/utils.py:30: UserWarning: To copy construct from a tensor, it is recommended to use sourceTensor.clone().detach() or sourceTensor.clone().detach().requires_grad_(True), rather than torch.tensor(sourceTensor).\n",
      "  edge_attr = torch.tensor(adj[edge_index[0, :], edge_index[1, :]], dtype=torch.float)\n"
     ]
    },
    {
     "name": "stdout",
     "output_type": "stream",
     "text": [
      "\n",
      "\n",
      "\n",
      "01 - 240\n"
     ]
    },
    {
     "data": {
      "text/plain": [
       "'Shape DF of single sub of single timepoint : (414, 13)'"
      ]
     },
     "metadata": {},
     "output_type": "display_data"
    },
    {
     "name": "stdout",
     "output_type": "stream",
     "text": [
      "Shape adj matrix: torch.Size([414, 414])\n",
      "Label fo the current grpah: 34\n",
      "tensor([[  0,   0,   0,  ..., 413, 413, 413],\n",
      "        [  1,   2,   3,  ..., 410, 411, 412]])\n",
      "torch.Size([2, 170982])\n",
      "tensor([1., 1., 1.,  ..., 1., 1., 1.])\n",
      "torch.Size([170982])\n",
      "GraphEmo(x=[414], edge_index=[2, 170982], edge_attr=[170982], y=34, movie='AfterTheRain', subject='01', timestamp_tr=241, adj=[414, 414])\n",
      "Graph saved at: /home/dalai/GNN_E/data/processed/all_graphs/clique_singlefmri/AfterTheRain_01_241.pt"
     ]
    },
    {
     "name": "stderr",
     "output_type": "stream",
     "text": [
      "/home/dalai/GNN_E/scripts/utils.py:26: UserWarning: To copy construct from a tensor, it is recommended to use sourceTensor.clone().detach() or sourceTensor.clone().detach().requires_grad_(True), rather than torch.tensor(sourceTensor).\n",
      "  edge_index = torch.tensor(adj.nonzero().t().contiguous(), dtype=torch.long)  # Shape: [2, num_edges]\n",
      "/home/dalai/GNN_E/scripts/utils.py:30: UserWarning: To copy construct from a tensor, it is recommended to use sourceTensor.clone().detach() or sourceTensor.clone().detach().requires_grad_(True), rather than torch.tensor(sourceTensor).\n",
      "  edge_attr = torch.tensor(adj[edge_index[0, :], edge_index[1, :]], dtype=torch.float)\n"
     ]
    },
    {
     "name": "stdout",
     "output_type": "stream",
     "text": [
      "\n",
      "\n",
      "\n",
      "01 - 241\n"
     ]
    },
    {
     "data": {
      "text/plain": [
       "'Shape DF of single sub of single timepoint : (414, 13)'"
      ]
     },
     "metadata": {},
     "output_type": "display_data"
    },
    {
     "name": "stdout",
     "output_type": "stream",
     "text": [
      "Shape adj matrix: torch.Size([414, 414])\n",
      "Label fo the current grpah: 34\n",
      "tensor([[  0,   0,   0,  ..., 413, 413, 413],\n",
      "        [  1,   2,   3,  ..., 410, 411, 412]])\n",
      "torch.Size([2, 170982])\n",
      "tensor([1., 1., 1.,  ..., 1., 1., 1.])\n",
      "torch.Size([170982])\n",
      "GraphEmo(x=[414], edge_index=[2, 170982], edge_attr=[170982], y=34, movie='AfterTheRain', subject='01', timestamp_tr=242, adj=[414, 414])\n",
      "Graph saved at: /home/dalai/GNN_E/data/processed/all_graphs/clique_singlefmri/AfterTheRain_01_242.pt"
     ]
    },
    {
     "name": "stderr",
     "output_type": "stream",
     "text": [
      "/home/dalai/GNN_E/scripts/utils.py:26: UserWarning: To copy construct from a tensor, it is recommended to use sourceTensor.clone().detach() or sourceTensor.clone().detach().requires_grad_(True), rather than torch.tensor(sourceTensor).\n",
      "  edge_index = torch.tensor(adj.nonzero().t().contiguous(), dtype=torch.long)  # Shape: [2, num_edges]\n",
      "/home/dalai/GNN_E/scripts/utils.py:30: UserWarning: To copy construct from a tensor, it is recommended to use sourceTensor.clone().detach() or sourceTensor.clone().detach().requires_grad_(True), rather than torch.tensor(sourceTensor).\n",
      "  edge_attr = torch.tensor(adj[edge_index[0, :], edge_index[1, :]], dtype=torch.float)\n"
     ]
    },
    {
     "name": "stdout",
     "output_type": "stream",
     "text": [
      "\n",
      "\n",
      "\n",
      "01 - 242\n"
     ]
    },
    {
     "data": {
      "text/plain": [
       "'Shape DF of single sub of single timepoint : (414, 13)'"
      ]
     },
     "metadata": {},
     "output_type": "display_data"
    },
    {
     "name": "stdout",
     "output_type": "stream",
     "text": [
      "Shape adj matrix: torch.Size([414, 414])\n",
      "Label fo the current grpah: 34\n",
      "tensor([[  0,   0,   0,  ..., 413, 413, 413],\n",
      "        [  1,   2,   3,  ..., 410, 411, 412]])\n",
      "torch.Size([2, 170982])\n",
      "tensor([1., 1., 1.,  ..., 1., 1., 1.])\n",
      "torch.Size([170982])\n",
      "GraphEmo(x=[414], edge_index=[2, 170982], edge_attr=[170982], y=34, movie='AfterTheRain', subject='01', timestamp_tr=243, adj=[414, 414])\n",
      "Graph saved at: /home/dalai/GNN_E/data/processed/all_graphs/clique_singlefmri/AfterTheRain_01_243.pt"
     ]
    },
    {
     "name": "stderr",
     "output_type": "stream",
     "text": [
      "/home/dalai/GNN_E/scripts/utils.py:26: UserWarning: To copy construct from a tensor, it is recommended to use sourceTensor.clone().detach() or sourceTensor.clone().detach().requires_grad_(True), rather than torch.tensor(sourceTensor).\n",
      "  edge_index = torch.tensor(adj.nonzero().t().contiguous(), dtype=torch.long)  # Shape: [2, num_edges]\n",
      "/home/dalai/GNN_E/scripts/utils.py:30: UserWarning: To copy construct from a tensor, it is recommended to use sourceTensor.clone().detach() or sourceTensor.clone().detach().requires_grad_(True), rather than torch.tensor(sourceTensor).\n",
      "  edge_attr = torch.tensor(adj[edge_index[0, :], edge_index[1, :]], dtype=torch.float)\n"
     ]
    },
    {
     "name": "stdout",
     "output_type": "stream",
     "text": [
      "\n",
      "\n",
      "\n",
      "01 - 243\n"
     ]
    },
    {
     "data": {
      "text/plain": [
       "'Shape DF of single sub of single timepoint : (414, 13)'"
      ]
     },
     "metadata": {},
     "output_type": "display_data"
    },
    {
     "name": "stdout",
     "output_type": "stream",
     "text": [
      "Shape adj matrix: torch.Size([414, 414])\n",
      "Label fo the current grpah: 34\n",
      "tensor([[  0,   0,   0,  ..., 413, 413, 413],\n",
      "        [  1,   2,   3,  ..., 410, 411, 412]])\n",
      "torch.Size([2, 170982])\n",
      "tensor([1., 1., 1.,  ..., 1., 1., 1.])\n",
      "torch.Size([170982])\n",
      "GraphEmo(x=[414], edge_index=[2, 170982], edge_attr=[170982], y=34, movie='AfterTheRain', subject='01', timestamp_tr=244, adj=[414, 414])\n",
      "Graph saved at: /home/dalai/GNN_E/data/processed/all_graphs/clique_singlefmri/AfterTheRain_01_244.pt"
     ]
    },
    {
     "name": "stderr",
     "output_type": "stream",
     "text": [
      "/home/dalai/GNN_E/scripts/utils.py:26: UserWarning: To copy construct from a tensor, it is recommended to use sourceTensor.clone().detach() or sourceTensor.clone().detach().requires_grad_(True), rather than torch.tensor(sourceTensor).\n",
      "  edge_index = torch.tensor(adj.nonzero().t().contiguous(), dtype=torch.long)  # Shape: [2, num_edges]\n",
      "/home/dalai/GNN_E/scripts/utils.py:30: UserWarning: To copy construct from a tensor, it is recommended to use sourceTensor.clone().detach() or sourceTensor.clone().detach().requires_grad_(True), rather than torch.tensor(sourceTensor).\n",
      "  edge_attr = torch.tensor(adj[edge_index[0, :], edge_index[1, :]], dtype=torch.float)\n"
     ]
    },
    {
     "name": "stdout",
     "output_type": "stream",
     "text": [
      "\n",
      "\n",
      "\n",
      "01 - 244\n"
     ]
    },
    {
     "data": {
      "text/plain": [
       "'Shape DF of single sub of single timepoint : (414, 13)'"
      ]
     },
     "metadata": {},
     "output_type": "display_data"
    },
    {
     "name": "stdout",
     "output_type": "stream",
     "text": [
      "Shape adj matrix: torch.Size([414, 414])\n",
      "Label fo the current grpah: 34\n",
      "tensor([[  0,   0,   0,  ..., 413, 413, 413],\n",
      "        [  1,   2,   3,  ..., 410, 411, 412]])\n",
      "torch.Size([2, 170982])\n",
      "tensor([1., 1., 1.,  ..., 1., 1., 1.])\n",
      "torch.Size([170982])\n",
      "GraphEmo(x=[414], edge_index=[2, 170982], edge_attr=[170982], y=34, movie='AfterTheRain', subject='01', timestamp_tr=245, adj=[414, 414])\n",
      "Graph saved at: /home/dalai/GNN_E/data/processed/all_graphs/clique_singlefmri/AfterTheRain_01_245.pt"
     ]
    },
    {
     "name": "stderr",
     "output_type": "stream",
     "text": [
      "/home/dalai/GNN_E/scripts/utils.py:26: UserWarning: To copy construct from a tensor, it is recommended to use sourceTensor.clone().detach() or sourceTensor.clone().detach().requires_grad_(True), rather than torch.tensor(sourceTensor).\n",
      "  edge_index = torch.tensor(adj.nonzero().t().contiguous(), dtype=torch.long)  # Shape: [2, num_edges]\n",
      "/home/dalai/GNN_E/scripts/utils.py:30: UserWarning: To copy construct from a tensor, it is recommended to use sourceTensor.clone().detach() or sourceTensor.clone().detach().requires_grad_(True), rather than torch.tensor(sourceTensor).\n",
      "  edge_attr = torch.tensor(adj[edge_index[0, :], edge_index[1, :]], dtype=torch.float)\n"
     ]
    },
    {
     "name": "stdout",
     "output_type": "stream",
     "text": [
      "\n",
      "\n",
      "\n",
      "01 - 245\n"
     ]
    },
    {
     "data": {
      "text/plain": [
       "'Shape DF of single sub of single timepoint : (414, 13)'"
      ]
     },
     "metadata": {},
     "output_type": "display_data"
    },
    {
     "name": "stdout",
     "output_type": "stream",
     "text": [
      "Shape adj matrix: torch.Size([414, 414])\n",
      "Label fo the current grpah: 34\n",
      "tensor([[  0,   0,   0,  ..., 413, 413, 413],\n",
      "        [  1,   2,   3,  ..., 410, 411, 412]])\n",
      "torch.Size([2, 170982])\n",
      "tensor([1., 1., 1.,  ..., 1., 1., 1.])\n",
      "torch.Size([170982])\n",
      "GraphEmo(x=[414], edge_index=[2, 170982], edge_attr=[170982], y=34, movie='AfterTheRain', subject='01', timestamp_tr=246, adj=[414, 414])\n",
      "Graph saved at: /home/dalai/GNN_E/data/processed/all_graphs/clique_singlefmri/AfterTheRain_01_246.pt"
     ]
    },
    {
     "name": "stderr",
     "output_type": "stream",
     "text": [
      "/home/dalai/GNN_E/scripts/utils.py:26: UserWarning: To copy construct from a tensor, it is recommended to use sourceTensor.clone().detach() or sourceTensor.clone().detach().requires_grad_(True), rather than torch.tensor(sourceTensor).\n",
      "  edge_index = torch.tensor(adj.nonzero().t().contiguous(), dtype=torch.long)  # Shape: [2, num_edges]\n",
      "/home/dalai/GNN_E/scripts/utils.py:30: UserWarning: To copy construct from a tensor, it is recommended to use sourceTensor.clone().detach() or sourceTensor.clone().detach().requires_grad_(True), rather than torch.tensor(sourceTensor).\n",
      "  edge_attr = torch.tensor(adj[edge_index[0, :], edge_index[1, :]], dtype=torch.float)\n"
     ]
    },
    {
     "name": "stdout",
     "output_type": "stream",
     "text": [
      "\n",
      "\n",
      "\n",
      "01 - 246\n"
     ]
    },
    {
     "data": {
      "text/plain": [
       "'Shape DF of single sub of single timepoint : (414, 13)'"
      ]
     },
     "metadata": {},
     "output_type": "display_data"
    },
    {
     "name": "stdout",
     "output_type": "stream",
     "text": [
      "Shape adj matrix: torch.Size([414, 414])\n",
      "Label fo the current grpah: 34\n",
      "tensor([[  0,   0,   0,  ..., 413, 413, 413],\n",
      "        [  1,   2,   3,  ..., 410, 411, 412]])\n",
      "torch.Size([2, 170982])\n",
      "tensor([1., 1., 1.,  ..., 1., 1., 1.])\n",
      "torch.Size([170982])\n",
      "GraphEmo(x=[414], edge_index=[2, 170982], edge_attr=[170982], y=34, movie='AfterTheRain', subject='01', timestamp_tr=247, adj=[414, 414])\n",
      "Graph saved at: /home/dalai/GNN_E/data/processed/all_graphs/clique_singlefmri/AfterTheRain_01_247.pt"
     ]
    },
    {
     "name": "stderr",
     "output_type": "stream",
     "text": [
      "/home/dalai/GNN_E/scripts/utils.py:26: UserWarning: To copy construct from a tensor, it is recommended to use sourceTensor.clone().detach() or sourceTensor.clone().detach().requires_grad_(True), rather than torch.tensor(sourceTensor).\n",
      "  edge_index = torch.tensor(adj.nonzero().t().contiguous(), dtype=torch.long)  # Shape: [2, num_edges]\n",
      "/home/dalai/GNN_E/scripts/utils.py:30: UserWarning: To copy construct from a tensor, it is recommended to use sourceTensor.clone().detach() or sourceTensor.clone().detach().requires_grad_(True), rather than torch.tensor(sourceTensor).\n",
      "  edge_attr = torch.tensor(adj[edge_index[0, :], edge_index[1, :]], dtype=torch.float)\n"
     ]
    },
    {
     "name": "stdout",
     "output_type": "stream",
     "text": [
      "\n",
      "\n",
      "\n",
      "01 - 247\n"
     ]
    },
    {
     "data": {
      "text/plain": [
       "'Shape DF of single sub of single timepoint : (414, 13)'"
      ]
     },
     "metadata": {},
     "output_type": "display_data"
    },
    {
     "name": "stdout",
     "output_type": "stream",
     "text": [
      "Shape adj matrix: torch.Size([414, 414])\n",
      "Label fo the current grpah: 34\n",
      "tensor([[  0,   0,   0,  ..., 413, 413, 413],\n",
      "        [  1,   2,   3,  ..., 410, 411, 412]])\n",
      "torch.Size([2, 170982])\n",
      "tensor([1., 1., 1.,  ..., 1., 1., 1.])\n",
      "torch.Size([170982])\n",
      "GraphEmo(x=[414], edge_index=[2, 170982], edge_attr=[170982], y=34, movie='AfterTheRain', subject='01', timestamp_tr=248, adj=[414, 414])\n",
      "Graph saved at: /home/dalai/GNN_E/data/processed/all_graphs/clique_singlefmri/AfterTheRain_01_248.pt"
     ]
    },
    {
     "name": "stderr",
     "output_type": "stream",
     "text": [
      "/home/dalai/GNN_E/scripts/utils.py:26: UserWarning: To copy construct from a tensor, it is recommended to use sourceTensor.clone().detach() or sourceTensor.clone().detach().requires_grad_(True), rather than torch.tensor(sourceTensor).\n",
      "  edge_index = torch.tensor(adj.nonzero().t().contiguous(), dtype=torch.long)  # Shape: [2, num_edges]\n",
      "/home/dalai/GNN_E/scripts/utils.py:30: UserWarning: To copy construct from a tensor, it is recommended to use sourceTensor.clone().detach() or sourceTensor.clone().detach().requires_grad_(True), rather than torch.tensor(sourceTensor).\n",
      "  edge_attr = torch.tensor(adj[edge_index[0, :], edge_index[1, :]], dtype=torch.float)\n"
     ]
    },
    {
     "name": "stdout",
     "output_type": "stream",
     "text": [
      "\n",
      "\n",
      "\n",
      "01 - 248\n"
     ]
    },
    {
     "data": {
      "text/plain": [
       "'Shape DF of single sub of single timepoint : (414, 13)'"
      ]
     },
     "metadata": {},
     "output_type": "display_data"
    },
    {
     "name": "stdout",
     "output_type": "stream",
     "text": [
      "Shape adj matrix: torch.Size([414, 414])\n",
      "Label fo the current grpah: 34\n",
      "tensor([[  0,   0,   0,  ..., 413, 413, 413],\n",
      "        [  1,   2,   3,  ..., 410, 411, 412]])\n",
      "torch.Size([2, 170982])\n",
      "tensor([1., 1., 1.,  ..., 1., 1., 1.])\n",
      "torch.Size([170982])\n",
      "GraphEmo(x=[414], edge_index=[2, 170982], edge_attr=[170982], y=34, movie='AfterTheRain', subject='01', timestamp_tr=249, adj=[414, 414])\n",
      "Graph saved at: /home/dalai/GNN_E/data/processed/all_graphs/clique_singlefmri/AfterTheRain_01_249.pt"
     ]
    },
    {
     "name": "stderr",
     "output_type": "stream",
     "text": [
      "/home/dalai/GNN_E/scripts/utils.py:26: UserWarning: To copy construct from a tensor, it is recommended to use sourceTensor.clone().detach() or sourceTensor.clone().detach().requires_grad_(True), rather than torch.tensor(sourceTensor).\n",
      "  edge_index = torch.tensor(adj.nonzero().t().contiguous(), dtype=torch.long)  # Shape: [2, num_edges]\n",
      "/home/dalai/GNN_E/scripts/utils.py:30: UserWarning: To copy construct from a tensor, it is recommended to use sourceTensor.clone().detach() or sourceTensor.clone().detach().requires_grad_(True), rather than torch.tensor(sourceTensor).\n",
      "  edge_attr = torch.tensor(adj[edge_index[0, :], edge_index[1, :]], dtype=torch.float)\n"
     ]
    },
    {
     "name": "stdout",
     "output_type": "stream",
     "text": [
      "\n",
      "\n",
      "\n",
      "01 - 249\n"
     ]
    },
    {
     "data": {
      "text/plain": [
       "'Shape DF of single sub of single timepoint : (414, 13)'"
      ]
     },
     "metadata": {},
     "output_type": "display_data"
    },
    {
     "name": "stdout",
     "output_type": "stream",
     "text": [
      "Shape adj matrix: torch.Size([414, 414])\n",
      "Label fo the current grpah: 34\n",
      "tensor([[  0,   0,   0,  ..., 413, 413, 413],\n",
      "        [  1,   2,   3,  ..., 410, 411, 412]])\n",
      "torch.Size([2, 170982])\n",
      "tensor([1., 1., 1.,  ..., 1., 1., 1.])\n",
      "torch.Size([170982])\n",
      "GraphEmo(x=[414], edge_index=[2, 170982], edge_attr=[170982], y=34, movie='AfterTheRain', subject='01', timestamp_tr=250, adj=[414, 414])\n",
      "Graph saved at: /home/dalai/GNN_E/data/processed/all_graphs/clique_singlefmri/AfterTheRain_01_250.pt"
     ]
    },
    {
     "name": "stderr",
     "output_type": "stream",
     "text": [
      "/home/dalai/GNN_E/scripts/utils.py:26: UserWarning: To copy construct from a tensor, it is recommended to use sourceTensor.clone().detach() or sourceTensor.clone().detach().requires_grad_(True), rather than torch.tensor(sourceTensor).\n",
      "  edge_index = torch.tensor(adj.nonzero().t().contiguous(), dtype=torch.long)  # Shape: [2, num_edges]\n",
      "/home/dalai/GNN_E/scripts/utils.py:30: UserWarning: To copy construct from a tensor, it is recommended to use sourceTensor.clone().detach() or sourceTensor.clone().detach().requires_grad_(True), rather than torch.tensor(sourceTensor).\n",
      "  edge_attr = torch.tensor(adj[edge_index[0, :], edge_index[1, :]], dtype=torch.float)\n"
     ]
    },
    {
     "name": "stdout",
     "output_type": "stream",
     "text": [
      "\n",
      "\n",
      "\n",
      "01 - 250\n"
     ]
    },
    {
     "data": {
      "text/plain": [
       "'Shape DF of single sub of single timepoint : (414, 13)'"
      ]
     },
     "metadata": {},
     "output_type": "display_data"
    },
    {
     "name": "stdout",
     "output_type": "stream",
     "text": [
      "Shape adj matrix: torch.Size([414, 414])\n",
      "Label fo the current grpah: 34\n",
      "tensor([[  0,   0,   0,  ..., 413, 413, 413],\n",
      "        [  1,   2,   3,  ..., 410, 411, 412]])\n",
      "torch.Size([2, 170982])\n",
      "tensor([1., 1., 1.,  ..., 1., 1., 1.])\n",
      "torch.Size([170982])\n",
      "GraphEmo(x=[414], edge_index=[2, 170982], edge_attr=[170982], y=34, movie='AfterTheRain', subject='01', timestamp_tr=251, adj=[414, 414])\n",
      "Graph saved at: /home/dalai/GNN_E/data/processed/all_graphs/clique_singlefmri/AfterTheRain_01_251.pt"
     ]
    },
    {
     "name": "stderr",
     "output_type": "stream",
     "text": [
      "/home/dalai/GNN_E/scripts/utils.py:26: UserWarning: To copy construct from a tensor, it is recommended to use sourceTensor.clone().detach() or sourceTensor.clone().detach().requires_grad_(True), rather than torch.tensor(sourceTensor).\n",
      "  edge_index = torch.tensor(adj.nonzero().t().contiguous(), dtype=torch.long)  # Shape: [2, num_edges]\n",
      "/home/dalai/GNN_E/scripts/utils.py:30: UserWarning: To copy construct from a tensor, it is recommended to use sourceTensor.clone().detach() or sourceTensor.clone().detach().requires_grad_(True), rather than torch.tensor(sourceTensor).\n",
      "  edge_attr = torch.tensor(adj[edge_index[0, :], edge_index[1, :]], dtype=torch.float)\n"
     ]
    },
    {
     "name": "stdout",
     "output_type": "stream",
     "text": [
      "\n",
      "\n",
      "\n",
      "01 - 251\n"
     ]
    },
    {
     "data": {
      "text/plain": [
       "'Shape DF of single sub of single timepoint : (414, 13)'"
      ]
     },
     "metadata": {},
     "output_type": "display_data"
    },
    {
     "name": "stdout",
     "output_type": "stream",
     "text": [
      "Shape adj matrix: torch.Size([414, 414])\n",
      "Label fo the current grpah: 34\n",
      "tensor([[  0,   0,   0,  ..., 413, 413, 413],\n",
      "        [  1,   2,   3,  ..., 410, 411, 412]])\n",
      "torch.Size([2, 170982])\n",
      "tensor([1., 1., 1.,  ..., 1., 1., 1.])\n",
      "torch.Size([170982])\n",
      "GraphEmo(x=[414], edge_index=[2, 170982], edge_attr=[170982], y=34, movie='AfterTheRain', subject='01', timestamp_tr=252, adj=[414, 414])\n",
      "Graph saved at: /home/dalai/GNN_E/data/processed/all_graphs/clique_singlefmri/AfterTheRain_01_252.pt"
     ]
    },
    {
     "name": "stderr",
     "output_type": "stream",
     "text": [
      "/home/dalai/GNN_E/scripts/utils.py:26: UserWarning: To copy construct from a tensor, it is recommended to use sourceTensor.clone().detach() or sourceTensor.clone().detach().requires_grad_(True), rather than torch.tensor(sourceTensor).\n",
      "  edge_index = torch.tensor(adj.nonzero().t().contiguous(), dtype=torch.long)  # Shape: [2, num_edges]\n",
      "/home/dalai/GNN_E/scripts/utils.py:30: UserWarning: To copy construct from a tensor, it is recommended to use sourceTensor.clone().detach() or sourceTensor.clone().detach().requires_grad_(True), rather than torch.tensor(sourceTensor).\n",
      "  edge_attr = torch.tensor(adj[edge_index[0, :], edge_index[1, :]], dtype=torch.float)\n"
     ]
    },
    {
     "name": "stdout",
     "output_type": "stream",
     "text": [
      "\n",
      "\n",
      "\n",
      "01 - 252\n"
     ]
    },
    {
     "data": {
      "text/plain": [
       "'Shape DF of single sub of single timepoint : (414, 13)'"
      ]
     },
     "metadata": {},
     "output_type": "display_data"
    },
    {
     "name": "stdout",
     "output_type": "stream",
     "text": [
      "Shape adj matrix: torch.Size([414, 414])\n",
      "Label fo the current grpah: 34\n",
      "tensor([[  0,   0,   0,  ..., 413, 413, 413],\n",
      "        [  1,   2,   3,  ..., 410, 411, 412]])\n",
      "torch.Size([2, 170982])\n",
      "tensor([1., 1., 1.,  ..., 1., 1., 1.])\n",
      "torch.Size([170982])\n",
      "GraphEmo(x=[414], edge_index=[2, 170982], edge_attr=[170982], y=34, movie='AfterTheRain', subject='01', timestamp_tr=253, adj=[414, 414])\n"
     ]
    },
    {
     "name": "stderr",
     "output_type": "stream",
     "text": [
      "/home/dalai/GNN_E/scripts/utils.py:26: UserWarning: To copy construct from a tensor, it is recommended to use sourceTensor.clone().detach() or sourceTensor.clone().detach().requires_grad_(True), rather than torch.tensor(sourceTensor).\n",
      "  edge_index = torch.tensor(adj.nonzero().t().contiguous(), dtype=torch.long)  # Shape: [2, num_edges]\n",
      "/home/dalai/GNN_E/scripts/utils.py:30: UserWarning: To copy construct from a tensor, it is recommended to use sourceTensor.clone().detach() or sourceTensor.clone().detach().requires_grad_(True), rather than torch.tensor(sourceTensor).\n",
      "  edge_attr = torch.tensor(adj[edge_index[0, :], edge_index[1, :]], dtype=torch.float)\n"
     ]
    },
    {
     "name": "stdout",
     "output_type": "stream",
     "text": [
      "Graph saved at: /home/dalai/GNN_E/data/processed/all_graphs/clique_singlefmri/AfterTheRain_01_253.pt\n",
      "\n",
      "\n",
      "01 - 253\n"
     ]
    },
    {
     "data": {
      "text/plain": [
       "'Shape DF of single sub of single timepoint : (414, 13)'"
      ]
     },
     "metadata": {},
     "output_type": "display_data"
    },
    {
     "name": "stdout",
     "output_type": "stream",
     "text": [
      "Shape adj matrix: torch.Size([414, 414])\n",
      "Label fo the current grpah: 34\n",
      "tensor([[  0,   0,   0,  ..., 413, 413, 413],\n",
      "        [  1,   2,   3,  ..., 410, 411, 412]])\n",
      "torch.Size([2, 170982])\n",
      "tensor([1., 1., 1.,  ..., 1., 1., 1.])\n",
      "torch.Size([170982])\n",
      "GraphEmo(x=[414], edge_index=[2, 170982], edge_attr=[170982], y=34, movie='AfterTheRain', subject='01', timestamp_tr=254, adj=[414, 414])\n"
     ]
    },
    {
     "name": "stderr",
     "output_type": "stream",
     "text": [
      "/home/dalai/GNN_E/scripts/utils.py:26: UserWarning: To copy construct from a tensor, it is recommended to use sourceTensor.clone().detach() or sourceTensor.clone().detach().requires_grad_(True), rather than torch.tensor(sourceTensor).\n",
      "  edge_index = torch.tensor(adj.nonzero().t().contiguous(), dtype=torch.long)  # Shape: [2, num_edges]\n",
      "/home/dalai/GNN_E/scripts/utils.py:30: UserWarning: To copy construct from a tensor, it is recommended to use sourceTensor.clone().detach() or sourceTensor.clone().detach().requires_grad_(True), rather than torch.tensor(sourceTensor).\n",
      "  edge_attr = torch.tensor(adj[edge_index[0, :], edge_index[1, :]], dtype=torch.float)\n"
     ]
    },
    {
     "name": "stdout",
     "output_type": "stream",
     "text": [
      "Graph saved at: /home/dalai/GNN_E/data/processed/all_graphs/clique_singlefmri/AfterTheRain_01_254.pt\n",
      "\n",
      "\n",
      "01 - 254\n"
     ]
    },
    {
     "data": {
      "text/plain": [
       "'Shape DF of single sub of single timepoint : (414, 13)'"
      ]
     },
     "metadata": {},
     "output_type": "display_data"
    },
    {
     "name": "stdout",
     "output_type": "stream",
     "text": [
      "Shape adj matrix: torch.Size([414, 414])\n",
      "Label fo the current grpah: 34\n",
      "tensor([[  0,   0,   0,  ..., 413, 413, 413],\n",
      "        [  1,   2,   3,  ..., 410, 411, 412]])\n",
      "torch.Size([2, 170982])\n",
      "tensor([1., 1., 1.,  ..., 1., 1., 1.])\n",
      "torch.Size([170982])\n",
      "GraphEmo(x=[414], edge_index=[2, 170982], edge_attr=[170982], y=34, movie='AfterTheRain', subject='01', timestamp_tr=255, adj=[414, 414])\n",
      "Graph saved at: /home/dalai/GNN_E/data/processed/all_graphs/clique_singlefmri/AfterTheRain_01_255.pt"
     ]
    },
    {
     "name": "stderr",
     "output_type": "stream",
     "text": [
      "/home/dalai/GNN_E/scripts/utils.py:26: UserWarning: To copy construct from a tensor, it is recommended to use sourceTensor.clone().detach() or sourceTensor.clone().detach().requires_grad_(True), rather than torch.tensor(sourceTensor).\n",
      "  edge_index = torch.tensor(adj.nonzero().t().contiguous(), dtype=torch.long)  # Shape: [2, num_edges]\n",
      "/home/dalai/GNN_E/scripts/utils.py:30: UserWarning: To copy construct from a tensor, it is recommended to use sourceTensor.clone().detach() or sourceTensor.clone().detach().requires_grad_(True), rather than torch.tensor(sourceTensor).\n",
      "  edge_attr = torch.tensor(adj[edge_index[0, :], edge_index[1, :]], dtype=torch.float)\n"
     ]
    },
    {
     "name": "stdout",
     "output_type": "stream",
     "text": [
      "\n",
      "\n",
      "\n",
      "01 - 255\n"
     ]
    },
    {
     "data": {
      "text/plain": [
       "'Shape DF of single sub of single timepoint : (414, 13)'"
      ]
     },
     "metadata": {},
     "output_type": "display_data"
    },
    {
     "name": "stdout",
     "output_type": "stream",
     "text": [
      "Shape adj matrix: torch.Size([414, 414])\n",
      "Label fo the current grpah: 34\n",
      "tensor([[  0,   0,   0,  ..., 413, 413, 413],\n",
      "        [  1,   2,   3,  ..., 410, 411, 412]])\n",
      "torch.Size([2, 170982])\n",
      "tensor([1., 1., 1.,  ..., 1., 1., 1.])\n",
      "torch.Size([170982])\n",
      "GraphEmo(x=[414], edge_index=[2, 170982], edge_attr=[170982], y=34, movie='AfterTheRain', subject='01', timestamp_tr=256, adj=[414, 414])\n",
      "Graph saved at: /home/dalai/GNN_E/data/processed/all_graphs/clique_singlefmri/AfterTheRain_01_256.pt"
     ]
    },
    {
     "name": "stderr",
     "output_type": "stream",
     "text": [
      "/home/dalai/GNN_E/scripts/utils.py:26: UserWarning: To copy construct from a tensor, it is recommended to use sourceTensor.clone().detach() or sourceTensor.clone().detach().requires_grad_(True), rather than torch.tensor(sourceTensor).\n",
      "  edge_index = torch.tensor(adj.nonzero().t().contiguous(), dtype=torch.long)  # Shape: [2, num_edges]\n",
      "/home/dalai/GNN_E/scripts/utils.py:30: UserWarning: To copy construct from a tensor, it is recommended to use sourceTensor.clone().detach() or sourceTensor.clone().detach().requires_grad_(True), rather than torch.tensor(sourceTensor).\n",
      "  edge_attr = torch.tensor(adj[edge_index[0, :], edge_index[1, :]], dtype=torch.float)\n"
     ]
    },
    {
     "name": "stdout",
     "output_type": "stream",
     "text": [
      "\n",
      "\n",
      "\n",
      "01 - 256\n"
     ]
    },
    {
     "data": {
      "text/plain": [
       "'Shape DF of single sub of single timepoint : (414, 13)'"
      ]
     },
     "metadata": {},
     "output_type": "display_data"
    },
    {
     "name": "stdout",
     "output_type": "stream",
     "text": [
      "Shape adj matrix: torch.Size([414, 414])\n",
      "Label fo the current grpah: 34\n",
      "tensor([[  0,   0,   0,  ..., 413, 413, 413],\n",
      "        [  1,   2,   3,  ..., 410, 411, 412]])\n",
      "torch.Size([2, 170982])\n",
      "tensor([1., 1., 1.,  ..., 1., 1., 1.])\n",
      "torch.Size([170982])\n",
      "GraphEmo(x=[414], edge_index=[2, 170982], edge_attr=[170982], y=34, movie='AfterTheRain', subject='01', timestamp_tr=257, adj=[414, 414])\n",
      "Graph saved at: /home/dalai/GNN_E/data/processed/all_graphs/clique_singlefmri/AfterTheRain_01_257.pt"
     ]
    },
    {
     "name": "stderr",
     "output_type": "stream",
     "text": [
      "/home/dalai/GNN_E/scripts/utils.py:26: UserWarning: To copy construct from a tensor, it is recommended to use sourceTensor.clone().detach() or sourceTensor.clone().detach().requires_grad_(True), rather than torch.tensor(sourceTensor).\n",
      "  edge_index = torch.tensor(adj.nonzero().t().contiguous(), dtype=torch.long)  # Shape: [2, num_edges]\n",
      "/home/dalai/GNN_E/scripts/utils.py:30: UserWarning: To copy construct from a tensor, it is recommended to use sourceTensor.clone().detach() or sourceTensor.clone().detach().requires_grad_(True), rather than torch.tensor(sourceTensor).\n",
      "  edge_attr = torch.tensor(adj[edge_index[0, :], edge_index[1, :]], dtype=torch.float)\n"
     ]
    },
    {
     "name": "stdout",
     "output_type": "stream",
     "text": [
      "\n",
      "\n",
      "\n",
      "01 - 257\n"
     ]
    },
    {
     "data": {
      "text/plain": [
       "'Shape DF of single sub of single timepoint : (414, 13)'"
      ]
     },
     "metadata": {},
     "output_type": "display_data"
    },
    {
     "name": "stdout",
     "output_type": "stream",
     "text": [
      "Shape adj matrix: torch.Size([414, 414])\n",
      "Label fo the current grpah: 34\n",
      "tensor([[  0,   0,   0,  ..., 413, 413, 413],\n",
      "        [  1,   2,   3,  ..., 410, 411, 412]])\n",
      "torch.Size([2, 170982])\n",
      "tensor([1., 1., 1.,  ..., 1., 1., 1.])\n",
      "torch.Size([170982])\n",
      "GraphEmo(x=[414], edge_index=[2, 170982], edge_attr=[170982], y=34, movie='AfterTheRain', subject='01', timestamp_tr=258, adj=[414, 414])\n",
      "Graph saved at: /home/dalai/GNN_E/data/processed/all_graphs/clique_singlefmri/AfterTheRain_01_258.pt"
     ]
    },
    {
     "name": "stderr",
     "output_type": "stream",
     "text": [
      "/home/dalai/GNN_E/scripts/utils.py:26: UserWarning: To copy construct from a tensor, it is recommended to use sourceTensor.clone().detach() or sourceTensor.clone().detach().requires_grad_(True), rather than torch.tensor(sourceTensor).\n",
      "  edge_index = torch.tensor(adj.nonzero().t().contiguous(), dtype=torch.long)  # Shape: [2, num_edges]\n",
      "/home/dalai/GNN_E/scripts/utils.py:30: UserWarning: To copy construct from a tensor, it is recommended to use sourceTensor.clone().detach() or sourceTensor.clone().detach().requires_grad_(True), rather than torch.tensor(sourceTensor).\n",
      "  edge_attr = torch.tensor(adj[edge_index[0, :], edge_index[1, :]], dtype=torch.float)\n"
     ]
    },
    {
     "name": "stdout",
     "output_type": "stream",
     "text": [
      "\n",
      "\n",
      "\n",
      "01 - 258\n"
     ]
    },
    {
     "data": {
      "text/plain": [
       "'Shape DF of single sub of single timepoint : (414, 13)'"
      ]
     },
     "metadata": {},
     "output_type": "display_data"
    },
    {
     "name": "stdout",
     "output_type": "stream",
     "text": [
      "Shape adj matrix: torch.Size([414, 414])\n",
      "Label fo the current grpah: 34\n",
      "tensor([[  0,   0,   0,  ..., 413, 413, 413],\n",
      "        [  1,   2,   3,  ..., 410, 411, 412]])\n",
      "torch.Size([2, 170982])\n",
      "tensor([1., 1., 1.,  ..., 1., 1., 1.])\n",
      "torch.Size([170982])\n",
      "GraphEmo(x=[414], edge_index=[2, 170982], edge_attr=[170982], y=34, movie='AfterTheRain', subject='01', timestamp_tr=259, adj=[414, 414])\n",
      "Graph saved at: /home/dalai/GNN_E/data/processed/all_graphs/clique_singlefmri/AfterTheRain_01_259.pt"
     ]
    },
    {
     "name": "stderr",
     "output_type": "stream",
     "text": [
      "/home/dalai/GNN_E/scripts/utils.py:26: UserWarning: To copy construct from a tensor, it is recommended to use sourceTensor.clone().detach() or sourceTensor.clone().detach().requires_grad_(True), rather than torch.tensor(sourceTensor).\n",
      "  edge_index = torch.tensor(adj.nonzero().t().contiguous(), dtype=torch.long)  # Shape: [2, num_edges]\n",
      "/home/dalai/GNN_E/scripts/utils.py:30: UserWarning: To copy construct from a tensor, it is recommended to use sourceTensor.clone().detach() or sourceTensor.clone().detach().requires_grad_(True), rather than torch.tensor(sourceTensor).\n",
      "  edge_attr = torch.tensor(adj[edge_index[0, :], edge_index[1, :]], dtype=torch.float)\n"
     ]
    },
    {
     "name": "stdout",
     "output_type": "stream",
     "text": [
      "\n",
      "\n",
      "\n",
      "01 - 259\n"
     ]
    },
    {
     "data": {
      "text/plain": [
       "'Shape DF of single sub of single timepoint : (414, 13)'"
      ]
     },
     "metadata": {},
     "output_type": "display_data"
    },
    {
     "name": "stdout",
     "output_type": "stream",
     "text": [
      "Shape adj matrix: torch.Size([414, 414])\n",
      "Label fo the current grpah: 34\n",
      "tensor([[  0,   0,   0,  ..., 413, 413, 413],\n",
      "        [  1,   2,   3,  ..., 410, 411, 412]])\n",
      "torch.Size([2, 170982])\n",
      "tensor([1., 1., 1.,  ..., 1., 1., 1.])\n",
      "torch.Size([170982])\n",
      "GraphEmo(x=[414], edge_index=[2, 170982], edge_attr=[170982], y=34, movie='AfterTheRain', subject='01', timestamp_tr=260, adj=[414, 414])\n",
      "Graph saved at: /home/dalai/GNN_E/data/processed/all_graphs/clique_singlefmri/AfterTheRain_01_260.pt"
     ]
    },
    {
     "name": "stderr",
     "output_type": "stream",
     "text": [
      "/home/dalai/GNN_E/scripts/utils.py:26: UserWarning: To copy construct from a tensor, it is recommended to use sourceTensor.clone().detach() or sourceTensor.clone().detach().requires_grad_(True), rather than torch.tensor(sourceTensor).\n",
      "  edge_index = torch.tensor(adj.nonzero().t().contiguous(), dtype=torch.long)  # Shape: [2, num_edges]\n",
      "/home/dalai/GNN_E/scripts/utils.py:30: UserWarning: To copy construct from a tensor, it is recommended to use sourceTensor.clone().detach() or sourceTensor.clone().detach().requires_grad_(True), rather than torch.tensor(sourceTensor).\n",
      "  edge_attr = torch.tensor(adj[edge_index[0, :], edge_index[1, :]], dtype=torch.float)\n"
     ]
    },
    {
     "name": "stdout",
     "output_type": "stream",
     "text": [
      "\n",
      "\n",
      "\n",
      "01 - 260\n"
     ]
    },
    {
     "data": {
      "text/plain": [
       "'Shape DF of single sub of single timepoint : (414, 13)'"
      ]
     },
     "metadata": {},
     "output_type": "display_data"
    },
    {
     "name": "stdout",
     "output_type": "stream",
     "text": [
      "Shape adj matrix: torch.Size([414, 414])\n",
      "Label fo the current grpah: 34\n",
      "tensor([[  0,   0,   0,  ..., 413, 413, 413],\n",
      "        [  1,   2,   3,  ..., 410, 411, 412]])\n",
      "torch.Size([2, 170982])\n",
      "tensor([1., 1., 1.,  ..., 1., 1., 1.])\n",
      "torch.Size([170982])\n",
      "GraphEmo(x=[414], edge_index=[2, 170982], edge_attr=[170982], y=34, movie='AfterTheRain', subject='01', timestamp_tr=261, adj=[414, 414])\n",
      "Graph saved at: /home/dalai/GNN_E/data/processed/all_graphs/clique_singlefmri/AfterTheRain_01_261.pt"
     ]
    },
    {
     "name": "stderr",
     "output_type": "stream",
     "text": [
      "/home/dalai/GNN_E/scripts/utils.py:26: UserWarning: To copy construct from a tensor, it is recommended to use sourceTensor.clone().detach() or sourceTensor.clone().detach().requires_grad_(True), rather than torch.tensor(sourceTensor).\n",
      "  edge_index = torch.tensor(adj.nonzero().t().contiguous(), dtype=torch.long)  # Shape: [2, num_edges]\n",
      "/home/dalai/GNN_E/scripts/utils.py:30: UserWarning: To copy construct from a tensor, it is recommended to use sourceTensor.clone().detach() or sourceTensor.clone().detach().requires_grad_(True), rather than torch.tensor(sourceTensor).\n",
      "  edge_attr = torch.tensor(adj[edge_index[0, :], edge_index[1, :]], dtype=torch.float)\n"
     ]
    },
    {
     "name": "stdout",
     "output_type": "stream",
     "text": [
      "\n",
      "\n",
      "\n",
      "01 - 261\n"
     ]
    },
    {
     "data": {
      "text/plain": [
       "'Shape DF of single sub of single timepoint : (414, 13)'"
      ]
     },
     "metadata": {},
     "output_type": "display_data"
    },
    {
     "name": "stdout",
     "output_type": "stream",
     "text": [
      "Shape adj matrix: torch.Size([414, 414])\n",
      "Label fo the current grpah: 34\n",
      "tensor([[  0,   0,   0,  ..., 413, 413, 413],\n",
      "        [  1,   2,   3,  ..., 410, 411, 412]])\n",
      "torch.Size([2, 170982])\n",
      "tensor([1., 1., 1.,  ..., 1., 1., 1.])\n",
      "torch.Size([170982])\n",
      "GraphEmo(x=[414], edge_index=[2, 170982], edge_attr=[170982], y=34, movie='AfterTheRain', subject='01', timestamp_tr=262, adj=[414, 414])\n",
      "Graph saved at: /home/dalai/GNN_E/data/processed/all_graphs/clique_singlefmri/AfterTheRain_01_262.pt"
     ]
    },
    {
     "name": "stderr",
     "output_type": "stream",
     "text": [
      "/home/dalai/GNN_E/scripts/utils.py:26: UserWarning: To copy construct from a tensor, it is recommended to use sourceTensor.clone().detach() or sourceTensor.clone().detach().requires_grad_(True), rather than torch.tensor(sourceTensor).\n",
      "  edge_index = torch.tensor(adj.nonzero().t().contiguous(), dtype=torch.long)  # Shape: [2, num_edges]\n",
      "/home/dalai/GNN_E/scripts/utils.py:30: UserWarning: To copy construct from a tensor, it is recommended to use sourceTensor.clone().detach() or sourceTensor.clone().detach().requires_grad_(True), rather than torch.tensor(sourceTensor).\n",
      "  edge_attr = torch.tensor(adj[edge_index[0, :], edge_index[1, :]], dtype=torch.float)\n"
     ]
    },
    {
     "name": "stdout",
     "output_type": "stream",
     "text": [
      "\n",
      "\n",
      "\n",
      "01 - 262\n"
     ]
    },
    {
     "data": {
      "text/plain": [
       "'Shape DF of single sub of single timepoint : (414, 13)'"
      ]
     },
     "metadata": {},
     "output_type": "display_data"
    },
    {
     "name": "stdout",
     "output_type": "stream",
     "text": [
      "Shape adj matrix: torch.Size([414, 414])\n",
      "Label fo the current grpah: 34\n",
      "tensor([[  0,   0,   0,  ..., 413, 413, 413],\n",
      "        [  1,   2,   3,  ..., 410, 411, 412]])\n",
      "torch.Size([2, 170982])\n",
      "tensor([1., 1., 1.,  ..., 1., 1., 1.])\n",
      "torch.Size([170982])\n",
      "GraphEmo(x=[414], edge_index=[2, 170982], edge_attr=[170982], y=34, movie='AfterTheRain', subject='01', timestamp_tr=263, adj=[414, 414])\n",
      "Graph saved at: /home/dalai/GNN_E/data/processed/all_graphs/clique_singlefmri/AfterTheRain_01_263.pt"
     ]
    },
    {
     "name": "stderr",
     "output_type": "stream",
     "text": [
      "/home/dalai/GNN_E/scripts/utils.py:26: UserWarning: To copy construct from a tensor, it is recommended to use sourceTensor.clone().detach() or sourceTensor.clone().detach().requires_grad_(True), rather than torch.tensor(sourceTensor).\n",
      "  edge_index = torch.tensor(adj.nonzero().t().contiguous(), dtype=torch.long)  # Shape: [2, num_edges]\n",
      "/home/dalai/GNN_E/scripts/utils.py:30: UserWarning: To copy construct from a tensor, it is recommended to use sourceTensor.clone().detach() or sourceTensor.clone().detach().requires_grad_(True), rather than torch.tensor(sourceTensor).\n",
      "  edge_attr = torch.tensor(adj[edge_index[0, :], edge_index[1, :]], dtype=torch.float)\n"
     ]
    },
    {
     "name": "stdout",
     "output_type": "stream",
     "text": [
      "\n",
      "\n",
      "\n",
      "01 - 263\n"
     ]
    },
    {
     "data": {
      "text/plain": [
       "'Shape DF of single sub of single timepoint : (414, 13)'"
      ]
     },
     "metadata": {},
     "output_type": "display_data"
    },
    {
     "name": "stdout",
     "output_type": "stream",
     "text": [
      "Shape adj matrix: torch.Size([414, 414])\n",
      "Label fo the current grpah: 34\n",
      "tensor([[  0,   0,   0,  ..., 413, 413, 413],\n",
      "        [  1,   2,   3,  ..., 410, 411, 412]])\n",
      "torch.Size([2, 170982])\n",
      "tensor([1., 1., 1.,  ..., 1., 1., 1.])\n",
      "torch.Size([170982])\n",
      "GraphEmo(x=[414], edge_index=[2, 170982], edge_attr=[170982], y=34, movie='AfterTheRain', subject='01', timestamp_tr=264, adj=[414, 414])\n",
      "Graph saved at: /home/dalai/GNN_E/data/processed/all_graphs/clique_singlefmri/AfterTheRain_01_264.pt"
     ]
    },
    {
     "name": "stderr",
     "output_type": "stream",
     "text": [
      "/home/dalai/GNN_E/scripts/utils.py:26: UserWarning: To copy construct from a tensor, it is recommended to use sourceTensor.clone().detach() or sourceTensor.clone().detach().requires_grad_(True), rather than torch.tensor(sourceTensor).\n",
      "  edge_index = torch.tensor(adj.nonzero().t().contiguous(), dtype=torch.long)  # Shape: [2, num_edges]\n",
      "/home/dalai/GNN_E/scripts/utils.py:30: UserWarning: To copy construct from a tensor, it is recommended to use sourceTensor.clone().detach() or sourceTensor.clone().detach().requires_grad_(True), rather than torch.tensor(sourceTensor).\n",
      "  edge_attr = torch.tensor(adj[edge_index[0, :], edge_index[1, :]], dtype=torch.float)\n"
     ]
    },
    {
     "name": "stdout",
     "output_type": "stream",
     "text": [
      "\n",
      "\n",
      "\n",
      "01 - 264\n"
     ]
    },
    {
     "data": {
      "text/plain": [
       "'Shape DF of single sub of single timepoint : (414, 13)'"
      ]
     },
     "metadata": {},
     "output_type": "display_data"
    },
    {
     "name": "stdout",
     "output_type": "stream",
     "text": [
      "Shape adj matrix: torch.Size([414, 414])\n",
      "Label fo the current grpah: 34\n",
      "tensor([[  0,   0,   0,  ..., 413, 413, 413],\n",
      "        [  1,   2,   3,  ..., 410, 411, 412]])\n",
      "torch.Size([2, 170982])\n",
      "tensor([1., 1., 1.,  ..., 1., 1., 1.])\n",
      "torch.Size([170982])\n",
      "GraphEmo(x=[414], edge_index=[2, 170982], edge_attr=[170982], y=34, movie='AfterTheRain', subject='01', timestamp_tr=265, adj=[414, 414])\n",
      "Graph saved at: /home/dalai/GNN_E/data/processed/all_graphs/clique_singlefmri/AfterTheRain_01_265.pt"
     ]
    },
    {
     "name": "stderr",
     "output_type": "stream",
     "text": [
      "/home/dalai/GNN_E/scripts/utils.py:26: UserWarning: To copy construct from a tensor, it is recommended to use sourceTensor.clone().detach() or sourceTensor.clone().detach().requires_grad_(True), rather than torch.tensor(sourceTensor).\n",
      "  edge_index = torch.tensor(adj.nonzero().t().contiguous(), dtype=torch.long)  # Shape: [2, num_edges]\n",
      "/home/dalai/GNN_E/scripts/utils.py:30: UserWarning: To copy construct from a tensor, it is recommended to use sourceTensor.clone().detach() or sourceTensor.clone().detach().requires_grad_(True), rather than torch.tensor(sourceTensor).\n",
      "  edge_attr = torch.tensor(adj[edge_index[0, :], edge_index[1, :]], dtype=torch.float)\n"
     ]
    },
    {
     "name": "stdout",
     "output_type": "stream",
     "text": [
      "\n",
      "\n",
      "\n",
      "01 - 265\n"
     ]
    },
    {
     "data": {
      "text/plain": [
       "'Shape DF of single sub of single timepoint : (414, 13)'"
      ]
     },
     "metadata": {},
     "output_type": "display_data"
    },
    {
     "name": "stdout",
     "output_type": "stream",
     "text": [
      "Shape adj matrix: torch.Size([414, 414])\n",
      "Label fo the current grpah: 34\n",
      "tensor([[  0,   0,   0,  ..., 413, 413, 413],\n",
      "        [  1,   2,   3,  ..., 410, 411, 412]])\n",
      "torch.Size([2, 170982])\n",
      "tensor([1., 1., 1.,  ..., 1., 1., 1.])\n",
      "torch.Size([170982])\n",
      "GraphEmo(x=[414], edge_index=[2, 170982], edge_attr=[170982], y=34, movie='AfterTheRain', subject='01', timestamp_tr=266, adj=[414, 414])\n",
      "Graph saved at: /home/dalai/GNN_E/data/processed/all_graphs/clique_singlefmri/AfterTheRain_01_266.pt"
     ]
    },
    {
     "name": "stderr",
     "output_type": "stream",
     "text": [
      "/home/dalai/GNN_E/scripts/utils.py:26: UserWarning: To copy construct from a tensor, it is recommended to use sourceTensor.clone().detach() or sourceTensor.clone().detach().requires_grad_(True), rather than torch.tensor(sourceTensor).\n",
      "  edge_index = torch.tensor(adj.nonzero().t().contiguous(), dtype=torch.long)  # Shape: [2, num_edges]\n",
      "/home/dalai/GNN_E/scripts/utils.py:30: UserWarning: To copy construct from a tensor, it is recommended to use sourceTensor.clone().detach() or sourceTensor.clone().detach().requires_grad_(True), rather than torch.tensor(sourceTensor).\n",
      "  edge_attr = torch.tensor(adj[edge_index[0, :], edge_index[1, :]], dtype=torch.float)\n"
     ]
    },
    {
     "name": "stdout",
     "output_type": "stream",
     "text": [
      "\n",
      "\n",
      "\n",
      "01 - 266\n"
     ]
    },
    {
     "data": {
      "text/plain": [
       "'Shape DF of single sub of single timepoint : (414, 13)'"
      ]
     },
     "metadata": {},
     "output_type": "display_data"
    },
    {
     "name": "stdout",
     "output_type": "stream",
     "text": [
      "Shape adj matrix: torch.Size([414, 414])\n",
      "Label fo the current grpah: 34\n",
      "tensor([[  0,   0,   0,  ..., 413, 413, 413],\n",
      "        [  1,   2,   3,  ..., 410, 411, 412]])\n",
      "torch.Size([2, 170982])\n",
      "tensor([1., 1., 1.,  ..., 1., 1., 1.])\n",
      "torch.Size([170982])\n",
      "GraphEmo(x=[414], edge_index=[2, 170982], edge_attr=[170982], y=34, movie='AfterTheRain', subject='01', timestamp_tr=267, adj=[414, 414])\n",
      "Graph saved at: /home/dalai/GNN_E/data/processed/all_graphs/clique_singlefmri/AfterTheRain_01_267.pt"
     ]
    },
    {
     "name": "stderr",
     "output_type": "stream",
     "text": [
      "/home/dalai/GNN_E/scripts/utils.py:26: UserWarning: To copy construct from a tensor, it is recommended to use sourceTensor.clone().detach() or sourceTensor.clone().detach().requires_grad_(True), rather than torch.tensor(sourceTensor).\n",
      "  edge_index = torch.tensor(adj.nonzero().t().contiguous(), dtype=torch.long)  # Shape: [2, num_edges]\n",
      "/home/dalai/GNN_E/scripts/utils.py:30: UserWarning: To copy construct from a tensor, it is recommended to use sourceTensor.clone().detach() or sourceTensor.clone().detach().requires_grad_(True), rather than torch.tensor(sourceTensor).\n",
      "  edge_attr = torch.tensor(adj[edge_index[0, :], edge_index[1, :]], dtype=torch.float)\n"
     ]
    },
    {
     "name": "stdout",
     "output_type": "stream",
     "text": [
      "\n",
      "\n",
      "\n",
      "01 - 267\n"
     ]
    },
    {
     "data": {
      "text/plain": [
       "'Shape DF of single sub of single timepoint : (414, 13)'"
      ]
     },
     "metadata": {},
     "output_type": "display_data"
    },
    {
     "name": "stdout",
     "output_type": "stream",
     "text": [
      "Shape adj matrix: torch.Size([414, 414])\n",
      "Label fo the current grpah: 34\n",
      "tensor([[  0,   0,   0,  ..., 413, 413, 413],\n",
      "        [  1,   2,   3,  ..., 410, 411, 412]])\n",
      "torch.Size([2, 170982])\n",
      "tensor([1., 1., 1.,  ..., 1., 1., 1.])\n",
      "torch.Size([170982])\n",
      "GraphEmo(x=[414], edge_index=[2, 170982], edge_attr=[170982], y=34, movie='AfterTheRain', subject='01', timestamp_tr=268, adj=[414, 414])\n",
      "Graph saved at: /home/dalai/GNN_E/data/processed/all_graphs/clique_singlefmri/AfterTheRain_01_268.pt"
     ]
    },
    {
     "name": "stderr",
     "output_type": "stream",
     "text": [
      "/home/dalai/GNN_E/scripts/utils.py:26: UserWarning: To copy construct from a tensor, it is recommended to use sourceTensor.clone().detach() or sourceTensor.clone().detach().requires_grad_(True), rather than torch.tensor(sourceTensor).\n",
      "  edge_index = torch.tensor(adj.nonzero().t().contiguous(), dtype=torch.long)  # Shape: [2, num_edges]\n",
      "/home/dalai/GNN_E/scripts/utils.py:30: UserWarning: To copy construct from a tensor, it is recommended to use sourceTensor.clone().detach() or sourceTensor.clone().detach().requires_grad_(True), rather than torch.tensor(sourceTensor).\n",
      "  edge_attr = torch.tensor(adj[edge_index[0, :], edge_index[1, :]], dtype=torch.float)\n"
     ]
    },
    {
     "name": "stdout",
     "output_type": "stream",
     "text": [
      "\n",
      "\n",
      "\n",
      "01 - 268\n"
     ]
    },
    {
     "data": {
      "text/plain": [
       "'Shape DF of single sub of single timepoint : (414, 13)'"
      ]
     },
     "metadata": {},
     "output_type": "display_data"
    },
    {
     "name": "stdout",
     "output_type": "stream",
     "text": [
      "Shape adj matrix: torch.Size([414, 414])\n",
      "Label fo the current grpah: 34\n",
      "tensor([[  0,   0,   0,  ..., 413, 413, 413],\n",
      "        [  1,   2,   3,  ..., 410, 411, 412]])\n",
      "torch.Size([2, 170982])\n",
      "tensor([1., 1., 1.,  ..., 1., 1., 1.])\n",
      "torch.Size([170982])\n",
      "GraphEmo(x=[414], edge_index=[2, 170982], edge_attr=[170982], y=34, movie='AfterTheRain', subject='01', timestamp_tr=269, adj=[414, 414])\n",
      "Graph saved at: /home/dalai/GNN_E/data/processed/all_graphs/clique_singlefmri/AfterTheRain_01_269.pt"
     ]
    },
    {
     "name": "stderr",
     "output_type": "stream",
     "text": [
      "/home/dalai/GNN_E/scripts/utils.py:26: UserWarning: To copy construct from a tensor, it is recommended to use sourceTensor.clone().detach() or sourceTensor.clone().detach().requires_grad_(True), rather than torch.tensor(sourceTensor).\n",
      "  edge_index = torch.tensor(adj.nonzero().t().contiguous(), dtype=torch.long)  # Shape: [2, num_edges]\n",
      "/home/dalai/GNN_E/scripts/utils.py:30: UserWarning: To copy construct from a tensor, it is recommended to use sourceTensor.clone().detach() or sourceTensor.clone().detach().requires_grad_(True), rather than torch.tensor(sourceTensor).\n",
      "  edge_attr = torch.tensor(adj[edge_index[0, :], edge_index[1, :]], dtype=torch.float)\n"
     ]
    },
    {
     "name": "stdout",
     "output_type": "stream",
     "text": [
      "\n",
      "\n",
      "\n",
      "01 - 269\n"
     ]
    },
    {
     "data": {
      "text/plain": [
       "'Shape DF of single sub of single timepoint : (414, 13)'"
      ]
     },
     "metadata": {},
     "output_type": "display_data"
    },
    {
     "name": "stdout",
     "output_type": "stream",
     "text": [
      "Shape adj matrix: torch.Size([414, 414])\n",
      "Label fo the current grpah: 34\n",
      "tensor([[  0,   0,   0,  ..., 413, 413, 413],\n",
      "        [  1,   2,   3,  ..., 410, 411, 412]])\n",
      "torch.Size([2, 170982])\n",
      "tensor([1., 1., 1.,  ..., 1., 1., 1.])\n",
      "torch.Size([170982])\n",
      "GraphEmo(x=[414], edge_index=[2, 170982], edge_attr=[170982], y=34, movie='AfterTheRain', subject='01', timestamp_tr=270, adj=[414, 414])\n",
      "Graph saved at: /home/dalai/GNN_E/data/processed/all_graphs/clique_singlefmri/AfterTheRain_01_270.pt"
     ]
    },
    {
     "name": "stderr",
     "output_type": "stream",
     "text": [
      "/home/dalai/GNN_E/scripts/utils.py:26: UserWarning: To copy construct from a tensor, it is recommended to use sourceTensor.clone().detach() or sourceTensor.clone().detach().requires_grad_(True), rather than torch.tensor(sourceTensor).\n",
      "  edge_index = torch.tensor(adj.nonzero().t().contiguous(), dtype=torch.long)  # Shape: [2, num_edges]\n",
      "/home/dalai/GNN_E/scripts/utils.py:30: UserWarning: To copy construct from a tensor, it is recommended to use sourceTensor.clone().detach() or sourceTensor.clone().detach().requires_grad_(True), rather than torch.tensor(sourceTensor).\n",
      "  edge_attr = torch.tensor(adj[edge_index[0, :], edge_index[1, :]], dtype=torch.float)\n"
     ]
    },
    {
     "name": "stdout",
     "output_type": "stream",
     "text": [
      "\n",
      "\n",
      "\n",
      "01 - 270\n"
     ]
    },
    {
     "data": {
      "text/plain": [
       "'Shape DF of single sub of single timepoint : (414, 13)'"
      ]
     },
     "metadata": {},
     "output_type": "display_data"
    },
    {
     "name": "stdout",
     "output_type": "stream",
     "text": [
      "Shape adj matrix: torch.Size([414, 414])\n",
      "Label fo the current grpah: 34\n",
      "tensor([[  0,   0,   0,  ..., 413, 413, 413],\n",
      "        [  1,   2,   3,  ..., 410, 411, 412]])\n",
      "torch.Size([2, 170982])\n",
      "tensor([1., 1., 1.,  ..., 1., 1., 1.])\n",
      "torch.Size([170982])\n",
      "GraphEmo(x=[414], edge_index=[2, 170982], edge_attr=[170982], y=34, movie='AfterTheRain', subject='01', timestamp_tr=271, adj=[414, 414])\n",
      "Graph saved at: /home/dalai/GNN_E/data/processed/all_graphs/clique_singlefmri/AfterTheRain_01_271.pt"
     ]
    },
    {
     "name": "stderr",
     "output_type": "stream",
     "text": [
      "/home/dalai/GNN_E/scripts/utils.py:26: UserWarning: To copy construct from a tensor, it is recommended to use sourceTensor.clone().detach() or sourceTensor.clone().detach().requires_grad_(True), rather than torch.tensor(sourceTensor).\n",
      "  edge_index = torch.tensor(adj.nonzero().t().contiguous(), dtype=torch.long)  # Shape: [2, num_edges]\n",
      "/home/dalai/GNN_E/scripts/utils.py:30: UserWarning: To copy construct from a tensor, it is recommended to use sourceTensor.clone().detach() or sourceTensor.clone().detach().requires_grad_(True), rather than torch.tensor(sourceTensor).\n",
      "  edge_attr = torch.tensor(adj[edge_index[0, :], edge_index[1, :]], dtype=torch.float)\n"
     ]
    },
    {
     "name": "stdout",
     "output_type": "stream",
     "text": [
      "\n",
      "\n",
      "\n",
      "01 - 271\n"
     ]
    },
    {
     "data": {
      "text/plain": [
       "'Shape DF of single sub of single timepoint : (414, 13)'"
      ]
     },
     "metadata": {},
     "output_type": "display_data"
    },
    {
     "name": "stdout",
     "output_type": "stream",
     "text": [
      "Shape adj matrix: torch.Size([414, 414])\n",
      "Label fo the current grpah: 34\n",
      "tensor([[  0,   0,   0,  ..., 413, 413, 413],\n",
      "        [  1,   2,   3,  ..., 410, 411, 412]])\n",
      "torch.Size([2, 170982])\n",
      "tensor([1., 1., 1.,  ..., 1., 1., 1.])\n",
      "torch.Size([170982])\n",
      "GraphEmo(x=[414], edge_index=[2, 170982], edge_attr=[170982], y=34, movie='AfterTheRain', subject='01', timestamp_tr=272, adj=[414, 414])\n",
      "Graph saved at: /home/dalai/GNN_E/data/processed/all_graphs/clique_singlefmri/AfterTheRain_01_272.pt"
     ]
    },
    {
     "name": "stderr",
     "output_type": "stream",
     "text": [
      "/home/dalai/GNN_E/scripts/utils.py:26: UserWarning: To copy construct from a tensor, it is recommended to use sourceTensor.clone().detach() or sourceTensor.clone().detach().requires_grad_(True), rather than torch.tensor(sourceTensor).\n",
      "  edge_index = torch.tensor(adj.nonzero().t().contiguous(), dtype=torch.long)  # Shape: [2, num_edges]\n",
      "/home/dalai/GNN_E/scripts/utils.py:30: UserWarning: To copy construct from a tensor, it is recommended to use sourceTensor.clone().detach() or sourceTensor.clone().detach().requires_grad_(True), rather than torch.tensor(sourceTensor).\n",
      "  edge_attr = torch.tensor(adj[edge_index[0, :], edge_index[1, :]], dtype=torch.float)\n"
     ]
    },
    {
     "name": "stdout",
     "output_type": "stream",
     "text": [
      "\n",
      "\n",
      "\n",
      "01 - 272\n"
     ]
    },
    {
     "data": {
      "text/plain": [
       "'Shape DF of single sub of single timepoint : (414, 13)'"
      ]
     },
     "metadata": {},
     "output_type": "display_data"
    },
    {
     "name": "stdout",
     "output_type": "stream",
     "text": [
      "Shape adj matrix: torch.Size([414, 414])\n",
      "Label fo the current grpah: 34\n",
      "tensor([[  0,   0,   0,  ..., 413, 413, 413],\n",
      "        [  1,   2,   3,  ..., 410, 411, 412]])\n",
      "torch.Size([2, 170982])\n",
      "tensor([1., 1., 1.,  ..., 1., 1., 1.])\n",
      "torch.Size([170982])\n",
      "GraphEmo(x=[414], edge_index=[2, 170982], edge_attr=[170982], y=34, movie='AfterTheRain', subject='01', timestamp_tr=273, adj=[414, 414])\n",
      "Graph saved at: /home/dalai/GNN_E/data/processed/all_graphs/clique_singlefmri/AfterTheRain_01_273.pt"
     ]
    },
    {
     "name": "stderr",
     "output_type": "stream",
     "text": [
      "/home/dalai/GNN_E/scripts/utils.py:26: UserWarning: To copy construct from a tensor, it is recommended to use sourceTensor.clone().detach() or sourceTensor.clone().detach().requires_grad_(True), rather than torch.tensor(sourceTensor).\n",
      "  edge_index = torch.tensor(adj.nonzero().t().contiguous(), dtype=torch.long)  # Shape: [2, num_edges]\n",
      "/home/dalai/GNN_E/scripts/utils.py:30: UserWarning: To copy construct from a tensor, it is recommended to use sourceTensor.clone().detach() or sourceTensor.clone().detach().requires_grad_(True), rather than torch.tensor(sourceTensor).\n",
      "  edge_attr = torch.tensor(adj[edge_index[0, :], edge_index[1, :]], dtype=torch.float)\n"
     ]
    },
    {
     "name": "stdout",
     "output_type": "stream",
     "text": [
      "\n",
      "\n",
      "\n",
      "01 - 273\n"
     ]
    },
    {
     "data": {
      "text/plain": [
       "'Shape DF of single sub of single timepoint : (414, 13)'"
      ]
     },
     "metadata": {},
     "output_type": "display_data"
    },
    {
     "name": "stdout",
     "output_type": "stream",
     "text": [
      "Shape adj matrix: torch.Size([414, 414])\n",
      "Label fo the current grpah: 34\n",
      "tensor([[  0,   0,   0,  ..., 413, 413, 413],\n",
      "        [  1,   2,   3,  ..., 410, 411, 412]])\n",
      "torch.Size([2, 170982])\n",
      "tensor([1., 1., 1.,  ..., 1., 1., 1.])\n",
      "torch.Size([170982])\n",
      "GraphEmo(x=[414], edge_index=[2, 170982], edge_attr=[170982], y=34, movie='AfterTheRain', subject='01', timestamp_tr=274, adj=[414, 414])\n",
      "Graph saved at: /home/dalai/GNN_E/data/processed/all_graphs/clique_singlefmri/AfterTheRain_01_274.pt"
     ]
    },
    {
     "name": "stderr",
     "output_type": "stream",
     "text": [
      "/home/dalai/GNN_E/scripts/utils.py:26: UserWarning: To copy construct from a tensor, it is recommended to use sourceTensor.clone().detach() or sourceTensor.clone().detach().requires_grad_(True), rather than torch.tensor(sourceTensor).\n",
      "  edge_index = torch.tensor(adj.nonzero().t().contiguous(), dtype=torch.long)  # Shape: [2, num_edges]\n",
      "/home/dalai/GNN_E/scripts/utils.py:30: UserWarning: To copy construct from a tensor, it is recommended to use sourceTensor.clone().detach() or sourceTensor.clone().detach().requires_grad_(True), rather than torch.tensor(sourceTensor).\n",
      "  edge_attr = torch.tensor(adj[edge_index[0, :], edge_index[1, :]], dtype=torch.float)\n"
     ]
    },
    {
     "name": "stdout",
     "output_type": "stream",
     "text": [
      "\n",
      "\n",
      "\n",
      "01 - 274\n"
     ]
    },
    {
     "data": {
      "text/plain": [
       "'Shape DF of single sub of single timepoint : (414, 13)'"
      ]
     },
     "metadata": {},
     "output_type": "display_data"
    },
    {
     "name": "stdout",
     "output_type": "stream",
     "text": [
      "Shape adj matrix: torch.Size([414, 414])\n",
      "Label fo the current grpah: 34\n",
      "tensor([[  0,   0,   0,  ..., 413, 413, 413],\n",
      "        [  1,   2,   3,  ..., 410, 411, 412]])\n",
      "torch.Size([2, 170982])\n",
      "tensor([1., 1., 1.,  ..., 1., 1., 1.])\n",
      "torch.Size([170982])\n",
      "GraphEmo(x=[414], edge_index=[2, 170982], edge_attr=[170982], y=34, movie='AfterTheRain', subject='01', timestamp_tr=275, adj=[414, 414])\n",
      "Graph saved at: /home/dalai/GNN_E/data/processed/all_graphs/clique_singlefmri/AfterTheRain_01_275.pt"
     ]
    },
    {
     "name": "stderr",
     "output_type": "stream",
     "text": [
      "/home/dalai/GNN_E/scripts/utils.py:26: UserWarning: To copy construct from a tensor, it is recommended to use sourceTensor.clone().detach() or sourceTensor.clone().detach().requires_grad_(True), rather than torch.tensor(sourceTensor).\n",
      "  edge_index = torch.tensor(adj.nonzero().t().contiguous(), dtype=torch.long)  # Shape: [2, num_edges]\n",
      "/home/dalai/GNN_E/scripts/utils.py:30: UserWarning: To copy construct from a tensor, it is recommended to use sourceTensor.clone().detach() or sourceTensor.clone().detach().requires_grad_(True), rather than torch.tensor(sourceTensor).\n",
      "  edge_attr = torch.tensor(adj[edge_index[0, :], edge_index[1, :]], dtype=torch.float)\n"
     ]
    },
    {
     "name": "stdout",
     "output_type": "stream",
     "text": [
      "\n",
      "\n",
      "\n",
      "01 - 275\n"
     ]
    },
    {
     "data": {
      "text/plain": [
       "'Shape DF of single sub of single timepoint : (414, 13)'"
      ]
     },
     "metadata": {},
     "output_type": "display_data"
    },
    {
     "name": "stdout",
     "output_type": "stream",
     "text": [
      "Shape adj matrix: torch.Size([414, 414])\n",
      "Label fo the current grpah: 47\n",
      "tensor([[  0,   0,   0,  ..., 413, 413, 413],\n",
      "        [  1,   2,   3,  ..., 410, 411, 412]])\n",
      "torch.Size([2, 170982])\n",
      "tensor([1., 1., 1.,  ..., 1., 1., 1.])\n",
      "torch.Size([170982])\n",
      "GraphEmo(x=[414], edge_index=[2, 170982], edge_attr=[170982], y=47, movie='AfterTheRain', subject='01', timestamp_tr=276, adj=[414, 414])\n",
      "Graph saved at: /home/dalai/GNN_E/data/processed/all_graphs/clique_singlefmri/AfterTheRain_01_276.pt"
     ]
    },
    {
     "name": "stderr",
     "output_type": "stream",
     "text": [
      "/home/dalai/GNN_E/scripts/utils.py:26: UserWarning: To copy construct from a tensor, it is recommended to use sourceTensor.clone().detach() or sourceTensor.clone().detach().requires_grad_(True), rather than torch.tensor(sourceTensor).\n",
      "  edge_index = torch.tensor(adj.nonzero().t().contiguous(), dtype=torch.long)  # Shape: [2, num_edges]\n",
      "/home/dalai/GNN_E/scripts/utils.py:30: UserWarning: To copy construct from a tensor, it is recommended to use sourceTensor.clone().detach() or sourceTensor.clone().detach().requires_grad_(True), rather than torch.tensor(sourceTensor).\n",
      "  edge_attr = torch.tensor(adj[edge_index[0, :], edge_index[1, :]], dtype=torch.float)\n"
     ]
    },
    {
     "name": "stdout",
     "output_type": "stream",
     "text": [
      "\n",
      "\n",
      "\n",
      "01 - 276\n"
     ]
    },
    {
     "data": {
      "text/plain": [
       "'Shape DF of single sub of single timepoint : (414, 13)'"
      ]
     },
     "metadata": {},
     "output_type": "display_data"
    },
    {
     "name": "stdout",
     "output_type": "stream",
     "text": [
      "Shape adj matrix: torch.Size([414, 414])\n",
      "Label fo the current grpah: 47\n",
      "tensor([[  0,   0,   0,  ..., 413, 413, 413],\n",
      "        [  1,   2,   3,  ..., 410, 411, 412]])\n",
      "torch.Size([2, 170982])\n",
      "tensor([1., 1., 1.,  ..., 1., 1., 1.])\n",
      "torch.Size([170982])\n",
      "GraphEmo(x=[414], edge_index=[2, 170982], edge_attr=[170982], y=47, movie='AfterTheRain', subject='01', timestamp_tr=277, adj=[414, 414])\n",
      "Graph saved at: /home/dalai/GNN_E/data/processed/all_graphs/clique_singlefmri/AfterTheRain_01_277.pt"
     ]
    },
    {
     "name": "stderr",
     "output_type": "stream",
     "text": [
      "/home/dalai/GNN_E/scripts/utils.py:26: UserWarning: To copy construct from a tensor, it is recommended to use sourceTensor.clone().detach() or sourceTensor.clone().detach().requires_grad_(True), rather than torch.tensor(sourceTensor).\n",
      "  edge_index = torch.tensor(adj.nonzero().t().contiguous(), dtype=torch.long)  # Shape: [2, num_edges]\n",
      "/home/dalai/GNN_E/scripts/utils.py:30: UserWarning: To copy construct from a tensor, it is recommended to use sourceTensor.clone().detach() or sourceTensor.clone().detach().requires_grad_(True), rather than torch.tensor(sourceTensor).\n",
      "  edge_attr = torch.tensor(adj[edge_index[0, :], edge_index[1, :]], dtype=torch.float)\n"
     ]
    },
    {
     "name": "stdout",
     "output_type": "stream",
     "text": [
      "\n",
      "\n",
      "\n",
      "01 - 277\n"
     ]
    },
    {
     "data": {
      "text/plain": [
       "'Shape DF of single sub of single timepoint : (414, 13)'"
      ]
     },
     "metadata": {},
     "output_type": "display_data"
    },
    {
     "name": "stdout",
     "output_type": "stream",
     "text": [
      "Shape adj matrix: torch.Size([414, 414])\n",
      "Label fo the current grpah: 7\n",
      "tensor([[  0,   0,   0,  ..., 413, 413, 413],\n",
      "        [  1,   2,   3,  ..., 410, 411, 412]])\n",
      "torch.Size([2, 170982])\n",
      "tensor([1., 1., 1.,  ..., 1., 1., 1.])\n",
      "torch.Size([170982])\n",
      "GraphEmo(x=[414], edge_index=[2, 170982], edge_attr=[170982], y=7, movie='AfterTheRain', subject='01', timestamp_tr=278, adj=[414, 414])\n",
      "Graph saved at: /home/dalai/GNN_E/data/processed/all_graphs/clique_singlefmri/AfterTheRain_01_278.pt"
     ]
    },
    {
     "name": "stderr",
     "output_type": "stream",
     "text": [
      "/home/dalai/GNN_E/scripts/utils.py:26: UserWarning: To copy construct from a tensor, it is recommended to use sourceTensor.clone().detach() or sourceTensor.clone().detach().requires_grad_(True), rather than torch.tensor(sourceTensor).\n",
      "  edge_index = torch.tensor(adj.nonzero().t().contiguous(), dtype=torch.long)  # Shape: [2, num_edges]\n",
      "/home/dalai/GNN_E/scripts/utils.py:30: UserWarning: To copy construct from a tensor, it is recommended to use sourceTensor.clone().detach() or sourceTensor.clone().detach().requires_grad_(True), rather than torch.tensor(sourceTensor).\n",
      "  edge_attr = torch.tensor(adj[edge_index[0, :], edge_index[1, :]], dtype=torch.float)\n"
     ]
    },
    {
     "name": "stdout",
     "output_type": "stream",
     "text": [
      "\n",
      "\n",
      "\n",
      "01 - 278\n"
     ]
    },
    {
     "data": {
      "text/plain": [
       "'Shape DF of single sub of single timepoint : (414, 13)'"
      ]
     },
     "metadata": {},
     "output_type": "display_data"
    },
    {
     "name": "stdout",
     "output_type": "stream",
     "text": [
      "Shape adj matrix: torch.Size([414, 414])\n",
      "Label fo the current grpah: 34\n",
      "tensor([[  0,   0,   0,  ..., 413, 413, 413],\n",
      "        [  1,   2,   3,  ..., 410, 411, 412]])\n",
      "torch.Size([2, 170982])\n",
      "tensor([1., 1., 1.,  ..., 1., 1., 1.])\n",
      "torch.Size([170982])\n",
      "GraphEmo(x=[414], edge_index=[2, 170982], edge_attr=[170982], y=34, movie='AfterTheRain', subject='01', timestamp_tr=279, adj=[414, 414])\n",
      "Graph saved at: /home/dalai/GNN_E/data/processed/all_graphs/clique_singlefmri/AfterTheRain_01_279.pt"
     ]
    },
    {
     "name": "stderr",
     "output_type": "stream",
     "text": [
      "/home/dalai/GNN_E/scripts/utils.py:26: UserWarning: To copy construct from a tensor, it is recommended to use sourceTensor.clone().detach() or sourceTensor.clone().detach().requires_grad_(True), rather than torch.tensor(sourceTensor).\n",
      "  edge_index = torch.tensor(adj.nonzero().t().contiguous(), dtype=torch.long)  # Shape: [2, num_edges]\n",
      "/home/dalai/GNN_E/scripts/utils.py:30: UserWarning: To copy construct from a tensor, it is recommended to use sourceTensor.clone().detach() or sourceTensor.clone().detach().requires_grad_(True), rather than torch.tensor(sourceTensor).\n",
      "  edge_attr = torch.tensor(adj[edge_index[0, :], edge_index[1, :]], dtype=torch.float)\n"
     ]
    },
    {
     "name": "stdout",
     "output_type": "stream",
     "text": [
      "\n",
      "\n",
      "\n",
      "01 - 279\n"
     ]
    },
    {
     "data": {
      "text/plain": [
       "'Shape DF of single sub of single timepoint : (414, 13)'"
      ]
     },
     "metadata": {},
     "output_type": "display_data"
    },
    {
     "name": "stdout",
     "output_type": "stream",
     "text": [
      "Shape adj matrix: torch.Size([414, 414])\n",
      "Label fo the current grpah: 34\n",
      "tensor([[  0,   0,   0,  ..., 413, 413, 413],\n",
      "        [  1,   2,   3,  ..., 410, 411, 412]])\n",
      "torch.Size([2, 170982])\n",
      "tensor([1., 1., 1.,  ..., 1., 1., 1.])\n",
      "torch.Size([170982])\n",
      "GraphEmo(x=[414], edge_index=[2, 170982], edge_attr=[170982], y=34, movie='AfterTheRain', subject='01', timestamp_tr=280, adj=[414, 414])\n",
      "Graph saved at: /home/dalai/GNN_E/data/processed/all_graphs/clique_singlefmri/AfterTheRain_01_280.pt"
     ]
    },
    {
     "name": "stderr",
     "output_type": "stream",
     "text": [
      "/home/dalai/GNN_E/scripts/utils.py:26: UserWarning: To copy construct from a tensor, it is recommended to use sourceTensor.clone().detach() or sourceTensor.clone().detach().requires_grad_(True), rather than torch.tensor(sourceTensor).\n",
      "  edge_index = torch.tensor(adj.nonzero().t().contiguous(), dtype=torch.long)  # Shape: [2, num_edges]\n",
      "/home/dalai/GNN_E/scripts/utils.py:30: UserWarning: To copy construct from a tensor, it is recommended to use sourceTensor.clone().detach() or sourceTensor.clone().detach().requires_grad_(True), rather than torch.tensor(sourceTensor).\n",
      "  edge_attr = torch.tensor(adj[edge_index[0, :], edge_index[1, :]], dtype=torch.float)\n"
     ]
    },
    {
     "name": "stdout",
     "output_type": "stream",
     "text": [
      "\n",
      "\n",
      "\n",
      "01 - 280\n"
     ]
    },
    {
     "data": {
      "text/plain": [
       "'Shape DF of single sub of single timepoint : (414, 13)'"
      ]
     },
     "metadata": {},
     "output_type": "display_data"
    },
    {
     "name": "stdout",
     "output_type": "stream",
     "text": [
      "Shape adj matrix: torch.Size([414, 414])\n",
      "Label fo the current grpah: 47\n",
      "tensor([[  0,   0,   0,  ..., 413, 413, 413],\n",
      "        [  1,   2,   3,  ..., 410, 411, 412]])\n",
      "torch.Size([2, 170982])\n",
      "tensor([1., 1., 1.,  ..., 1., 1., 1.])\n",
      "torch.Size([170982])\n",
      "GraphEmo(x=[414], edge_index=[2, 170982], edge_attr=[170982], y=47, movie='AfterTheRain', subject='01', timestamp_tr=281, adj=[414, 414])\n",
      "Graph saved at: /home/dalai/GNN_E/data/processed/all_graphs/clique_singlefmri/AfterTheRain_01_281.pt"
     ]
    },
    {
     "name": "stderr",
     "output_type": "stream",
     "text": [
      "/home/dalai/GNN_E/scripts/utils.py:26: UserWarning: To copy construct from a tensor, it is recommended to use sourceTensor.clone().detach() or sourceTensor.clone().detach().requires_grad_(True), rather than torch.tensor(sourceTensor).\n",
      "  edge_index = torch.tensor(adj.nonzero().t().contiguous(), dtype=torch.long)  # Shape: [2, num_edges]\n",
      "/home/dalai/GNN_E/scripts/utils.py:30: UserWarning: To copy construct from a tensor, it is recommended to use sourceTensor.clone().detach() or sourceTensor.clone().detach().requires_grad_(True), rather than torch.tensor(sourceTensor).\n",
      "  edge_attr = torch.tensor(adj[edge_index[0, :], edge_index[1, :]], dtype=torch.float)\n"
     ]
    },
    {
     "name": "stdout",
     "output_type": "stream",
     "text": [
      "\n",
      "\n",
      "\n",
      "01 - 281\n"
     ]
    },
    {
     "data": {
      "text/plain": [
       "'Shape DF of single sub of single timepoint : (414, 13)'"
      ]
     },
     "metadata": {},
     "output_type": "display_data"
    },
    {
     "name": "stdout",
     "output_type": "stream",
     "text": [
      "Shape adj matrix: torch.Size([414, 414])\n",
      "Label fo the current grpah: 34\n",
      "tensor([[  0,   0,   0,  ..., 413, 413, 413],\n",
      "        [  1,   2,   3,  ..., 410, 411, 412]])\n",
      "torch.Size([2, 170982])\n",
      "tensor([1., 1., 1.,  ..., 1., 1., 1.])\n",
      "torch.Size([170982])\n",
      "GraphEmo(x=[414], edge_index=[2, 170982], edge_attr=[170982], y=34, movie='AfterTheRain', subject='01', timestamp_tr=282, adj=[414, 414])\n",
      "Graph saved at: /home/dalai/GNN_E/data/processed/all_graphs/clique_singlefmri/AfterTheRain_01_282.pt"
     ]
    },
    {
     "name": "stderr",
     "output_type": "stream",
     "text": [
      "/home/dalai/GNN_E/scripts/utils.py:26: UserWarning: To copy construct from a tensor, it is recommended to use sourceTensor.clone().detach() or sourceTensor.clone().detach().requires_grad_(True), rather than torch.tensor(sourceTensor).\n",
      "  edge_index = torch.tensor(adj.nonzero().t().contiguous(), dtype=torch.long)  # Shape: [2, num_edges]\n",
      "/home/dalai/GNN_E/scripts/utils.py:30: UserWarning: To copy construct from a tensor, it is recommended to use sourceTensor.clone().detach() or sourceTensor.clone().detach().requires_grad_(True), rather than torch.tensor(sourceTensor).\n",
      "  edge_attr = torch.tensor(adj[edge_index[0, :], edge_index[1, :]], dtype=torch.float)\n"
     ]
    },
    {
     "name": "stdout",
     "output_type": "stream",
     "text": [
      "\n",
      "\n",
      "\n",
      "01 - 282\n"
     ]
    },
    {
     "data": {
      "text/plain": [
       "'Shape DF of single sub of single timepoint : (414, 13)'"
      ]
     },
     "metadata": {},
     "output_type": "display_data"
    },
    {
     "name": "stdout",
     "output_type": "stream",
     "text": [
      "Shape adj matrix: torch.Size([414, 414])\n",
      "Label fo the current grpah: 34\n",
      "tensor([[  0,   0,   0,  ..., 413, 413, 413],\n",
      "        [  1,   2,   3,  ..., 410, 411, 412]])\n",
      "torch.Size([2, 170982])\n",
      "tensor([1., 1., 1.,  ..., 1., 1., 1.])\n",
      "torch.Size([170982])\n",
      "GraphEmo(x=[414], edge_index=[2, 170982], edge_attr=[170982], y=34, movie='AfterTheRain', subject='01', timestamp_tr=283, adj=[414, 414])\n",
      "Graph saved at: /home/dalai/GNN_E/data/processed/all_graphs/clique_singlefmri/AfterTheRain_01_283.pt"
     ]
    },
    {
     "name": "stderr",
     "output_type": "stream",
     "text": [
      "/home/dalai/GNN_E/scripts/utils.py:26: UserWarning: To copy construct from a tensor, it is recommended to use sourceTensor.clone().detach() or sourceTensor.clone().detach().requires_grad_(True), rather than torch.tensor(sourceTensor).\n",
      "  edge_index = torch.tensor(adj.nonzero().t().contiguous(), dtype=torch.long)  # Shape: [2, num_edges]\n",
      "/home/dalai/GNN_E/scripts/utils.py:30: UserWarning: To copy construct from a tensor, it is recommended to use sourceTensor.clone().detach() or sourceTensor.clone().detach().requires_grad_(True), rather than torch.tensor(sourceTensor).\n",
      "  edge_attr = torch.tensor(adj[edge_index[0, :], edge_index[1, :]], dtype=torch.float)\n"
     ]
    },
    {
     "name": "stdout",
     "output_type": "stream",
     "text": [
      "\n",
      "\n",
      "\n",
      "01 - 283\n"
     ]
    },
    {
     "data": {
      "text/plain": [
       "'Shape DF of single sub of single timepoint : (414, 13)'"
      ]
     },
     "metadata": {},
     "output_type": "display_data"
    },
    {
     "name": "stdout",
     "output_type": "stream",
     "text": [
      "Shape adj matrix: torch.Size([414, 414])\n",
      "Label fo the current grpah: 34\n",
      "tensor([[  0,   0,   0,  ..., 413, 413, 413],\n",
      "        [  1,   2,   3,  ..., 410, 411, 412]])\n",
      "torch.Size([2, 170982])\n",
      "tensor([1., 1., 1.,  ..., 1., 1., 1.])\n",
      "torch.Size([170982])\n",
      "GraphEmo(x=[414], edge_index=[2, 170982], edge_attr=[170982], y=34, movie='AfterTheRain', subject='01', timestamp_tr=284, adj=[414, 414])\n",
      "Graph saved at: /home/dalai/GNN_E/data/processed/all_graphs/clique_singlefmri/AfterTheRain_01_284.pt"
     ]
    },
    {
     "name": "stderr",
     "output_type": "stream",
     "text": [
      "/home/dalai/GNN_E/scripts/utils.py:26: UserWarning: To copy construct from a tensor, it is recommended to use sourceTensor.clone().detach() or sourceTensor.clone().detach().requires_grad_(True), rather than torch.tensor(sourceTensor).\n",
      "  edge_index = torch.tensor(adj.nonzero().t().contiguous(), dtype=torch.long)  # Shape: [2, num_edges]\n",
      "/home/dalai/GNN_E/scripts/utils.py:30: UserWarning: To copy construct from a tensor, it is recommended to use sourceTensor.clone().detach() or sourceTensor.clone().detach().requires_grad_(True), rather than torch.tensor(sourceTensor).\n",
      "  edge_attr = torch.tensor(adj[edge_index[0, :], edge_index[1, :]], dtype=torch.float)\n"
     ]
    },
    {
     "name": "stdout",
     "output_type": "stream",
     "text": [
      "\n",
      "\n",
      "\n",
      "01 - 284\n"
     ]
    },
    {
     "data": {
      "text/plain": [
       "'Shape DF of single sub of single timepoint : (414, 13)'"
      ]
     },
     "metadata": {},
     "output_type": "display_data"
    },
    {
     "name": "stdout",
     "output_type": "stream",
     "text": [
      "Shape adj matrix: torch.Size([414, 414])\n",
      "Label fo the current grpah: 12\n",
      "tensor([[  0,   0,   0,  ..., 413, 413, 413],\n",
      "        [  1,   2,   3,  ..., 410, 411, 412]])\n",
      "torch.Size([2, 170982])\n",
      "tensor([1., 1., 1.,  ..., 1., 1., 1.])\n",
      "torch.Size([170982])\n",
      "GraphEmo(x=[414], edge_index=[2, 170982], edge_attr=[170982], y=12, movie='AfterTheRain', subject='01', timestamp_tr=285, adj=[414, 414])\n",
      "Graph saved at: /home/dalai/GNN_E/data/processed/all_graphs/clique_singlefmri/AfterTheRain_01_285.pt"
     ]
    },
    {
     "name": "stderr",
     "output_type": "stream",
     "text": [
      "/home/dalai/GNN_E/scripts/utils.py:26: UserWarning: To copy construct from a tensor, it is recommended to use sourceTensor.clone().detach() or sourceTensor.clone().detach().requires_grad_(True), rather than torch.tensor(sourceTensor).\n",
      "  edge_index = torch.tensor(adj.nonzero().t().contiguous(), dtype=torch.long)  # Shape: [2, num_edges]\n",
      "/home/dalai/GNN_E/scripts/utils.py:30: UserWarning: To copy construct from a tensor, it is recommended to use sourceTensor.clone().detach() or sourceTensor.clone().detach().requires_grad_(True), rather than torch.tensor(sourceTensor).\n",
      "  edge_attr = torch.tensor(adj[edge_index[0, :], edge_index[1, :]], dtype=torch.float)\n"
     ]
    },
    {
     "name": "stdout",
     "output_type": "stream",
     "text": [
      "\n",
      "\n",
      "\n",
      "01 - 285\n"
     ]
    },
    {
     "data": {
      "text/plain": [
       "'Shape DF of single sub of single timepoint : (414, 13)'"
      ]
     },
     "metadata": {},
     "output_type": "display_data"
    },
    {
     "name": "stdout",
     "output_type": "stream",
     "text": [
      "Shape adj matrix: torch.Size([414, 414])\n",
      "Label fo the current grpah: 12\n",
      "tensor([[  0,   0,   0,  ..., 413, 413, 413],\n",
      "        [  1,   2,   3,  ..., 410, 411, 412]])\n",
      "torch.Size([2, 170982])\n",
      "tensor([1., 1., 1.,  ..., 1., 1., 1.])\n",
      "torch.Size([170982])\n",
      "GraphEmo(x=[414], edge_index=[2, 170982], edge_attr=[170982], y=12, movie='AfterTheRain', subject='01', timestamp_tr=286, adj=[414, 414])\n",
      "Graph saved at: /home/dalai/GNN_E/data/processed/all_graphs/clique_singlefmri/AfterTheRain_01_286.pt"
     ]
    },
    {
     "name": "stderr",
     "output_type": "stream",
     "text": [
      "/home/dalai/GNN_E/scripts/utils.py:26: UserWarning: To copy construct from a tensor, it is recommended to use sourceTensor.clone().detach() or sourceTensor.clone().detach().requires_grad_(True), rather than torch.tensor(sourceTensor).\n",
      "  edge_index = torch.tensor(adj.nonzero().t().contiguous(), dtype=torch.long)  # Shape: [2, num_edges]\n",
      "/home/dalai/GNN_E/scripts/utils.py:30: UserWarning: To copy construct from a tensor, it is recommended to use sourceTensor.clone().detach() or sourceTensor.clone().detach().requires_grad_(True), rather than torch.tensor(sourceTensor).\n",
      "  edge_attr = torch.tensor(adj[edge_index[0, :], edge_index[1, :]], dtype=torch.float)\n"
     ]
    },
    {
     "name": "stdout",
     "output_type": "stream",
     "text": [
      "\n",
      "\n",
      "\n",
      "01 - 286\n"
     ]
    },
    {
     "data": {
      "text/plain": [
       "'Shape DF of single sub of single timepoint : (414, 13)'"
      ]
     },
     "metadata": {},
     "output_type": "display_data"
    },
    {
     "name": "stdout",
     "output_type": "stream",
     "text": [
      "Shape adj matrix: torch.Size([414, 414])\n",
      "Label fo the current grpah: 12\n",
      "tensor([[  0,   0,   0,  ..., 413, 413, 413],\n",
      "        [  1,   2,   3,  ..., 410, 411, 412]])\n",
      "torch.Size([2, 170982])\n",
      "tensor([1., 1., 1.,  ..., 1., 1., 1.])\n",
      "torch.Size([170982])\n",
      "GraphEmo(x=[414], edge_index=[2, 170982], edge_attr=[170982], y=12, movie='AfterTheRain', subject='01', timestamp_tr=287, adj=[414, 414])\n",
      "Graph saved at: /home/dalai/GNN_E/data/processed/all_graphs/clique_singlefmri/AfterTheRain_01_287.pt"
     ]
    },
    {
     "name": "stderr",
     "output_type": "stream",
     "text": [
      "/home/dalai/GNN_E/scripts/utils.py:26: UserWarning: To copy construct from a tensor, it is recommended to use sourceTensor.clone().detach() or sourceTensor.clone().detach().requires_grad_(True), rather than torch.tensor(sourceTensor).\n",
      "  edge_index = torch.tensor(adj.nonzero().t().contiguous(), dtype=torch.long)  # Shape: [2, num_edges]\n",
      "/home/dalai/GNN_E/scripts/utils.py:30: UserWarning: To copy construct from a tensor, it is recommended to use sourceTensor.clone().detach() or sourceTensor.clone().detach().requires_grad_(True), rather than torch.tensor(sourceTensor).\n",
      "  edge_attr = torch.tensor(adj[edge_index[0, :], edge_index[1, :]], dtype=torch.float)\n"
     ]
    },
    {
     "name": "stdout",
     "output_type": "stream",
     "text": [
      "\n",
      "\n",
      "\n",
      "01 - 287\n"
     ]
    },
    {
     "data": {
      "text/plain": [
       "'Shape DF of single sub of single timepoint : (414, 13)'"
      ]
     },
     "metadata": {},
     "output_type": "display_data"
    },
    {
     "name": "stdout",
     "output_type": "stream",
     "text": [
      "Shape adj matrix: torch.Size([414, 414])\n",
      "Label fo the current grpah: 12\n",
      "tensor([[  0,   0,   0,  ..., 413, 413, 413],\n",
      "        [  1,   2,   3,  ..., 410, 411, 412]])\n",
      "torch.Size([2, 170982])\n",
      "tensor([1., 1., 1.,  ..., 1., 1., 1.])\n",
      "torch.Size([170982])\n",
      "GraphEmo(x=[414], edge_index=[2, 170982], edge_attr=[170982], y=12, movie='AfterTheRain', subject='01', timestamp_tr=288, adj=[414, 414])\n",
      "Graph saved at: /home/dalai/GNN_E/data/processed/all_graphs/clique_singlefmri/AfterTheRain_01_288.pt"
     ]
    },
    {
     "name": "stderr",
     "output_type": "stream",
     "text": [
      "/home/dalai/GNN_E/scripts/utils.py:26: UserWarning: To copy construct from a tensor, it is recommended to use sourceTensor.clone().detach() or sourceTensor.clone().detach().requires_grad_(True), rather than torch.tensor(sourceTensor).\n",
      "  edge_index = torch.tensor(adj.nonzero().t().contiguous(), dtype=torch.long)  # Shape: [2, num_edges]\n",
      "/home/dalai/GNN_E/scripts/utils.py:30: UserWarning: To copy construct from a tensor, it is recommended to use sourceTensor.clone().detach() or sourceTensor.clone().detach().requires_grad_(True), rather than torch.tensor(sourceTensor).\n",
      "  edge_attr = torch.tensor(adj[edge_index[0, :], edge_index[1, :]], dtype=torch.float)\n"
     ]
    },
    {
     "name": "stdout",
     "output_type": "stream",
     "text": [
      "\n",
      "\n",
      "\n",
      "01 - 288\n"
     ]
    },
    {
     "data": {
      "text/plain": [
       "'Shape DF of single sub of single timepoint : (414, 13)'"
      ]
     },
     "metadata": {},
     "output_type": "display_data"
    },
    {
     "name": "stdout",
     "output_type": "stream",
     "text": [
      "Shape adj matrix: torch.Size([414, 414])\n",
      "Label fo the current grpah: 12\n",
      "tensor([[  0,   0,   0,  ..., 413, 413, 413],\n",
      "        [  1,   2,   3,  ..., 410, 411, 412]])\n",
      "torch.Size([2, 170982])\n",
      "tensor([1., 1., 1.,  ..., 1., 1., 1.])\n",
      "torch.Size([170982])\n",
      "GraphEmo(x=[414], edge_index=[2, 170982], edge_attr=[170982], y=12, movie='AfterTheRain', subject='01', timestamp_tr=289, adj=[414, 414])\n",
      "Graph saved at: /home/dalai/GNN_E/data/processed/all_graphs/clique_singlefmri/AfterTheRain_01_289.pt"
     ]
    },
    {
     "name": "stderr",
     "output_type": "stream",
     "text": [
      "/home/dalai/GNN_E/scripts/utils.py:26: UserWarning: To copy construct from a tensor, it is recommended to use sourceTensor.clone().detach() or sourceTensor.clone().detach().requires_grad_(True), rather than torch.tensor(sourceTensor).\n",
      "  edge_index = torch.tensor(adj.nonzero().t().contiguous(), dtype=torch.long)  # Shape: [2, num_edges]\n",
      "/home/dalai/GNN_E/scripts/utils.py:30: UserWarning: To copy construct from a tensor, it is recommended to use sourceTensor.clone().detach() or sourceTensor.clone().detach().requires_grad_(True), rather than torch.tensor(sourceTensor).\n",
      "  edge_attr = torch.tensor(adj[edge_index[0, :], edge_index[1, :]], dtype=torch.float)\n"
     ]
    },
    {
     "name": "stdout",
     "output_type": "stream",
     "text": [
      "\n",
      "\n",
      "\n",
      "01 - 289\n"
     ]
    },
    {
     "data": {
      "text/plain": [
       "'Shape DF of single sub of single timepoint : (414, 13)'"
      ]
     },
     "metadata": {},
     "output_type": "display_data"
    },
    {
     "name": "stdout",
     "output_type": "stream",
     "text": [
      "Shape adj matrix: torch.Size([414, 414])\n",
      "Label fo the current grpah: 34\n",
      "tensor([[  0,   0,   0,  ..., 413, 413, 413],\n",
      "        [  1,   2,   3,  ..., 410, 411, 412]])\n",
      "torch.Size([2, 170982])\n",
      "tensor([1., 1., 1.,  ..., 1., 1., 1.])\n",
      "torch.Size([170982])\n",
      "GraphEmo(x=[414], edge_index=[2, 170982], edge_attr=[170982], y=34, movie='AfterTheRain', subject='01', timestamp_tr=290, adj=[414, 414])\n"
     ]
    },
    {
     "name": "stderr",
     "output_type": "stream",
     "text": [
      "/home/dalai/GNN_E/scripts/utils.py:26: UserWarning: To copy construct from a tensor, it is recommended to use sourceTensor.clone().detach() or sourceTensor.clone().detach().requires_grad_(True), rather than torch.tensor(sourceTensor).\n",
      "  edge_index = torch.tensor(adj.nonzero().t().contiguous(), dtype=torch.long)  # Shape: [2, num_edges]\n",
      "/home/dalai/GNN_E/scripts/utils.py:30: UserWarning: To copy construct from a tensor, it is recommended to use sourceTensor.clone().detach() or sourceTensor.clone().detach().requires_grad_(True), rather than torch.tensor(sourceTensor).\n",
      "  edge_attr = torch.tensor(adj[edge_index[0, :], edge_index[1, :]], dtype=torch.float)\n"
     ]
    },
    {
     "name": "stdout",
     "output_type": "stream",
     "text": [
      "Graph saved at: /home/dalai/GNN_E/data/processed/all_graphs/clique_singlefmri/AfterTheRain_01_290.pt\n",
      "\n",
      "\n",
      "01 - 290\n"
     ]
    },
    {
     "data": {
      "text/plain": [
       "'Shape DF of single sub of single timepoint : (414, 13)'"
      ]
     },
     "metadata": {},
     "output_type": "display_data"
    },
    {
     "name": "stdout",
     "output_type": "stream",
     "text": [
      "Shape adj matrix: torch.Size([414, 414])\n",
      "Label fo the current grpah: 34\n",
      "tensor([[  0,   0,   0,  ..., 413, 413, 413],\n",
      "        [  1,   2,   3,  ..., 410, 411, 412]])\n",
      "torch.Size([2, 170982])\n",
      "tensor([1., 1., 1.,  ..., 1., 1., 1.])\n",
      "torch.Size([170982])\n",
      "GraphEmo(x=[414], edge_index=[2, 170982], edge_attr=[170982], y=34, movie='AfterTheRain', subject='01', timestamp_tr=291, adj=[414, 414])\n"
     ]
    },
    {
     "name": "stderr",
     "output_type": "stream",
     "text": [
      "/home/dalai/GNN_E/scripts/utils.py:26: UserWarning: To copy construct from a tensor, it is recommended to use sourceTensor.clone().detach() or sourceTensor.clone().detach().requires_grad_(True), rather than torch.tensor(sourceTensor).\n",
      "  edge_index = torch.tensor(adj.nonzero().t().contiguous(), dtype=torch.long)  # Shape: [2, num_edges]\n",
      "/home/dalai/GNN_E/scripts/utils.py:30: UserWarning: To copy construct from a tensor, it is recommended to use sourceTensor.clone().detach() or sourceTensor.clone().detach().requires_grad_(True), rather than torch.tensor(sourceTensor).\n",
      "  edge_attr = torch.tensor(adj[edge_index[0, :], edge_index[1, :]], dtype=torch.float)\n"
     ]
    },
    {
     "name": "stdout",
     "output_type": "stream",
     "text": [
      "Graph saved at: /home/dalai/GNN_E/data/processed/all_graphs/clique_singlefmri/AfterTheRain_01_291.pt\n",
      "\n",
      "\n",
      "01 - 291\n"
     ]
    },
    {
     "data": {
      "text/plain": [
       "'Shape DF of single sub of single timepoint : (414, 13)'"
      ]
     },
     "metadata": {},
     "output_type": "display_data"
    },
    {
     "name": "stdout",
     "output_type": "stream",
     "text": [
      "Shape adj matrix: torch.Size([414, 414])\n",
      "Label fo the current grpah: 34\n",
      "tensor([[  0,   0,   0,  ..., 413, 413, 413],\n",
      "        [  1,   2,   3,  ..., 410, 411, 412]])\n",
      "torch.Size([2, 170982])\n",
      "tensor([1., 1., 1.,  ..., 1., 1., 1.])\n",
      "torch.Size([170982])\n",
      "GraphEmo(x=[414], edge_index=[2, 170982], edge_attr=[170982], y=34, movie='AfterTheRain', subject='01', timestamp_tr=292, adj=[414, 414])\n",
      "Graph saved at: /home/dalai/GNN_E/data/processed/all_graphs/clique_singlefmri/AfterTheRain_01_292.pt"
     ]
    },
    {
     "name": "stderr",
     "output_type": "stream",
     "text": [
      "/home/dalai/GNN_E/scripts/utils.py:26: UserWarning: To copy construct from a tensor, it is recommended to use sourceTensor.clone().detach() or sourceTensor.clone().detach().requires_grad_(True), rather than torch.tensor(sourceTensor).\n",
      "  edge_index = torch.tensor(adj.nonzero().t().contiguous(), dtype=torch.long)  # Shape: [2, num_edges]\n",
      "/home/dalai/GNN_E/scripts/utils.py:30: UserWarning: To copy construct from a tensor, it is recommended to use sourceTensor.clone().detach() or sourceTensor.clone().detach().requires_grad_(True), rather than torch.tensor(sourceTensor).\n",
      "  edge_attr = torch.tensor(adj[edge_index[0, :], edge_index[1, :]], dtype=torch.float)\n"
     ]
    },
    {
     "name": "stdout",
     "output_type": "stream",
     "text": [
      "\n",
      "\n",
      "\n",
      "01 - 292\n"
     ]
    },
    {
     "data": {
      "text/plain": [
       "'Shape DF of single sub of single timepoint : (414, 13)'"
      ]
     },
     "metadata": {},
     "output_type": "display_data"
    },
    {
     "name": "stdout",
     "output_type": "stream",
     "text": [
      "Shape adj matrix: torch.Size([414, 414])\n",
      "Label fo the current grpah: 34\n",
      "tensor([[  0,   0,   0,  ..., 413, 413, 413],\n",
      "        [  1,   2,   3,  ..., 410, 411, 412]])\n",
      "torch.Size([2, 170982])\n",
      "tensor([1., 1., 1.,  ..., 1., 1., 1.])\n",
      "torch.Size([170982])\n",
      "GraphEmo(x=[414], edge_index=[2, 170982], edge_attr=[170982], y=34, movie='AfterTheRain', subject='01', timestamp_tr=293, adj=[414, 414])\n"
     ]
    },
    {
     "name": "stderr",
     "output_type": "stream",
     "text": [
      "/home/dalai/GNN_E/scripts/utils.py:26: UserWarning: To copy construct from a tensor, it is recommended to use sourceTensor.clone().detach() or sourceTensor.clone().detach().requires_grad_(True), rather than torch.tensor(sourceTensor).\n",
      "  edge_index = torch.tensor(adj.nonzero().t().contiguous(), dtype=torch.long)  # Shape: [2, num_edges]\n",
      "/home/dalai/GNN_E/scripts/utils.py:30: UserWarning: To copy construct from a tensor, it is recommended to use sourceTensor.clone().detach() or sourceTensor.clone().detach().requires_grad_(True), rather than torch.tensor(sourceTensor).\n",
      "  edge_attr = torch.tensor(adj[edge_index[0, :], edge_index[1, :]], dtype=torch.float)\n"
     ]
    },
    {
     "name": "stdout",
     "output_type": "stream",
     "text": [
      "Graph saved at: /home/dalai/GNN_E/data/processed/all_graphs/clique_singlefmri/AfterTheRain_01_293.pt\n",
      "\n",
      "\n",
      "01 - 293\n"
     ]
    },
    {
     "data": {
      "text/plain": [
       "'Shape DF of single sub of single timepoint : (414, 13)'"
      ]
     },
     "metadata": {},
     "output_type": "display_data"
    },
    {
     "name": "stdout",
     "output_type": "stream",
     "text": [
      "Shape adj matrix: torch.Size([414, 414])\n",
      "Label fo the current grpah: 34\n",
      "tensor([[  0,   0,   0,  ..., 413, 413, 413],\n",
      "        [  1,   2,   3,  ..., 410, 411, 412]])\n",
      "torch.Size([2, 170982])\n",
      "tensor([1., 1., 1.,  ..., 1., 1., 1.])\n",
      "torch.Size([170982])\n",
      "GraphEmo(x=[414], edge_index=[2, 170982], edge_attr=[170982], y=34, movie='AfterTheRain', subject='01', timestamp_tr=294, adj=[414, 414])\n",
      "Graph saved at: /home/dalai/GNN_E/data/processed/all_graphs/clique_singlefmri/AfterTheRain_01_294.pt"
     ]
    },
    {
     "name": "stderr",
     "output_type": "stream",
     "text": [
      "/home/dalai/GNN_E/scripts/utils.py:26: UserWarning: To copy construct from a tensor, it is recommended to use sourceTensor.clone().detach() or sourceTensor.clone().detach().requires_grad_(True), rather than torch.tensor(sourceTensor).\n",
      "  edge_index = torch.tensor(adj.nonzero().t().contiguous(), dtype=torch.long)  # Shape: [2, num_edges]\n",
      "/home/dalai/GNN_E/scripts/utils.py:30: UserWarning: To copy construct from a tensor, it is recommended to use sourceTensor.clone().detach() or sourceTensor.clone().detach().requires_grad_(True), rather than torch.tensor(sourceTensor).\n",
      "  edge_attr = torch.tensor(adj[edge_index[0, :], edge_index[1, :]], dtype=torch.float)\n"
     ]
    },
    {
     "name": "stdout",
     "output_type": "stream",
     "text": [
      "\n",
      "\n",
      "\n",
      "01 - 294\n"
     ]
    },
    {
     "data": {
      "text/plain": [
       "'Shape DF of single sub of single timepoint : (414, 13)'"
      ]
     },
     "metadata": {},
     "output_type": "display_data"
    },
    {
     "name": "stdout",
     "output_type": "stream",
     "text": [
      "Shape adj matrix: torch.Size([414, 414])\n",
      "Label fo the current grpah: 34\n",
      "tensor([[  0,   0,   0,  ..., 413, 413, 413],\n",
      "        [  1,   2,   3,  ..., 410, 411, 412]])\n",
      "torch.Size([2, 170982])\n",
      "tensor([1., 1., 1.,  ..., 1., 1., 1.])\n",
      "torch.Size([170982])\n",
      "GraphEmo(x=[414], edge_index=[2, 170982], edge_attr=[170982], y=34, movie='AfterTheRain', subject='01', timestamp_tr=295, adj=[414, 414])\n",
      "Graph saved at: /home/dalai/GNN_E/data/processed/all_graphs/clique_singlefmri/AfterTheRain_01_295.pt"
     ]
    },
    {
     "name": "stderr",
     "output_type": "stream",
     "text": [
      "/home/dalai/GNN_E/scripts/utils.py:26: UserWarning: To copy construct from a tensor, it is recommended to use sourceTensor.clone().detach() or sourceTensor.clone().detach().requires_grad_(True), rather than torch.tensor(sourceTensor).\n",
      "  edge_index = torch.tensor(adj.nonzero().t().contiguous(), dtype=torch.long)  # Shape: [2, num_edges]\n",
      "/home/dalai/GNN_E/scripts/utils.py:30: UserWarning: To copy construct from a tensor, it is recommended to use sourceTensor.clone().detach() or sourceTensor.clone().detach().requires_grad_(True), rather than torch.tensor(sourceTensor).\n",
      "  edge_attr = torch.tensor(adj[edge_index[0, :], edge_index[1, :]], dtype=torch.float)\n"
     ]
    },
    {
     "name": "stdout",
     "output_type": "stream",
     "text": [
      "\n",
      "\n",
      "\n",
      "01 - 295\n"
     ]
    },
    {
     "data": {
      "text/plain": [
       "'Shape DF of single sub of single timepoint : (414, 13)'"
      ]
     },
     "metadata": {},
     "output_type": "display_data"
    },
    {
     "name": "stdout",
     "output_type": "stream",
     "text": [
      "Shape adj matrix: torch.Size([414, 414])\n",
      "Label fo the current grpah: 34\n",
      "tensor([[  0,   0,   0,  ..., 413, 413, 413],\n",
      "        [  1,   2,   3,  ..., 410, 411, 412]])\n",
      "torch.Size([2, 170982])\n",
      "tensor([1., 1., 1.,  ..., 1., 1., 1.])\n",
      "torch.Size([170982])\n",
      "GraphEmo(x=[414], edge_index=[2, 170982], edge_attr=[170982], y=34, movie='AfterTheRain', subject='01', timestamp_tr=296, adj=[414, 414])\n"
     ]
    },
    {
     "name": "stderr",
     "output_type": "stream",
     "text": [
      "/home/dalai/GNN_E/scripts/utils.py:26: UserWarning: To copy construct from a tensor, it is recommended to use sourceTensor.clone().detach() or sourceTensor.clone().detach().requires_grad_(True), rather than torch.tensor(sourceTensor).\n",
      "  edge_index = torch.tensor(adj.nonzero().t().contiguous(), dtype=torch.long)  # Shape: [2, num_edges]\n",
      "/home/dalai/GNN_E/scripts/utils.py:30: UserWarning: To copy construct from a tensor, it is recommended to use sourceTensor.clone().detach() or sourceTensor.clone().detach().requires_grad_(True), rather than torch.tensor(sourceTensor).\n",
      "  edge_attr = torch.tensor(adj[edge_index[0, :], edge_index[1, :]], dtype=torch.float)\n"
     ]
    },
    {
     "name": "stdout",
     "output_type": "stream",
     "text": [
      "Graph saved at: /home/dalai/GNN_E/data/processed/all_graphs/clique_singlefmri/AfterTheRain_01_296.pt\n",
      "\n",
      "\n",
      "01 - 296\n"
     ]
    },
    {
     "data": {
      "text/plain": [
       "'Shape DF of single sub of single timepoint : (414, 13)'"
      ]
     },
     "metadata": {},
     "output_type": "display_data"
    },
    {
     "name": "stdout",
     "output_type": "stream",
     "text": [
      "Shape adj matrix: torch.Size([414, 414])\n",
      "Label fo the current grpah: 34\n",
      "tensor([[  0,   0,   0,  ..., 413, 413, 413],\n",
      "        [  1,   2,   3,  ..., 410, 411, 412]])\n",
      "torch.Size([2, 170982])\n",
      "tensor([1., 1., 1.,  ..., 1., 1., 1.])\n",
      "torch.Size([170982])\n",
      "GraphEmo(x=[414], edge_index=[2, 170982], edge_attr=[170982], y=34, movie='AfterTheRain', subject='01', timestamp_tr=297, adj=[414, 414])\n"
     ]
    },
    {
     "name": "stderr",
     "output_type": "stream",
     "text": [
      "/home/dalai/GNN_E/scripts/utils.py:26: UserWarning: To copy construct from a tensor, it is recommended to use sourceTensor.clone().detach() or sourceTensor.clone().detach().requires_grad_(True), rather than torch.tensor(sourceTensor).\n",
      "  edge_index = torch.tensor(adj.nonzero().t().contiguous(), dtype=torch.long)  # Shape: [2, num_edges]\n",
      "/home/dalai/GNN_E/scripts/utils.py:30: UserWarning: To copy construct from a tensor, it is recommended to use sourceTensor.clone().detach() or sourceTensor.clone().detach().requires_grad_(True), rather than torch.tensor(sourceTensor).\n",
      "  edge_attr = torch.tensor(adj[edge_index[0, :], edge_index[1, :]], dtype=torch.float)\n"
     ]
    },
    {
     "name": "stdout",
     "output_type": "stream",
     "text": [
      "Graph saved at: /home/dalai/GNN_E/data/processed/all_graphs/clique_singlefmri/AfterTheRain_01_297.pt\n",
      "\n",
      "\n",
      "01 - 297\n"
     ]
    },
    {
     "data": {
      "text/plain": [
       "'Shape DF of single sub of single timepoint : (414, 13)'"
      ]
     },
     "metadata": {},
     "output_type": "display_data"
    },
    {
     "name": "stdout",
     "output_type": "stream",
     "text": [
      "Shape adj matrix: torch.Size([414, 414])\n",
      "Label fo the current grpah: 34\n",
      "tensor([[  0,   0,   0,  ..., 413, 413, 413],\n",
      "        [  1,   2,   3,  ..., 410, 411, 412]])\n",
      "torch.Size([2, 170982])\n",
      "tensor([1., 1., 1.,  ..., 1., 1., 1.])\n",
      "torch.Size([170982])\n",
      "GraphEmo(x=[414], edge_index=[2, 170982], edge_attr=[170982], y=34, movie='AfterTheRain', subject='01', timestamp_tr=298, adj=[414, 414])\n"
     ]
    },
    {
     "name": "stderr",
     "output_type": "stream",
     "text": [
      "/home/dalai/GNN_E/scripts/utils.py:26: UserWarning: To copy construct from a tensor, it is recommended to use sourceTensor.clone().detach() or sourceTensor.clone().detach().requires_grad_(True), rather than torch.tensor(sourceTensor).\n",
      "  edge_index = torch.tensor(adj.nonzero().t().contiguous(), dtype=torch.long)  # Shape: [2, num_edges]\n",
      "/home/dalai/GNN_E/scripts/utils.py:30: UserWarning: To copy construct from a tensor, it is recommended to use sourceTensor.clone().detach() or sourceTensor.clone().detach().requires_grad_(True), rather than torch.tensor(sourceTensor).\n",
      "  edge_attr = torch.tensor(adj[edge_index[0, :], edge_index[1, :]], dtype=torch.float)\n"
     ]
    },
    {
     "name": "stdout",
     "output_type": "stream",
     "text": [
      "Graph saved at: /home/dalai/GNN_E/data/processed/all_graphs/clique_singlefmri/AfterTheRain_01_298.pt\n",
      "\n",
      "\n",
      "01 - 298\n"
     ]
    },
    {
     "data": {
      "text/plain": [
       "'Shape DF of single sub of single timepoint : (414, 13)'"
      ]
     },
     "metadata": {},
     "output_type": "display_data"
    },
    {
     "name": "stdout",
     "output_type": "stream",
     "text": [
      "Shape adj matrix: torch.Size([414, 414])\n",
      "Label fo the current grpah: 34\n",
      "tensor([[  0,   0,   0,  ..., 413, 413, 413],\n",
      "        [  1,   2,   3,  ..., 410, 411, 412]])\n",
      "torch.Size([2, 170982])\n",
      "tensor([1., 1., 1.,  ..., 1., 1., 1.])\n",
      "torch.Size([170982])\n",
      "GraphEmo(x=[414], edge_index=[2, 170982], edge_attr=[170982], y=34, movie='AfterTheRain', subject='01', timestamp_tr=299, adj=[414, 414])\n"
     ]
    },
    {
     "name": "stderr",
     "output_type": "stream",
     "text": [
      "/home/dalai/GNN_E/scripts/utils.py:26: UserWarning: To copy construct from a tensor, it is recommended to use sourceTensor.clone().detach() or sourceTensor.clone().detach().requires_grad_(True), rather than torch.tensor(sourceTensor).\n",
      "  edge_index = torch.tensor(adj.nonzero().t().contiguous(), dtype=torch.long)  # Shape: [2, num_edges]\n",
      "/home/dalai/GNN_E/scripts/utils.py:30: UserWarning: To copy construct from a tensor, it is recommended to use sourceTensor.clone().detach() or sourceTensor.clone().detach().requires_grad_(True), rather than torch.tensor(sourceTensor).\n",
      "  edge_attr = torch.tensor(adj[edge_index[0, :], edge_index[1, :]], dtype=torch.float)\n"
     ]
    },
    {
     "name": "stdout",
     "output_type": "stream",
     "text": [
      "Graph saved at: /home/dalai/GNN_E/data/processed/all_graphs/clique_singlefmri/AfterTheRain_01_299.pt\n",
      "\n",
      "\n",
      "01 - 299\n"
     ]
    },
    {
     "data": {
      "text/plain": [
       "'Shape DF of single sub of single timepoint : (414, 13)'"
      ]
     },
     "metadata": {},
     "output_type": "display_data"
    },
    {
     "name": "stdout",
     "output_type": "stream",
     "text": [
      "Shape adj matrix: torch.Size([414, 414])\n",
      "Label fo the current grpah: 34\n",
      "tensor([[  0,   0,   0,  ..., 413, 413, 413],\n",
      "        [  1,   2,   3,  ..., 410, 411, 412]])\n",
      "torch.Size([2, 170982])\n",
      "tensor([1., 1., 1.,  ..., 1., 1., 1.])\n",
      "torch.Size([170982])\n",
      "GraphEmo(x=[414], edge_index=[2, 170982], edge_attr=[170982], y=34, movie='AfterTheRain', subject='01', timestamp_tr=300, adj=[414, 414])\n"
     ]
    },
    {
     "name": "stderr",
     "output_type": "stream",
     "text": [
      "/home/dalai/GNN_E/scripts/utils.py:26: UserWarning: To copy construct from a tensor, it is recommended to use sourceTensor.clone().detach() or sourceTensor.clone().detach().requires_grad_(True), rather than torch.tensor(sourceTensor).\n",
      "  edge_index = torch.tensor(adj.nonzero().t().contiguous(), dtype=torch.long)  # Shape: [2, num_edges]\n",
      "/home/dalai/GNN_E/scripts/utils.py:30: UserWarning: To copy construct from a tensor, it is recommended to use sourceTensor.clone().detach() or sourceTensor.clone().detach().requires_grad_(True), rather than torch.tensor(sourceTensor).\n",
      "  edge_attr = torch.tensor(adj[edge_index[0, :], edge_index[1, :]], dtype=torch.float)\n"
     ]
    },
    {
     "name": "stdout",
     "output_type": "stream",
     "text": [
      "Graph saved at: /home/dalai/GNN_E/data/processed/all_graphs/clique_singlefmri/AfterTheRain_01_300.pt\n",
      "\n",
      "\n",
      "01 - 300\n"
     ]
    },
    {
     "data": {
      "text/plain": [
       "'Shape DF of single sub of single timepoint : (414, 13)'"
      ]
     },
     "metadata": {},
     "output_type": "display_data"
    },
    {
     "name": "stdout",
     "output_type": "stream",
     "text": [
      "Shape adj matrix: torch.Size([414, 414])\n",
      "Label fo the current grpah: 34\n",
      "tensor([[  0,   0,   0,  ..., 413, 413, 413],\n",
      "        [  1,   2,   3,  ..., 410, 411, 412]])\n",
      "torch.Size([2, 170982])\n",
      "tensor([1., 1., 1.,  ..., 1., 1., 1.])\n",
      "torch.Size([170982])\n",
      "GraphEmo(x=[414], edge_index=[2, 170982], edge_attr=[170982], y=34, movie='AfterTheRain', subject='01', timestamp_tr=301, adj=[414, 414])\n"
     ]
    },
    {
     "name": "stderr",
     "output_type": "stream",
     "text": [
      "/home/dalai/GNN_E/scripts/utils.py:26: UserWarning: To copy construct from a tensor, it is recommended to use sourceTensor.clone().detach() or sourceTensor.clone().detach().requires_grad_(True), rather than torch.tensor(sourceTensor).\n",
      "  edge_index = torch.tensor(adj.nonzero().t().contiguous(), dtype=torch.long)  # Shape: [2, num_edges]\n",
      "/home/dalai/GNN_E/scripts/utils.py:30: UserWarning: To copy construct from a tensor, it is recommended to use sourceTensor.clone().detach() or sourceTensor.clone().detach().requires_grad_(True), rather than torch.tensor(sourceTensor).\n",
      "  edge_attr = torch.tensor(adj[edge_index[0, :], edge_index[1, :]], dtype=torch.float)\n"
     ]
    },
    {
     "name": "stdout",
     "output_type": "stream",
     "text": [
      "Graph saved at: /home/dalai/GNN_E/data/processed/all_graphs/clique_singlefmri/AfterTheRain_01_301.pt\n",
      "\n",
      "\n",
      "01 - 301\n"
     ]
    },
    {
     "data": {
      "text/plain": [
       "'Shape DF of single sub of single timepoint : (414, 13)'"
      ]
     },
     "metadata": {},
     "output_type": "display_data"
    },
    {
     "name": "stdout",
     "output_type": "stream",
     "text": [
      "Shape adj matrix: torch.Size([414, 414])\n",
      "Label fo the current grpah: 34\n",
      "tensor([[  0,   0,   0,  ..., 413, 413, 413],\n",
      "        [  1,   2,   3,  ..., 410, 411, 412]])\n",
      "torch.Size([2, 170982])\n",
      "tensor([1., 1., 1.,  ..., 1., 1., 1.])\n",
      "torch.Size([170982])\n",
      "GraphEmo(x=[414], edge_index=[2, 170982], edge_attr=[170982], y=34, movie='AfterTheRain', subject='01', timestamp_tr=302, adj=[414, 414])\n"
     ]
    },
    {
     "name": "stderr",
     "output_type": "stream",
     "text": [
      "/home/dalai/GNN_E/scripts/utils.py:26: UserWarning: To copy construct from a tensor, it is recommended to use sourceTensor.clone().detach() or sourceTensor.clone().detach().requires_grad_(True), rather than torch.tensor(sourceTensor).\n",
      "  edge_index = torch.tensor(adj.nonzero().t().contiguous(), dtype=torch.long)  # Shape: [2, num_edges]\n",
      "/home/dalai/GNN_E/scripts/utils.py:30: UserWarning: To copy construct from a tensor, it is recommended to use sourceTensor.clone().detach() or sourceTensor.clone().detach().requires_grad_(True), rather than torch.tensor(sourceTensor).\n",
      "  edge_attr = torch.tensor(adj[edge_index[0, :], edge_index[1, :]], dtype=torch.float)\n"
     ]
    },
    {
     "name": "stdout",
     "output_type": "stream",
     "text": [
      "Graph saved at: /home/dalai/GNN_E/data/processed/all_graphs/clique_singlefmri/AfterTheRain_01_302.pt\n",
      "\n",
      "\n",
      "01 - 302\n"
     ]
    },
    {
     "data": {
      "text/plain": [
       "'Shape DF of single sub of single timepoint : (414, 13)'"
      ]
     },
     "metadata": {},
     "output_type": "display_data"
    },
    {
     "name": "stdout",
     "output_type": "stream",
     "text": [
      "Shape adj matrix: torch.Size([414, 414])\n",
      "Label fo the current grpah: 47\n",
      "tensor([[  0,   0,   0,  ..., 413, 413, 413],\n",
      "        [  1,   2,   3,  ..., 410, 411, 412]])\n",
      "torch.Size([2, 170982])\n",
      "tensor([1., 1., 1.,  ..., 1., 1., 1.])\n",
      "torch.Size([170982])\n",
      "GraphEmo(x=[414], edge_index=[2, 170982], edge_attr=[170982], y=47, movie='AfterTheRain', subject='01', timestamp_tr=303, adj=[414, 414])\n"
     ]
    },
    {
     "name": "stderr",
     "output_type": "stream",
     "text": [
      "/home/dalai/GNN_E/scripts/utils.py:26: UserWarning: To copy construct from a tensor, it is recommended to use sourceTensor.clone().detach() or sourceTensor.clone().detach().requires_grad_(True), rather than torch.tensor(sourceTensor).\n",
      "  edge_index = torch.tensor(adj.nonzero().t().contiguous(), dtype=torch.long)  # Shape: [2, num_edges]\n",
      "/home/dalai/GNN_E/scripts/utils.py:30: UserWarning: To copy construct from a tensor, it is recommended to use sourceTensor.clone().detach() or sourceTensor.clone().detach().requires_grad_(True), rather than torch.tensor(sourceTensor).\n",
      "  edge_attr = torch.tensor(adj[edge_index[0, :], edge_index[1, :]], dtype=torch.float)\n"
     ]
    },
    {
     "name": "stdout",
     "output_type": "stream",
     "text": [
      "Graph saved at: /home/dalai/GNN_E/data/processed/all_graphs/clique_singlefmri/AfterTheRain_01_303.pt\n",
      "\n",
      "\n",
      "01 - 303\n"
     ]
    },
    {
     "data": {
      "text/plain": [
       "'Shape DF of single sub of single timepoint : (414, 13)'"
      ]
     },
     "metadata": {},
     "output_type": "display_data"
    },
    {
     "name": "stdout",
     "output_type": "stream",
     "text": [
      "Shape adj matrix: torch.Size([414, 414])\n",
      "Label fo the current grpah: 7\n",
      "tensor([[  0,   0,   0,  ..., 413, 413, 413],\n",
      "        [  1,   2,   3,  ..., 410, 411, 412]])\n",
      "torch.Size([2, 170982])\n",
      "tensor([1., 1., 1.,  ..., 1., 1., 1.])\n",
      "torch.Size([170982])\n",
      "GraphEmo(x=[414], edge_index=[2, 170982], edge_attr=[170982], y=7, movie='AfterTheRain', subject='01', timestamp_tr=304, adj=[414, 414])\n"
     ]
    },
    {
     "name": "stderr",
     "output_type": "stream",
     "text": [
      "/home/dalai/GNN_E/scripts/utils.py:26: UserWarning: To copy construct from a tensor, it is recommended to use sourceTensor.clone().detach() or sourceTensor.clone().detach().requires_grad_(True), rather than torch.tensor(sourceTensor).\n",
      "  edge_index = torch.tensor(adj.nonzero().t().contiguous(), dtype=torch.long)  # Shape: [2, num_edges]\n",
      "/home/dalai/GNN_E/scripts/utils.py:30: UserWarning: To copy construct from a tensor, it is recommended to use sourceTensor.clone().detach() or sourceTensor.clone().detach().requires_grad_(True), rather than torch.tensor(sourceTensor).\n",
      "  edge_attr = torch.tensor(adj[edge_index[0, :], edge_index[1, :]], dtype=torch.float)\n"
     ]
    },
    {
     "name": "stdout",
     "output_type": "stream",
     "text": [
      "Graph saved at: /home/dalai/GNN_E/data/processed/all_graphs/clique_singlefmri/AfterTheRain_01_304.pt\n",
      "\n",
      "\n",
      "01 - 304\n"
     ]
    },
    {
     "data": {
      "text/plain": [
       "'Shape DF of single sub of single timepoint : (414, 13)'"
      ]
     },
     "metadata": {},
     "output_type": "display_data"
    },
    {
     "name": "stdout",
     "output_type": "stream",
     "text": [
      "Shape adj matrix: torch.Size([414, 414])\n",
      "Label fo the current grpah: 12\n",
      "tensor([[  0,   0,   0,  ..., 413, 413, 413],\n",
      "        [  1,   2,   3,  ..., 410, 411, 412]])\n",
      "torch.Size([2, 170982])\n",
      "tensor([1., 1., 1.,  ..., 1., 1., 1.])\n",
      "torch.Size([170982])\n",
      "GraphEmo(x=[414], edge_index=[2, 170982], edge_attr=[170982], y=12, movie='AfterTheRain', subject='01', timestamp_tr=305, adj=[414, 414])\n"
     ]
    },
    {
     "name": "stderr",
     "output_type": "stream",
     "text": [
      "/home/dalai/GNN_E/scripts/utils.py:26: UserWarning: To copy construct from a tensor, it is recommended to use sourceTensor.clone().detach() or sourceTensor.clone().detach().requires_grad_(True), rather than torch.tensor(sourceTensor).\n",
      "  edge_index = torch.tensor(adj.nonzero().t().contiguous(), dtype=torch.long)  # Shape: [2, num_edges]\n",
      "/home/dalai/GNN_E/scripts/utils.py:30: UserWarning: To copy construct from a tensor, it is recommended to use sourceTensor.clone().detach() or sourceTensor.clone().detach().requires_grad_(True), rather than torch.tensor(sourceTensor).\n",
      "  edge_attr = torch.tensor(adj[edge_index[0, :], edge_index[1, :]], dtype=torch.float)\n"
     ]
    },
    {
     "name": "stdout",
     "output_type": "stream",
     "text": [
      "Graph saved at: /home/dalai/GNN_E/data/processed/all_graphs/clique_singlefmri/AfterTheRain_01_305.pt\n",
      "\n",
      "\n",
      "01 - 305\n"
     ]
    },
    {
     "data": {
      "text/plain": [
       "'Shape DF of single sub of single timepoint : (414, 13)'"
      ]
     },
     "metadata": {},
     "output_type": "display_data"
    },
    {
     "name": "stdout",
     "output_type": "stream",
     "text": [
      "Shape adj matrix: torch.Size([414, 414])\n",
      "Label fo the current grpah: 12\n",
      "tensor([[  0,   0,   0,  ..., 413, 413, 413],\n",
      "        [  1,   2,   3,  ..., 410, 411, 412]])\n",
      "torch.Size([2, 170982])\n",
      "tensor([1., 1., 1.,  ..., 1., 1., 1.])\n",
      "torch.Size([170982])\n",
      "GraphEmo(x=[414], edge_index=[2, 170982], edge_attr=[170982], y=12, movie='AfterTheRain', subject='01', timestamp_tr=306, adj=[414, 414])\n"
     ]
    },
    {
     "name": "stderr",
     "output_type": "stream",
     "text": [
      "/home/dalai/GNN_E/scripts/utils.py:26: UserWarning: To copy construct from a tensor, it is recommended to use sourceTensor.clone().detach() or sourceTensor.clone().detach().requires_grad_(True), rather than torch.tensor(sourceTensor).\n",
      "  edge_index = torch.tensor(adj.nonzero().t().contiguous(), dtype=torch.long)  # Shape: [2, num_edges]\n",
      "/home/dalai/GNN_E/scripts/utils.py:30: UserWarning: To copy construct from a tensor, it is recommended to use sourceTensor.clone().detach() or sourceTensor.clone().detach().requires_grad_(True), rather than torch.tensor(sourceTensor).\n",
      "  edge_attr = torch.tensor(adj[edge_index[0, :], edge_index[1, :]], dtype=torch.float)\n"
     ]
    },
    {
     "name": "stdout",
     "output_type": "stream",
     "text": [
      "Graph saved at: /home/dalai/GNN_E/data/processed/all_graphs/clique_singlefmri/AfterTheRain_01_306.pt\n",
      "\n",
      "\n",
      "01 - 306\n"
     ]
    },
    {
     "data": {
      "text/plain": [
       "'Shape DF of single sub of single timepoint : (414, 13)'"
      ]
     },
     "metadata": {},
     "output_type": "display_data"
    },
    {
     "name": "stdout",
     "output_type": "stream",
     "text": [
      "Shape adj matrix: torch.Size([414, 414])\n",
      "Label fo the current grpah: 42\n",
      "tensor([[  0,   0,   0,  ..., 413, 413, 413],\n",
      "        [  1,   2,   3,  ..., 410, 411, 412]])\n",
      "torch.Size([2, 170982])\n",
      "tensor([1., 1., 1.,  ..., 1., 1., 1.])\n",
      "torch.Size([170982])\n",
      "GraphEmo(x=[414], edge_index=[2, 170982], edge_attr=[170982], y=42, movie='AfterTheRain', subject='01', timestamp_tr=307, adj=[414, 414])\n"
     ]
    },
    {
     "name": "stderr",
     "output_type": "stream",
     "text": [
      "/home/dalai/GNN_E/scripts/utils.py:26: UserWarning: To copy construct from a tensor, it is recommended to use sourceTensor.clone().detach() or sourceTensor.clone().detach().requires_grad_(True), rather than torch.tensor(sourceTensor).\n",
      "  edge_index = torch.tensor(adj.nonzero().t().contiguous(), dtype=torch.long)  # Shape: [2, num_edges]\n",
      "/home/dalai/GNN_E/scripts/utils.py:30: UserWarning: To copy construct from a tensor, it is recommended to use sourceTensor.clone().detach() or sourceTensor.clone().detach().requires_grad_(True), rather than torch.tensor(sourceTensor).\n",
      "  edge_attr = torch.tensor(adj[edge_index[0, :], edge_index[1, :]], dtype=torch.float)\n"
     ]
    },
    {
     "name": "stdout",
     "output_type": "stream",
     "text": [
      "Graph saved at: /home/dalai/GNN_E/data/processed/all_graphs/clique_singlefmri/AfterTheRain_01_307.pt\n",
      "\n",
      "\n",
      "01 - 307\n"
     ]
    },
    {
     "data": {
      "text/plain": [
       "'Shape DF of single sub of single timepoint : (414, 13)'"
      ]
     },
     "metadata": {},
     "output_type": "display_data"
    },
    {
     "name": "stdout",
     "output_type": "stream",
     "text": [
      "Shape adj matrix: torch.Size([414, 414])\n",
      "Label fo the current grpah: 42\n",
      "tensor([[  0,   0,   0,  ..., 413, 413, 413],\n",
      "        [  1,   2,   3,  ..., 410, 411, 412]])\n",
      "torch.Size([2, 170982])\n",
      "tensor([1., 1., 1.,  ..., 1., 1., 1.])\n",
      "torch.Size([170982])\n",
      "GraphEmo(x=[414], edge_index=[2, 170982], edge_attr=[170982], y=42, movie='AfterTheRain', subject='01', timestamp_tr=308, adj=[414, 414])\n"
     ]
    },
    {
     "name": "stderr",
     "output_type": "stream",
     "text": [
      "/home/dalai/GNN_E/scripts/utils.py:26: UserWarning: To copy construct from a tensor, it is recommended to use sourceTensor.clone().detach() or sourceTensor.clone().detach().requires_grad_(True), rather than torch.tensor(sourceTensor).\n",
      "  edge_index = torch.tensor(adj.nonzero().t().contiguous(), dtype=torch.long)  # Shape: [2, num_edges]\n",
      "/home/dalai/GNN_E/scripts/utils.py:30: UserWarning: To copy construct from a tensor, it is recommended to use sourceTensor.clone().detach() or sourceTensor.clone().detach().requires_grad_(True), rather than torch.tensor(sourceTensor).\n",
      "  edge_attr = torch.tensor(adj[edge_index[0, :], edge_index[1, :]], dtype=torch.float)\n"
     ]
    },
    {
     "name": "stdout",
     "output_type": "stream",
     "text": [
      "Graph saved at: /home/dalai/GNN_E/data/processed/all_graphs/clique_singlefmri/AfterTheRain_01_308.pt\n",
      "\n",
      "\n",
      "01 - 308\n"
     ]
    },
    {
     "data": {
      "text/plain": [
       "'Shape DF of single sub of single timepoint : (414, 13)'"
      ]
     },
     "metadata": {},
     "output_type": "display_data"
    },
    {
     "name": "stdout",
     "output_type": "stream",
     "text": [
      "Shape adj matrix: torch.Size([414, 414])\n",
      "Label fo the current grpah: 34\n",
      "tensor([[  0,   0,   0,  ..., 413, 413, 413],\n",
      "        [  1,   2,   3,  ..., 410, 411, 412]])\n",
      "torch.Size([2, 170982])\n",
      "tensor([1., 1., 1.,  ..., 1., 1., 1.])\n",
      "torch.Size([170982])\n",
      "GraphEmo(x=[414], edge_index=[2, 170982], edge_attr=[170982], y=34, movie='AfterTheRain', subject='01', timestamp_tr=309, adj=[414, 414])\n"
     ]
    },
    {
     "name": "stderr",
     "output_type": "stream",
     "text": [
      "/home/dalai/GNN_E/scripts/utils.py:26: UserWarning: To copy construct from a tensor, it is recommended to use sourceTensor.clone().detach() or sourceTensor.clone().detach().requires_grad_(True), rather than torch.tensor(sourceTensor).\n",
      "  edge_index = torch.tensor(adj.nonzero().t().contiguous(), dtype=torch.long)  # Shape: [2, num_edges]\n",
      "/home/dalai/GNN_E/scripts/utils.py:30: UserWarning: To copy construct from a tensor, it is recommended to use sourceTensor.clone().detach() or sourceTensor.clone().detach().requires_grad_(True), rather than torch.tensor(sourceTensor).\n",
      "  edge_attr = torch.tensor(adj[edge_index[0, :], edge_index[1, :]], dtype=torch.float)\n"
     ]
    },
    {
     "name": "stdout",
     "output_type": "stream",
     "text": [
      "Graph saved at: /home/dalai/GNN_E/data/processed/all_graphs/clique_singlefmri/AfterTheRain_01_309.pt\n",
      "\n",
      "\n",
      "01 - 309\n"
     ]
    },
    {
     "data": {
      "text/plain": [
       "'Shape DF of single sub of single timepoint : (414, 13)'"
      ]
     },
     "metadata": {},
     "output_type": "display_data"
    },
    {
     "name": "stdout",
     "output_type": "stream",
     "text": [
      "Shape adj matrix: torch.Size([414, 414])\n",
      "Label fo the current grpah: 42\n",
      "tensor([[  0,   0,   0,  ..., 413, 413, 413],\n",
      "        [  1,   2,   3,  ..., 410, 411, 412]])\n",
      "torch.Size([2, 170982])\n",
      "tensor([1., 1., 1.,  ..., 1., 1., 1.])\n",
      "torch.Size([170982])\n",
      "GraphEmo(x=[414], edge_index=[2, 170982], edge_attr=[170982], y=42, movie='AfterTheRain', subject='01', timestamp_tr=310, adj=[414, 414])\n"
     ]
    },
    {
     "name": "stderr",
     "output_type": "stream",
     "text": [
      "/home/dalai/GNN_E/scripts/utils.py:26: UserWarning: To copy construct from a tensor, it is recommended to use sourceTensor.clone().detach() or sourceTensor.clone().detach().requires_grad_(True), rather than torch.tensor(sourceTensor).\n",
      "  edge_index = torch.tensor(adj.nonzero().t().contiguous(), dtype=torch.long)  # Shape: [2, num_edges]\n",
      "/home/dalai/GNN_E/scripts/utils.py:30: UserWarning: To copy construct from a tensor, it is recommended to use sourceTensor.clone().detach() or sourceTensor.clone().detach().requires_grad_(True), rather than torch.tensor(sourceTensor).\n",
      "  edge_attr = torch.tensor(adj[edge_index[0, :], edge_index[1, :]], dtype=torch.float)\n"
     ]
    },
    {
     "name": "stdout",
     "output_type": "stream",
     "text": [
      "Graph saved at: /home/dalai/GNN_E/data/processed/all_graphs/clique_singlefmri/AfterTheRain_01_310.pt\n",
      "\n",
      "\n",
      "01 - 310\n"
     ]
    },
    {
     "data": {
      "text/plain": [
       "'Shape DF of single sub of single timepoint : (414, 13)'"
      ]
     },
     "metadata": {},
     "output_type": "display_data"
    },
    {
     "name": "stdout",
     "output_type": "stream",
     "text": [
      "Shape adj matrix: torch.Size([414, 414])\n",
      "Label fo the current grpah: 42\n",
      "tensor([[  0,   0,   0,  ..., 413, 413, 413],\n",
      "        [  1,   2,   3,  ..., 410, 411, 412]])\n",
      "torch.Size([2, 170982])\n",
      "tensor([1., 1., 1.,  ..., 1., 1., 1.])\n",
      "torch.Size([170982])\n",
      "GraphEmo(x=[414], edge_index=[2, 170982], edge_attr=[170982], y=42, movie='AfterTheRain', subject='01', timestamp_tr=311, adj=[414, 414])\n"
     ]
    },
    {
     "name": "stderr",
     "output_type": "stream",
     "text": [
      "/home/dalai/GNN_E/scripts/utils.py:26: UserWarning: To copy construct from a tensor, it is recommended to use sourceTensor.clone().detach() or sourceTensor.clone().detach().requires_grad_(True), rather than torch.tensor(sourceTensor).\n",
      "  edge_index = torch.tensor(adj.nonzero().t().contiguous(), dtype=torch.long)  # Shape: [2, num_edges]\n",
      "/home/dalai/GNN_E/scripts/utils.py:30: UserWarning: To copy construct from a tensor, it is recommended to use sourceTensor.clone().detach() or sourceTensor.clone().detach().requires_grad_(True), rather than torch.tensor(sourceTensor).\n",
      "  edge_attr = torch.tensor(adj[edge_index[0, :], edge_index[1, :]], dtype=torch.float)\n"
     ]
    },
    {
     "name": "stdout",
     "output_type": "stream",
     "text": [
      "Graph saved at: /home/dalai/GNN_E/data/processed/all_graphs/clique_singlefmri/AfterTheRain_01_311.pt\n",
      "\n",
      "\n",
      "01 - 311\n"
     ]
    },
    {
     "data": {
      "text/plain": [
       "'Shape DF of single sub of single timepoint : (414, 13)'"
      ]
     },
     "metadata": {},
     "output_type": "display_data"
    },
    {
     "name": "stdout",
     "output_type": "stream",
     "text": [
      "Shape adj matrix: torch.Size([414, 414])\n",
      "Label fo the current grpah: 34\n",
      "tensor([[  0,   0,   0,  ..., 413, 413, 413],\n",
      "        [  1,   2,   3,  ..., 410, 411, 412]])\n",
      "torch.Size([2, 170982])\n",
      "tensor([1., 1., 1.,  ..., 1., 1., 1.])\n",
      "torch.Size([170982])\n",
      "GraphEmo(x=[414], edge_index=[2, 170982], edge_attr=[170982], y=34, movie='AfterTheRain', subject='01', timestamp_tr=312, adj=[414, 414])\n"
     ]
    },
    {
     "name": "stderr",
     "output_type": "stream",
     "text": [
      "/home/dalai/GNN_E/scripts/utils.py:26: UserWarning: To copy construct from a tensor, it is recommended to use sourceTensor.clone().detach() or sourceTensor.clone().detach().requires_grad_(True), rather than torch.tensor(sourceTensor).\n",
      "  edge_index = torch.tensor(adj.nonzero().t().contiguous(), dtype=torch.long)  # Shape: [2, num_edges]\n",
      "/home/dalai/GNN_E/scripts/utils.py:30: UserWarning: To copy construct from a tensor, it is recommended to use sourceTensor.clone().detach() or sourceTensor.clone().detach().requires_grad_(True), rather than torch.tensor(sourceTensor).\n",
      "  edge_attr = torch.tensor(adj[edge_index[0, :], edge_index[1, :]], dtype=torch.float)\n"
     ]
    },
    {
     "name": "stdout",
     "output_type": "stream",
     "text": [
      "Graph saved at: /home/dalai/GNN_E/data/processed/all_graphs/clique_singlefmri/AfterTheRain_01_312.pt\n",
      "\n",
      "\n",
      "01 - 312\n"
     ]
    },
    {
     "data": {
      "text/plain": [
       "'Shape DF of single sub of single timepoint : (414, 13)'"
      ]
     },
     "metadata": {},
     "output_type": "display_data"
    },
    {
     "name": "stdout",
     "output_type": "stream",
     "text": [
      "Shape adj matrix: torch.Size([414, 414])\n",
      "Label fo the current grpah: 34\n",
      "tensor([[  0,   0,   0,  ..., 413, 413, 413],\n",
      "        [  1,   2,   3,  ..., 410, 411, 412]])\n",
      "torch.Size([2, 170982])\n",
      "tensor([1., 1., 1.,  ..., 1., 1., 1.])\n",
      "torch.Size([170982])\n",
      "GraphEmo(x=[414], edge_index=[2, 170982], edge_attr=[170982], y=34, movie='AfterTheRain', subject='01', timestamp_tr=313, adj=[414, 414])\n",
      "Graph saved at: /home/dalai/GNN_E/data/processed/all_graphs/clique_singlefmri/AfterTheRain_01_313.pt"
     ]
    },
    {
     "name": "stderr",
     "output_type": "stream",
     "text": [
      "/home/dalai/GNN_E/scripts/utils.py:26: UserWarning: To copy construct from a tensor, it is recommended to use sourceTensor.clone().detach() or sourceTensor.clone().detach().requires_grad_(True), rather than torch.tensor(sourceTensor).\n",
      "  edge_index = torch.tensor(adj.nonzero().t().contiguous(), dtype=torch.long)  # Shape: [2, num_edges]\n",
      "/home/dalai/GNN_E/scripts/utils.py:30: UserWarning: To copy construct from a tensor, it is recommended to use sourceTensor.clone().detach() or sourceTensor.clone().detach().requires_grad_(True), rather than torch.tensor(sourceTensor).\n",
      "  edge_attr = torch.tensor(adj[edge_index[0, :], edge_index[1, :]], dtype=torch.float)\n"
     ]
    },
    {
     "name": "stdout",
     "output_type": "stream",
     "text": [
      "\n",
      "\n",
      "\n",
      "01 - 313\n"
     ]
    },
    {
     "data": {
      "text/plain": [
       "'Shape DF of single sub of single timepoint : (414, 13)'"
      ]
     },
     "metadata": {},
     "output_type": "display_data"
    },
    {
     "name": "stdout",
     "output_type": "stream",
     "text": [
      "Shape adj matrix: torch.Size([414, 414])\n",
      "Label fo the current grpah: 34\n",
      "tensor([[  0,   0,   0,  ..., 413, 413, 413],\n",
      "        [  1,   2,   3,  ..., 410, 411, 412]])\n",
      "torch.Size([2, 170982])\n",
      "tensor([1., 1., 1.,  ..., 1., 1., 1.])\n",
      "torch.Size([170982])\n",
      "GraphEmo(x=[414], edge_index=[2, 170982], edge_attr=[170982], y=34, movie='AfterTheRain', subject='01', timestamp_tr=314, adj=[414, 414])\n",
      "Graph saved at: /home/dalai/GNN_E/data/processed/all_graphs/clique_singlefmri/AfterTheRain_01_314.pt"
     ]
    },
    {
     "name": "stderr",
     "output_type": "stream",
     "text": [
      "/home/dalai/GNN_E/scripts/utils.py:26: UserWarning: To copy construct from a tensor, it is recommended to use sourceTensor.clone().detach() or sourceTensor.clone().detach().requires_grad_(True), rather than torch.tensor(sourceTensor).\n",
      "  edge_index = torch.tensor(adj.nonzero().t().contiguous(), dtype=torch.long)  # Shape: [2, num_edges]\n",
      "/home/dalai/GNN_E/scripts/utils.py:30: UserWarning: To copy construct from a tensor, it is recommended to use sourceTensor.clone().detach() or sourceTensor.clone().detach().requires_grad_(True), rather than torch.tensor(sourceTensor).\n",
      "  edge_attr = torch.tensor(adj[edge_index[0, :], edge_index[1, :]], dtype=torch.float)\n"
     ]
    },
    {
     "name": "stdout",
     "output_type": "stream",
     "text": [
      "\n",
      "\n",
      "\n",
      "01 - 314\n"
     ]
    },
    {
     "data": {
      "text/plain": [
       "'Shape DF of single sub of single timepoint : (414, 13)'"
      ]
     },
     "metadata": {},
     "output_type": "display_data"
    },
    {
     "name": "stdout",
     "output_type": "stream",
     "text": [
      "Shape adj matrix: torch.Size([414, 414])\n",
      "Label fo the current grpah: 34\n",
      "tensor([[  0,   0,   0,  ..., 413, 413, 413],\n",
      "        [  1,   2,   3,  ..., 410, 411, 412]])\n",
      "torch.Size([2, 170982])\n",
      "tensor([1., 1., 1.,  ..., 1., 1., 1.])\n",
      "torch.Size([170982])\n",
      "GraphEmo(x=[414], edge_index=[2, 170982], edge_attr=[170982], y=34, movie='AfterTheRain', subject='01', timestamp_tr=315, adj=[414, 414])\n",
      "Graph saved at: /home/dalai/GNN_E/data/processed/all_graphs/clique_singlefmri/AfterTheRain_01_315.pt"
     ]
    },
    {
     "name": "stderr",
     "output_type": "stream",
     "text": [
      "/home/dalai/GNN_E/scripts/utils.py:26: UserWarning: To copy construct from a tensor, it is recommended to use sourceTensor.clone().detach() or sourceTensor.clone().detach().requires_grad_(True), rather than torch.tensor(sourceTensor).\n",
      "  edge_index = torch.tensor(adj.nonzero().t().contiguous(), dtype=torch.long)  # Shape: [2, num_edges]\n",
      "/home/dalai/GNN_E/scripts/utils.py:30: UserWarning: To copy construct from a tensor, it is recommended to use sourceTensor.clone().detach() or sourceTensor.clone().detach().requires_grad_(True), rather than torch.tensor(sourceTensor).\n",
      "  edge_attr = torch.tensor(adj[edge_index[0, :], edge_index[1, :]], dtype=torch.float)\n"
     ]
    },
    {
     "name": "stdout",
     "output_type": "stream",
     "text": [
      "\n",
      "\n",
      "\n",
      "01 - 315\n"
     ]
    },
    {
     "data": {
      "text/plain": [
       "'Shape DF of single sub of single timepoint : (414, 13)'"
      ]
     },
     "metadata": {},
     "output_type": "display_data"
    },
    {
     "name": "stdout",
     "output_type": "stream",
     "text": [
      "Shape adj matrix: torch.Size([414, 414])\n",
      "Label fo the current grpah: 34\n",
      "tensor([[  0,   0,   0,  ..., 413, 413, 413],\n",
      "        [  1,   2,   3,  ..., 410, 411, 412]])\n",
      "torch.Size([2, 170982])\n",
      "tensor([1., 1., 1.,  ..., 1., 1., 1.])\n",
      "torch.Size([170982])\n",
      "GraphEmo(x=[414], edge_index=[2, 170982], edge_attr=[170982], y=34, movie='AfterTheRain', subject='01', timestamp_tr=316, adj=[414, 414])\n",
      "Graph saved at: /home/dalai/GNN_E/data/processed/all_graphs/clique_singlefmri/AfterTheRain_01_316.pt"
     ]
    },
    {
     "name": "stderr",
     "output_type": "stream",
     "text": [
      "/home/dalai/GNN_E/scripts/utils.py:26: UserWarning: To copy construct from a tensor, it is recommended to use sourceTensor.clone().detach() or sourceTensor.clone().detach().requires_grad_(True), rather than torch.tensor(sourceTensor).\n",
      "  edge_index = torch.tensor(adj.nonzero().t().contiguous(), dtype=torch.long)  # Shape: [2, num_edges]\n",
      "/home/dalai/GNN_E/scripts/utils.py:30: UserWarning: To copy construct from a tensor, it is recommended to use sourceTensor.clone().detach() or sourceTensor.clone().detach().requires_grad_(True), rather than torch.tensor(sourceTensor).\n",
      "  edge_attr = torch.tensor(adj[edge_index[0, :], edge_index[1, :]], dtype=torch.float)\n"
     ]
    },
    {
     "name": "stdout",
     "output_type": "stream",
     "text": [
      "\n",
      "\n",
      "\n",
      "01 - 316\n"
     ]
    },
    {
     "data": {
      "text/plain": [
       "'Shape DF of single sub of single timepoint : (414, 13)'"
      ]
     },
     "metadata": {},
     "output_type": "display_data"
    },
    {
     "name": "stdout",
     "output_type": "stream",
     "text": [
      "Shape adj matrix: torch.Size([414, 414])\n",
      "Label fo the current grpah: 34\n",
      "tensor([[  0,   0,   0,  ..., 413, 413, 413],\n",
      "        [  1,   2,   3,  ..., 410, 411, 412]])\n",
      "torch.Size([2, 170982])\n",
      "tensor([1., 1., 1.,  ..., 1., 1., 1.])\n",
      "torch.Size([170982])\n",
      "GraphEmo(x=[414], edge_index=[2, 170982], edge_attr=[170982], y=34, movie='AfterTheRain', subject='01', timestamp_tr=317, adj=[414, 414])\n",
      "Graph saved at: /home/dalai/GNN_E/data/processed/all_graphs/clique_singlefmri/AfterTheRain_01_317.pt"
     ]
    },
    {
     "name": "stderr",
     "output_type": "stream",
     "text": [
      "/home/dalai/GNN_E/scripts/utils.py:26: UserWarning: To copy construct from a tensor, it is recommended to use sourceTensor.clone().detach() or sourceTensor.clone().detach().requires_grad_(True), rather than torch.tensor(sourceTensor).\n",
      "  edge_index = torch.tensor(adj.nonzero().t().contiguous(), dtype=torch.long)  # Shape: [2, num_edges]\n",
      "/home/dalai/GNN_E/scripts/utils.py:30: UserWarning: To copy construct from a tensor, it is recommended to use sourceTensor.clone().detach() or sourceTensor.clone().detach().requires_grad_(True), rather than torch.tensor(sourceTensor).\n",
      "  edge_attr = torch.tensor(adj[edge_index[0, :], edge_index[1, :]], dtype=torch.float)\n"
     ]
    },
    {
     "name": "stdout",
     "output_type": "stream",
     "text": [
      "\n",
      "\n",
      "\n",
      "01 - 317\n"
     ]
    },
    {
     "data": {
      "text/plain": [
       "'Shape DF of single sub of single timepoint : (414, 13)'"
      ]
     },
     "metadata": {},
     "output_type": "display_data"
    },
    {
     "name": "stdout",
     "output_type": "stream",
     "text": [
      "Shape adj matrix: torch.Size([414, 414])\n",
      "Label fo the current grpah: 42\n",
      "tensor([[  0,   0,   0,  ..., 413, 413, 413],\n",
      "        [  1,   2,   3,  ..., 410, 411, 412]])\n",
      "torch.Size([2, 170982])\n",
      "tensor([1., 1., 1.,  ..., 1., 1., 1.])\n",
      "torch.Size([170982])\n",
      "GraphEmo(x=[414], edge_index=[2, 170982], edge_attr=[170982], y=42, movie='AfterTheRain', subject='01', timestamp_tr=318, adj=[414, 414])\n"
     ]
    },
    {
     "name": "stderr",
     "output_type": "stream",
     "text": [
      "/home/dalai/GNN_E/scripts/utils.py:26: UserWarning: To copy construct from a tensor, it is recommended to use sourceTensor.clone().detach() or sourceTensor.clone().detach().requires_grad_(True), rather than torch.tensor(sourceTensor).\n",
      "  edge_index = torch.tensor(adj.nonzero().t().contiguous(), dtype=torch.long)  # Shape: [2, num_edges]\n",
      "/home/dalai/GNN_E/scripts/utils.py:30: UserWarning: To copy construct from a tensor, it is recommended to use sourceTensor.clone().detach() or sourceTensor.clone().detach().requires_grad_(True), rather than torch.tensor(sourceTensor).\n",
      "  edge_attr = torch.tensor(adj[edge_index[0, :], edge_index[1, :]], dtype=torch.float)\n"
     ]
    },
    {
     "name": "stdout",
     "output_type": "stream",
     "text": [
      "Graph saved at: /home/dalai/GNN_E/data/processed/all_graphs/clique_singlefmri/AfterTheRain_01_318.pt\n",
      "\n",
      "\n",
      "01 - 318\n"
     ]
    },
    {
     "data": {
      "text/plain": [
       "'Shape DF of single sub of single timepoint : (414, 13)'"
      ]
     },
     "metadata": {},
     "output_type": "display_data"
    },
    {
     "name": "stdout",
     "output_type": "stream",
     "text": [
      "Shape adj matrix: torch.Size([414, 414])\n",
      "Label fo the current grpah: 42\n",
      "tensor([[  0,   0,   0,  ..., 413, 413, 413],\n",
      "        [  1,   2,   3,  ..., 410, 411, 412]])\n",
      "torch.Size([2, 170982])\n",
      "tensor([1., 1., 1.,  ..., 1., 1., 1.])\n",
      "torch.Size([170982])\n",
      "GraphEmo(x=[414], edge_index=[2, 170982], edge_attr=[170982], y=42, movie='AfterTheRain', subject='01', timestamp_tr=319, adj=[414, 414])\n",
      "Graph saved at: /home/dalai/GNN_E/data/processed/all_graphs/clique_singlefmri/AfterTheRain_01_319.pt"
     ]
    },
    {
     "name": "stderr",
     "output_type": "stream",
     "text": [
      "/home/dalai/GNN_E/scripts/utils.py:26: UserWarning: To copy construct from a tensor, it is recommended to use sourceTensor.clone().detach() or sourceTensor.clone().detach().requires_grad_(True), rather than torch.tensor(sourceTensor).\n",
      "  edge_index = torch.tensor(adj.nonzero().t().contiguous(), dtype=torch.long)  # Shape: [2, num_edges]\n",
      "/home/dalai/GNN_E/scripts/utils.py:30: UserWarning: To copy construct from a tensor, it is recommended to use sourceTensor.clone().detach() or sourceTensor.clone().detach().requires_grad_(True), rather than torch.tensor(sourceTensor).\n",
      "  edge_attr = torch.tensor(adj[edge_index[0, :], edge_index[1, :]], dtype=torch.float)\n"
     ]
    },
    {
     "name": "stdout",
     "output_type": "stream",
     "text": [
      "\n",
      "\n",
      "\n",
      "01 - 319\n"
     ]
    },
    {
     "data": {
      "text/plain": [
       "'Shape DF of single sub of single timepoint : (414, 13)'"
      ]
     },
     "metadata": {},
     "output_type": "display_data"
    },
    {
     "name": "stdout",
     "output_type": "stream",
     "text": [
      "Shape adj matrix: torch.Size([414, 414])\n",
      "Label fo the current grpah: 34\n",
      "tensor([[  0,   0,   0,  ..., 413, 413, 413],\n",
      "        [  1,   2,   3,  ..., 410, 411, 412]])\n",
      "torch.Size([2, 170982])\n",
      "tensor([1., 1., 1.,  ..., 1., 1., 1.])\n",
      "torch.Size([170982])\n",
      "GraphEmo(x=[414], edge_index=[2, 170982], edge_attr=[170982], y=34, movie='AfterTheRain', subject='01', timestamp_tr=320, adj=[414, 414])\n",
      "Graph saved at: /home/dalai/GNN_E/data/processed/all_graphs/clique_singlefmri/AfterTheRain_01_320.pt"
     ]
    },
    {
     "name": "stderr",
     "output_type": "stream",
     "text": [
      "/home/dalai/GNN_E/scripts/utils.py:26: UserWarning: To copy construct from a tensor, it is recommended to use sourceTensor.clone().detach() or sourceTensor.clone().detach().requires_grad_(True), rather than torch.tensor(sourceTensor).\n",
      "  edge_index = torch.tensor(adj.nonzero().t().contiguous(), dtype=torch.long)  # Shape: [2, num_edges]\n",
      "/home/dalai/GNN_E/scripts/utils.py:30: UserWarning: To copy construct from a tensor, it is recommended to use sourceTensor.clone().detach() or sourceTensor.clone().detach().requires_grad_(True), rather than torch.tensor(sourceTensor).\n",
      "  edge_attr = torch.tensor(adj[edge_index[0, :], edge_index[1, :]], dtype=torch.float)\n"
     ]
    },
    {
     "name": "stdout",
     "output_type": "stream",
     "text": [
      "\n",
      "\n",
      "\n",
      "01 - 320\n"
     ]
    },
    {
     "data": {
      "text/plain": [
       "'Shape DF of single sub of single timepoint : (414, 13)'"
      ]
     },
     "metadata": {},
     "output_type": "display_data"
    },
    {
     "name": "stdout",
     "output_type": "stream",
     "text": [
      "Shape adj matrix: torch.Size([414, 414])\n",
      "Label fo the current grpah: 34\n",
      "tensor([[  0,   0,   0,  ..., 413, 413, 413],\n",
      "        [  1,   2,   3,  ..., 410, 411, 412]])\n",
      "torch.Size([2, 170982])\n",
      "tensor([1., 1., 1.,  ..., 1., 1., 1.])\n",
      "torch.Size([170982])\n",
      "GraphEmo(x=[414], edge_index=[2, 170982], edge_attr=[170982], y=34, movie='AfterTheRain', subject='01', timestamp_tr=321, adj=[414, 414])\n",
      "Graph saved at: /home/dalai/GNN_E/data/processed/all_graphs/clique_singlefmri/AfterTheRain_01_321.pt"
     ]
    },
    {
     "name": "stderr",
     "output_type": "stream",
     "text": [
      "/home/dalai/GNN_E/scripts/utils.py:26: UserWarning: To copy construct from a tensor, it is recommended to use sourceTensor.clone().detach() or sourceTensor.clone().detach().requires_grad_(True), rather than torch.tensor(sourceTensor).\n",
      "  edge_index = torch.tensor(adj.nonzero().t().contiguous(), dtype=torch.long)  # Shape: [2, num_edges]\n",
      "/home/dalai/GNN_E/scripts/utils.py:30: UserWarning: To copy construct from a tensor, it is recommended to use sourceTensor.clone().detach() or sourceTensor.clone().detach().requires_grad_(True), rather than torch.tensor(sourceTensor).\n",
      "  edge_attr = torch.tensor(adj[edge_index[0, :], edge_index[1, :]], dtype=torch.float)\n"
     ]
    },
    {
     "name": "stdout",
     "output_type": "stream",
     "text": [
      "\n",
      "\n",
      "\n",
      "01 - 321\n"
     ]
    },
    {
     "data": {
      "text/plain": [
       "'Shape DF of single sub of single timepoint : (414, 13)'"
      ]
     },
     "metadata": {},
     "output_type": "display_data"
    },
    {
     "name": "stdout",
     "output_type": "stream",
     "text": [
      "Shape adj matrix: torch.Size([414, 414])\n",
      "Label fo the current grpah: 34\n",
      "tensor([[  0,   0,   0,  ..., 413, 413, 413],\n",
      "        [  1,   2,   3,  ..., 410, 411, 412]])\n",
      "torch.Size([2, 170982])\n",
      "tensor([1., 1., 1.,  ..., 1., 1., 1.])\n",
      "torch.Size([170982])\n",
      "GraphEmo(x=[414], edge_index=[2, 170982], edge_attr=[170982], y=34, movie='AfterTheRain', subject='01', timestamp_tr=322, adj=[414, 414])\n"
     ]
    },
    {
     "name": "stderr",
     "output_type": "stream",
     "text": [
      "/home/dalai/GNN_E/scripts/utils.py:26: UserWarning: To copy construct from a tensor, it is recommended to use sourceTensor.clone().detach() or sourceTensor.clone().detach().requires_grad_(True), rather than torch.tensor(sourceTensor).\n",
      "  edge_index = torch.tensor(adj.nonzero().t().contiguous(), dtype=torch.long)  # Shape: [2, num_edges]\n",
      "/home/dalai/GNN_E/scripts/utils.py:30: UserWarning: To copy construct from a tensor, it is recommended to use sourceTensor.clone().detach() or sourceTensor.clone().detach().requires_grad_(True), rather than torch.tensor(sourceTensor).\n",
      "  edge_attr = torch.tensor(adj[edge_index[0, :], edge_index[1, :]], dtype=torch.float)\n"
     ]
    },
    {
     "name": "stdout",
     "output_type": "stream",
     "text": [
      "Graph saved at: /home/dalai/GNN_E/data/processed/all_graphs/clique_singlefmri/AfterTheRain_01_322.pt\n",
      "\n",
      "\n",
      "01 - 322\n"
     ]
    },
    {
     "data": {
      "text/plain": [
       "'Shape DF of single sub of single timepoint : (414, 13)'"
      ]
     },
     "metadata": {},
     "output_type": "display_data"
    },
    {
     "name": "stdout",
     "output_type": "stream",
     "text": [
      "Shape adj matrix: torch.Size([414, 414])\n",
      "Label fo the current grpah: 34\n",
      "tensor([[  0,   0,   0,  ..., 413, 413, 413],\n",
      "        [  1,   2,   3,  ..., 410, 411, 412]])\n",
      "torch.Size([2, 170982])\n",
      "tensor([1., 1., 1.,  ..., 1., 1., 1.])\n",
      "torch.Size([170982])\n",
      "GraphEmo(x=[414], edge_index=[2, 170982], edge_attr=[170982], y=34, movie='AfterTheRain', subject='01', timestamp_tr=323, adj=[414, 414])\n",
      "Graph saved at: /home/dalai/GNN_E/data/processed/all_graphs/clique_singlefmri/AfterTheRain_01_323.pt"
     ]
    },
    {
     "name": "stderr",
     "output_type": "stream",
     "text": [
      "/home/dalai/GNN_E/scripts/utils.py:26: UserWarning: To copy construct from a tensor, it is recommended to use sourceTensor.clone().detach() or sourceTensor.clone().detach().requires_grad_(True), rather than torch.tensor(sourceTensor).\n",
      "  edge_index = torch.tensor(adj.nonzero().t().contiguous(), dtype=torch.long)  # Shape: [2, num_edges]\n",
      "/home/dalai/GNN_E/scripts/utils.py:30: UserWarning: To copy construct from a tensor, it is recommended to use sourceTensor.clone().detach() or sourceTensor.clone().detach().requires_grad_(True), rather than torch.tensor(sourceTensor).\n",
      "  edge_attr = torch.tensor(adj[edge_index[0, :], edge_index[1, :]], dtype=torch.float)\n"
     ]
    },
    {
     "name": "stdout",
     "output_type": "stream",
     "text": [
      "\n",
      "\n",
      "\n",
      "01 - 323\n"
     ]
    },
    {
     "data": {
      "text/plain": [
       "'Shape DF of single sub of single timepoint : (414, 13)'"
      ]
     },
     "metadata": {},
     "output_type": "display_data"
    },
    {
     "name": "stdout",
     "output_type": "stream",
     "text": [
      "Shape adj matrix: torch.Size([414, 414])\n",
      "Label fo the current grpah: 34\n",
      "tensor([[  0,   0,   0,  ..., 413, 413, 413],\n",
      "        [  1,   2,   3,  ..., 410, 411, 412]])\n",
      "torch.Size([2, 170982])\n",
      "tensor([1., 1., 1.,  ..., 1., 1., 1.])\n",
      "torch.Size([170982])\n",
      "GraphEmo(x=[414], edge_index=[2, 170982], edge_attr=[170982], y=34, movie='AfterTheRain', subject='01', timestamp_tr=324, adj=[414, 414])\n",
      "Graph saved at: /home/dalai/GNN_E/data/processed/all_graphs/clique_singlefmri/AfterTheRain_01_324.pt"
     ]
    },
    {
     "name": "stderr",
     "output_type": "stream",
     "text": [
      "/home/dalai/GNN_E/scripts/utils.py:26: UserWarning: To copy construct from a tensor, it is recommended to use sourceTensor.clone().detach() or sourceTensor.clone().detach().requires_grad_(True), rather than torch.tensor(sourceTensor).\n",
      "  edge_index = torch.tensor(adj.nonzero().t().contiguous(), dtype=torch.long)  # Shape: [2, num_edges]\n",
      "/home/dalai/GNN_E/scripts/utils.py:30: UserWarning: To copy construct from a tensor, it is recommended to use sourceTensor.clone().detach() or sourceTensor.clone().detach().requires_grad_(True), rather than torch.tensor(sourceTensor).\n",
      "  edge_attr = torch.tensor(adj[edge_index[0, :], edge_index[1, :]], dtype=torch.float)\n"
     ]
    },
    {
     "name": "stdout",
     "output_type": "stream",
     "text": [
      "\n",
      "\n",
      "\n",
      "01 - 324\n"
     ]
    },
    {
     "data": {
      "text/plain": [
       "'Shape DF of single sub of single timepoint : (414, 13)'"
      ]
     },
     "metadata": {},
     "output_type": "display_data"
    },
    {
     "name": "stdout",
     "output_type": "stream",
     "text": [
      "Shape adj matrix: torch.Size([414, 414])\n",
      "Label fo the current grpah: 34\n",
      "tensor([[  0,   0,   0,  ..., 413, 413, 413],\n",
      "        [  1,   2,   3,  ..., 410, 411, 412]])\n",
      "torch.Size([2, 170982])\n",
      "tensor([1., 1., 1.,  ..., 1., 1., 1.])\n",
      "torch.Size([170982])\n",
      "GraphEmo(x=[414], edge_index=[2, 170982], edge_attr=[170982], y=34, movie='AfterTheRain', subject='01', timestamp_tr=325, adj=[414, 414])\n",
      "Graph saved at: /home/dalai/GNN_E/data/processed/all_graphs/clique_singlefmri/AfterTheRain_01_325.pt"
     ]
    },
    {
     "name": "stderr",
     "output_type": "stream",
     "text": [
      "/home/dalai/GNN_E/scripts/utils.py:26: UserWarning: To copy construct from a tensor, it is recommended to use sourceTensor.clone().detach() or sourceTensor.clone().detach().requires_grad_(True), rather than torch.tensor(sourceTensor).\n",
      "  edge_index = torch.tensor(adj.nonzero().t().contiguous(), dtype=torch.long)  # Shape: [2, num_edges]\n",
      "/home/dalai/GNN_E/scripts/utils.py:30: UserWarning: To copy construct from a tensor, it is recommended to use sourceTensor.clone().detach() or sourceTensor.clone().detach().requires_grad_(True), rather than torch.tensor(sourceTensor).\n",
      "  edge_attr = torch.tensor(adj[edge_index[0, :], edge_index[1, :]], dtype=torch.float)\n"
     ]
    },
    {
     "name": "stdout",
     "output_type": "stream",
     "text": [
      "\n",
      "\n",
      "\n",
      "01 - 325\n"
     ]
    },
    {
     "data": {
      "text/plain": [
       "'Shape DF of single sub of single timepoint : (414, 13)'"
      ]
     },
     "metadata": {},
     "output_type": "display_data"
    },
    {
     "name": "stdout",
     "output_type": "stream",
     "text": [
      "Shape adj matrix: torch.Size([414, 414])\n",
      "Label fo the current grpah: 34\n",
      "tensor([[  0,   0,   0,  ..., 413, 413, 413],\n",
      "        [  1,   2,   3,  ..., 410, 411, 412]])\n",
      "torch.Size([2, 170982])\n",
      "tensor([1., 1., 1.,  ..., 1., 1., 1.])\n",
      "torch.Size([170982])\n",
      "GraphEmo(x=[414], edge_index=[2, 170982], edge_attr=[170982], y=34, movie='AfterTheRain', subject='01', timestamp_tr=326, adj=[414, 414])\n",
      "Graph saved at: /home/dalai/GNN_E/data/processed/all_graphs/clique_singlefmri/AfterTheRain_01_326.pt"
     ]
    },
    {
     "name": "stderr",
     "output_type": "stream",
     "text": [
      "/home/dalai/GNN_E/scripts/utils.py:26: UserWarning: To copy construct from a tensor, it is recommended to use sourceTensor.clone().detach() or sourceTensor.clone().detach().requires_grad_(True), rather than torch.tensor(sourceTensor).\n",
      "  edge_index = torch.tensor(adj.nonzero().t().contiguous(), dtype=torch.long)  # Shape: [2, num_edges]\n",
      "/home/dalai/GNN_E/scripts/utils.py:30: UserWarning: To copy construct from a tensor, it is recommended to use sourceTensor.clone().detach() or sourceTensor.clone().detach().requires_grad_(True), rather than torch.tensor(sourceTensor).\n",
      "  edge_attr = torch.tensor(adj[edge_index[0, :], edge_index[1, :]], dtype=torch.float)\n"
     ]
    },
    {
     "name": "stdout",
     "output_type": "stream",
     "text": [
      "\n",
      "\n",
      "\n",
      "01 - 326\n"
     ]
    },
    {
     "data": {
      "text/plain": [
       "'Shape DF of single sub of single timepoint : (414, 13)'"
      ]
     },
     "metadata": {},
     "output_type": "display_data"
    },
    {
     "name": "stdout",
     "output_type": "stream",
     "text": [
      "Shape adj matrix: torch.Size([414, 414])\n",
      "Label fo the current grpah: 34\n",
      "tensor([[  0,   0,   0,  ..., 413, 413, 413],\n",
      "        [  1,   2,   3,  ..., 410, 411, 412]])\n",
      "torch.Size([2, 170982])\n",
      "tensor([1., 1., 1.,  ..., 1., 1., 1.])\n",
      "torch.Size([170982])\n",
      "GraphEmo(x=[414], edge_index=[2, 170982], edge_attr=[170982], y=34, movie='AfterTheRain', subject='01', timestamp_tr=327, adj=[414, 414])\n",
      "Graph saved at: /home/dalai/GNN_E/data/processed/all_graphs/clique_singlefmri/AfterTheRain_01_327.pt"
     ]
    },
    {
     "name": "stderr",
     "output_type": "stream",
     "text": [
      "/home/dalai/GNN_E/scripts/utils.py:26: UserWarning: To copy construct from a tensor, it is recommended to use sourceTensor.clone().detach() or sourceTensor.clone().detach().requires_grad_(True), rather than torch.tensor(sourceTensor).\n",
      "  edge_index = torch.tensor(adj.nonzero().t().contiguous(), dtype=torch.long)  # Shape: [2, num_edges]\n",
      "/home/dalai/GNN_E/scripts/utils.py:30: UserWarning: To copy construct from a tensor, it is recommended to use sourceTensor.clone().detach() or sourceTensor.clone().detach().requires_grad_(True), rather than torch.tensor(sourceTensor).\n",
      "  edge_attr = torch.tensor(adj[edge_index[0, :], edge_index[1, :]], dtype=torch.float)\n"
     ]
    },
    {
     "name": "stdout",
     "output_type": "stream",
     "text": [
      "\n",
      "\n",
      "\n",
      "01 - 327\n"
     ]
    },
    {
     "data": {
      "text/plain": [
       "'Shape DF of single sub of single timepoint : (414, 13)'"
      ]
     },
     "metadata": {},
     "output_type": "display_data"
    },
    {
     "name": "stdout",
     "output_type": "stream",
     "text": [
      "Shape adj matrix: torch.Size([414, 414])\n",
      "Label fo the current grpah: 34\n",
      "tensor([[  0,   0,   0,  ..., 413, 413, 413],\n",
      "        [  1,   2,   3,  ..., 410, 411, 412]])\n",
      "torch.Size([2, 170982])\n",
      "tensor([1., 1., 1.,  ..., 1., 1., 1.])\n",
      "torch.Size([170982])\n",
      "GraphEmo(x=[414], edge_index=[2, 170982], edge_attr=[170982], y=34, movie='AfterTheRain', subject='01', timestamp_tr=328, adj=[414, 414])\n",
      "Graph saved at: /home/dalai/GNN_E/data/processed/all_graphs/clique_singlefmri/AfterTheRain_01_328.pt"
     ]
    },
    {
     "name": "stderr",
     "output_type": "stream",
     "text": [
      "/home/dalai/GNN_E/scripts/utils.py:26: UserWarning: To copy construct from a tensor, it is recommended to use sourceTensor.clone().detach() or sourceTensor.clone().detach().requires_grad_(True), rather than torch.tensor(sourceTensor).\n",
      "  edge_index = torch.tensor(adj.nonzero().t().contiguous(), dtype=torch.long)  # Shape: [2, num_edges]\n",
      "/home/dalai/GNN_E/scripts/utils.py:30: UserWarning: To copy construct from a tensor, it is recommended to use sourceTensor.clone().detach() or sourceTensor.clone().detach().requires_grad_(True), rather than torch.tensor(sourceTensor).\n",
      "  edge_attr = torch.tensor(adj[edge_index[0, :], edge_index[1, :]], dtype=torch.float)\n"
     ]
    },
    {
     "name": "stdout",
     "output_type": "stream",
     "text": [
      "\n",
      "\n",
      "\n",
      "01 - 328\n"
     ]
    },
    {
     "data": {
      "text/plain": [
       "'Shape DF of single sub of single timepoint : (414, 13)'"
      ]
     },
     "metadata": {},
     "output_type": "display_data"
    },
    {
     "name": "stdout",
     "output_type": "stream",
     "text": [
      "Shape adj matrix: torch.Size([414, 414])\n",
      "Label fo the current grpah: 34\n",
      "tensor([[  0,   0,   0,  ..., 413, 413, 413],\n",
      "        [  1,   2,   3,  ..., 410, 411, 412]])\n",
      "torch.Size([2, 170982])\n",
      "tensor([1., 1., 1.,  ..., 1., 1., 1.])\n",
      "torch.Size([170982])\n",
      "GraphEmo(x=[414], edge_index=[2, 170982], edge_attr=[170982], y=34, movie='AfterTheRain', subject='01', timestamp_tr=329, adj=[414, 414])\n"
     ]
    },
    {
     "name": "stderr",
     "output_type": "stream",
     "text": [
      "/home/dalai/GNN_E/scripts/utils.py:26: UserWarning: To copy construct from a tensor, it is recommended to use sourceTensor.clone().detach() or sourceTensor.clone().detach().requires_grad_(True), rather than torch.tensor(sourceTensor).\n",
      "  edge_index = torch.tensor(adj.nonzero().t().contiguous(), dtype=torch.long)  # Shape: [2, num_edges]\n",
      "/home/dalai/GNN_E/scripts/utils.py:30: UserWarning: To copy construct from a tensor, it is recommended to use sourceTensor.clone().detach() or sourceTensor.clone().detach().requires_grad_(True), rather than torch.tensor(sourceTensor).\n",
      "  edge_attr = torch.tensor(adj[edge_index[0, :], edge_index[1, :]], dtype=torch.float)\n"
     ]
    },
    {
     "name": "stdout",
     "output_type": "stream",
     "text": [
      "Graph saved at: /home/dalai/GNN_E/data/processed/all_graphs/clique_singlefmri/AfterTheRain_01_329.pt\n",
      "\n",
      "\n",
      "01 - 329\n"
     ]
    },
    {
     "data": {
      "text/plain": [
       "'Shape DF of single sub of single timepoint : (414, 13)'"
      ]
     },
     "metadata": {},
     "output_type": "display_data"
    },
    {
     "name": "stdout",
     "output_type": "stream",
     "text": [
      "Shape adj matrix: torch.Size([414, 414])\n",
      "Label fo the current grpah: 34\n",
      "tensor([[  0,   0,   0,  ..., 413, 413, 413],\n",
      "        [  1,   2,   3,  ..., 410, 411, 412]])\n",
      "torch.Size([2, 170982])\n",
      "tensor([1., 1., 1.,  ..., 1., 1., 1.])\n",
      "torch.Size([170982])\n",
      "GraphEmo(x=[414], edge_index=[2, 170982], edge_attr=[170982], y=34, movie='AfterTheRain', subject='01', timestamp_tr=330, adj=[414, 414])\n",
      "Graph saved at: /home/dalai/GNN_E/data/processed/all_graphs/clique_singlefmri/AfterTheRain_01_330.pt"
     ]
    },
    {
     "name": "stderr",
     "output_type": "stream",
     "text": [
      "/home/dalai/GNN_E/scripts/utils.py:26: UserWarning: To copy construct from a tensor, it is recommended to use sourceTensor.clone().detach() or sourceTensor.clone().detach().requires_grad_(True), rather than torch.tensor(sourceTensor).\n",
      "  edge_index = torch.tensor(adj.nonzero().t().contiguous(), dtype=torch.long)  # Shape: [2, num_edges]\n",
      "/home/dalai/GNN_E/scripts/utils.py:30: UserWarning: To copy construct from a tensor, it is recommended to use sourceTensor.clone().detach() or sourceTensor.clone().detach().requires_grad_(True), rather than torch.tensor(sourceTensor).\n",
      "  edge_attr = torch.tensor(adj[edge_index[0, :], edge_index[1, :]], dtype=torch.float)\n"
     ]
    },
    {
     "name": "stdout",
     "output_type": "stream",
     "text": [
      "\n",
      "\n",
      "\n",
      "01 - 330\n"
     ]
    },
    {
     "data": {
      "text/plain": [
       "'Shape DF of single sub of single timepoint : (414, 13)'"
      ]
     },
     "metadata": {},
     "output_type": "display_data"
    },
    {
     "name": "stdout",
     "output_type": "stream",
     "text": [
      "Shape adj matrix: torch.Size([414, 414])\n",
      "Label fo the current grpah: 49\n",
      "tensor([[  0,   0,   0,  ..., 413, 413, 413],\n",
      "        [  1,   2,   3,  ..., 410, 411, 412]])\n",
      "torch.Size([2, 170982])\n",
      "tensor([1., 1., 1.,  ..., 1., 1., 1.])\n",
      "torch.Size([170982])\n",
      "GraphEmo(x=[414], edge_index=[2, 170982], edge_attr=[170982], y=49, movie='AfterTheRain', subject='01', timestamp_tr=331, adj=[414, 414])\n",
      "Graph saved at: /home/dalai/GNN_E/data/processed/all_graphs/clique_singlefmri/AfterTheRain_01_331.pt"
     ]
    },
    {
     "name": "stderr",
     "output_type": "stream",
     "text": [
      "/home/dalai/GNN_E/scripts/utils.py:26: UserWarning: To copy construct from a tensor, it is recommended to use sourceTensor.clone().detach() or sourceTensor.clone().detach().requires_grad_(True), rather than torch.tensor(sourceTensor).\n",
      "  edge_index = torch.tensor(adj.nonzero().t().contiguous(), dtype=torch.long)  # Shape: [2, num_edges]\n",
      "/home/dalai/GNN_E/scripts/utils.py:30: UserWarning: To copy construct from a tensor, it is recommended to use sourceTensor.clone().detach() or sourceTensor.clone().detach().requires_grad_(True), rather than torch.tensor(sourceTensor).\n",
      "  edge_attr = torch.tensor(adj[edge_index[0, :], edge_index[1, :]], dtype=torch.float)\n"
     ]
    },
    {
     "name": "stdout",
     "output_type": "stream",
     "text": [
      "\n",
      "\n",
      "\n",
      "01 - 331\n"
     ]
    },
    {
     "data": {
      "text/plain": [
       "'Shape DF of single sub of single timepoint : (414, 13)'"
      ]
     },
     "metadata": {},
     "output_type": "display_data"
    },
    {
     "name": "stdout",
     "output_type": "stream",
     "text": [
      "Shape adj matrix: torch.Size([414, 414])\n",
      "Label fo the current grpah: 49\n",
      "tensor([[  0,   0,   0,  ..., 413, 413, 413],\n",
      "        [  1,   2,   3,  ..., 410, 411, 412]])\n",
      "torch.Size([2, 170982])\n",
      "tensor([1., 1., 1.,  ..., 1., 1., 1.])\n",
      "torch.Size([170982])\n",
      "GraphEmo(x=[414], edge_index=[2, 170982], edge_attr=[170982], y=49, movie='AfterTheRain', subject='01', timestamp_tr=332, adj=[414, 414])\n",
      "Graph saved at: /home/dalai/GNN_E/data/processed/all_graphs/clique_singlefmri/AfterTheRain_01_332.pt"
     ]
    },
    {
     "name": "stderr",
     "output_type": "stream",
     "text": [
      "/home/dalai/GNN_E/scripts/utils.py:26: UserWarning: To copy construct from a tensor, it is recommended to use sourceTensor.clone().detach() or sourceTensor.clone().detach().requires_grad_(True), rather than torch.tensor(sourceTensor).\n",
      "  edge_index = torch.tensor(adj.nonzero().t().contiguous(), dtype=torch.long)  # Shape: [2, num_edges]\n",
      "/home/dalai/GNN_E/scripts/utils.py:30: UserWarning: To copy construct from a tensor, it is recommended to use sourceTensor.clone().detach() or sourceTensor.clone().detach().requires_grad_(True), rather than torch.tensor(sourceTensor).\n",
      "  edge_attr = torch.tensor(adj[edge_index[0, :], edge_index[1, :]], dtype=torch.float)\n"
     ]
    },
    {
     "name": "stdout",
     "output_type": "stream",
     "text": [
      "\n",
      "\n",
      "\n",
      "01 - 332\n"
     ]
    },
    {
     "data": {
      "text/plain": [
       "'Shape DF of single sub of single timepoint : (414, 13)'"
      ]
     },
     "metadata": {},
     "output_type": "display_data"
    },
    {
     "name": "stdout",
     "output_type": "stream",
     "text": [
      "Shape adj matrix: torch.Size([414, 414])\n",
      "Label fo the current grpah: 49\n",
      "tensor([[  0,   0,   0,  ..., 413, 413, 413],\n",
      "        [  1,   2,   3,  ..., 410, 411, 412]])\n",
      "torch.Size([2, 170982])\n",
      "tensor([1., 1., 1.,  ..., 1., 1., 1.])\n",
      "torch.Size([170982])\n",
      "GraphEmo(x=[414], edge_index=[2, 170982], edge_attr=[170982], y=49, movie='AfterTheRain', subject='01', timestamp_tr=333, adj=[414, 414])\n",
      "Graph saved at: /home/dalai/GNN_E/data/processed/all_graphs/clique_singlefmri/AfterTheRain_01_333.pt"
     ]
    },
    {
     "name": "stderr",
     "output_type": "stream",
     "text": [
      "/home/dalai/GNN_E/scripts/utils.py:26: UserWarning: To copy construct from a tensor, it is recommended to use sourceTensor.clone().detach() or sourceTensor.clone().detach().requires_grad_(True), rather than torch.tensor(sourceTensor).\n",
      "  edge_index = torch.tensor(adj.nonzero().t().contiguous(), dtype=torch.long)  # Shape: [2, num_edges]\n",
      "/home/dalai/GNN_E/scripts/utils.py:30: UserWarning: To copy construct from a tensor, it is recommended to use sourceTensor.clone().detach() or sourceTensor.clone().detach().requires_grad_(True), rather than torch.tensor(sourceTensor).\n",
      "  edge_attr = torch.tensor(adj[edge_index[0, :], edge_index[1, :]], dtype=torch.float)\n"
     ]
    },
    {
     "name": "stdout",
     "output_type": "stream",
     "text": [
      "\n",
      "\n",
      "\n",
      "01 - 333\n"
     ]
    },
    {
     "data": {
      "text/plain": [
       "'Shape DF of single sub of single timepoint : (414, 13)'"
      ]
     },
     "metadata": {},
     "output_type": "display_data"
    },
    {
     "name": "stdout",
     "output_type": "stream",
     "text": [
      "Shape adj matrix: torch.Size([414, 414])\n",
      "Label fo the current grpah: 49\n",
      "tensor([[  0,   0,   0,  ..., 413, 413, 413],\n",
      "        [  1,   2,   3,  ..., 410, 411, 412]])\n",
      "torch.Size([2, 170982])\n",
      "tensor([1., 1., 1.,  ..., 1., 1., 1.])\n",
      "torch.Size([170982])\n",
      "GraphEmo(x=[414], edge_index=[2, 170982], edge_attr=[170982], y=49, movie='AfterTheRain', subject='01', timestamp_tr=334, adj=[414, 414])\n",
      "Graph saved at: /home/dalai/GNN_E/data/processed/all_graphs/clique_singlefmri/AfterTheRain_01_334.pt"
     ]
    },
    {
     "name": "stderr",
     "output_type": "stream",
     "text": [
      "/home/dalai/GNN_E/scripts/utils.py:26: UserWarning: To copy construct from a tensor, it is recommended to use sourceTensor.clone().detach() or sourceTensor.clone().detach().requires_grad_(True), rather than torch.tensor(sourceTensor).\n",
      "  edge_index = torch.tensor(adj.nonzero().t().contiguous(), dtype=torch.long)  # Shape: [2, num_edges]\n",
      "/home/dalai/GNN_E/scripts/utils.py:30: UserWarning: To copy construct from a tensor, it is recommended to use sourceTensor.clone().detach() or sourceTensor.clone().detach().requires_grad_(True), rather than torch.tensor(sourceTensor).\n",
      "  edge_attr = torch.tensor(adj[edge_index[0, :], edge_index[1, :]], dtype=torch.float)\n"
     ]
    },
    {
     "name": "stdout",
     "output_type": "stream",
     "text": [
      "\n",
      "\n",
      "\n",
      "01 - 334\n"
     ]
    },
    {
     "data": {
      "text/plain": [
       "'Shape DF of single sub of single timepoint : (414, 13)'"
      ]
     },
     "metadata": {},
     "output_type": "display_data"
    },
    {
     "name": "stdout",
     "output_type": "stream",
     "text": [
      "Shape adj matrix: torch.Size([414, 414])\n",
      "Label fo the current grpah: 49\n",
      "tensor([[  0,   0,   0,  ..., 413, 413, 413],\n",
      "        [  1,   2,   3,  ..., 410, 411, 412]])\n",
      "torch.Size([2, 170982])\n",
      "tensor([1., 1., 1.,  ..., 1., 1., 1.])\n",
      "torch.Size([170982])\n",
      "GraphEmo(x=[414], edge_index=[2, 170982], edge_attr=[170982], y=49, movie='AfterTheRain', subject='01', timestamp_tr=335, adj=[414, 414])\n",
      "Graph saved at: /home/dalai/GNN_E/data/processed/all_graphs/clique_singlefmri/AfterTheRain_01_335.pt"
     ]
    },
    {
     "name": "stderr",
     "output_type": "stream",
     "text": [
      "/home/dalai/GNN_E/scripts/utils.py:26: UserWarning: To copy construct from a tensor, it is recommended to use sourceTensor.clone().detach() or sourceTensor.clone().detach().requires_grad_(True), rather than torch.tensor(sourceTensor).\n",
      "  edge_index = torch.tensor(adj.nonzero().t().contiguous(), dtype=torch.long)  # Shape: [2, num_edges]\n",
      "/home/dalai/GNN_E/scripts/utils.py:30: UserWarning: To copy construct from a tensor, it is recommended to use sourceTensor.clone().detach() or sourceTensor.clone().detach().requires_grad_(True), rather than torch.tensor(sourceTensor).\n",
      "  edge_attr = torch.tensor(adj[edge_index[0, :], edge_index[1, :]], dtype=torch.float)\n"
     ]
    },
    {
     "name": "stdout",
     "output_type": "stream",
     "text": [
      "\n",
      "\n",
      "\n",
      "01 - 335\n"
     ]
    },
    {
     "data": {
      "text/plain": [
       "'Shape DF of single sub of single timepoint : (414, 13)'"
      ]
     },
     "metadata": {},
     "output_type": "display_data"
    },
    {
     "name": "stdout",
     "output_type": "stream",
     "text": [
      "Shape adj matrix: torch.Size([414, 414])\n",
      "Label fo the current grpah: 49\n",
      "tensor([[  0,   0,   0,  ..., 413, 413, 413],\n",
      "        [  1,   2,   3,  ..., 410, 411, 412]])\n",
      "torch.Size([2, 170982])\n",
      "tensor([1., 1., 1.,  ..., 1., 1., 1.])\n",
      "torch.Size([170982])\n",
      "GraphEmo(x=[414], edge_index=[2, 170982], edge_attr=[170982], y=49, movie='AfterTheRain', subject='01', timestamp_tr=336, adj=[414, 414])\n",
      "Graph saved at: /home/dalai/GNN_E/data/processed/all_graphs/clique_singlefmri/AfterTheRain_01_336.pt"
     ]
    },
    {
     "name": "stderr",
     "output_type": "stream",
     "text": [
      "/home/dalai/GNN_E/scripts/utils.py:26: UserWarning: To copy construct from a tensor, it is recommended to use sourceTensor.clone().detach() or sourceTensor.clone().detach().requires_grad_(True), rather than torch.tensor(sourceTensor).\n",
      "  edge_index = torch.tensor(adj.nonzero().t().contiguous(), dtype=torch.long)  # Shape: [2, num_edges]\n",
      "/home/dalai/GNN_E/scripts/utils.py:30: UserWarning: To copy construct from a tensor, it is recommended to use sourceTensor.clone().detach() or sourceTensor.clone().detach().requires_grad_(True), rather than torch.tensor(sourceTensor).\n",
      "  edge_attr = torch.tensor(adj[edge_index[0, :], edge_index[1, :]], dtype=torch.float)\n"
     ]
    },
    {
     "name": "stdout",
     "output_type": "stream",
     "text": [
      "\n",
      "\n",
      "\n",
      "01 - 336\n"
     ]
    },
    {
     "data": {
      "text/plain": [
       "'Shape DF of single sub of single timepoint : (414, 13)'"
      ]
     },
     "metadata": {},
     "output_type": "display_data"
    },
    {
     "name": "stdout",
     "output_type": "stream",
     "text": [
      "Shape adj matrix: torch.Size([414, 414])\n",
      "Label fo the current grpah: 49\n",
      "tensor([[  0,   0,   0,  ..., 413, 413, 413],\n",
      "        [  1,   2,   3,  ..., 410, 411, 412]])\n",
      "torch.Size([2, 170982])\n",
      "tensor([1., 1., 1.,  ..., 1., 1., 1.])\n",
      "torch.Size([170982])\n",
      "GraphEmo(x=[414], edge_index=[2, 170982], edge_attr=[170982], y=49, movie='AfterTheRain', subject='01', timestamp_tr=337, adj=[414, 414])\n",
      "Graph saved at: /home/dalai/GNN_E/data/processed/all_graphs/clique_singlefmri/AfterTheRain_01_337.pt"
     ]
    },
    {
     "name": "stderr",
     "output_type": "stream",
     "text": [
      "/home/dalai/GNN_E/scripts/utils.py:26: UserWarning: To copy construct from a tensor, it is recommended to use sourceTensor.clone().detach() or sourceTensor.clone().detach().requires_grad_(True), rather than torch.tensor(sourceTensor).\n",
      "  edge_index = torch.tensor(adj.nonzero().t().contiguous(), dtype=torch.long)  # Shape: [2, num_edges]\n",
      "/home/dalai/GNN_E/scripts/utils.py:30: UserWarning: To copy construct from a tensor, it is recommended to use sourceTensor.clone().detach() or sourceTensor.clone().detach().requires_grad_(True), rather than torch.tensor(sourceTensor).\n",
      "  edge_attr = torch.tensor(adj[edge_index[0, :], edge_index[1, :]], dtype=torch.float)\n"
     ]
    },
    {
     "name": "stdout",
     "output_type": "stream",
     "text": [
      "\n",
      "\n",
      "\n",
      "01 - 337\n"
     ]
    },
    {
     "data": {
      "text/plain": [
       "'Shape DF of single sub of single timepoint : (414, 13)'"
      ]
     },
     "metadata": {},
     "output_type": "display_data"
    },
    {
     "name": "stdout",
     "output_type": "stream",
     "text": [
      "Shape adj matrix: torch.Size([414, 414])\n",
      "Label fo the current grpah: 49\n",
      "tensor([[  0,   0,   0,  ..., 413, 413, 413],\n",
      "        [  1,   2,   3,  ..., 410, 411, 412]])\n",
      "torch.Size([2, 170982])\n",
      "tensor([1., 1., 1.,  ..., 1., 1., 1.])\n",
      "torch.Size([170982])\n",
      "GraphEmo(x=[414], edge_index=[2, 170982], edge_attr=[170982], y=49, movie='AfterTheRain', subject='01', timestamp_tr=338, adj=[414, 414])\n",
      "Graph saved at: /home/dalai/GNN_E/data/processed/all_graphs/clique_singlefmri/AfterTheRain_01_338.pt"
     ]
    },
    {
     "name": "stderr",
     "output_type": "stream",
     "text": [
      "/home/dalai/GNN_E/scripts/utils.py:26: UserWarning: To copy construct from a tensor, it is recommended to use sourceTensor.clone().detach() or sourceTensor.clone().detach().requires_grad_(True), rather than torch.tensor(sourceTensor).\n",
      "  edge_index = torch.tensor(adj.nonzero().t().contiguous(), dtype=torch.long)  # Shape: [2, num_edges]\n",
      "/home/dalai/GNN_E/scripts/utils.py:30: UserWarning: To copy construct from a tensor, it is recommended to use sourceTensor.clone().detach() or sourceTensor.clone().detach().requires_grad_(True), rather than torch.tensor(sourceTensor).\n",
      "  edge_attr = torch.tensor(adj[edge_index[0, :], edge_index[1, :]], dtype=torch.float)\n"
     ]
    },
    {
     "name": "stdout",
     "output_type": "stream",
     "text": [
      "\n",
      "\n",
      "\n",
      "01 - 338\n"
     ]
    },
    {
     "data": {
      "text/plain": [
       "'Shape DF of single sub of single timepoint : (414, 13)'"
      ]
     },
     "metadata": {},
     "output_type": "display_data"
    },
    {
     "name": "stdout",
     "output_type": "stream",
     "text": [
      "Shape adj matrix: torch.Size([414, 414])\n",
      "Label fo the current grpah: 49\n",
      "tensor([[  0,   0,   0,  ..., 413, 413, 413],\n",
      "        [  1,   2,   3,  ..., 410, 411, 412]])\n",
      "torch.Size([2, 170982])\n",
      "tensor([1., 1., 1.,  ..., 1., 1., 1.])\n",
      "torch.Size([170982])\n",
      "GraphEmo(x=[414], edge_index=[2, 170982], edge_attr=[170982], y=49, movie='AfterTheRain', subject='01', timestamp_tr=339, adj=[414, 414])\n",
      "Graph saved at: /home/dalai/GNN_E/data/processed/all_graphs/clique_singlefmri/AfterTheRain_01_339.pt"
     ]
    },
    {
     "name": "stderr",
     "output_type": "stream",
     "text": [
      "/home/dalai/GNN_E/scripts/utils.py:26: UserWarning: To copy construct from a tensor, it is recommended to use sourceTensor.clone().detach() or sourceTensor.clone().detach().requires_grad_(True), rather than torch.tensor(sourceTensor).\n",
      "  edge_index = torch.tensor(adj.nonzero().t().contiguous(), dtype=torch.long)  # Shape: [2, num_edges]\n",
      "/home/dalai/GNN_E/scripts/utils.py:30: UserWarning: To copy construct from a tensor, it is recommended to use sourceTensor.clone().detach() or sourceTensor.clone().detach().requires_grad_(True), rather than torch.tensor(sourceTensor).\n",
      "  edge_attr = torch.tensor(adj[edge_index[0, :], edge_index[1, :]], dtype=torch.float)\n"
     ]
    },
    {
     "name": "stdout",
     "output_type": "stream",
     "text": [
      "\n",
      "\n",
      "\n",
      "01 - 339\n"
     ]
    },
    {
     "data": {
      "text/plain": [
       "'Shape DF of single sub of single timepoint : (414, 13)'"
      ]
     },
     "metadata": {},
     "output_type": "display_data"
    },
    {
     "name": "stdout",
     "output_type": "stream",
     "text": [
      "Shape adj matrix: torch.Size([414, 414])\n",
      "Label fo the current grpah: 49\n",
      "tensor([[  0,   0,   0,  ..., 413, 413, 413],\n",
      "        [  1,   2,   3,  ..., 410, 411, 412]])\n",
      "torch.Size([2, 170982])\n",
      "tensor([1., 1., 1.,  ..., 1., 1., 1.])\n",
      "torch.Size([170982])\n",
      "GraphEmo(x=[414], edge_index=[2, 170982], edge_attr=[170982], y=49, movie='AfterTheRain', subject='01', timestamp_tr=340, adj=[414, 414])\n"
     ]
    },
    {
     "name": "stderr",
     "output_type": "stream",
     "text": [
      "/home/dalai/GNN_E/scripts/utils.py:26: UserWarning: To copy construct from a tensor, it is recommended to use sourceTensor.clone().detach() or sourceTensor.clone().detach().requires_grad_(True), rather than torch.tensor(sourceTensor).\n",
      "  edge_index = torch.tensor(adj.nonzero().t().contiguous(), dtype=torch.long)  # Shape: [2, num_edges]\n",
      "/home/dalai/GNN_E/scripts/utils.py:30: UserWarning: To copy construct from a tensor, it is recommended to use sourceTensor.clone().detach() or sourceTensor.clone().detach().requires_grad_(True), rather than torch.tensor(sourceTensor).\n",
      "  edge_attr = torch.tensor(adj[edge_index[0, :], edge_index[1, :]], dtype=torch.float)\n"
     ]
    },
    {
     "name": "stdout",
     "output_type": "stream",
     "text": [
      "Graph saved at: /home/dalai/GNN_E/data/processed/all_graphs/clique_singlefmri/AfterTheRain_01_340.pt\n",
      "\n",
      "\n",
      "01 - 340\n"
     ]
    },
    {
     "data": {
      "text/plain": [
       "'Shape DF of single sub of single timepoint : (414, 13)'"
      ]
     },
     "metadata": {},
     "output_type": "display_data"
    },
    {
     "name": "stdout",
     "output_type": "stream",
     "text": [
      "Shape adj matrix: torch.Size([414, 414])\n",
      "Label fo the current grpah: 49\n",
      "tensor([[  0,   0,   0,  ..., 413, 413, 413],\n",
      "        [  1,   2,   3,  ..., 410, 411, 412]])\n",
      "torch.Size([2, 170982])\n",
      "tensor([1., 1., 1.,  ..., 1., 1., 1.])\n",
      "torch.Size([170982])\n",
      "GraphEmo(x=[414], edge_index=[2, 170982], edge_attr=[170982], y=49, movie='AfterTheRain', subject='01', timestamp_tr=341, adj=[414, 414])\n"
     ]
    },
    {
     "name": "stderr",
     "output_type": "stream",
     "text": [
      "/home/dalai/GNN_E/scripts/utils.py:26: UserWarning: To copy construct from a tensor, it is recommended to use sourceTensor.clone().detach() or sourceTensor.clone().detach().requires_grad_(True), rather than torch.tensor(sourceTensor).\n",
      "  edge_index = torch.tensor(adj.nonzero().t().contiguous(), dtype=torch.long)  # Shape: [2, num_edges]\n",
      "/home/dalai/GNN_E/scripts/utils.py:30: UserWarning: To copy construct from a tensor, it is recommended to use sourceTensor.clone().detach() or sourceTensor.clone().detach().requires_grad_(True), rather than torch.tensor(sourceTensor).\n",
      "  edge_attr = torch.tensor(adj[edge_index[0, :], edge_index[1, :]], dtype=torch.float)\n"
     ]
    },
    {
     "name": "stdout",
     "output_type": "stream",
     "text": [
      "Graph saved at: /home/dalai/GNN_E/data/processed/all_graphs/clique_singlefmri/AfterTheRain_01_341.pt\n",
      "\n",
      "\n",
      "01 - 341\n"
     ]
    },
    {
     "data": {
      "text/plain": [
       "'Shape DF of single sub of single timepoint : (414, 13)'"
      ]
     },
     "metadata": {},
     "output_type": "display_data"
    },
    {
     "name": "stdout",
     "output_type": "stream",
     "text": [
      "Shape adj matrix: torch.Size([414, 414])\n",
      "Label fo the current grpah: 49\n",
      "tensor([[  0,   0,   0,  ..., 413, 413, 413],\n",
      "        [  1,   2,   3,  ..., 410, 411, 412]])\n",
      "torch.Size([2, 170982])\n",
      "tensor([1., 1., 1.,  ..., 1., 1., 1.])\n",
      "torch.Size([170982])\n",
      "GraphEmo(x=[414], edge_index=[2, 170982], edge_attr=[170982], y=49, movie='AfterTheRain', subject='01', timestamp_tr=342, adj=[414, 414])\n"
     ]
    },
    {
     "name": "stderr",
     "output_type": "stream",
     "text": [
      "/home/dalai/GNN_E/scripts/utils.py:26: UserWarning: To copy construct from a tensor, it is recommended to use sourceTensor.clone().detach() or sourceTensor.clone().detach().requires_grad_(True), rather than torch.tensor(sourceTensor).\n",
      "  edge_index = torch.tensor(adj.nonzero().t().contiguous(), dtype=torch.long)  # Shape: [2, num_edges]\n",
      "/home/dalai/GNN_E/scripts/utils.py:30: UserWarning: To copy construct from a tensor, it is recommended to use sourceTensor.clone().detach() or sourceTensor.clone().detach().requires_grad_(True), rather than torch.tensor(sourceTensor).\n",
      "  edge_attr = torch.tensor(adj[edge_index[0, :], edge_index[1, :]], dtype=torch.float)\n"
     ]
    },
    {
     "name": "stdout",
     "output_type": "stream",
     "text": [
      "Graph saved at: /home/dalai/GNN_E/data/processed/all_graphs/clique_singlefmri/AfterTheRain_01_342.pt\n",
      "\n",
      "\n",
      "01 - 342\n"
     ]
    },
    {
     "data": {
      "text/plain": [
       "'Shape DF of single sub of single timepoint : (414, 13)'"
      ]
     },
     "metadata": {},
     "output_type": "display_data"
    },
    {
     "name": "stdout",
     "output_type": "stream",
     "text": [
      "Shape adj matrix: torch.Size([414, 414])\n",
      "Label fo the current grpah: 49\n",
      "tensor([[  0,   0,   0,  ..., 413, 413, 413],\n",
      "        [  1,   2,   3,  ..., 410, 411, 412]])\n",
      "torch.Size([2, 170982])\n",
      "tensor([1., 1., 1.,  ..., 1., 1., 1.])\n",
      "torch.Size([170982])\n",
      "GraphEmo(x=[414], edge_index=[2, 170982], edge_attr=[170982], y=49, movie='AfterTheRain', subject='01', timestamp_tr=343, adj=[414, 414])\n",
      "Graph saved at: /home/dalai/GNN_E/data/processed/all_graphs/clique_singlefmri/AfterTheRain_01_343.pt"
     ]
    },
    {
     "name": "stderr",
     "output_type": "stream",
     "text": [
      "/home/dalai/GNN_E/scripts/utils.py:26: UserWarning: To copy construct from a tensor, it is recommended to use sourceTensor.clone().detach() or sourceTensor.clone().detach().requires_grad_(True), rather than torch.tensor(sourceTensor).\n",
      "  edge_index = torch.tensor(adj.nonzero().t().contiguous(), dtype=torch.long)  # Shape: [2, num_edges]\n",
      "/home/dalai/GNN_E/scripts/utils.py:30: UserWarning: To copy construct from a tensor, it is recommended to use sourceTensor.clone().detach() or sourceTensor.clone().detach().requires_grad_(True), rather than torch.tensor(sourceTensor).\n",
      "  edge_attr = torch.tensor(adj[edge_index[0, :], edge_index[1, :]], dtype=torch.float)\n"
     ]
    },
    {
     "name": "stdout",
     "output_type": "stream",
     "text": [
      "\n",
      "\n",
      "\n",
      "01 - 343\n"
     ]
    },
    {
     "data": {
      "text/plain": [
       "'Shape DF of single sub of single timepoint : (414, 13)'"
      ]
     },
     "metadata": {},
     "output_type": "display_data"
    },
    {
     "name": "stdout",
     "output_type": "stream",
     "text": [
      "Shape adj matrix: torch.Size([414, 414])\n",
      "Label fo the current grpah: 49\n",
      "tensor([[  0,   0,   0,  ..., 413, 413, 413],\n",
      "        [  1,   2,   3,  ..., 410, 411, 412]])\n",
      "torch.Size([2, 170982])\n",
      "tensor([1., 1., 1.,  ..., 1., 1., 1.])\n",
      "torch.Size([170982])\n",
      "GraphEmo(x=[414], edge_index=[2, 170982], edge_attr=[170982], y=49, movie='AfterTheRain', subject='01', timestamp_tr=344, adj=[414, 414])\n",
      "Graph saved at: /home/dalai/GNN_E/data/processed/all_graphs/clique_singlefmri/AfterTheRain_01_344.pt"
     ]
    },
    {
     "name": "stderr",
     "output_type": "stream",
     "text": [
      "/home/dalai/GNN_E/scripts/utils.py:26: UserWarning: To copy construct from a tensor, it is recommended to use sourceTensor.clone().detach() or sourceTensor.clone().detach().requires_grad_(True), rather than torch.tensor(sourceTensor).\n",
      "  edge_index = torch.tensor(adj.nonzero().t().contiguous(), dtype=torch.long)  # Shape: [2, num_edges]\n",
      "/home/dalai/GNN_E/scripts/utils.py:30: UserWarning: To copy construct from a tensor, it is recommended to use sourceTensor.clone().detach() or sourceTensor.clone().detach().requires_grad_(True), rather than torch.tensor(sourceTensor).\n",
      "  edge_attr = torch.tensor(adj[edge_index[0, :], edge_index[1, :]], dtype=torch.float)\n"
     ]
    },
    {
     "name": "stdout",
     "output_type": "stream",
     "text": [
      "\n",
      "\n",
      "\n",
      "01 - 344\n"
     ]
    },
    {
     "data": {
      "text/plain": [
       "'Shape DF of single sub of single timepoint : (414, 13)'"
      ]
     },
     "metadata": {},
     "output_type": "display_data"
    },
    {
     "name": "stdout",
     "output_type": "stream",
     "text": [
      "Shape adj matrix: torch.Size([414, 414])\n",
      "Label fo the current grpah: 49\n",
      "tensor([[  0,   0,   0,  ..., 413, 413, 413],\n",
      "        [  1,   2,   3,  ..., 410, 411, 412]])\n",
      "torch.Size([2, 170982])\n",
      "tensor([1., 1., 1.,  ..., 1., 1., 1.])\n",
      "torch.Size([170982])\n",
      "GraphEmo(x=[414], edge_index=[2, 170982], edge_attr=[170982], y=49, movie='AfterTheRain', subject='01', timestamp_tr=345, adj=[414, 414])\n"
     ]
    },
    {
     "name": "stderr",
     "output_type": "stream",
     "text": [
      "/home/dalai/GNN_E/scripts/utils.py:26: UserWarning: To copy construct from a tensor, it is recommended to use sourceTensor.clone().detach() or sourceTensor.clone().detach().requires_grad_(True), rather than torch.tensor(sourceTensor).\n",
      "  edge_index = torch.tensor(adj.nonzero().t().contiguous(), dtype=torch.long)  # Shape: [2, num_edges]\n",
      "/home/dalai/GNN_E/scripts/utils.py:30: UserWarning: To copy construct from a tensor, it is recommended to use sourceTensor.clone().detach() or sourceTensor.clone().detach().requires_grad_(True), rather than torch.tensor(sourceTensor).\n",
      "  edge_attr = torch.tensor(adj[edge_index[0, :], edge_index[1, :]], dtype=torch.float)\n"
     ]
    },
    {
     "name": "stdout",
     "output_type": "stream",
     "text": [
      "Graph saved at: /home/dalai/GNN_E/data/processed/all_graphs/clique_singlefmri/AfterTheRain_01_345.pt\n",
      "\n",
      "\n",
      "01 - 345\n"
     ]
    },
    {
     "data": {
      "text/plain": [
       "'Shape DF of single sub of single timepoint : (414, 13)'"
      ]
     },
     "metadata": {},
     "output_type": "display_data"
    },
    {
     "name": "stdout",
     "output_type": "stream",
     "text": [
      "Shape adj matrix: torch.Size([414, 414])\n",
      "Label fo the current grpah: 49\n",
      "tensor([[  0,   0,   0,  ..., 413, 413, 413],\n",
      "        [  1,   2,   3,  ..., 410, 411, 412]])\n",
      "torch.Size([2, 170982])\n",
      "tensor([1., 1., 1.,  ..., 1., 1., 1.])\n",
      "torch.Size([170982])\n",
      "GraphEmo(x=[414], edge_index=[2, 170982], edge_attr=[170982], y=49, movie='AfterTheRain', subject='01', timestamp_tr=346, adj=[414, 414])\n"
     ]
    },
    {
     "name": "stderr",
     "output_type": "stream",
     "text": [
      "/home/dalai/GNN_E/scripts/utils.py:26: UserWarning: To copy construct from a tensor, it is recommended to use sourceTensor.clone().detach() or sourceTensor.clone().detach().requires_grad_(True), rather than torch.tensor(sourceTensor).\n",
      "  edge_index = torch.tensor(adj.nonzero().t().contiguous(), dtype=torch.long)  # Shape: [2, num_edges]\n",
      "/home/dalai/GNN_E/scripts/utils.py:30: UserWarning: To copy construct from a tensor, it is recommended to use sourceTensor.clone().detach() or sourceTensor.clone().detach().requires_grad_(True), rather than torch.tensor(sourceTensor).\n",
      "  edge_attr = torch.tensor(adj[edge_index[0, :], edge_index[1, :]], dtype=torch.float)\n"
     ]
    },
    {
     "name": "stdout",
     "output_type": "stream",
     "text": [
      "Graph saved at: /home/dalai/GNN_E/data/processed/all_graphs/clique_singlefmri/AfterTheRain_01_346.pt\n",
      "\n",
      "\n",
      "01 - 346\n"
     ]
    },
    {
     "data": {
      "text/plain": [
       "'Shape DF of single sub of single timepoint : (414, 13)'"
      ]
     },
     "metadata": {},
     "output_type": "display_data"
    },
    {
     "name": "stdout",
     "output_type": "stream",
     "text": [
      "Shape adj matrix: torch.Size([414, 414])\n",
      "Label fo the current grpah: 49\n",
      "tensor([[  0,   0,   0,  ..., 413, 413, 413],\n",
      "        [  1,   2,   3,  ..., 410, 411, 412]])\n",
      "torch.Size([2, 170982])\n",
      "tensor([1., 1., 1.,  ..., 1., 1., 1.])\n",
      "torch.Size([170982])\n",
      "GraphEmo(x=[414], edge_index=[2, 170982], edge_attr=[170982], y=49, movie='AfterTheRain', subject='01', timestamp_tr=347, adj=[414, 414])\n"
     ]
    },
    {
     "name": "stderr",
     "output_type": "stream",
     "text": [
      "/home/dalai/GNN_E/scripts/utils.py:26: UserWarning: To copy construct from a tensor, it is recommended to use sourceTensor.clone().detach() or sourceTensor.clone().detach().requires_grad_(True), rather than torch.tensor(sourceTensor).\n",
      "  edge_index = torch.tensor(adj.nonzero().t().contiguous(), dtype=torch.long)  # Shape: [2, num_edges]\n",
      "/home/dalai/GNN_E/scripts/utils.py:30: UserWarning: To copy construct from a tensor, it is recommended to use sourceTensor.clone().detach() or sourceTensor.clone().detach().requires_grad_(True), rather than torch.tensor(sourceTensor).\n",
      "  edge_attr = torch.tensor(adj[edge_index[0, :], edge_index[1, :]], dtype=torch.float)\n"
     ]
    },
    {
     "name": "stdout",
     "output_type": "stream",
     "text": [
      "Graph saved at: /home/dalai/GNN_E/data/processed/all_graphs/clique_singlefmri/AfterTheRain_01_347.pt\n",
      "\n",
      "\n",
      "01 - 347\n"
     ]
    },
    {
     "data": {
      "text/plain": [
       "'Shape DF of single sub of single timepoint : (414, 13)'"
      ]
     },
     "metadata": {},
     "output_type": "display_data"
    },
    {
     "name": "stdout",
     "output_type": "stream",
     "text": [
      "Shape adj matrix: torch.Size([414, 414])\n",
      "Label fo the current grpah: 49\n",
      "tensor([[  0,   0,   0,  ..., 413, 413, 413],\n",
      "        [  1,   2,   3,  ..., 410, 411, 412]])\n",
      "torch.Size([2, 170982])\n",
      "tensor([1., 1., 1.,  ..., 1., 1., 1.])\n",
      "torch.Size([170982])\n",
      "GraphEmo(x=[414], edge_index=[2, 170982], edge_attr=[170982], y=49, movie='AfterTheRain', subject='01', timestamp_tr=348, adj=[414, 414])\n"
     ]
    },
    {
     "name": "stderr",
     "output_type": "stream",
     "text": [
      "/home/dalai/GNN_E/scripts/utils.py:26: UserWarning: To copy construct from a tensor, it is recommended to use sourceTensor.clone().detach() or sourceTensor.clone().detach().requires_grad_(True), rather than torch.tensor(sourceTensor).\n",
      "  edge_index = torch.tensor(adj.nonzero().t().contiguous(), dtype=torch.long)  # Shape: [2, num_edges]\n",
      "/home/dalai/GNN_E/scripts/utils.py:30: UserWarning: To copy construct from a tensor, it is recommended to use sourceTensor.clone().detach() or sourceTensor.clone().detach().requires_grad_(True), rather than torch.tensor(sourceTensor).\n",
      "  edge_attr = torch.tensor(adj[edge_index[0, :], edge_index[1, :]], dtype=torch.float)\n"
     ]
    },
    {
     "name": "stdout",
     "output_type": "stream",
     "text": [
      "Graph saved at: /home/dalai/GNN_E/data/processed/all_graphs/clique_singlefmri/AfterTheRain_01_348.pt\n",
      "\n",
      "\n",
      "01 - 348\n"
     ]
    },
    {
     "data": {
      "text/plain": [
       "'Shape DF of single sub of single timepoint : (414, 13)'"
      ]
     },
     "metadata": {},
     "output_type": "display_data"
    },
    {
     "name": "stdout",
     "output_type": "stream",
     "text": [
      "Shape adj matrix: torch.Size([414, 414])\n",
      "Label fo the current grpah: 49\n",
      "tensor([[  0,   0,   0,  ..., 413, 413, 413],\n",
      "        [  1,   2,   3,  ..., 410, 411, 412]])\n",
      "torch.Size([2, 170982])\n",
      "tensor([1., 1., 1.,  ..., 1., 1., 1.])\n",
      "torch.Size([170982])\n",
      "GraphEmo(x=[414], edge_index=[2, 170982], edge_attr=[170982], y=49, movie='AfterTheRain', subject='01', timestamp_tr=349, adj=[414, 414])\n",
      "Graph saved at: /home/dalai/GNN_E/data/processed/all_graphs/clique_singlefmri/AfterTheRain_01_349.pt"
     ]
    },
    {
     "name": "stderr",
     "output_type": "stream",
     "text": [
      "/home/dalai/GNN_E/scripts/utils.py:26: UserWarning: To copy construct from a tensor, it is recommended to use sourceTensor.clone().detach() or sourceTensor.clone().detach().requires_grad_(True), rather than torch.tensor(sourceTensor).\n",
      "  edge_index = torch.tensor(adj.nonzero().t().contiguous(), dtype=torch.long)  # Shape: [2, num_edges]\n",
      "/home/dalai/GNN_E/scripts/utils.py:30: UserWarning: To copy construct from a tensor, it is recommended to use sourceTensor.clone().detach() or sourceTensor.clone().detach().requires_grad_(True), rather than torch.tensor(sourceTensor).\n",
      "  edge_attr = torch.tensor(adj[edge_index[0, :], edge_index[1, :]], dtype=torch.float)\n"
     ]
    },
    {
     "name": "stdout",
     "output_type": "stream",
     "text": [
      "\n",
      "\n",
      "\n",
      "01 - 349\n"
     ]
    },
    {
     "data": {
      "text/plain": [
       "'Shape DF of single sub of single timepoint : (414, 13)'"
      ]
     },
     "metadata": {},
     "output_type": "display_data"
    },
    {
     "name": "stdout",
     "output_type": "stream",
     "text": [
      "Shape adj matrix: torch.Size([414, 414])\n",
      "Label fo the current grpah: 49\n",
      "tensor([[  0,   0,   0,  ..., 413, 413, 413],\n",
      "        [  1,   2,   3,  ..., 410, 411, 412]])\n",
      "torch.Size([2, 170982])\n",
      "tensor([1., 1., 1.,  ..., 1., 1., 1.])\n",
      "torch.Size([170982])\n",
      "GraphEmo(x=[414], edge_index=[2, 170982], edge_attr=[170982], y=49, movie='AfterTheRain', subject='01', timestamp_tr=350, adj=[414, 414])\n",
      "Graph saved at: /home/dalai/GNN_E/data/processed/all_graphs/clique_singlefmri/AfterTheRain_01_350.pt\n",
      "\n",
      "\n",
      "01 - 350\n"
     ]
    },
    {
     "name": "stderr",
     "output_type": "stream",
     "text": [
      "/home/dalai/GNN_E/scripts/utils.py:26: UserWarning: To copy construct from a tensor, it is recommended to use sourceTensor.clone().detach() or sourceTensor.clone().detach().requires_grad_(True), rather than torch.tensor(sourceTensor).\n",
      "  edge_index = torch.tensor(adj.nonzero().t().contiguous(), dtype=torch.long)  # Shape: [2, num_edges]\n",
      "/home/dalai/GNN_E/scripts/utils.py:30: UserWarning: To copy construct from a tensor, it is recommended to use sourceTensor.clone().detach() or sourceTensor.clone().detach().requires_grad_(True), rather than torch.tensor(sourceTensor).\n",
      "  edge_attr = torch.tensor(adj[edge_index[0, :], edge_index[1, :]], dtype=torch.float)\n"
     ]
    },
    {
     "data": {
      "text/plain": [
       "'Shape DF of single sub of single timepoint : (414, 13)'"
      ]
     },
     "metadata": {},
     "output_type": "display_data"
    },
    {
     "name": "stdout",
     "output_type": "stream",
     "text": [
      "Shape adj matrix: torch.Size([414, 414])\n",
      "Label fo the current grpah: 49\n",
      "tensor([[  0,   0,   0,  ..., 413, 413, 413],\n",
      "        [  1,   2,   3,  ..., 410, 411, 412]])\n",
      "torch.Size([2, 170982])\n",
      "tensor([1., 1., 1.,  ..., 1., 1., 1.])\n",
      "torch.Size([170982])\n",
      "GraphEmo(x=[414], edge_index=[2, 170982], edge_attr=[170982], y=49, movie='AfterTheRain', subject='01', timestamp_tr=351, adj=[414, 414])\n",
      "Graph saved at: /home/dalai/GNN_E/data/processed/all_graphs/clique_singlefmri/AfterTheRain_01_351.pt"
     ]
    },
    {
     "name": "stderr",
     "output_type": "stream",
     "text": [
      "/home/dalai/GNN_E/scripts/utils.py:26: UserWarning: To copy construct from a tensor, it is recommended to use sourceTensor.clone().detach() or sourceTensor.clone().detach().requires_grad_(True), rather than torch.tensor(sourceTensor).\n",
      "  edge_index = torch.tensor(adj.nonzero().t().contiguous(), dtype=torch.long)  # Shape: [2, num_edges]\n",
      "/home/dalai/GNN_E/scripts/utils.py:30: UserWarning: To copy construct from a tensor, it is recommended to use sourceTensor.clone().detach() or sourceTensor.clone().detach().requires_grad_(True), rather than torch.tensor(sourceTensor).\n",
      "  edge_attr = torch.tensor(adj[edge_index[0, :], edge_index[1, :]], dtype=torch.float)\n"
     ]
    },
    {
     "name": "stdout",
     "output_type": "stream",
     "text": [
      "\n",
      "\n",
      "\n",
      "01 - 351\n"
     ]
    },
    {
     "data": {
      "text/plain": [
       "'Shape DF of single sub of single timepoint : (414, 13)'"
      ]
     },
     "metadata": {},
     "output_type": "display_data"
    },
    {
     "name": "stdout",
     "output_type": "stream",
     "text": [
      "Shape adj matrix: torch.Size([414, 414])\n",
      "Label fo the current grpah: 49\n",
      "tensor([[  0,   0,   0,  ..., 413, 413, 413],\n",
      "        [  1,   2,   3,  ..., 410, 411, 412]])\n",
      "torch.Size([2, 170982])\n",
      "tensor([1., 1., 1.,  ..., 1., 1., 1.])\n",
      "torch.Size([170982])\n",
      "GraphEmo(x=[414], edge_index=[2, 170982], edge_attr=[170982], y=49, movie='AfterTheRain', subject='01', timestamp_tr=352, adj=[414, 414])\n",
      "Graph saved at: /home/dalai/GNN_E/data/processed/all_graphs/clique_singlefmri/AfterTheRain_01_352.pt"
     ]
    },
    {
     "name": "stderr",
     "output_type": "stream",
     "text": [
      "/home/dalai/GNN_E/scripts/utils.py:26: UserWarning: To copy construct from a tensor, it is recommended to use sourceTensor.clone().detach() or sourceTensor.clone().detach().requires_grad_(True), rather than torch.tensor(sourceTensor).\n",
      "  edge_index = torch.tensor(adj.nonzero().t().contiguous(), dtype=torch.long)  # Shape: [2, num_edges]\n",
      "/home/dalai/GNN_E/scripts/utils.py:30: UserWarning: To copy construct from a tensor, it is recommended to use sourceTensor.clone().detach() or sourceTensor.clone().detach().requires_grad_(True), rather than torch.tensor(sourceTensor).\n",
      "  edge_attr = torch.tensor(adj[edge_index[0, :], edge_index[1, :]], dtype=torch.float)\n"
     ]
    },
    {
     "name": "stdout",
     "output_type": "stream",
     "text": [
      "\n",
      "\n",
      "\n",
      "01 - 352\n"
     ]
    },
    {
     "data": {
      "text/plain": [
       "'Shape DF of single sub of single timepoint : (414, 13)'"
      ]
     },
     "metadata": {},
     "output_type": "display_data"
    },
    {
     "name": "stdout",
     "output_type": "stream",
     "text": [
      "Shape adj matrix: torch.Size([414, 414])\n",
      "Label fo the current grpah: 49\n",
      "tensor([[  0,   0,   0,  ..., 413, 413, 413],\n",
      "        [  1,   2,   3,  ..., 410, 411, 412]])\n",
      "torch.Size([2, 170982])\n",
      "tensor([1., 1., 1.,  ..., 1., 1., 1.])\n",
      "torch.Size([170982])\n",
      "GraphEmo(x=[414], edge_index=[2, 170982], edge_attr=[170982], y=49, movie='AfterTheRain', subject='01', timestamp_tr=353, adj=[414, 414])\n"
     ]
    },
    {
     "name": "stderr",
     "output_type": "stream",
     "text": [
      "/home/dalai/GNN_E/scripts/utils.py:26: UserWarning: To copy construct from a tensor, it is recommended to use sourceTensor.clone().detach() or sourceTensor.clone().detach().requires_grad_(True), rather than torch.tensor(sourceTensor).\n",
      "  edge_index = torch.tensor(adj.nonzero().t().contiguous(), dtype=torch.long)  # Shape: [2, num_edges]\n",
      "/home/dalai/GNN_E/scripts/utils.py:30: UserWarning: To copy construct from a tensor, it is recommended to use sourceTensor.clone().detach() or sourceTensor.clone().detach().requires_grad_(True), rather than torch.tensor(sourceTensor).\n",
      "  edge_attr = torch.tensor(adj[edge_index[0, :], edge_index[1, :]], dtype=torch.float)\n"
     ]
    },
    {
     "name": "stdout",
     "output_type": "stream",
     "text": [
      "Graph saved at: /home/dalai/GNN_E/data/processed/all_graphs/clique_singlefmri/AfterTheRain_01_353.pt\n",
      "\n",
      "\n",
      "01 - 353\n"
     ]
    },
    {
     "data": {
      "text/plain": [
       "'Shape DF of single sub of single timepoint : (414, 13)'"
      ]
     },
     "metadata": {},
     "output_type": "display_data"
    },
    {
     "name": "stdout",
     "output_type": "stream",
     "text": [
      "Shape adj matrix: torch.Size([414, 414])\n",
      "Label fo the current grpah: 49\n",
      "tensor([[  0,   0,   0,  ..., 413, 413, 413],\n",
      "        [  1,   2,   3,  ..., 410, 411, 412]])\n",
      "torch.Size([2, 170982])\n",
      "tensor([1., 1., 1.,  ..., 1., 1., 1.])\n",
      "torch.Size([170982])\n",
      "GraphEmo(x=[414], edge_index=[2, 170982], edge_attr=[170982], y=49, movie='AfterTheRain', subject='01', timestamp_tr=354, adj=[414, 414])\n",
      "Graph saved at: /home/dalai/GNN_E/data/processed/all_graphs/clique_singlefmri/AfterTheRain_01_354.pt"
     ]
    },
    {
     "name": "stderr",
     "output_type": "stream",
     "text": [
      "/home/dalai/GNN_E/scripts/utils.py:26: UserWarning: To copy construct from a tensor, it is recommended to use sourceTensor.clone().detach() or sourceTensor.clone().detach().requires_grad_(True), rather than torch.tensor(sourceTensor).\n",
      "  edge_index = torch.tensor(adj.nonzero().t().contiguous(), dtype=torch.long)  # Shape: [2, num_edges]\n",
      "/home/dalai/GNN_E/scripts/utils.py:30: UserWarning: To copy construct from a tensor, it is recommended to use sourceTensor.clone().detach() or sourceTensor.clone().detach().requires_grad_(True), rather than torch.tensor(sourceTensor).\n",
      "  edge_attr = torch.tensor(adj[edge_index[0, :], edge_index[1, :]], dtype=torch.float)\n"
     ]
    },
    {
     "name": "stdout",
     "output_type": "stream",
     "text": [
      "\n",
      "\n",
      "\n",
      "01 - 354\n"
     ]
    }
   ],
   "source": [
    "#graphs = {}\n",
    "save_dir = os.path.join(base_save_dir,\"all_graphs\", f\"{intial_adj_method}_{node_feat_method}\")\n",
    "os.makedirs(save_dir, exist_ok=True)  # Create intermediate directories if they don't exist\n",
    "\n",
    "\n",
    "for sub in sub_ids:\n",
    "\n",
    "    ################################\n",
    "    # Extarct subejct data\n",
    "\n",
    "    print(f\"Subject{sub}, movie: {movie}\")\n",
    "\n",
    "    # Ectract start (in sec) of the movie and the duation of the movie in sec\n",
    "    delta_time_sub = delta_time_single[f\"S{sub}\"]\n",
    "    print(delta_time_sub)\n",
    "\n",
    "    start_movie_sec = delta_time_sub[0]\n",
    "    lenght_movie_sec = delta_time_sub[1]\n",
    "    end_movie_sec = start_movie_sec + lenght_movie_sec\n",
    "    print(f\"Movie shown at {start_movie_sec} sec. Duration of the movie {lenght_movie_sec} sec.\")\n",
    "\n",
    "    # Ectartc scores of one subject\n",
    "    data_single_sub = data[data[\"id\"] == f\"sub-S{sub}\"]\n",
    "    print(f\"Shape data single subject: {data_single_sub.shape}\")\n",
    "\n",
    "    # labels single user and single movie\n",
    "    label_single_sub = resolved_labels[\"single_label\"].values\n",
    "    print(f\"Shape labels single subject: {label_single_sub.shape} {label_single_sub[:5]}(one for each second of the duration of the movie)\")\n",
    "\n",
    "    ##############################\n",
    "\n",
    "    # Align Labels\n",
    "\n",
    "    # time (in sec) after which the movie is shown to the subj, PLUS the delay (in sec) after which the signal is vivible in frmi \n",
    "    # Thus, time (in sec) where the first label should be put\n",
    "    start_movie_sec_shifted = start_movie_sec + tr_len * delay_tr\n",
    "    print(f\"Movie started at {start_movie_sec} sec, but fMRI effect will be visible at {start_movie_sec_shifted}\")\n",
    "\n",
    "    # Same for the end of the movie\n",
    "    end_movie_sec_shifted = end_movie_sec + tr_len * delay_tr\n",
    "\n",
    "    # Timestaps (in sec) from the shifted start of the movie, till the end of the movie\n",
    "    # i.e. the timestap that we want to label\n",
    "    timestap_to_label = data_single_sub[data_single_sub[\"timestamp_sec\"] >= start_movie_sec_shifted][\"timestamp_sec\"].unique()\n",
    "    timestap_to_label = timestap_to_label[timestap_to_label <= end_movie_sec_shifted][:-1] # ATTENTION: [-1] to not overcome the borders\n",
    "    print(f\"This are the timestamp to label (each one is a TR): {timestap_to_label[:4]}... Total {len(timestap_to_label)}\")\n",
    "\n",
    "    # Method choosen for aligning: NEAREST !!! (no interpolation done)\n",
    "        # As the labels are index from 0, we have to shift the timestap \n",
    "    timestap_to_label_as_index =  timestap_to_label - np.floor(timestap_to_label[0]) # to be start form 0\n",
    "    timestap_to_label_as_index = np.round(timestap_to_label_as_index)\n",
    "    print(f\"Index to use to select the labels: {timestap_to_label_as_index[:5]}... Total {len(timestap_to_label_as_index)}\")\n",
    "\n",
    "    # Select the label correpcifno to each timepoint\n",
    "    labels_final_sub = label_single_sub[timestap_to_label_as_index.astype(int)]  # Convert to integer for indexing\n",
    "    print(f\"Final label per timepont (one for ech TR insde the movie duration): {labels_final_sub[:5]}... Total {len(labels_final_sub)}\")\n",
    "\n",
    "    # Create a df with the TR timestamp in sec and the raltive label (easier for later to label entier dataset)\n",
    "    df_label_sub = pd.DataFrame({\"timestamp_sec\": timestap_to_label, \"label\": labels_final_sub, \"index_used\": timestap_to_label_as_index})\n",
    "    display(df_label_sub.head(4))\n",
    "\n",
    "    ######################\n",
    "    \n",
    "    #Filter df data to only have inside the time when the movie is shown\n",
    "    data_single_sub = data_single_sub[(data_single_sub[\"timestamp_sec\"] >= start_movie_sec_shifted) & (data_single_sub[\"timestamp_sec\"] <= end_movie_sec_shifted)]\n",
    "\n",
    "    # Label the datset with the labels\n",
    "    data_single_sub_labels = pd.merge(df_label_sub, data_single_sub, on=\"timestamp_sec\")\n",
    "\n",
    "    display(data_single_sub_labels)\n",
    "\n",
    "    #######################\n",
    "\n",
    "    timepoints_tr = data_single_sub_labels[\"timestamp_tr\"].unique()\n",
    "\n",
    "    # Create one graph for each timestap\n",
    "    for timepoint in timepoints_tr:\n",
    "\n",
    "        # Only one timepoitn\n",
    "        data_single_sub_labels_timepoint = data_single_sub_labels[data_single_sub_labels[\"timestamp_tr\"] == timepoint]\n",
    "\n",
    "        display(f\"Shape DF of single sub of single timepoint : {data_single_sub_labels_timepoint.shape}\") ##ROIs x cols\n",
    "\n",
    "        # DECIDE NODE FEATURES\n",
    "        if node_feat_method == \"singlefmri\":\n",
    "            x = data_single_sub_labels_timepoint[[\"vindex\", \"score\"]]\n",
    "            #display(x)\n",
    "            x_matrix = np.array(x[\"score\"])\n",
    "            x_matrix = torch.tensor(x_matrix, dtype=torch.float)\n",
    "\n",
    "        # DDECIDE INITIAL CONNECTIVITY\n",
    "        if intial_adj_method == \"clique\":\n",
    "            adj_matrix_initial = np.ones((n_nodes, n_nodes)) - np.eye(n_nodes)\n",
    "            adj_tensor = torch.tensor(adj_matrix_initial, dtype=torch.float)\n",
    "            print(f\"Shape adj matrix: {adj_tensor.shape}\")\n",
    "\n",
    "        # EXTARCT GRAPH LABEL\n",
    "        single_graph_label = data_single_sub_labels_timepoint[\"label\"].unique()[0]\n",
    "        single_graph_label = torch.tensor(single_graph_label, dtype=torch.long)\n",
    "        print(f\"Label fo the current grpah: {single_graph_label}\")\n",
    "\n",
    "        # Create custum graph\n",
    "\n",
    "        graph = GraphEmo(\n",
    "                    x=x_matrix, \n",
    "                    edge_index=None, \n",
    "                    edge_attr=None, \n",
    "                    y=single_graph_label, \n",
    "                    adj = adj_tensor, \n",
    "                    movie=movie, \n",
    "                    subject=sub, \n",
    "                    timestamp_tr=timepoint\n",
    "                )\n",
    "\n",
    "        print(graph)\n",
    "\n",
    "        # Save separate  graph\n",
    "\n",
    "        file_path = os.path.join(save_dir, \n",
    "                                f\"{movie}_{sub}_{timepoint  }.pt\")# Construct the filename with extension\n",
    "        torch.save(graph, file_path, pickle_protocol=4)# Save the graph\n",
    "        print(f\"Graph saved at: {file_path}\")\n",
    "\n",
    "        # put graph together\n",
    "        #graphs.update({f\"{movie}_{sub}_{timepoint:.1f}\": graph})\n",
    "\n",
    "        print(f\"\\n\\n{sub} - {timepoint}\")\n",
    "\n",
    "        #break #fir ech timepoint\n",
    "\n",
    "    break #for each sub\n",
    "\n",
    "#torch.save(graphs, os.path.join(save_dir, f\"{movie}.pth\")) # to save all graphas of the same movie together\n"
   ]
  },
  {
   "cell_type": "markdown",
   "metadata": {},
   "source": [
    "# Create Dataset"
   ]
  },
  {
   "cell_type": "code",
   "execution_count": 14,
   "metadata": {},
   "outputs": [
    {
     "name": "stdout",
     "output_type": "stream",
     "text": [
      "DatasetEmo(293)\n",
      "293\n"
     ]
    }
   ],
   "source": [
    "dataset = DatasetEmo(\"/home/dalai/GNN_E/data/processed/all_graphs/clique_singlefmri\")\n",
    "print(dataset)\n",
    "print(len(dataset))\n",
    "\n",
    "# Explore individual graph components\n",
    "if len(dataset) > 0:\n",
    "    for i in range(len(dataset)):  # Examine up to the first 2 graphs\n",
    "        graph, label = dataset[i]\n",
    "        #print(f\"\\nGraph {i} details:\")\n",
    "        \n",
    "        # Check and print node features\n",
    "        if graph.x is None:\n",
    "            print(\"Node features (x) is None.\")\n",
    "\n",
    "\n",
    "        # Check and print edge indices\n",
    "        if graph.edge_index is None or graph.edge_index.numel() == 0:\n",
    "            print(\"Edge index is None or empty.\")\n",
    " \n",
    "\n",
    "        # Check and print edge attributes\n",
    "        if graph.edge_attr is None or graph.edge_attr.numel() == 0:\n",
    "            print(\"Edge attributes (edge_attr) is None or empty.\")\n",
    "\n",
    "\n",
    "        # Check and print label\n",
    "        if label is None:\n",
    "            print(\"Label (y) is None.\")\n",
    "\n",
    "\n",
    "        # Check and print additional attributes\n",
    "        if graph.movie is None:\n",
    "            print(\"Movie attribute is None.\")\n",
    "\n",
    "        \n",
    "        if graph.subject is None:\n",
    "            print(\"Subject attribute is None.\")\n",
    "\n",
    "        \n",
    "        if graph.timestamp_tr is None:\n",
    "            print(\"Timestamp attribute is None.\")\n",
    "\n",
    "\n"
   ]
  },
  {
   "cell_type": "code",
   "execution_count": 15,
   "metadata": {},
   "outputs": [
    {
     "name": "stdout",
     "output_type": "stream",
     "text": [
      "(GraphEmo(x=[414], edge_index=[2, 170982], edge_attr=[170982], y=34, movie='AfterTheRain', subject='01', timestamp_tr=296, adj=[414, 414]), tensor(34))\n",
      "<class 'tuple'>\n",
      "<class 'scripts.utils.GraphEmo'>\n",
      "<class 'torch.Tensor'>\n"
     ]
    }
   ],
   "source": [
    "print(dataset[0])\n",
    "print(type(dataset[0]))\n",
    "\n",
    "#__get__ returns a tuple of (graph, label)\n",
    "print(type(dataset[0][0]))\n",
    "print(type(dataset[0][1]))"
   ]
  },
  {
   "cell_type": "markdown",
   "metadata": {},
   "source": [
    "# Create Dataloader"
   ]
  },
  {
   "cell_type": "code",
   "execution_count": 16,
   "metadata": {},
   "outputs": [],
   "source": [
    "batch_size = 32"
   ]
  },
  {
   "cell_type": "code",
   "execution_count": 19,
   "metadata": {},
   "outputs": [
    {
     "name": "stdout",
     "output_type": "stream",
     "text": [
      "Batch size: 32\n",
      "Graph object: (GraphEmo(x=[414], edge_index=[2, 170982], edge_attr=[170982], y=34, movie='AfterTheRain', subject='01', timestamp_tr=292, adj=[414, 414]), GraphEmo(x=[414], edge_index=[2, 170982], edge_attr=[170982], y=34, movie='AfterTheRain', subject='01', timestamp_tr=177, adj=[414, 414]), GraphEmo(x=[414], edge_index=[2, 170982], edge_attr=[170982], y=34, movie='AfterTheRain', subject='01', timestamp_tr=136, adj=[414, 414]), GraphEmo(x=[414], edge_index=[2, 170982], edge_attr=[170982], y=34, movie='AfterTheRain', subject='01', timestamp_tr=176, adj=[414, 414]), GraphEmo(x=[414], edge_index=[2, 170982], edge_attr=[170982], y=34, movie='AfterTheRain', subject='01', timestamp_tr=269, adj=[414, 414]), GraphEmo(x=[414], edge_index=[2, 170982], edge_attr=[170982], y=34, movie='AfterTheRain', subject='01', timestamp_tr=326, adj=[414, 414]), GraphEmo(x=[414], edge_index=[2, 170982], edge_attr=[170982], y=34, movie='AfterTheRain', subject='01', timestamp_tr=74, adj=[414, 414]), GraphEmo(x=[414], edge_index=[2, 170982], edge_attr=[170982], y=32, movie='AfterTheRain', subject='01', timestamp_tr=129, adj=[414, 414]), GraphEmo(x=[414], edge_index=[2, 170982], edge_attr=[170982], y=34, movie='AfterTheRain', subject='01', timestamp_tr=266, adj=[414, 414]), GraphEmo(x=[414], edge_index=[2, 170982], edge_attr=[170982], y=34, movie='AfterTheRain', subject='01', timestamp_tr=130, adj=[414, 414]), GraphEmo(x=[414], edge_index=[2, 170982], edge_attr=[170982], y=34, movie='AfterTheRain', subject='01', timestamp_tr=68, adj=[414, 414]), GraphEmo(x=[414], edge_index=[2, 170982], edge_attr=[170982], y=34, movie='AfterTheRain', subject='01', timestamp_tr=125, adj=[414, 414]), GraphEmo(x=[414], edge_index=[2, 170982], edge_attr=[170982], y=34, movie='AfterTheRain', subject='01', timestamp_tr=198, adj=[414, 414]), GraphEmo(x=[414], edge_index=[2, 170982], edge_attr=[170982], y=34, movie='AfterTheRain', subject='01', timestamp_tr=268, adj=[414, 414]), GraphEmo(x=[414], edge_index=[2, 170982], edge_attr=[170982], y=27, movie='AfterTheRain', subject='01', timestamp_tr=101, adj=[414, 414]), GraphEmo(x=[414], edge_index=[2, 170982], edge_attr=[170982], y=34, movie='AfterTheRain', subject='01', timestamp_tr=320, adj=[414, 414]), GraphEmo(x=[414], edge_index=[2, 170982], edge_attr=[170982], y=38, movie='AfterTheRain', subject='01', timestamp_tr=191, adj=[414, 414]), GraphEmo(x=[414], edge_index=[2, 170982], edge_attr=[170982], y=34, movie='AfterTheRain', subject='01', timestamp_tr=223, adj=[414, 414]), GraphEmo(x=[414], edge_index=[2, 170982], edge_attr=[170982], y=34, movie='AfterTheRain', subject='01', timestamp_tr=225, adj=[414, 414]), GraphEmo(x=[414], edge_index=[2, 170982], edge_attr=[170982], y=27, movie='AfterTheRain', subject='01', timestamp_tr=98, adj=[414, 414]), GraphEmo(x=[414], edge_index=[2, 170982], edge_attr=[170982], y=34, movie='AfterTheRain', subject='01', timestamp_tr=325, adj=[414, 414]), GraphEmo(x=[414], edge_index=[2, 170982], edge_attr=[170982], y=42, movie='AfterTheRain', subject='01', timestamp_tr=308, adj=[414, 414]), GraphEmo(x=[414], edge_index=[2, 170982], edge_attr=[170982], y=34, movie='AfterTheRain', subject='01', timestamp_tr=260, adj=[414, 414]), GraphEmo(x=[414], edge_index=[2, 170982], edge_attr=[170982], y=35, movie='AfterTheRain', subject='01', timestamp_tr=183, adj=[414, 414]), GraphEmo(x=[414], edge_index=[2, 170982], edge_attr=[170982], y=38, movie='AfterTheRain', subject='01', timestamp_tr=187, adj=[414, 414]), GraphEmo(x=[414], edge_index=[2, 170982], edge_attr=[170982], y=27, movie='AfterTheRain', subject='01', timestamp_tr=102, adj=[414, 414]), GraphEmo(x=[414], edge_index=[2, 170982], edge_attr=[170982], y=34, movie='AfterTheRain', subject='01', timestamp_tr=328, adj=[414, 414]), GraphEmo(x=[414], edge_index=[2, 170982], edge_attr=[170982], y=34, movie='AfterTheRain', subject='01', timestamp_tr=295, adj=[414, 414]), GraphEmo(x=[414], edge_index=[2, 170982], edge_attr=[170982], y=34, movie='AfterTheRain', subject='01', timestamp_tr=247, adj=[414, 414]), GraphEmo(x=[414], edge_index=[2, 170982], edge_attr=[170982], y=34, movie='AfterTheRain', subject='01', timestamp_tr=134, adj=[414, 414]), GraphEmo(x=[414], edge_index=[2, 170982], edge_attr=[170982], y=35, movie='AfterTheRain', subject='01', timestamp_tr=185, adj=[414, 414]), GraphEmo(x=[414], edge_index=[2, 170982], edge_attr=[170982], y=34, movie='AfterTheRain', subject='01', timestamp_tr=213, adj=[414, 414]))\n",
      "Labels: tensor([34, 34, 34, 34, 34, 34, 34, 32, 34, 34, 34, 34, 34, 34, 27, 34, 38, 34,\n",
      "        34, 27, 34, 42, 34, 35, 38, 27, 34, 34, 34, 34, 35, 34])\n",
      "Batch size: 32\n",
      "Graph object: (GraphEmo(x=[414], edge_index=[2, 170982], edge_attr=[170982], y=34, movie='AfterTheRain', subject='01', timestamp_tr=252, adj=[414, 414]), GraphEmo(x=[414], edge_index=[2, 170982], edge_attr=[170982], y=49, movie='AfterTheRain', subject='01', timestamp_tr=342, adj=[414, 414]), GraphEmo(x=[414], edge_index=[2, 170982], edge_attr=[170982], y=34, movie='AfterTheRain', subject='01', timestamp_tr=158, adj=[414, 414]), GraphEmo(x=[414], edge_index=[2, 170982], edge_attr=[170982], y=34, movie='AfterTheRain', subject='01', timestamp_tr=265, adj=[414, 414]), GraphEmo(x=[414], edge_index=[2, 170982], edge_attr=[170982], y=34, movie='AfterTheRain', subject='01', timestamp_tr=195, adj=[414, 414]), GraphEmo(x=[414], edge_index=[2, 170982], edge_attr=[170982], y=34, movie='AfterTheRain', subject='01', timestamp_tr=210, adj=[414, 414]), GraphEmo(x=[414], edge_index=[2, 170982], edge_attr=[170982], y=34, movie='AfterTheRain', subject='01', timestamp_tr=179, adj=[414, 414]), GraphEmo(x=[414], edge_index=[2, 170982], edge_attr=[170982], y=12, movie='AfterTheRain', subject='01', timestamp_tr=146, adj=[414, 414]), GraphEmo(x=[414], edge_index=[2, 170982], edge_attr=[170982], y=34, movie='AfterTheRain', subject='01', timestamp_tr=149, adj=[414, 414]), GraphEmo(x=[414], edge_index=[2, 170982], edge_attr=[170982], y=13, movie='AfterTheRain', subject='01', timestamp_tr=93, adj=[414, 414]), GraphEmo(x=[414], edge_index=[2, 170982], edge_attr=[170982], y=34, movie='AfterTheRain', subject='01', timestamp_tr=206, adj=[414, 414]), GraphEmo(x=[414], edge_index=[2, 170982], edge_attr=[170982], y=34, movie='AfterTheRain', subject='01', timestamp_tr=217, adj=[414, 414]), GraphEmo(x=[414], edge_index=[2, 170982], edge_attr=[170982], y=34, movie='AfterTheRain', subject='01', timestamp_tr=301, adj=[414, 414]), GraphEmo(x=[414], edge_index=[2, 170982], edge_attr=[170982], y=34, movie='AfterTheRain', subject='01', timestamp_tr=280, adj=[414, 414]), GraphEmo(x=[414], edge_index=[2, 170982], edge_attr=[170982], y=34, movie='AfterTheRain', subject='01', timestamp_tr=244, adj=[414, 414]), GraphEmo(x=[414], edge_index=[2, 170982], edge_attr=[170982], y=27, movie='AfterTheRain', subject='01', timestamp_tr=105, adj=[414, 414]), GraphEmo(x=[414], edge_index=[2, 170982], edge_attr=[170982], y=34, movie='AfterTheRain', subject='01', timestamp_tr=309, adj=[414, 414]), GraphEmo(x=[414], edge_index=[2, 170982], edge_attr=[170982], y=34, movie='AfterTheRain', subject='01', timestamp_tr=159, adj=[414, 414]), GraphEmo(x=[414], edge_index=[2, 170982], edge_attr=[170982], y=12, movie='AfterTheRain', subject='01', timestamp_tr=82, adj=[414, 414]), GraphEmo(x=[414], edge_index=[2, 170982], edge_attr=[170982], y=47, movie='AfterTheRain', subject='01', timestamp_tr=281, adj=[414, 414]), GraphEmo(x=[414], edge_index=[2, 170982], edge_attr=[170982], y=34, movie='AfterTheRain', subject='01', timestamp_tr=246, adj=[414, 414]), GraphEmo(x=[414], edge_index=[2, 170982], edge_attr=[170982], y=12, movie='AfterTheRain', subject='01', timestamp_tr=306, adj=[414, 414]), GraphEmo(x=[414], edge_index=[2, 170982], edge_attr=[170982], y=34, movie='AfterTheRain', subject='01', timestamp_tr=155, adj=[414, 414]), GraphEmo(x=[414], edge_index=[2, 170982], edge_attr=[170982], y=34, movie='AfterTheRain', subject='01', timestamp_tr=230, adj=[414, 414]), GraphEmo(x=[414], edge_index=[2, 170982], edge_attr=[170982], y=49, movie='AfterTheRain', subject='01', timestamp_tr=340, adj=[414, 414]), GraphEmo(x=[414], edge_index=[2, 170982], edge_attr=[170982], y=34, movie='AfterTheRain', subject='01', timestamp_tr=152, adj=[414, 414]), GraphEmo(x=[414], edge_index=[2, 170982], edge_attr=[170982], y=7, movie='AfterTheRain', subject='01', timestamp_tr=80, adj=[414, 414]), GraphEmo(x=[414], edge_index=[2, 170982], edge_attr=[170982], y=15, movie='AfterTheRain', subject='01', timestamp_tr=169, adj=[414, 414]), GraphEmo(x=[414], edge_index=[2, 170982], edge_attr=[170982], y=34, movie='AfterTheRain', subject='01', timestamp_tr=199, adj=[414, 414]), GraphEmo(x=[414], edge_index=[2, 170982], edge_attr=[170982], y=15, movie='AfterTheRain', subject='01', timestamp_tr=168, adj=[414, 414]), GraphEmo(x=[414], edge_index=[2, 170982], edge_attr=[170982], y=34, movie='AfterTheRain', subject='01', timestamp_tr=65, adj=[414, 414]), GraphEmo(x=[414], edge_index=[2, 170982], edge_attr=[170982], y=34, movie='AfterTheRain', subject='01', timestamp_tr=181, adj=[414, 414]))\n",
      "Labels: tensor([34, 49, 34, 34, 34, 34, 34, 12, 34, 13, 34, 34, 34, 34, 34, 27, 34, 34,\n",
      "        12, 47, 34, 12, 34, 34, 49, 34,  7, 15, 34, 15, 34, 34])\n",
      "Batch size: 32\n",
      "Graph object: (GraphEmo(x=[414], edge_index=[2, 170982], edge_attr=[170982], y=15, movie='AfterTheRain', subject='01', timestamp_tr=162, adj=[414, 414]), GraphEmo(x=[414], edge_index=[2, 170982], edge_attr=[170982], y=34, movie='AfterTheRain', subject='01', timestamp_tr=135, adj=[414, 414]), GraphEmo(x=[414], edge_index=[2, 170982], edge_attr=[170982], y=12, movie='AfterTheRain', subject='01', timestamp_tr=285, adj=[414, 414]), GraphEmo(x=[414], edge_index=[2, 170982], edge_attr=[170982], y=38, movie='AfterTheRain', subject='01', timestamp_tr=188, adj=[414, 414]), GraphEmo(x=[414], edge_index=[2, 170982], edge_attr=[170982], y=34, movie='AfterTheRain', subject='01', timestamp_tr=207, adj=[414, 414]), GraphEmo(x=[414], edge_index=[2, 170982], edge_attr=[170982], y=49, movie='AfterTheRain', subject='01', timestamp_tr=332, adj=[414, 414]), GraphEmo(x=[414], edge_index=[2, 170982], edge_attr=[170982], y=34, movie='AfterTheRain', subject='01', timestamp_tr=317, adj=[414, 414]), GraphEmo(x=[414], edge_index=[2, 170982], edge_attr=[170982], y=34, movie='AfterTheRain', subject='01', timestamp_tr=72, adj=[414, 414]), GraphEmo(x=[414], edge_index=[2, 170982], edge_attr=[170982], y=49, movie='AfterTheRain', subject='01', timestamp_tr=337, adj=[414, 414]), GraphEmo(x=[414], edge_index=[2, 170982], edge_attr=[170982], y=35, movie='AfterTheRain', subject='01', timestamp_tr=186, adj=[414, 414]), GraphEmo(x=[414], edge_index=[2, 170982], edge_attr=[170982], y=34, movie='AfterTheRain', subject='01', timestamp_tr=261, adj=[414, 414]), GraphEmo(x=[414], edge_index=[2, 170982], edge_attr=[170982], y=34, movie='AfterTheRain', subject='01', timestamp_tr=220, adj=[414, 414]), GraphEmo(x=[414], edge_index=[2, 170982], edge_attr=[170982], y=49, movie='AfterTheRain', subject='01', timestamp_tr=352, adj=[414, 414]), GraphEmo(x=[414], edge_index=[2, 170982], edge_attr=[170982], y=34, movie='AfterTheRain', subject='01', timestamp_tr=322, adj=[414, 414]), GraphEmo(x=[414], edge_index=[2, 170982], edge_attr=[170982], y=34, movie='AfterTheRain', subject='01', timestamp_tr=156, adj=[414, 414]), GraphEmo(x=[414], edge_index=[2, 170982], edge_attr=[170982], y=34, movie='AfterTheRain', subject='01', timestamp_tr=242, adj=[414, 414]), GraphEmo(x=[414], edge_index=[2, 170982], edge_attr=[170982], y=34, movie='AfterTheRain', subject='01', timestamp_tr=77, adj=[414, 414]), GraphEmo(x=[414], edge_index=[2, 170982], edge_attr=[170982], y=27, movie='AfterTheRain', subject='01', timestamp_tr=104, adj=[414, 414]), GraphEmo(x=[414], edge_index=[2, 170982], edge_attr=[170982], y=34, movie='AfterTheRain', subject='01', timestamp_tr=132, adj=[414, 414]), GraphEmo(x=[414], edge_index=[2, 170982], edge_attr=[170982], y=49, movie='AfterTheRain', subject='01', timestamp_tr=331, adj=[414, 414]), GraphEmo(x=[414], edge_index=[2, 170982], edge_attr=[170982], y=34, movie='AfterTheRain', subject='01', timestamp_tr=118, adj=[414, 414]), GraphEmo(x=[414], edge_index=[2, 170982], edge_attr=[170982], y=49, movie='AfterTheRain', subject='01', timestamp_tr=334, adj=[414, 414]), GraphEmo(x=[414], edge_index=[2, 170982], edge_attr=[170982], y=34, movie='AfterTheRain', subject='01', timestamp_tr=254, adj=[414, 414]), GraphEmo(x=[414], edge_index=[2, 170982], edge_attr=[170982], y=27, movie='AfterTheRain', subject='01', timestamp_tr=106, adj=[414, 414]), GraphEmo(x=[414], edge_index=[2, 170982], edge_attr=[170982], y=34, movie='AfterTheRain', subject='01', timestamp_tr=259, adj=[414, 414]), GraphEmo(x=[414], edge_index=[2, 170982], edge_attr=[170982], y=27, movie='AfterTheRain', subject='01', timestamp_tr=99, adj=[414, 414]), GraphEmo(x=[414], edge_index=[2, 170982], edge_attr=[170982], y=7, movie='AfterTheRain', subject='01', timestamp_tr=144, adj=[414, 414]), GraphEmo(x=[414], edge_index=[2, 170982], edge_attr=[170982], y=15, movie='AfterTheRain', subject='01', timestamp_tr=163, adj=[414, 414]), GraphEmo(x=[414], edge_index=[2, 170982], edge_attr=[170982], y=13, movie='AfterTheRain', subject='01', timestamp_tr=92, adj=[414, 414]), GraphEmo(x=[414], edge_index=[2, 170982], edge_attr=[170982], y=34, movie='AfterTheRain', subject='01', timestamp_tr=271, adj=[414, 414]), GraphEmo(x=[414], edge_index=[2, 170982], edge_attr=[170982], y=34, movie='AfterTheRain', subject='01', timestamp_tr=270, adj=[414, 414]), GraphEmo(x=[414], edge_index=[2, 170982], edge_attr=[170982], y=12, movie='AfterTheRain', subject='01', timestamp_tr=174, adj=[414, 414]))\n",
      "Labels: tensor([15, 34, 12, 38, 34, 49, 34, 34, 49, 35, 34, 34, 49, 34, 34, 34, 34, 27,\n",
      "        34, 49, 34, 49, 34, 27, 34, 27,  7, 15, 13, 34, 34, 12])\n",
      "Batch size: 32\n",
      "Graph object: (GraphEmo(x=[414], edge_index=[2, 170982], edge_attr=[170982], y=15, movie='AfterTheRain', subject='01', timestamp_tr=170, adj=[414, 414]), GraphEmo(x=[414], edge_index=[2, 170982], edge_attr=[170982], y=49, movie='AfterTheRain', subject='01', timestamp_tr=350, adj=[414, 414]), GraphEmo(x=[414], edge_index=[2, 170982], edge_attr=[170982], y=34, movie='AfterTheRain', subject='01', timestamp_tr=253, adj=[414, 414]), GraphEmo(x=[414], edge_index=[2, 170982], edge_attr=[170982], y=34, movie='AfterTheRain', subject='01', timestamp_tr=324, adj=[414, 414]), GraphEmo(x=[414], edge_index=[2, 170982], edge_attr=[170982], y=15, movie='AfterTheRain', subject='01', timestamp_tr=165, adj=[414, 414]), GraphEmo(x=[414], edge_index=[2, 170982], edge_attr=[170982], y=49, movie='AfterTheRain', subject='01', timestamp_tr=341, adj=[414, 414]), GraphEmo(x=[414], edge_index=[2, 170982], edge_attr=[170982], y=34, movie='AfterTheRain', subject='01', timestamp_tr=312, adj=[414, 414]), GraphEmo(x=[414], edge_index=[2, 170982], edge_attr=[170982], y=34, movie='AfterTheRain', subject='01', timestamp_tr=282, adj=[414, 414]), GraphEmo(x=[414], edge_index=[2, 170982], edge_attr=[170982], y=49, movie='AfterTheRain', subject='01', timestamp_tr=353, adj=[414, 414]), GraphEmo(x=[414], edge_index=[2, 170982], edge_attr=[170982], y=27, movie='AfterTheRain', subject='01', timestamp_tr=90, adj=[414, 414]), GraphEmo(x=[414], edge_index=[2, 170982], edge_attr=[170982], y=15, movie='AfterTheRain', subject='01', timestamp_tr=172, adj=[414, 414]), GraphEmo(x=[414], edge_index=[2, 170982], edge_attr=[170982], y=27, movie='AfterTheRain', subject='01', timestamp_tr=100, adj=[414, 414]), GraphEmo(x=[414], edge_index=[2, 170982], edge_attr=[170982], y=34, movie='AfterTheRain', subject='01', timestamp_tr=239, adj=[414, 414]), GraphEmo(x=[414], edge_index=[2, 170982], edge_attr=[170982], y=34, movie='AfterTheRain', subject='01', timestamp_tr=88, adj=[414, 414]), GraphEmo(x=[414], edge_index=[2, 170982], edge_attr=[170982], y=34, movie='AfterTheRain', subject='01', timestamp_tr=148, adj=[414, 414]), GraphEmo(x=[414], edge_index=[2, 170982], edge_attr=[170982], y=32, movie='AfterTheRain', subject='01', timestamp_tr=143, adj=[414, 414]), GraphEmo(x=[414], edge_index=[2, 170982], edge_attr=[170982], y=6, movie='AfterTheRain', subject='01', timestamp_tr=64, adj=[414, 414]), GraphEmo(x=[414], edge_index=[2, 170982], edge_attr=[170982], y=34, movie='AfterTheRain', subject='01', timestamp_tr=142, adj=[414, 414]), GraphEmo(x=[414], edge_index=[2, 170982], edge_attr=[170982], y=27, movie='AfterTheRain', subject='01', timestamp_tr=96, adj=[414, 414]), GraphEmo(x=[414], edge_index=[2, 170982], edge_attr=[170982], y=49, movie='AfterTheRain', subject='01', timestamp_tr=336, adj=[414, 414]), GraphEmo(x=[414], edge_index=[2, 170982], edge_attr=[170982], y=32, movie='AfterTheRain', subject='01', timestamp_tr=137, adj=[414, 414]), GraphEmo(x=[414], edge_index=[2, 170982], edge_attr=[170982], y=34, movie='AfterTheRain', subject='01', timestamp_tr=216, adj=[414, 414]), GraphEmo(x=[414], edge_index=[2, 170982], edge_attr=[170982], y=12, movie='AfterTheRain', subject='01', timestamp_tr=115, adj=[414, 414]), GraphEmo(x=[414], edge_index=[2, 170982], edge_attr=[170982], y=49, movie='AfterTheRain', subject='01', timestamp_tr=345, adj=[414, 414]), GraphEmo(x=[414], edge_index=[2, 170982], edge_attr=[170982], y=34, movie='AfterTheRain', subject='01', timestamp_tr=113, adj=[414, 414]), GraphEmo(x=[414], edge_index=[2, 170982], edge_attr=[170982], y=34, movie='AfterTheRain', subject='01', timestamp_tr=241, adj=[414, 414]), GraphEmo(x=[414], edge_index=[2, 170982], edge_attr=[170982], y=34, movie='AfterTheRain', subject='01', timestamp_tr=124, adj=[414, 414]), GraphEmo(x=[414], edge_index=[2, 170982], edge_attr=[170982], y=49, movie='AfterTheRain', subject='01', timestamp_tr=346, adj=[414, 414]), GraphEmo(x=[414], edge_index=[2, 170982], edge_attr=[170982], y=38, movie='AfterTheRain', subject='01', timestamp_tr=189, adj=[414, 414]), GraphEmo(x=[414], edge_index=[2, 170982], edge_attr=[170982], y=34, movie='AfterTheRain', subject='01', timestamp_tr=153, adj=[414, 414]), GraphEmo(x=[414], edge_index=[2, 170982], edge_attr=[170982], y=49, movie='AfterTheRain', subject='01', timestamp_tr=344, adj=[414, 414]), GraphEmo(x=[414], edge_index=[2, 170982], edge_attr=[170982], y=12, movie='AfterTheRain', subject='01', timestamp_tr=288, adj=[414, 414]))\n",
      "Labels: tensor([15, 49, 34, 34, 15, 49, 34, 34, 49, 27, 15, 27, 34, 34, 34, 32,  6, 34,\n",
      "        27, 49, 32, 34, 12, 49, 34, 34, 34, 49, 38, 34, 49, 12])\n",
      "Batch size: 32\n",
      "Graph object: (GraphEmo(x=[414], edge_index=[2, 170982], edge_attr=[170982], y=12, movie='AfterTheRain', subject='01', timestamp_tr=117, adj=[414, 414]), GraphEmo(x=[414], edge_index=[2, 170982], edge_attr=[170982], y=7, movie='AfterTheRain', subject='01', timestamp_tr=145, adj=[414, 414]), GraphEmo(x=[414], edge_index=[2, 170982], edge_attr=[170982], y=34, movie='AfterTheRain', subject='01', timestamp_tr=67, adj=[414, 414]), GraphEmo(x=[414], edge_index=[2, 170982], edge_attr=[170982], y=34, movie='AfterTheRain', subject='01', timestamp_tr=131, adj=[414, 414]), GraphEmo(x=[414], edge_index=[2, 170982], edge_attr=[170982], y=34, movie='AfterTheRain', subject='01', timestamp_tr=196, adj=[414, 414]), GraphEmo(x=[414], edge_index=[2, 170982], edge_attr=[170982], y=42, movie='AfterTheRain', subject='01', timestamp_tr=318, adj=[414, 414]), GraphEmo(x=[414], edge_index=[2, 170982], edge_attr=[170982], y=34, movie='AfterTheRain', subject='01', timestamp_tr=236, adj=[414, 414]), GraphEmo(x=[414], edge_index=[2, 170982], edge_attr=[170982], y=23, movie='AfterTheRain', subject='01', timestamp_tr=86, adj=[414, 414]), GraphEmo(x=[414], edge_index=[2, 170982], edge_attr=[170982], y=34, movie='AfterTheRain', subject='01', timestamp_tr=321, adj=[414, 414]), GraphEmo(x=[414], edge_index=[2, 170982], edge_attr=[170982], y=34, movie='AfterTheRain', subject='01', timestamp_tr=290, adj=[414, 414]), GraphEmo(x=[414], edge_index=[2, 170982], edge_attr=[170982], y=27, movie='AfterTheRain', subject='01', timestamp_tr=103, adj=[414, 414]), GraphEmo(x=[414], edge_index=[2, 170982], edge_attr=[170982], y=34, movie='AfterTheRain', subject='01', timestamp_tr=211, adj=[414, 414]), GraphEmo(x=[414], edge_index=[2, 170982], edge_attr=[170982], y=34, movie='AfterTheRain', subject='01', timestamp_tr=263, adj=[414, 414]), GraphEmo(x=[414], edge_index=[2, 170982], edge_attr=[170982], y=38, movie='AfterTheRain', subject='01', timestamp_tr=190, adj=[414, 414]), GraphEmo(x=[414], edge_index=[2, 170982], edge_attr=[170982], y=34, movie='AfterTheRain', subject='01', timestamp_tr=316, adj=[414, 414]), GraphEmo(x=[414], edge_index=[2, 170982], edge_attr=[170982], y=49, movie='AfterTheRain', subject='01', timestamp_tr=333, adj=[414, 414]), GraphEmo(x=[414], edge_index=[2, 170982], edge_attr=[170982], y=34, movie='AfterTheRain', subject='01', timestamp_tr=133, adj=[414, 414]), GraphEmo(x=[414], edge_index=[2, 170982], edge_attr=[170982], y=34, movie='AfterTheRain', subject='01', timestamp_tr=284, adj=[414, 414]), GraphEmo(x=[414], edge_index=[2, 170982], edge_attr=[170982], y=34, movie='AfterTheRain', subject='01', timestamp_tr=275, adj=[414, 414]), GraphEmo(x=[414], edge_index=[2, 170982], edge_attr=[170982], y=47, movie='AfterTheRain', subject='01', timestamp_tr=277, adj=[414, 414]), GraphEmo(x=[414], edge_index=[2, 170982], edge_attr=[170982], y=34, movie='AfterTheRain', subject='01', timestamp_tr=297, adj=[414, 414]), GraphEmo(x=[414], edge_index=[2, 170982], edge_attr=[170982], y=34, movie='AfterTheRain', subject='01', timestamp_tr=180, adj=[414, 414]), GraphEmo(x=[414], edge_index=[2, 170982], edge_attr=[170982], y=32, movie='AfterTheRain', subject='01', timestamp_tr=193, adj=[414, 414]), GraphEmo(x=[414], edge_index=[2, 170982], edge_attr=[170982], y=34, movie='AfterTheRain', subject='01', timestamp_tr=111, adj=[414, 414]), GraphEmo(x=[414], edge_index=[2, 170982], edge_attr=[170982], y=34, movie='AfterTheRain', subject='01', timestamp_tr=231, adj=[414, 414]), GraphEmo(x=[414], edge_index=[2, 170982], edge_attr=[170982], y=49, movie='AfterTheRain', subject='01', timestamp_tr=354, adj=[414, 414]), GraphEmo(x=[414], edge_index=[2, 170982], edge_attr=[170982], y=34, movie='AfterTheRain', subject='01', timestamp_tr=71, adj=[414, 414]), GraphEmo(x=[414], edge_index=[2, 170982], edge_attr=[170982], y=34, movie='AfterTheRain', subject='01', timestamp_tr=272, adj=[414, 414]), GraphEmo(x=[414], edge_index=[2, 170982], edge_attr=[170982], y=34, movie='AfterTheRain', subject='01', timestamp_tr=215, adj=[414, 414]), GraphEmo(x=[414], edge_index=[2, 170982], edge_attr=[170982], y=34, movie='AfterTheRain', subject='01', timestamp_tr=224, adj=[414, 414]), GraphEmo(x=[414], edge_index=[2, 170982], edge_attr=[170982], y=34, movie='AfterTheRain', subject='01', timestamp_tr=273, adj=[414, 414]), GraphEmo(x=[414], edge_index=[2, 170982], edge_attr=[170982], y=34, movie='AfterTheRain', subject='01', timestamp_tr=235, adj=[414, 414]))\n",
      "Labels: tensor([12,  7, 34, 34, 34, 42, 34, 23, 34, 34, 27, 34, 34, 38, 34, 49, 34, 34,\n",
      "        34, 47, 34, 34, 32, 34, 34, 49, 34, 34, 34, 34, 34, 34])\n",
      "Batch size: 32\n",
      "Graph object: (GraphEmo(x=[414], edge_index=[2, 170982], edge_attr=[170982], y=34, movie='AfterTheRain', subject='01', timestamp_tr=151, adj=[414, 414]), GraphEmo(x=[414], edge_index=[2, 170982], edge_attr=[170982], y=34, movie='AfterTheRain', subject='01', timestamp_tr=202, adj=[414, 414]), GraphEmo(x=[414], edge_index=[2, 170982], edge_attr=[170982], y=34, movie='AfterTheRain', subject='01', timestamp_tr=299, adj=[414, 414]), GraphEmo(x=[414], edge_index=[2, 170982], edge_attr=[170982], y=32, movie='AfterTheRain', subject='01', timestamp_tr=192, adj=[414, 414]), GraphEmo(x=[414], edge_index=[2, 170982], edge_attr=[170982], y=6, movie='AfterTheRain', subject='01', timestamp_tr=63, adj=[414, 414]), GraphEmo(x=[414], edge_index=[2, 170982], edge_attr=[170982], y=34, movie='AfterTheRain', subject='01', timestamp_tr=238, adj=[414, 414]), GraphEmo(x=[414], edge_index=[2, 170982], edge_attr=[170982], y=15, movie='AfterTheRain', subject='01', timestamp_tr=161, adj=[414, 414]), GraphEmo(x=[414], edge_index=[2, 170982], edge_attr=[170982], y=34, movie='AfterTheRain', subject='01', timestamp_tr=221, adj=[414, 414]), GraphEmo(x=[414], edge_index=[2, 170982], edge_attr=[170982], y=12, movie='AfterTheRain', subject='01', timestamp_tr=83, adj=[414, 414]), GraphEmo(x=[414], edge_index=[2, 170982], edge_attr=[170982], y=49, movie='AfterTheRain', subject='01', timestamp_tr=338, adj=[414, 414]), GraphEmo(x=[414], edge_index=[2, 170982], edge_attr=[170982], y=12, movie='AfterTheRain', subject='01', timestamp_tr=84, adj=[414, 414]), GraphEmo(x=[414], edge_index=[2, 170982], edge_attr=[170982], y=34, movie='AfterTheRain', subject='01', timestamp_tr=294, adj=[414, 414]), GraphEmo(x=[414], edge_index=[2, 170982], edge_attr=[170982], y=34, movie='AfterTheRain', subject='01', timestamp_tr=109, adj=[414, 414]), GraphEmo(x=[414], edge_index=[2, 170982], edge_attr=[170982], y=34, movie='AfterTheRain', subject='01', timestamp_tr=258, adj=[414, 414]), GraphEmo(x=[414], edge_index=[2, 170982], edge_attr=[170982], y=34, movie='AfterTheRain', subject='01', timestamp_tr=329, adj=[414, 414]), GraphEmo(x=[414], edge_index=[2, 170982], edge_attr=[170982], y=34, movie='AfterTheRain', subject='01', timestamp_tr=229, adj=[414, 414]), GraphEmo(x=[414], edge_index=[2, 170982], edge_attr=[170982], y=34, movie='AfterTheRain', subject='01', timestamp_tr=204, adj=[414, 414]), GraphEmo(x=[414], edge_index=[2, 170982], edge_attr=[170982], y=34, movie='AfterTheRain', subject='01', timestamp_tr=200, adj=[414, 414]), GraphEmo(x=[414], edge_index=[2, 170982], edge_attr=[170982], y=27, movie='AfterTheRain', subject='01', timestamp_tr=97, adj=[414, 414]), GraphEmo(x=[414], edge_index=[2, 170982], edge_attr=[170982], y=12, movie='AfterTheRain', subject='01', timestamp_tr=173, adj=[414, 414]), GraphEmo(x=[414], edge_index=[2, 170982], edge_attr=[170982], y=34, movie='AfterTheRain', subject='01', timestamp_tr=243, adj=[414, 414]), GraphEmo(x=[414], edge_index=[2, 170982], edge_attr=[170982], y=34, movie='AfterTheRain', subject='01', timestamp_tr=314, adj=[414, 414]), GraphEmo(x=[414], edge_index=[2, 170982], edge_attr=[170982], y=34, movie='AfterTheRain', subject='01', timestamp_tr=147, adj=[414, 414]), GraphEmo(x=[414], edge_index=[2, 170982], edge_attr=[170982], y=49, movie='AfterTheRain', subject='01', timestamp_tr=349, adj=[414, 414]), GraphEmo(x=[414], edge_index=[2, 170982], edge_attr=[170982], y=34, movie='AfterTheRain', subject='01', timestamp_tr=262, adj=[414, 414]), GraphEmo(x=[414], edge_index=[2, 170982], edge_attr=[170982], y=12, movie='AfterTheRain', subject='01', timestamp_tr=286, adj=[414, 414]), GraphEmo(x=[414], edge_index=[2, 170982], edge_attr=[170982], y=34, movie='AfterTheRain', subject='01', timestamp_tr=122, adj=[414, 414]), GraphEmo(x=[414], edge_index=[2, 170982], edge_attr=[170982], y=34, movie='AfterTheRain', subject='01', timestamp_tr=237, adj=[414, 414]), GraphEmo(x=[414], edge_index=[2, 170982], edge_attr=[170982], y=34, movie='AfterTheRain', subject='01', timestamp_tr=75, adj=[414, 414]), GraphEmo(x=[414], edge_index=[2, 170982], edge_attr=[170982], y=15, movie='AfterTheRain', subject='01', timestamp_tr=160, adj=[414, 414]), GraphEmo(x=[414], edge_index=[2, 170982], edge_attr=[170982], y=34, movie='AfterTheRain', subject='01', timestamp_tr=218, adj=[414, 414]), GraphEmo(x=[414], edge_index=[2, 170982], edge_attr=[170982], y=49, movie='AfterTheRain', subject='01', timestamp_tr=339, adj=[414, 414]))\n",
      "Labels: tensor([34, 34, 34, 32,  6, 34, 15, 34, 12, 49, 12, 34, 34, 34, 34, 34, 34, 34,\n",
      "        27, 12, 34, 34, 34, 49, 34, 12, 34, 34, 34, 15, 34, 49])\n",
      "Batch size: 32\n",
      "Graph object: (GraphEmo(x=[414], edge_index=[2, 170982], edge_attr=[170982], y=34, movie='AfterTheRain', subject='01', timestamp_tr=226, adj=[414, 414]), GraphEmo(x=[414], edge_index=[2, 170982], edge_attr=[170982], y=34, movie='AfterTheRain', subject='01', timestamp_tr=214, adj=[414, 414]), GraphEmo(x=[414], edge_index=[2, 170982], edge_attr=[170982], y=47, movie='AfterTheRain', subject='01', timestamp_tr=303, adj=[414, 414]), GraphEmo(x=[414], edge_index=[2, 170982], edge_attr=[170982], y=34, movie='AfterTheRain', subject='01', timestamp_tr=257, adj=[414, 414]), GraphEmo(x=[414], edge_index=[2, 170982], edge_attr=[170982], y=12, movie='AfterTheRain', subject='01', timestamp_tr=289, adj=[414, 414]), GraphEmo(x=[414], edge_index=[2, 170982], edge_attr=[170982], y=34, movie='AfterTheRain', subject='01', timestamp_tr=267, adj=[414, 414]), GraphEmo(x=[414], edge_index=[2, 170982], edge_attr=[170982], y=27, movie='AfterTheRain', subject='01', timestamp_tr=95, adj=[414, 414]), GraphEmo(x=[414], edge_index=[2, 170982], edge_attr=[170982], y=34, movie='AfterTheRain', subject='01', timestamp_tr=175, adj=[414, 414]), GraphEmo(x=[414], edge_index=[2, 170982], edge_attr=[170982], y=49, movie='AfterTheRain', subject='01', timestamp_tr=343, adj=[414, 414]), GraphEmo(x=[414], edge_index=[2, 170982], edge_attr=[170982], y=34, movie='AfterTheRain', subject='01', timestamp_tr=248, adj=[414, 414]), GraphEmo(x=[414], edge_index=[2, 170982], edge_attr=[170982], y=34, movie='AfterTheRain', subject='01', timestamp_tr=203, adj=[414, 414]), GraphEmo(x=[414], edge_index=[2, 170982], edge_attr=[170982], y=15, movie='AfterTheRain', subject='01', timestamp_tr=166, adj=[414, 414]), GraphEmo(x=[414], edge_index=[2, 170982], edge_attr=[170982], y=34, movie='AfterTheRain', subject='01', timestamp_tr=110, adj=[414, 414]), GraphEmo(x=[414], edge_index=[2, 170982], edge_attr=[170982], y=34, movie='AfterTheRain', subject='01', timestamp_tr=209, adj=[414, 414]), GraphEmo(x=[414], edge_index=[2, 170982], edge_attr=[170982], y=27, movie='AfterTheRain', subject='01', timestamp_tr=108, adj=[414, 414]), GraphEmo(x=[414], edge_index=[2, 170982], edge_attr=[170982], y=34, movie='AfterTheRain', subject='01', timestamp_tr=76, adj=[414, 414]), GraphEmo(x=[414], edge_index=[2, 170982], edge_attr=[170982], y=34, movie='AfterTheRain', subject='01', timestamp_tr=300, adj=[414, 414]), GraphEmo(x=[414], edge_index=[2, 170982], edge_attr=[170982], y=27, movie='AfterTheRain', subject='01', timestamp_tr=91, adj=[414, 414]), GraphEmo(x=[414], edge_index=[2, 170982], edge_attr=[170982], y=34, movie='AfterTheRain', subject='01', timestamp_tr=222, adj=[414, 414]), GraphEmo(x=[414], edge_index=[2, 170982], edge_attr=[170982], y=34, movie='AfterTheRain', subject='01', timestamp_tr=298, adj=[414, 414]), GraphEmo(x=[414], edge_index=[2, 170982], edge_attr=[170982], y=42, movie='AfterTheRain', subject='01', timestamp_tr=319, adj=[414, 414]), GraphEmo(x=[414], edge_index=[2, 170982], edge_attr=[170982], y=34, movie='AfterTheRain', subject='01', timestamp_tr=138, adj=[414, 414]), GraphEmo(x=[414], edge_index=[2, 170982], edge_attr=[170982], y=7, movie='AfterTheRain', subject='01', timestamp_tr=304, adj=[414, 414]), GraphEmo(x=[414], edge_index=[2, 170982], edge_attr=[170982], y=15, movie='AfterTheRain', subject='01', timestamp_tr=167, adj=[414, 414]), GraphEmo(x=[414], edge_index=[2, 170982], edge_attr=[170982], y=34, movie='AfterTheRain', subject='01', timestamp_tr=139, adj=[414, 414]), GraphEmo(x=[414], edge_index=[2, 170982], edge_attr=[170982], y=35, movie='AfterTheRain', subject='01', timestamp_tr=184, adj=[414, 414]), GraphEmo(x=[414], edge_index=[2, 170982], edge_attr=[170982], y=34, movie='AfterTheRain', subject='01', timestamp_tr=327, adj=[414, 414]), GraphEmo(x=[414], edge_index=[2, 170982], edge_attr=[170982], y=34, movie='AfterTheRain', subject='01', timestamp_tr=245, adj=[414, 414]), GraphEmo(x=[414], edge_index=[2, 170982], edge_attr=[170982], y=49, movie='AfterTheRain', subject='01', timestamp_tr=351, adj=[414, 414]), GraphEmo(x=[414], edge_index=[2, 170982], edge_attr=[170982], y=34, movie='AfterTheRain', subject='01', timestamp_tr=256, adj=[414, 414]), GraphEmo(x=[414], edge_index=[2, 170982], edge_attr=[170982], y=34, movie='AfterTheRain', subject='01', timestamp_tr=128, adj=[414, 414]), GraphEmo(x=[414], edge_index=[2, 170982], edge_attr=[170982], y=34, movie='AfterTheRain', subject='01', timestamp_tr=66, adj=[414, 414]))\n",
      "Labels: tensor([34, 34, 47, 34, 12, 34, 27, 34, 49, 34, 34, 15, 34, 34, 27, 34, 34, 27,\n",
      "        34, 34, 42, 34,  7, 15, 34, 35, 34, 34, 49, 34, 34, 34])\n",
      "Batch size: 32\n",
      "Graph object: (GraphEmo(x=[414], edge_index=[2, 170982], edge_attr=[170982], y=34, movie='AfterTheRain', subject='01', timestamp_tr=283, adj=[414, 414]), GraphEmo(x=[414], edge_index=[2, 170982], edge_attr=[170982], y=49, movie='AfterTheRain', subject='01', timestamp_tr=335, adj=[414, 414]), GraphEmo(x=[414], edge_index=[2, 170982], edge_attr=[170982], y=34, movie='AfterTheRain', subject='01', timestamp_tr=279, adj=[414, 414]), GraphEmo(x=[414], edge_index=[2, 170982], edge_attr=[170982], y=27, movie='AfterTheRain', subject='01', timestamp_tr=94, adj=[414, 414]), GraphEmo(x=[414], edge_index=[2, 170982], edge_attr=[170982], y=15, movie='AfterTheRain', subject='01', timestamp_tr=164, adj=[414, 414]), GraphEmo(x=[414], edge_index=[2, 170982], edge_attr=[170982], y=34, movie='AfterTheRain', subject='01', timestamp_tr=293, adj=[414, 414]), GraphEmo(x=[414], edge_index=[2, 170982], edge_attr=[170982], y=34, movie='AfterTheRain', subject='01', timestamp_tr=70, adj=[414, 414]), GraphEmo(x=[414], edge_index=[2, 170982], edge_attr=[170982], y=34, movie='AfterTheRain', subject='01', timestamp_tr=255, adj=[414, 414]), GraphEmo(x=[414], edge_index=[2, 170982], edge_attr=[170982], y=34, movie='AfterTheRain', subject='01', timestamp_tr=178, adj=[414, 414]), GraphEmo(x=[414], edge_index=[2, 170982], edge_attr=[170982], y=34, movie='AfterTheRain', subject='01', timestamp_tr=330, adj=[414, 414]), GraphEmo(x=[414], edge_index=[2, 170982], edge_attr=[170982], y=34, movie='AfterTheRain', subject='01', timestamp_tr=120, adj=[414, 414]), GraphEmo(x=[414], edge_index=[2, 170982], edge_attr=[170982], y=34, movie='AfterTheRain', subject='01', timestamp_tr=197, adj=[414, 414]), GraphEmo(x=[414], edge_index=[2, 170982], edge_attr=[170982], y=34, movie='AfterTheRain', subject='01', timestamp_tr=208, adj=[414, 414]), GraphEmo(x=[414], edge_index=[2, 170982], edge_attr=[170982], y=34, movie='AfterTheRain', subject='01', timestamp_tr=73, adj=[414, 414]), GraphEmo(x=[414], edge_index=[2, 170982], edge_attr=[170982], y=47, movie='AfterTheRain', subject='01', timestamp_tr=127, adj=[414, 414]), GraphEmo(x=[414], edge_index=[2, 170982], edge_attr=[170982], y=12, movie='AfterTheRain', subject='01', timestamp_tr=116, adj=[414, 414]), GraphEmo(x=[414], edge_index=[2, 170982], edge_attr=[170982], y=34, movie='AfterTheRain', subject='01', timestamp_tr=157, adj=[414, 414]), GraphEmo(x=[414], edge_index=[2, 170982], edge_attr=[170982], y=6, movie='AfterTheRain', subject='01', timestamp_tr=62, adj=[414, 414]), GraphEmo(x=[414], edge_index=[2, 170982], edge_attr=[170982], y=47, movie='AfterTheRain', subject='01', timestamp_tr=78, adj=[414, 414]), GraphEmo(x=[414], edge_index=[2, 170982], edge_attr=[170982], y=42, movie='AfterTheRain', subject='01', timestamp_tr=310, adj=[414, 414]), GraphEmo(x=[414], edge_index=[2, 170982], edge_attr=[170982], y=34, movie='AfterTheRain', subject='01', timestamp_tr=315, adj=[414, 414]), GraphEmo(x=[414], edge_index=[2, 170982], edge_attr=[170982], y=7, movie='AfterTheRain', subject='01', timestamp_tr=278, adj=[414, 414]), GraphEmo(x=[414], edge_index=[2, 170982], edge_attr=[170982], y=27, movie='AfterTheRain', subject='01', timestamp_tr=89, adj=[414, 414]), GraphEmo(x=[414], edge_index=[2, 170982], edge_attr=[170982], y=34, movie='AfterTheRain', subject='01', timestamp_tr=227, adj=[414, 414]), GraphEmo(x=[414], edge_index=[2, 170982], edge_attr=[170982], y=34, movie='AfterTheRain', subject='01', timestamp_tr=212, adj=[414, 414]), GraphEmo(x=[414], edge_index=[2, 170982], edge_attr=[170982], y=34, movie='AfterTheRain', subject='01', timestamp_tr=302, adj=[414, 414]), GraphEmo(x=[414], edge_index=[2, 170982], edge_attr=[170982], y=34, movie='AfterTheRain', subject='01', timestamp_tr=249, adj=[414, 414]), GraphEmo(x=[414], edge_index=[2, 170982], edge_attr=[170982], y=34, movie='AfterTheRain', subject='01', timestamp_tr=323, adj=[414, 414]), GraphEmo(x=[414], edge_index=[2, 170982], edge_attr=[170982], y=42, movie='AfterTheRain', subject='01', timestamp_tr=311, adj=[414, 414]), GraphEmo(x=[414], edge_index=[2, 170982], edge_attr=[170982], y=12, movie='AfterTheRain', subject='01', timestamp_tr=287, adj=[414, 414]), GraphEmo(x=[414], edge_index=[2, 170982], edge_attr=[170982], y=34, movie='AfterTheRain', subject='01', timestamp_tr=112, adj=[414, 414]), GraphEmo(x=[414], edge_index=[2, 170982], edge_attr=[170982], y=34, movie='AfterTheRain', subject='01', timestamp_tr=296, adj=[414, 414]))\n",
      "Labels: tensor([34, 49, 34, 27, 15, 34, 34, 34, 34, 34, 34, 34, 34, 34, 47, 12, 34,  6,\n",
      "        47, 42, 34,  7, 27, 34, 34, 34, 34, 34, 42, 12, 34, 34])\n",
      "Batch size: 32\n",
      "Graph object: (GraphEmo(x=[414], edge_index=[2, 170982], edge_attr=[170982], y=34, movie='AfterTheRain', subject='01', timestamp_tr=240, adj=[414, 414]), GraphEmo(x=[414], edge_index=[2, 170982], edge_attr=[170982], y=34, movie='AfterTheRain', subject='01', timestamp_tr=201, adj=[414, 414]), GraphEmo(x=[414], edge_index=[2, 170982], edge_attr=[170982], y=34, movie='AfterTheRain', subject='01', timestamp_tr=150, adj=[414, 414]), GraphEmo(x=[414], edge_index=[2, 170982], edge_attr=[170982], y=34, movie='AfterTheRain', subject='01', timestamp_tr=219, adj=[414, 414]), GraphEmo(x=[414], edge_index=[2, 170982], edge_attr=[170982], y=34, movie='AfterTheRain', subject='01', timestamp_tr=250, adj=[414, 414]), GraphEmo(x=[414], edge_index=[2, 170982], edge_attr=[170982], y=15, movie='AfterTheRain', subject='01', timestamp_tr=171, adj=[414, 414]), GraphEmo(x=[414], edge_index=[2, 170982], edge_attr=[170982], y=34, movie='AfterTheRain', subject='01', timestamp_tr=141, adj=[414, 414]), GraphEmo(x=[414], edge_index=[2, 170982], edge_attr=[170982], y=34, movie='AfterTheRain', subject='01', timestamp_tr=313, adj=[414, 414]), GraphEmo(x=[414], edge_index=[2, 170982], edge_attr=[170982], y=12, movie='AfterTheRain', subject='01', timestamp_tr=305, adj=[414, 414]), GraphEmo(x=[414], edge_index=[2, 170982], edge_attr=[170982], y=47, movie='AfterTheRain', subject='01', timestamp_tr=276, adj=[414, 414]), GraphEmo(x=[414], edge_index=[2, 170982], edge_attr=[170982], y=27, movie='AfterTheRain', subject='01', timestamp_tr=107, adj=[414, 414]), GraphEmo(x=[414], edge_index=[2, 170982], edge_attr=[170982], y=34, movie='AfterTheRain', subject='01', timestamp_tr=114, adj=[414, 414]), GraphEmo(x=[414], edge_index=[2, 170982], edge_attr=[170982], y=34, movie='AfterTheRain', subject='01', timestamp_tr=182, adj=[414, 414]), GraphEmo(x=[414], edge_index=[2, 170982], edge_attr=[170982], y=34, movie='AfterTheRain', subject='01', timestamp_tr=140, adj=[414, 414]), GraphEmo(x=[414], edge_index=[2, 170982], edge_attr=[170982], y=34, movie='AfterTheRain', subject='01', timestamp_tr=87, adj=[414, 414]), GraphEmo(x=[414], edge_index=[2, 170982], edge_attr=[170982], y=34, movie='AfterTheRain', subject='01', timestamp_tr=69, adj=[414, 414]), GraphEmo(x=[414], edge_index=[2, 170982], edge_attr=[170982], y=34, movie='AfterTheRain', subject='01', timestamp_tr=291, adj=[414, 414]), GraphEmo(x=[414], edge_index=[2, 170982], edge_attr=[170982], y=49, movie='AfterTheRain', subject='01', timestamp_tr=348, adj=[414, 414]), GraphEmo(x=[414], edge_index=[2, 170982], edge_attr=[170982], y=34, movie='AfterTheRain', subject='01', timestamp_tr=232, adj=[414, 414]), GraphEmo(x=[414], edge_index=[2, 170982], edge_attr=[170982], y=34, movie='AfterTheRain', subject='01', timestamp_tr=234, adj=[414, 414]), GraphEmo(x=[414], edge_index=[2, 170982], edge_attr=[170982], y=34, movie='AfterTheRain', subject='01', timestamp_tr=251, adj=[414, 414]), GraphEmo(x=[414], edge_index=[2, 170982], edge_attr=[170982], y=34, movie='AfterTheRain', subject='01', timestamp_tr=205, adj=[414, 414]), GraphEmo(x=[414], edge_index=[2, 170982], edge_attr=[170982], y=34, movie='AfterTheRain', subject='01', timestamp_tr=123, adj=[414, 414]), GraphEmo(x=[414], edge_index=[2, 170982], edge_attr=[170982], y=47, movie='AfterTheRain', subject='01', timestamp_tr=126, adj=[414, 414]), GraphEmo(x=[414], edge_index=[2, 170982], edge_attr=[170982], y=34, movie='AfterTheRain', subject='01', timestamp_tr=233, adj=[414, 414]), GraphEmo(x=[414], edge_index=[2, 170982], edge_attr=[170982], y=34, movie='AfterTheRain', subject='01', timestamp_tr=264, adj=[414, 414]), GraphEmo(x=[414], edge_index=[2, 170982], edge_attr=[170982], y=32, movie='AfterTheRain', subject='01', timestamp_tr=119, adj=[414, 414]), GraphEmo(x=[414], edge_index=[2, 170982], edge_attr=[170982], y=34, movie='AfterTheRain', subject='01', timestamp_tr=85, adj=[414, 414]), GraphEmo(x=[414], edge_index=[2, 170982], edge_attr=[170982], y=42, movie='AfterTheRain', subject='01', timestamp_tr=307, adj=[414, 414]), GraphEmo(x=[414], edge_index=[2, 170982], edge_attr=[170982], y=32, movie='AfterTheRain', subject='01', timestamp_tr=194, adj=[414, 414]), GraphEmo(x=[414], edge_index=[2, 170982], edge_attr=[170982], y=34, movie='AfterTheRain', subject='01', timestamp_tr=228, adj=[414, 414]), GraphEmo(x=[414], edge_index=[2, 170982], edge_attr=[170982], y=34, movie='AfterTheRain', subject='01', timestamp_tr=121, adj=[414, 414]))\n",
      "Labels: tensor([34, 34, 34, 34, 34, 15, 34, 34, 12, 47, 27, 34, 34, 34, 34, 34, 34, 49,\n",
      "        34, 34, 34, 34, 34, 47, 34, 34, 32, 34, 42, 32, 34, 34])\n",
      "Batch size: 5\n",
      "Graph object: (GraphEmo(x=[414], edge_index=[2, 170982], edge_attr=[170982], y=34, movie='AfterTheRain', subject='01', timestamp_tr=154, adj=[414, 414]), GraphEmo(x=[414], edge_index=[2, 170982], edge_attr=[170982], y=34, movie='AfterTheRain', subject='01', timestamp_tr=79, adj=[414, 414]), GraphEmo(x=[414], edge_index=[2, 170982], edge_attr=[170982], y=34, movie='AfterTheRain', subject='01', timestamp_tr=274, adj=[414, 414]), GraphEmo(x=[414], edge_index=[2, 170982], edge_attr=[170982], y=7, movie='AfterTheRain', subject='01', timestamp_tr=81, adj=[414, 414]), GraphEmo(x=[414], edge_index=[2, 170982], edge_attr=[170982], y=49, movie='AfterTheRain', subject='01', timestamp_tr=347, adj=[414, 414]))\n",
      "Labels: tensor([34, 34, 34,  7, 49])\n"
     ]
    }
   ],
   "source": [
    "dataloader = DataLoaderEmo(dataset= dataset, batch_size=batch_size, shuffle=True)\n",
    "\n",
    "# Retrieve and print a single batch\n",
    "for graphs, labels in dataloader:\n",
    "    print(f'Batch size: {len(graphs)}')  # Number of graphs in the batch\n",
    "    print(f'Graph object: {graphs}')  # Show the graph object\n",
    "    print(f'Labels: {labels}')  # Show the labels"
   ]
  },
  {
   "cell_type": "code",
   "execution_count": 23,
   "metadata": {},
   "outputs": [
    {
     "name": "stdout",
     "output_type": "stream",
     "text": [
      "Epoch 1/2, Batch 1/10.0, Batch Size 32\n",
      "Epoch 1/2, Batch 2/10.0, Batch Size 32\n",
      "Epoch 1/2, Batch 3/10.0, Batch Size 32\n",
      "Epoch 1/2, Batch 4/10.0, Batch Size 32\n",
      "Epoch 1/2, Batch 5/10.0, Batch Size 32\n",
      "Epoch 1/2, Batch 6/10.0, Batch Size 32\n",
      "Epoch 1/2, Batch 7/10.0, Batch Size 32\n",
      "Epoch 1/2, Batch 8/10.0, Batch Size 32\n",
      "Epoch 1/2, Batch 9/10.0, Batch Size 32\n",
      "Epoch 1/2, Batch 10/10.0, Batch Size 32\n",
      "Epoch 2/2, Batch 1/10.0, Batch Size 32\n",
      "Epoch 2/2, Batch 2/10.0, Batch Size 32\n",
      "Epoch 2/2, Batch 3/10.0, Batch Size 32\n",
      "Epoch 2/2, Batch 4/10.0, Batch Size 32\n",
      "Epoch 2/2, Batch 5/10.0, Batch Size 32\n",
      "Epoch 2/2, Batch 6/10.0, Batch Size 32\n",
      "Epoch 2/2, Batch 7/10.0, Batch Size 32\n",
      "Epoch 2/2, Batch 8/10.0, Batch Size 32\n",
      "Epoch 2/2, Batch 9/10.0, Batch Size 32\n",
      "Epoch 2/2, Batch 10/10.0, Batch Size 32\n"
     ]
    }
   ],
   "source": [
    "num_epochs = 2\n",
    "tot_samples = len(dataset)\n",
    "n_iteration = np.ceil(tot_samples/batch_size) #n_iteration in each epoch (how many times eahc epoch i update the weights)\n",
    "\n",
    "for epoch in range(num_epochs):\n",
    "    \n",
    "    for i, (graphs, labels) in enumerate(dataloader): #each time it return a new batch\n",
    "\n",
    "        if (i+1)%1 == 0:\n",
    "            print(f\"Epoch {epoch+1}/{num_epochs}, Batch {i+1}/{n_iteration}, Batch Size {batch_size}\")\n",
    "        #forward\n",
    "        #backwards\n",
    "        #update weigths"
   ]
  }
 ],
 "metadata": {
  "kernelspec": {
   "display_name": "gnn_e",
   "language": "python",
   "name": "python3"
  },
  "language_info": {
   "codemirror_mode": {
    "name": "ipython",
    "version": 3
   },
   "file_extension": ".py",
   "mimetype": "text/x-python",
   "name": "python",
   "nbconvert_exporter": "python",
   "pygments_lexer": "ipython3",
   "version": "3.9.20"
  }
 },
 "nbformat": 4,
 "nbformat_minor": 2
}
