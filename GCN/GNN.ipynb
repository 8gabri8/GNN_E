{
 "cells": [
  {
   "cell_type": "code",
   "execution_count": 1,
   "metadata": {},
   "outputs": [
    {
     "name": "stderr",
     "output_type": "stream",
     "text": [
      "/home/zhzhou/.conda/envs/GNN_E/lib/python3.7/site-packages/tqdm/auto.py:21: TqdmWarning: IProgress not found. Please update jupyter and ipywidgets. See https://ipywidgets.readthedocs.io/en/stable/user_install.html\n",
      "  from .autonotebook import tqdm as notebook_tqdm\n"
     ]
    }
   ],
   "source": [
    "%load_ext autoreload\n",
    "%autoreload 2\n",
    "%reload_ext autoreload\n",
    "import os\n",
    "os.chdir(\"/home/zhzhou/GNN_E\")\n",
    "import numpy as np\n",
    "import pandas as pd\n",
    "import torch\n",
    "from torch_geometric.loader import DataLoader\n",
    "from math import ceil\n",
    "from utils_models import *\n",
    "from scripts.models import *\n",
    "from GCN_models import *"
   ]
  },
  {
   "cell_type": "code",
   "execution_count": 2,
   "metadata": {},
   "outputs": [],
   "source": [
    "#data_path = 'data/processed/all_movies_labelled_13_single.csv'\n",
    "data_path = '/home/dalai/GNN_E/data/processed/all_movies_labelled_13_single_balanced.csv'\n",
    "df =  pd.read_csv(data_path, index_col=0)"
   ]
  },
  {
   "cell_type": "code",
   "execution_count": 3,
   "metadata": {},
   "outputs": [
    {
     "data": {
      "text/html": [
       "<div>\n",
       "<style scoped>\n",
       "    .dataframe tbody tr th:only-of-type {\n",
       "        vertical-align: middle;\n",
       "    }\n",
       "\n",
       "    .dataframe tbody tr th {\n",
       "        vertical-align: top;\n",
       "    }\n",
       "\n",
       "    .dataframe thead th {\n",
       "        text-align: right;\n",
       "    }\n",
       "</style>\n",
       "<table border=\"1\" class=\"dataframe\">\n",
       "  <thead>\n",
       "    <tr style=\"text-align: right;\">\n",
       "      <th></th>\n",
       "      <th>Unnamed: 0.1</th>\n",
       "      <th>vindex</th>\n",
       "      <th>score</th>\n",
       "      <th>id</th>\n",
       "      <th>movie</th>\n",
       "      <th>timestamp_tr</th>\n",
       "      <th>label</th>\n",
       "    </tr>\n",
       "  </thead>\n",
       "  <tbody>\n",
       "    <tr>\n",
       "      <th>0</th>\n",
       "      <td>0</td>\n",
       "      <td>0</td>\n",
       "      <td>-21.180140</td>\n",
       "      <td>1</td>\n",
       "      <td>0</td>\n",
       "      <td>0</td>\n",
       "      <td>-1</td>\n",
       "    </tr>\n",
       "    <tr>\n",
       "      <th>1</th>\n",
       "      <td>1</td>\n",
       "      <td>0</td>\n",
       "      <td>-14.295689</td>\n",
       "      <td>1</td>\n",
       "      <td>0</td>\n",
       "      <td>1</td>\n",
       "      <td>-1</td>\n",
       "    </tr>\n",
       "    <tr>\n",
       "      <th>2</th>\n",
       "      <td>2</td>\n",
       "      <td>0</td>\n",
       "      <td>-5.882564</td>\n",
       "      <td>1</td>\n",
       "      <td>0</td>\n",
       "      <td>2</td>\n",
       "      <td>-1</td>\n",
       "    </tr>\n",
       "    <tr>\n",
       "      <th>3</th>\n",
       "      <td>3</td>\n",
       "      <td>0</td>\n",
       "      <td>30.127113</td>\n",
       "      <td>1</td>\n",
       "      <td>0</td>\n",
       "      <td>3</td>\n",
       "      <td>-1</td>\n",
       "    </tr>\n",
       "    <tr>\n",
       "      <th>4</th>\n",
       "      <td>4</td>\n",
       "      <td>0</td>\n",
       "      <td>41.830845</td>\n",
       "      <td>1</td>\n",
       "      <td>0</td>\n",
       "      <td>4</td>\n",
       "      <td>-1</td>\n",
       "    </tr>\n",
       "  </tbody>\n",
       "</table>\n",
       "</div>"
      ],
      "text/plain": [
       "   Unnamed: 0.1  vindex      score  id  movie  timestamp_tr  label\n",
       "0             0       0 -21.180140   1      0             0     -1\n",
       "1             1       0 -14.295689   1      0             1     -1\n",
       "2             2       0  -5.882564   1      0             2     -1\n",
       "3             3       0  30.127113   1      0             3     -1\n",
       "4             4       0  41.830845   1      0             4     -1"
      ]
     },
     "execution_count": 3,
     "metadata": {},
     "output_type": "execute_result"
    }
   ],
   "source": [
    "df.head()"
   ]
  },
  {
   "cell_type": "code",
   "execution_count": 4,
   "metadata": {},
   "outputs": [],
   "source": [
    "df_single = df[df.movie==9]"
   ]
  },
  {
   "cell_type": "code",
   "execution_count": 5,
   "metadata": {},
   "outputs": [
    {
     "data": {
      "text/html": [
       "<div>\n",
       "<style scoped>\n",
       "    .dataframe tbody tr th:only-of-type {\n",
       "        vertical-align: middle;\n",
       "    }\n",
       "\n",
       "    .dataframe tbody tr th {\n",
       "        vertical-align: top;\n",
       "    }\n",
       "\n",
       "    .dataframe thead th {\n",
       "        text-align: right;\n",
       "    }\n",
       "</style>\n",
       "<table border=\"1\" class=\"dataframe\">\n",
       "  <thead>\n",
       "    <tr style=\"text-align: right;\">\n",
       "      <th></th>\n",
       "      <th>Unnamed: 0.1</th>\n",
       "      <th>vindex</th>\n",
       "      <th>score</th>\n",
       "      <th>id</th>\n",
       "      <th>movie</th>\n",
       "      <th>timestamp_tr</th>\n",
       "      <th>label</th>\n",
       "    </tr>\n",
       "  </thead>\n",
       "  <tbody>\n",
       "    <tr>\n",
       "      <th>74802348</th>\n",
       "      <td>74802348</td>\n",
       "      <td>0</td>\n",
       "      <td>61.011930</td>\n",
       "      <td>1</td>\n",
       "      <td>9</td>\n",
       "      <td>0</td>\n",
       "      <td>-1</td>\n",
       "    </tr>\n",
       "    <tr>\n",
       "      <th>74802349</th>\n",
       "      <td>74802349</td>\n",
       "      <td>0</td>\n",
       "      <td>32.491920</td>\n",
       "      <td>1</td>\n",
       "      <td>9</td>\n",
       "      <td>1</td>\n",
       "      <td>-1</td>\n",
       "    </tr>\n",
       "    <tr>\n",
       "      <th>74802350</th>\n",
       "      <td>74802350</td>\n",
       "      <td>0</td>\n",
       "      <td>57.399090</td>\n",
       "      <td>1</td>\n",
       "      <td>9</td>\n",
       "      <td>2</td>\n",
       "      <td>-1</td>\n",
       "    </tr>\n",
       "    <tr>\n",
       "      <th>74802351</th>\n",
       "      <td>74802351</td>\n",
       "      <td>0</td>\n",
       "      <td>20.886257</td>\n",
       "      <td>1</td>\n",
       "      <td>9</td>\n",
       "      <td>3</td>\n",
       "      <td>-1</td>\n",
       "    </tr>\n",
       "    <tr>\n",
       "      <th>74802352</th>\n",
       "      <td>74802352</td>\n",
       "      <td>0</td>\n",
       "      <td>30.854342</td>\n",
       "      <td>1</td>\n",
       "      <td>9</td>\n",
       "      <td>4</td>\n",
       "      <td>-1</td>\n",
       "    </tr>\n",
       "  </tbody>\n",
       "</table>\n",
       "</div>"
      ],
      "text/plain": [
       "          Unnamed: 0.1  vindex      score  id  movie  timestamp_tr  label\n",
       "74802348      74802348       0  61.011930   1      9             0     -1\n",
       "74802349      74802349       0  32.491920   1      9             1     -1\n",
       "74802350      74802350       0  57.399090   1      9             2     -1\n",
       "74802351      74802351       0  20.886257   1      9             3     -1\n",
       "74802352      74802352       0  30.854342   1      9             4     -1"
      ]
     },
     "execution_count": 5,
     "metadata": {},
     "output_type": "execute_result"
    }
   ],
   "source": [
    "df_single.head()"
   ]
  },
  {
   "cell_type": "code",
   "execution_count": 6,
   "metadata": {},
   "outputs": [
    {
     "data": {
      "text/plain": [
       "'/home/zhzhou/GNN_E'"
      ]
     },
     "execution_count": 6,
     "metadata": {},
     "output_type": "execute_result"
    }
   ],
   "source": [
    "os.getcwd()"
   ]
  },
  {
   "cell_type": "code",
   "execution_count": 7,
   "metadata": {},
   "outputs": [],
   "source": [
    "from pickle5 import pickle as pkl\n",
    "with open(\"/home/dalai/GNN_E/data/raw/labels/run_onsets.pkl\", \"rb\") as file:\n",
    "    delta_time = pkl.load(file)"
   ]
  },
  {
   "cell_type": "code",
   "execution_count": 8,
   "metadata": {},
   "outputs": [
    {
     "name": "stdout",
     "output_type": "stream",
     "text": [
      "\n",
      "Movie: Superhero\n",
      "  Start Time (TR)+4: 80\n",
      "  Total Length (TR): 791\n",
      "  Train End (TR): 712\n",
      "  Validation End (TR): 712\n",
      "  Movie End (TR): 871\n",
      "Movies in this df: [9]\n"
     ]
    },
    {
     "name": "stderr",
     "output_type": "stream",
     "text": [
      "Processing 9 1: 100%|██████████| 344/344 [00:08<00:00, 40.20timepoint/s]\n",
      "Processing 9 2: 100%|██████████| 349/349 [00:08<00:00, 40.93timepoint/s]\n",
      "Processing 9 3: 100%|██████████| 340/340 [00:08<00:00, 38.22timepoint/s]\n",
      "Processing 9 4: 100%|██████████| 330/330 [00:08<00:00, 39.23timepoint/s]\n",
      "Processing 9 5: 100%|██████████| 336/336 [00:08<00:00, 39.71timepoint/s]\n",
      "Processing 9 6: 100%|██████████| 352/352 [00:08<00:00, 40.27timepoint/s]\n",
      "Processing 9 7: 100%|██████████| 338/338 [00:09<00:00, 36.70timepoint/s]\n",
      "Processing 9 8: 100%|██████████| 332/332 [00:08<00:00, 38.33timepoint/s]\n",
      "Processing 9 9: 100%|██████████| 345/345 [00:08<00:00, 40.86timepoint/s]\n",
      "Processing 9 10: 100%|██████████| 352/352 [00:08<00:00, 39.43timepoint/s]\n",
      "Processing 9 11: 100%|██████████| 336/336 [00:08<00:00, 37.35timepoint/s]\n",
      "Processing 9 13: 100%|██████████| 343/343 [00:08<00:00, 42.57timepoint/s]\n",
      "Processing 9 14: 100%|██████████| 351/351 [00:08<00:00, 41.26timepoint/s]\n",
      "Processing 9 15: 100%|██████████| 345/345 [00:08<00:00, 39.99timepoint/s]\n",
      "Processing 9 16: 100%|██████████| 351/351 [00:08<00:00, 40.44timepoint/s]\n",
      "Processing 9 17: 100%|██████████| 330/330 [00:09<00:00, 35.92timepoint/s]\n",
      "Processing 9 19: 100%|██████████| 357/357 [00:11<00:00, 32.31timepoint/s]\n",
      "Processing 9 20: 100%|██████████| 348/348 [00:10<00:00, 33.04timepoint/s]\n",
      "Processing 9 21: 100%|██████████| 333/333 [00:08<00:00, 40.60timepoint/s]\n",
      "Processing 9 22: 100%|██████████| 373/373 [00:09<00:00, 38.91timepoint/s]\n",
      "Processing 9 23: 100%|██████████| 356/356 [00:08<00:00, 40.58timepoint/s]\n",
      "Processing 9 24: 100%|██████████| 349/349 [00:08<00:00, 41.03timepoint/s]\n",
      "Processing 9 25: 100%|██████████| 361/361 [00:08<00:00, 40.79timepoint/s]\n",
      "Processing 9 26: 100%|██████████| 349/349 [00:08<00:00, 40.43timepoint/s]\n",
      "Processing 9 27: 100%|██████████| 329/329 [00:09<00:00, 33.51timepoint/s]\n",
      "Processing 9 28: 100%|██████████| 331/331 [00:09<00:00, 36.55timepoint/s]\n",
      "Processing 9 29: 100%|██████████| 339/339 [00:08<00:00, 39.88timepoint/s]\n",
      "Processing 9 30: 100%|██████████| 335/335 [00:08<00:00, 39.77timepoint/s]\n",
      "Processing 9 31: 100%|██████████| 353/353 [00:08<00:00, 40.23timepoint/s]\n",
      "Processing 9 32: 100%|██████████| 347/347 [00:11<00:00, 31.19timepoint/s]\n"
     ]
    },
    {
     "name": "stdout",
     "output_type": "stream",
     "text": [
      "Movies in this df: [9]\n"
     ]
    },
    {
     "name": "stderr",
     "output_type": "stream",
     "text": [
      "Processing 9 1: 100%|██████████| 42/42 [00:01<00:00, 40.25timepoint/s]\n",
      "Processing 9 2: 100%|██████████| 49/49 [00:01<00:00, 42.23timepoint/s]\n",
      "Processing 9 3: 100%|██████████| 50/50 [00:01<00:00, 42.69timepoint/s]\n",
      "Processing 9 4: 100%|██████████| 58/58 [00:01<00:00, 40.43timepoint/s]\n",
      "Processing 9 5: 100%|██████████| 65/65 [00:01<00:00, 39.39timepoint/s]\n",
      "Processing 9 6: 100%|██████████| 58/58 [00:01<00:00, 42.21timepoint/s]\n",
      "Processing 9 7: 100%|██████████| 52/52 [00:01<00:00, 44.39timepoint/s]\n",
      "Processing 9 8: 100%|██████████| 63/63 [00:01<00:00, 44.85timepoint/s]\n",
      "Processing 9 9: 100%|██████████| 48/48 [00:01<00:00, 46.03timepoint/s]\n",
      "Processing 9 10: 100%|██████████| 61/61 [00:01<00:00, 40.05timepoint/s]\n",
      "Processing 9 11: 100%|██████████| 60/60 [00:01<00:00, 41.82timepoint/s]\n",
      "Processing 9 13: 100%|██████████| 56/56 [00:01<00:00, 40.37timepoint/s]\n",
      "Processing 9 14: 100%|██████████| 50/50 [00:01<00:00, 42.12timepoint/s]\n",
      "Processing 9 15: 100%|██████████| 56/56 [00:01<00:00, 37.40timepoint/s]\n",
      "Processing 9 16: 100%|██████████| 66/66 [00:01<00:00, 37.19timepoint/s]\n",
      "Processing 9 17: 100%|██████████| 52/52 [00:01<00:00, 36.31timepoint/s]\n",
      "Processing 9 19: 100%|██████████| 45/45 [00:01<00:00, 42.32timepoint/s]\n",
      "Processing 9 20: 100%|██████████| 54/54 [00:01<00:00, 38.13timepoint/s]\n",
      "Processing 9 21: 100%|██████████| 55/55 [00:01<00:00, 37.47timepoint/s]\n",
      "Processing 9 22: 100%|██████████| 59/59 [00:01<00:00, 36.82timepoint/s]\n",
      "Processing 9 23: 100%|██████████| 57/57 [00:01<00:00, 39.67timepoint/s]\n",
      "Processing 9 24: 100%|██████████| 59/59 [00:01<00:00, 43.61timepoint/s]\n",
      "Processing 9 25: 100%|██████████| 52/52 [00:01<00:00, 43.54timepoint/s]\n",
      "Processing 9 26: 100%|██████████| 49/49 [00:01<00:00, 39.67timepoint/s]\n",
      "Processing 9 27: 100%|██████████| 51/51 [00:01<00:00, 38.87timepoint/s]\n",
      "Processing 9 28: 100%|██████████| 58/58 [00:01<00:00, 40.64timepoint/s]\n",
      "Processing 9 29: 100%|██████████| 50/50 [00:01<00:00, 38.05timepoint/s]\n",
      "Processing 9 30: 100%|██████████| 54/54 [00:01<00:00, 41.57timepoint/s]\n",
      "Processing 9 31: 100%|██████████| 57/57 [00:01<00:00, 35.59timepoint/s]\n",
      "Processing 9 32: 100%|██████████| 68/68 [00:01<00:00, 40.53timepoint/s]\n"
     ]
    }
   ],
   "source": [
    "from pickle5 import pickle as pkl\n",
    "DEVICE = 'cuda' if torch.cuda.is_available() else 'cpu'\n",
    "df_train,_, df_test = df_train, df_val, df_test = split_train_val_test_horizontally(\n",
    "        df_single, \n",
    "        percentage_val=0, #0 to not have nay val set\n",
    "        path_pickle_delay=\"/home/dalai/GNN_E/data/raw/labels/run_onsets.pkl\",\n",
    "        path_movie_title_mapping=\"data/raw/labels/category_mapping_movies.csv\", \n",
    "        tr_len=1.3\n",
    "    )\n",
    "dataset_train = DatasetEmo(df_train, device=DEVICE,initial_adj_method='FN_edgeAttr_FC_window', node_feat=\"symmetricwindow\")\n",
    "dataset_test = DatasetEmo(df_test, device = DEVICE,initial_adj_method='FN_edgeAttr_FC_window', node_feat=\"symmetricwindow\")\n",
    "\n",
    "graphs_list_train = dataset_train.get_graphs_list()\n",
    "graphs_list_test = dataset_test.get_graphs_list()\n"
   ]
  },
  {
   "cell_type": "code",
   "execution_count": 9,
   "metadata": {},
   "outputs": [
    {
     "name": "stdout",
     "output_type": "stream",
     "text": [
      "There are 10334 graphs in the train set.\n",
      "There are 1654 graphs in the test set.\n",
      "N batches in train: 646\n",
      "N batches in test: 104\n"
     ]
    }
   ],
   "source": [
    "from torch_geometric.loader import DataLoader\n",
    "from math import ceil\n",
    "batch_size = 16\n",
    "train_loader = DataLoader(graphs_list_train, batch_size=batch_size, num_workers=4, persistent_workers=True)\n",
    "test_loader = DataLoader(graphs_list_test, batch_size=batch_size, num_workers=4, persistent_workers=True)\n",
    "\n",
    "num_batches_train = ceil(len(graphs_list_train) / batch_size)\n",
    "num_batches_test = ceil(len(graphs_list_test) / batch_size)\n",
    "\n",
    "print(f\"There are {len(graphs_list_train)} graphs in the train set.\")\n",
    "print(f\"There are {len(graphs_list_test)} graphs in the test set.\")\n",
    "print(f\"N batches in train: {num_batches_train}\")\n",
    "print(f\"N batches in test: {num_batches_test}\")"
   ]
  },
  {
   "cell_type": "code",
   "execution_count": 10,
   "metadata": {},
   "outputs": [
    {
     "data": {
      "text/plain": [
       "tensor([[113, 113, 113,  ..., 412, 413, 413],\n",
       "        [114, 115, 116,  ..., 411, 411, 412]])"
      ]
     },
     "execution_count": 10,
     "metadata": {},
     "output_type": "execute_result"
    }
   ],
   "source": [
    "graphs_list_test[0].edge_index"
   ]
  },
  {
   "cell_type": "code",
   "execution_count": 11,
   "metadata": {},
   "outputs": [
    {
     "data": {
      "text/plain": [
       "1"
      ]
     },
     "execution_count": 11,
     "metadata": {},
     "output_type": "execute_result"
    }
   ],
   "source": [
    "import networkx as nx\n",
    "#edge_index = graphs_list_test[0].edge_index.numpy()\n",
    "edge_index = graphs_list_test[0].edge_index.numpy()\n",
    "edge_attr = graphs_list_test[0].edge_attr.numpy()\n",
    "G = nx.Graph()\n",
    "\n",
    "# Add edges with weights\n",
    "for i in range(edge_index.shape[1]):\n",
    "    u, v = edge_index[:, i]\n",
    "    weight = 1 if graphs_list_test[0].edge_attr is not None else 0  # Default weight to 1 if edge_attr is not provided\n",
    "    G.add_edge(u, v, weight=weight)\n",
    "nx.diameter(G)"
   ]
  },
  {
   "cell_type": "code",
   "execution_count": 12,
   "metadata": {},
   "outputs": [
    {
     "data": {
      "text/plain": [
       "(2, 1560)"
      ]
     },
     "execution_count": 12,
     "metadata": {},
     "output_type": "execute_result"
    }
   ],
   "source": [
    "edge_index.shape"
   ]
  },
  {
   "cell_type": "code",
   "execution_count": 13,
   "metadata": {},
   "outputs": [
    {
     "name": "stdout",
     "output_type": "stream",
     "text": [
      "[113, 411]\n"
     ]
    }
   ],
   "source": [
    "source = 113\n",
    "target = 411\n",
    "shortest_path = nx.shortest_path(G, source=source, target=target, weight='weight')\n",
    "print(shortest_path)"
   ]
  },
  {
   "cell_type": "code",
   "execution_count": 14,
   "metadata": {},
   "outputs": [
    {
     "data": {
      "text/plain": [
       "torch.Size([2, 1560])"
      ]
     },
     "execution_count": 14,
     "metadata": {},
     "output_type": "execute_result"
    }
   ],
   "source": [
    "graphs_list_test[0].edge_index.shape"
   ]
  },
  {
   "cell_type": "code",
   "execution_count": 15,
   "metadata": {},
   "outputs": [
    {
     "name": "stdout",
     "output_type": "stream",
     "text": [
      "True\n"
     ]
    },
    {
     "name": "stderr",
     "output_type": "stream",
     "text": [
      "                                                                                       \r"
     ]
    },
    {
     "name": "stdout",
     "output_type": "stream",
     "text": [
      "\tEpoch 1/10, Loss: 2.7767588828370298, Train accuracy: 0.1043158505902845\n",
      "\n"
     ]
    },
    {
     "name": "stderr",
     "output_type": "stream",
     "text": [
      "                                                                                      \r"
     ]
    },
    {
     "name": "stdout",
     "output_type": "stream",
     "text": [
      "\tEpoch 1/10, Loss: 3.3222, test accuracy: 0.0895\n",
      "\n"
     ]
    },
    {
     "name": "stderr",
     "output_type": "stream",
     "text": [
      "                                                                                       \r"
     ]
    },
    {
     "name": "stdout",
     "output_type": "stream",
     "text": [
      "\tEpoch 2/10, Loss: 2.6814476185169753, Train accuracy: 0.13160441261854075\n",
      "\n"
     ]
    },
    {
     "name": "stderr",
     "output_type": "stream",
     "text": [
      "                                                                                     \r"
     ]
    },
    {
     "name": "stdout",
     "output_type": "stream",
     "text": [
      "\tEpoch 2/10, Loss: 4.0014, test accuracy: 0.0919\n",
      "\n"
     ]
    },
    {
     "name": "stderr",
     "output_type": "stream",
     "text": [
      "                                                                                       \r"
     ]
    },
    {
     "name": "stdout",
     "output_type": "stream",
     "text": [
      "\tEpoch 3/10, Loss: 2.668400657804389, Train accuracy: 0.12405651248306561\n",
      "\n"
     ]
    },
    {
     "name": "stderr",
     "output_type": "stream",
     "text": [
      "                                                                                     \r"
     ]
    },
    {
     "name": "stdout",
     "output_type": "stream",
     "text": [
      "\tEpoch 3/10, Loss: 3.5019, test accuracy: 0.1082\n",
      "\n"
     ]
    },
    {
     "name": "stderr",
     "output_type": "stream",
     "text": [
      "                                                                                       \r"
     ]
    },
    {
     "name": "stdout",
     "output_type": "stream",
     "text": [
      "\tEpoch 4/10, Loss: 2.5661886697952223, Train accuracy: 0.125895103541707\n",
      "\n"
     ]
    },
    {
     "name": "stderr",
     "output_type": "stream",
     "text": [
      "                                                                                      \r"
     ]
    },
    {
     "name": "stdout",
     "output_type": "stream",
     "text": [
      "\tEpoch 4/10, Loss: 4.1915, test accuracy: 0.1076\n",
      "\n"
     ]
    },
    {
     "name": "stderr",
     "output_type": "stream",
     "text": [
      "                                                                                       \r"
     ]
    },
    {
     "name": "stdout",
     "output_type": "stream",
     "text": [
      "\tEpoch 5/10, Loss: 2.6043465656023645, Train accuracy: 0.13721695374491968\n",
      "\n"
     ]
    },
    {
     "name": "stderr",
     "output_type": "stream",
     "text": [
      "                                                                                     \r"
     ]
    },
    {
     "name": "stdout",
     "output_type": "stream",
     "text": [
      "\tEpoch 5/10, Loss: 3.4024, test accuracy: 0.1227\n",
      "\n"
     ]
    },
    {
     "name": "stderr",
     "output_type": "stream",
     "text": [
      "                                                                                       \r"
     ]
    },
    {
     "name": "stdout",
     "output_type": "stream",
     "text": [
      "\tEpoch 6/10, Loss: 2.5263826059114085, Train accuracy: 0.1259918714921618\n",
      "\n"
     ]
    },
    {
     "name": "stderr",
     "output_type": "stream",
     "text": [
      "                                                                                     \r"
     ]
    },
    {
     "name": "stdout",
     "output_type": "stream",
     "text": [
      "\tEpoch 6/10, Loss: 3.4365, test accuracy: 0.1167\n",
      "\n"
     ]
    },
    {
     "name": "stderr",
     "output_type": "stream",
     "text": [
      "                                                                                       \r"
     ]
    },
    {
     "name": "stdout",
     "output_type": "stream",
     "text": [
      "\tEpoch 7/10, Loss: 2.5463290221919954, Train accuracy: 0.12531449583897813\n",
      "\n"
     ]
    },
    {
     "name": "stderr",
     "output_type": "stream",
     "text": [
      "                                                                                     \r"
     ]
    },
    {
     "name": "stdout",
     "output_type": "stream",
     "text": [
      "\tEpoch 7/10, Loss: 3.3311, test accuracy: 0.1245\n",
      "\n"
     ]
    },
    {
     "name": "stderr",
     "output_type": "stream",
     "text": [
      "                                                                                       \r"
     ]
    },
    {
     "name": "stdout",
     "output_type": "stream",
     "text": [
      "\tEpoch 8/10, Loss: 2.488755767744023, Train accuracy: 0.12841107025353202\n",
      "\n"
     ]
    },
    {
     "name": "stderr",
     "output_type": "stream",
     "text": [
      "                                                                                     \r"
     ]
    },
    {
     "name": "stdout",
     "output_type": "stream",
     "text": [
      "\tEpoch 8/10, Loss: 3.2573, test accuracy: 0.1227\n",
      "\n"
     ]
    },
    {
     "name": "stderr",
     "output_type": "stream",
     "text": [
      "                                                                                      \r"
     ]
    },
    {
     "name": "stdout",
     "output_type": "stream",
     "text": [
      "\tEpoch 9/10, Loss: 2.4959813142339513, Train accuracy: 0.1271530868976195\n",
      "\n"
     ]
    },
    {
     "name": "stderr",
     "output_type": "stream",
     "text": [
      "                                                                                      \r"
     ]
    },
    {
     "name": "stdout",
     "output_type": "stream",
     "text": [
      "\tEpoch 9/10, Loss: 3.3983, test accuracy: 0.1191\n",
      "\n"
     ]
    },
    {
     "name": "stderr",
     "output_type": "stream",
     "text": [
      "                                                                                        \r"
     ]
    },
    {
     "name": "stdout",
     "output_type": "stream",
     "text": [
      "\tEpoch 10/10, Loss: 2.507278174254178, Train accuracy: 0.12647571124443585\n",
      "\n"
     ]
    },
    {
     "name": "stderr",
     "output_type": "stream",
     "text": [
      "                                                                                      \r"
     ]
    },
    {
     "name": "stdout",
     "output_type": "stream",
     "text": [
      "\tEpoch 10/10, Loss: 3.2117, test accuracy: 0.1197\n",
      "\n"
     ]
    }
   ],
   "source": [
    "from tqdm import tqdm\n",
    "input_dim = 9 \n",
    "hidden_dim1 = 128\n",
    "hidden_dim2 = 64\n",
    "output_dim = 13  # Number of classes\n",
    "print(isinstance(SimpleGCN(9, 64,32, 13), nn.Module))\n",
    "model = SimpleGCN(input_dim, hidden_dim1, hidden_dim2, output_dim).to(DEVICE)\n",
    "\n",
    "optimizer = torch.optim.Adam(model.parameters(), lr=0.05)\n",
    "loss_fn = torch.nn.CrossEntropyLoss()\n",
    "num_epochs = 1\n",
    "# Training loop\n",
    "torch.cuda.empty_cache()\n",
    "model, results_dict = GCN_train(model=model, optimizer=optimizer, loss_fn=loss_fn, \n",
    "                                    train_loader=train_loader, test_loader=test_loader, device=DEVICE, num_epochs=10)\n"
   ]
  },
  {
   "cell_type": "code",
   "execution_count": null,
   "metadata": {},
   "outputs": [
    {
     "data": {
      "image/png": "[encoded data removed]",
      "text/plain": [
       "<Figure size 640x480 with 1 Axes>"
      ]
     },
     "metadata": {},
     "output_type": "display_data"
    }
   ],
   "source": [
    "all_labels = torch.cat(results_dict['best_prediction']).cpu().numpy()\n",
    "\n",
    "# Calculate frequency of each unique label\n",
    "unique_labels, counts = torch.unique(torch.tensor(all_labels), return_counts=True)\n",
    "\n",
    "# Plot the frequency distribution\n",
    "plt.bar(unique_labels.numpy(), counts.numpy())\n",
    "plt.xlabel('Labels')\n",
    "plt.ylabel('Frequency')\n",
    "plt.title('Frequency of Different Labels')\n",
    "plt.show()"
   ]
  },
  {
   "cell_type": "code",
   "execution_count": 19,
   "metadata": {},
   "outputs": [],
   "source": [
    "import matplotlib.pyplot as plt\n",
    "predicted_label = []\n",
    "for i in results_dict['best_prediction']:\n",
    "    predicted_label = list(i)\n",
    "predicted_label = [i.item() for i in predicted_label]"
   ]
  },
  {
   "cell_type": "code",
   "execution_count": 20,
   "metadata": {},
   "outputs": [
    {
     "data": {
      "text/plain": [
       "[4, 4, 4, 4, 4, 4]"
      ]
     },
     "execution_count": 20,
     "metadata": {},
     "output_type": "execute_result"
    }
   ],
   "source": [
    "predicted_label"
   ]
  },
  {
   "cell_type": "code",
   "execution_count": 17,
   "metadata": {},
   "outputs": [],
   "source": [
    "file_name = 'GCNModel.pth'\n",
    "torch.save(model.state_dict(), file_name)"
   ]
  },
  {
   "cell_type": "code",
   "execution_count": null,
   "metadata": {},
   "outputs": [],
   "source": [
    "def test():\n",
    "    model.eval()  # Set the model to evaluation mode\n",
    "    total_loss = 0\n",
    "    correct = 0  # To keep track of the number of correct predictions\n",
    "    total = 0    # To keep track of the total number of samples\n",
    "\n",
    "    # No need for gradients during testing\n",
    "    with torch.no_grad():\n",
    "        progress_bar = tqdm(loader_test, desc=\"Testing\", leave=False)\n",
    "        for i, batch in enumerate(progress_bar):\n",
    "            batch = batch.to(DEVICE)\n",
    "\n",
    "            # Forward pass\n",
    "            out = model(batch.x, batch.edge_index, batch.batch)\n",
    "            loss = loss_fn(out, batch.y)\n",
    "\n",
    "            # Update total loss\n",
    "            total_loss += loss.item()\n",
    "\n",
    "            # Get the predicted class (index of the max logit)\n",
    "            _, predicted = torch.max(out, dim=1)\n",
    "\n",
    "            # Update the number of correct predictions and total samples\n",
    "            correct += (predicted == batch.y).sum().item()\n",
    "            print(predicted)\n",
    "            print(batch.y)\n",
    "            total += batch.y.size(0)\n",
    "\n",
    "            # Update the progress bar with loss\n",
    "            progress_bar.set_postfix({\"Test Loss\": predicted})\n",
    "\n",
    "    # Calculate the average loss and accuracy\n",
    "    avg_loss = total_loss / len(loader_test)\n",
    "    accuracy = correct / total * 100  # Accuracy as a percentage\n",
    "\n",
    "    print(f\"Test Loss: {avg_loss:.4f}\")\n",
    "    print(f\"Test Accuracy: {accuracy:.2f}%\")\n",
    "\n",
    "    return avg_loss, accuracy\n",
    "\n",
    "test()"
   ]
  },
  {
   "cell_type": "code",
   "execution_count": 20,
   "metadata": {},
   "outputs": [
    {
     "ename": "NameError",
     "evalue": "name 'predicted' is not defined",
     "output_type": "error",
     "traceback": [
      "\u001b[0;31m---------------------------------------------------------------------------\u001b[0m",
      "\u001b[0;31mNameError\u001b[0m                                 Traceback (most recent call last)",
      "\u001b[0;32m/tmp/ipykernel_489088/4070296754.py\u001b[0m in \u001b[0;36m<module>\u001b[0;34m\u001b[0m\n\u001b[0;32m----> 1\u001b[0;31m \u001b[0mprint\u001b[0m\u001b[0;34m(\u001b[0m\u001b[0mpredicted\u001b[0m\u001b[0;34m)\u001b[0m\u001b[0;34m\u001b[0m\u001b[0;34m\u001b[0m\u001b[0m\n\u001b[0m",
      "\u001b[0;31mNameError\u001b[0m: name 'predicted' is not defined"
     ]
    }
   ],
   "source": [
    "print(predicted)"
   ]
  },
  {
   "cell_type": "code",
   "execution_count": 22,
   "metadata": {},
   "outputs": [],
   "source": [
    "with open('GCNModel_result.pkl','wb') as f:\n",
    "    pkl.dump(results_dict,f)"
   ]
  },
  {
   "cell_type": "code",
   "execution_count": null,
   "metadata": {},
   "outputs": [],
   "source": []
  }
 ],
 "metadata": {
  "kernelspec": {
   "display_name": "GNN_E",
   "language": "python",
   "name": "python3"
  },
  "language_info": {
   "codemirror_mode": {
    "name": "ipython",
    "version": 3
   },
   "file_extension": ".py",
   "mimetype": "text/x-python",
   "name": "python",
   "nbconvert_exporter": "python",
   "pygments_lexer": "ipython3",
   "version": "3.7.4"
  }
 },
 "nbformat": 4,
 "nbformat_minor": 2
}
