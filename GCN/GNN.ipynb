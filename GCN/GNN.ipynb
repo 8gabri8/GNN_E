{
 "cells": [
  {
   "cell_type": "code",
   "execution_count": 1,
   "metadata": {},
   "outputs": [
    {
     "name": "stderr",
     "output_type": "stream",
     "text": [
      "/home/zhzhou/.conda/envs/GNN_E_clone/lib/python3.9/site-packages/tqdm/auto.py:21: TqdmWarning: IProgress not found. Please update jupyter and ipywidgets. See https://ipywidgets.readthedocs.io/en/stable/user_install.html\n",
      "  from .autonotebook import tqdm as notebook_tqdm\n"
     ]
    }
   ],
   "source": [
    "%load_ext autoreload\n",
    "%autoreload 2\n",
    "%reload_ext autoreload\n",
    "import os\n",
    "os.chdir(\"/home/zhzhou/GNN_E\")\n",
    "import numpy as np\n",
    "import pandas as pd\n",
    "import torch\n",
    "from torch_geometric.loader import DataLoader\n",
    "from math import ceil\n",
    "from utils_models import *\n",
    "from scripts.models import *                                                                                                                                                                                                                                                                                                                                                                                                                                                                                                                                                                                                                                                                                                                                                                                                                                                                                                                                                                                                                                                                                                                                                                                                                                                                                                                                                                                                                                                                                                                                                                                                                                                                                                                                                                                                                                                                                                                                                                                                                                                                                                                                                                                                                                                                                                                                                                                                                                                                                                                                                                                                                                                                                                                                                                                                                                                                                                                                                                                                                                                                                                                                                                                                                                                                                                                                                                                                                                                                                                                                                                                                                                                                                                                                                                                                                                                                                                                                                                                                                                                                                                                                                                                                                                                                                                                                                                                                                                                                                                                                                                                                                                                                                                                                                                                                                                                                                                                                                                                                                                                                                                                                                                                                                                                                                                                                                                                                                                                                                                                                                                                                                                                                                                                                                                                                                                                                                                                                                                                                                                                                                                                                                                                                                                                                                                                                                                                                                                                                                                                                                                                                                                                                                                                                                                                                                                                                                                                                                                                                                                                                                                                                                                                                                                                                                                                                                                                                                                                                                                                                                                                                                                                                                                                                                                                                                                                                                                                                                                                                                                                                                                                                                                                                                                                                                                                                                                                                                                                                                                                                                                             \n",
    "from GCN.GCN_models import *"
   ]
  },
  {
   "cell_type": "code",
   "execution_count": 2,
   "metadata": {},
   "outputs": [],
   "source": [
    "#data_path = 'data/processed/all_movies_labelled_13_single.csv'\n",
    "data_path = '/home/dalai/GNN_E/data/processed/all_movies_labelled_13_single_balanced.csv'\n",
    "df =  pd.read_csv(data_path, index_col=0)"
   ]
  },
  {
   "cell_type": "code",
   "execution_count": 49,
   "metadata": {},
   "outputs": [],
   "source": [
    "df_single = df[(df['id']==10)&(df['movie']==0)&(df['vindex']==0)&(df['label']!=-1)]"
   ]
  },
  {
   "cell_type": "code",
   "execution_count": 104,
   "metadata": {},
   "outputs": [],
   "source": [
    "\n",
    "import numpy as np\n",
    "from scipy.stats import mode\n",
    "from collections import Counter\n",
    "def majority_vote(x):\n",
    "    try:\n",
    "        m = mode(x)\n",
    "        return m.mode if m.count > 0 else -1\n",
    "    except (IndexError, TypeError):\n",
    "        return -1  # Default value when an error occurs\n",
    "\n",
    "def second_highest_vote(x):\n",
    "    majority = majority_vote(x)\n",
    "    if majority == -1:\n",
    "        # Count frequencies of all values\n",
    "        counts = Counter(x)\n",
    "        # Remove the majority vote (-1) from the count\n",
    "        del counts[majority]\n",
    "        # Get the second-highest vote (if any)\n",
    "        if counts:\n",
    "            second_highest = max(counts, key=counts.get)\n",
    "            return second_highest\n",
    "        else:\n",
    "            # If no second-highest vote, return -1\n",
    "            return -1\n",
    "    else:\n",
    "        return majority\n",
    "\n",
    "\n",
    "super_subject = (\n",
    "    df.groupby([\"vindex\", \"movie\", \"timestamp_tr\"], as_index=False)\n",
    "    .agg({\n",
    "        \"score\": \"mean\",\n",
    "        \"label\": lambda x: \", \".join(map(str, x))  # Use the helper function\n",
    "    })\n",
    ")"
   ]
  },
  {
   "cell_type": "code",
   "execution_count": 105,
   "metadata": {},
   "outputs": [],
   "source": [
    "super_subject['label'] = super_subject['label'].apply( lambda x: list(map(int, x.split(\", \"))))"
   ]
  },
  {
   "cell_type": "code",
   "execution_count": 106,
   "metadata": {},
   "outputs": [],
   "source": [
    "super_subject['label_'] =  super_subject['label'].apply(lambda x: second_highest_vote(x))"
   ]
  },
  {
   "cell_type": "code",
   "execution_count": 119,
   "metadata": {},
   "outputs": [],
   "source": [
    "df_single = super_subject\n",
    "df_single['id'] = 0\n",
    "df_single['label'] = df_single['label_']"
   ]
  },
  {
   "cell_type": "code",
   "execution_count": 120,
   "metadata": {},
   "outputs": [
    {
     "data": {
      "text/html": [
       "<div>\n",
       "<style scoped>\n",
       "    .dataframe tbody tr th:only-of-type {\n",
       "        vertical-align: middle;\n",
       "    }\n",
       "\n",
       "    .dataframe tbody tr th {\n",
       "        vertical-align: top;\n",
       "    }\n",
       "\n",
       "    .dataframe thead th {\n",
       "        text-align: right;\n",
       "    }\n",
       "</style>\n",
       "<table border=\"1\" class=\"dataframe\">\n",
       "  <thead>\n",
       "    <tr style=\"text-align: right;\">\n",
       "      <th></th>\n",
       "      <th>vindex</th>\n",
       "      <th>movie</th>\n",
       "      <th>timestamp_tr</th>\n",
       "      <th>score</th>\n",
       "      <th>label</th>\n",
       "      <th>label_</th>\n",
       "      <th>id</th>\n",
       "    </tr>\n",
       "  </thead>\n",
       "  <tbody>\n",
       "    <tr>\n",
       "      <th>0</th>\n",
       "      <td>0</td>\n",
       "      <td>0</td>\n",
       "      <td>0</td>\n",
       "      <td>0.090368</td>\n",
       "      <td>-1</td>\n",
       "      <td>-1</td>\n",
       "      <td>0</td>\n",
       "    </tr>\n",
       "    <tr>\n",
       "      <th>1</th>\n",
       "      <td>0</td>\n",
       "      <td>0</td>\n",
       "      <td>1</td>\n",
       "      <td>-0.686405</td>\n",
       "      <td>-1</td>\n",
       "      <td>-1</td>\n",
       "      <td>0</td>\n",
       "    </tr>\n",
       "    <tr>\n",
       "      <th>2</th>\n",
       "      <td>0</td>\n",
       "      <td>0</td>\n",
       "      <td>2</td>\n",
       "      <td>6.155610</td>\n",
       "      <td>-1</td>\n",
       "      <td>-1</td>\n",
       "      <td>0</td>\n",
       "    </tr>\n",
       "    <tr>\n",
       "      <th>3</th>\n",
       "      <td>0</td>\n",
       "      <td>0</td>\n",
       "      <td>3</td>\n",
       "      <td>12.334268</td>\n",
       "      <td>-1</td>\n",
       "      <td>-1</td>\n",
       "      <td>0</td>\n",
       "    </tr>\n",
       "    <tr>\n",
       "      <th>4</th>\n",
       "      <td>0</td>\n",
       "      <td>0</td>\n",
       "      <td>4</td>\n",
       "      <td>17.815526</td>\n",
       "      <td>-1</td>\n",
       "      <td>-1</td>\n",
       "      <td>0</td>\n",
       "    </tr>\n",
       "    <tr>\n",
       "      <th>...</th>\n",
       "      <td>...</td>\n",
       "      <td>...</td>\n",
       "      <td>...</td>\n",
       "      <td>...</td>\n",
       "      <td>...</td>\n",
       "      <td>...</td>\n",
       "      <td>...</td>\n",
       "    </tr>\n",
       "    <tr>\n",
       "      <th>4049329</th>\n",
       "      <td>413</td>\n",
       "      <td>13</td>\n",
       "      <td>771</td>\n",
       "      <td>-7.324995</td>\n",
       "      <td>-1</td>\n",
       "      <td>-1</td>\n",
       "      <td>0</td>\n",
       "    </tr>\n",
       "    <tr>\n",
       "      <th>4049330</th>\n",
       "      <td>413</td>\n",
       "      <td>13</td>\n",
       "      <td>772</td>\n",
       "      <td>-28.831939</td>\n",
       "      <td>-1</td>\n",
       "      <td>-1</td>\n",
       "      <td>0</td>\n",
       "    </tr>\n",
       "    <tr>\n",
       "      <th>4049331</th>\n",
       "      <td>413</td>\n",
       "      <td>13</td>\n",
       "      <td>773</td>\n",
       "      <td>4.366153</td>\n",
       "      <td>-1</td>\n",
       "      <td>-1</td>\n",
       "      <td>0</td>\n",
       "    </tr>\n",
       "    <tr>\n",
       "      <th>4049332</th>\n",
       "      <td>413</td>\n",
       "      <td>13</td>\n",
       "      <td>774</td>\n",
       "      <td>0.416745</td>\n",
       "      <td>-1</td>\n",
       "      <td>-1</td>\n",
       "      <td>0</td>\n",
       "    </tr>\n",
       "    <tr>\n",
       "      <th>4049333</th>\n",
       "      <td>413</td>\n",
       "      <td>13</td>\n",
       "      <td>775</td>\n",
       "      <td>-26.718583</td>\n",
       "      <td>-1</td>\n",
       "      <td>-1</td>\n",
       "      <td>0</td>\n",
       "    </tr>\n",
       "  </tbody>\n",
       "</table>\n",
       "<p>4049334 rows × 7 columns</p>\n",
       "</div>"
      ],
      "text/plain": [
       "         vindex  movie  timestamp_tr      score  label  label_  id\n",
       "0             0      0             0   0.090368     -1      -1   0\n",
       "1             0      0             1  -0.686405     -1      -1   0\n",
       "2             0      0             2   6.155610     -1      -1   0\n",
       "3             0      0             3  12.334268     -1      -1   0\n",
       "4             0      0             4  17.815526     -1      -1   0\n",
       "...         ...    ...           ...        ...    ...     ...  ..\n",
       "4049329     413     13           771  -7.324995     -1      -1   0\n",
       "4049330     413     13           772 -28.831939     -1      -1   0\n",
       "4049331     413     13           773   4.366153     -1      -1   0\n",
       "4049332     413     13           774   0.416745     -1      -1   0\n",
       "4049333     413     13           775 -26.718583     -1      -1   0\n",
       "\n",
       "[4049334 rows x 7 columns]"
      ]
     },
     "execution_count": 120,
     "metadata": {},
     "output_type": "execute_result"
    }
   ],
   "source": [
    "df_single"
   ]
  },
  {
   "cell_type": "code",
   "execution_count": 121,
   "metadata": {},
   "outputs": [
    {
     "data": {
      "text/plain": [
       "'/home/zhzhou/GNN_E'"
      ]
     },
     "execution_count": 121,
     "metadata": {},
     "output_type": "execute_result"
    }
   ],
   "source": [
    "os.getcwd()"
   ]
  },
  {
   "cell_type": "code",
   "execution_count": 122,
   "metadata": {},
   "outputs": [],
   "source": [
    "with open(\"/home/dalai/GNN_E/data/raw/labels/run_onsets.pkl\", \"rb\") as file:\n",
    "    delta_time = pkl.load(file)"
   ]
  },
  {
   "cell_type": "code",
   "execution_count": 123,
   "metadata": {},
   "outputs": [
    {
     "name": "stdout",
     "output_type": "stream",
     "text": [
      "Movies in this df: [ 0  1  2  3  4  5  6  8 11 12 13]\n"
     ]
    },
    {
     "name": "stderr",
     "output_type": "stream",
     "text": [
      "100%|██████████| 1/1 [00:50<00:00, 50.74s/it]\n",
      "100%|██████████| 1/1 [01:11<00:00, 71.33s/it]\n",
      "100%|██████████| 1/1 [00:44<00:00, 44.76s/it]\n",
      "100%|██████████| 1/1 [00:37<00:00, 37.44s/it]\n",
      "100%|██████████| 1/1 [00:53<00:00, 53.10s/it]\n",
      "100%|██████████| 1/1 [00:59<00:00, 59.35s/it]\n",
      "100%|██████████| 1/1 [01:29<00:00, 89.67s/it]\n",
      "100%|██████████| 1/1 [01:13<00:00, 73.24s/it]\n",
      "100%|██████████| 1/1 [01:09<00:00, 69.81s/it]\n",
      "100%|██████████| 1/1 [00:38<00:00, 38.15s/it]\n",
      "100%|██████████| 1/1 [01:09<00:00, 69.89s/it]\n"
     ]
    },
    {
     "name": "stdout",
     "output_type": "stream",
     "text": [
      "Movies in this df: [ 7  9 10]\n"
     ]
    },
    {
     "name": "stderr",
     "output_type": "stream",
     "text": [
      "100%|██████████| 1/1 [01:03<00:00, 64.00s/it]\n",
      "100%|██████████| 1/1 [01:32<00:00, 92.70s/it]\n",
      "100%|██████████| 1/1 [00:50<00:00, 50.52s/it]\n"
     ]
    }
   ],
   "source": [
    "DEVICE = 'cuda' if torch.cuda.is_available() else 'cpu'\n",
    "df_train, df_test = split_train_test_vertically(\n",
    "        df_single\n",
    "    )\n",
    "#df_train,_, df_test = split_train_val_test_horizontally(\n",
    "#       df_single, \n",
    "#        percentage_val=0, #0 to not have nay val set\n",
    "#        path_pickle_delay=\"/home/dalai/GNN_E/data/raw/labels/run_onsets.pkl\",\n",
    "#        path_movie_title_mapping=\"data/raw/labels/category_mapping_movies.csv\", \n",
    "#        tr_len=1.3\n",
    "#    )\n",
    "dataset_train = DatasetEmo_fast(df_train, device=DEVICE,FN = 'Limbic',initial_adj_method='clique_edgeAttr_FC_window', node_feat=\"symmetricwindow\")\n",
    "dataset_test = DatasetEmo_fast(df_test, device = DEVICE,FN = 'Limbic',initial_adj_method='clique_edgeAttr_FC_window', node_feat=\"symmetricwindow\")\n",
    "\n",
    "graphs_list_train = dataset_train.get_graphs_list()\n",
    "graphs_list_test = dataset_test.get_graphs_list()\n"
   ]
  },
  {
   "cell_type": "code",
   "execution_count": null,
   "metadata": {},
   "outputs": [
    {
     "name": "stdout",
     "output_type": "stream",
     "text": [
      "There are 5595 graphs in the train set.\n",
      "There are 1800 graphs in the test set.\n",
      "N batches in train: 350\n",
      "N batches in test: 113\n"
     ]
    }
   ],
   "source": [
    "from torch_geometric.loader import DataLoader\n",
    "from math import ceil\n",
    "batch_size = 16\n",
    "train_loader = DataLoader(graphs_list_train, batch_size=batch_size, num_workers=4, persistent_workers=True)\n",
    "test_loader = DataLoader(graphs_list_test, batch_size=batch_size, num_workers=4, persistent_workers=True)\n",
    "\n",
    "num_batches_train = ceil(len(graphs_list_train) / batch_size)\n",
    "num_batches_test = ceil(len(graphs_list_test) / batch_size)\n",
    "\n",
    "print(f\"There are {len(graphs_list_train)} graphs in the train set.\")\n",
    "print(f\"There are {len(graphs_list_test)} graphs in the test set.\")\n",
    "print(f\"N batches in train: {num_batches_train}\")\n",
    "print(f\"N batches in test: {num_batches_test}\")"
   ]
  },
  {
   "cell_type": "code",
   "execution_count": 126,
   "metadata": {},
   "outputs": [
    {
     "name": "stderr",
     "output_type": "stream",
     "text": [
      "                                                             \r"
     ]
    },
    {
     "name": "stdout",
     "output_type": "stream",
     "text": [
      "\tEpoch 1/50, Loss: 2.987604286500386, Train accuracy: 0.16961572832886507\n",
      "\n"
     ]
    },
    {
     "name": "stderr",
     "output_type": "stream",
     "text": [
      "                                                                                     \r"
     ]
    },
    {
     "name": "stdout",
     "output_type": "stream",
     "text": [
      "\tEpoch 1/50, Loss: 2.6039, test accuracy: 0.0583\n",
      "\n",
      "Result saved!\n"
     ]
    },
    {
     "name": "stderr",
     "output_type": "stream",
     "text": [
      "                                                             \r"
     ]
    },
    {
     "name": "stdout",
     "output_type": "stream",
     "text": [
      "\tEpoch 2/50, Loss: 2.5472349231583733, Train accuracy: 0.11671134941912421\n",
      "\n"
     ]
    },
    {
     "name": "stderr",
     "output_type": "stream",
     "text": [
      "                                                                                     \r"
     ]
    },
    {
     "name": "stdout",
     "output_type": "stream",
     "text": [
      "\tEpoch 2/50, Loss: 2.6066, test accuracy: 0.0567\n",
      "\n",
      "Result saved!\n"
     ]
    },
    {
     "name": "stderr",
     "output_type": "stream",
     "text": [
      "                                                             \r"
     ]
    },
    {
     "name": "stdout",
     "output_type": "stream",
     "text": [
      "\tEpoch 3/50, Loss: 2.5315541546685356, Train accuracy: 0.12529043789097408\n",
      "\n"
     ]
    },
    {
     "name": "stderr",
     "output_type": "stream",
     "text": [
      "                                                                                     \r"
     ]
    },
    {
     "name": "stdout",
     "output_type": "stream",
     "text": [
      "\tEpoch 3/50, Loss: 2.6202, test accuracy: 0.0556\n",
      "\n",
      "Result saved!\n"
     ]
    },
    {
     "name": "stderr",
     "output_type": "stream",
     "text": [
      "                                                             \r"
     ]
    },
    {
     "name": "stdout",
     "output_type": "stream",
     "text": [
      "\tEpoch 4/50, Loss: 2.531189671925136, Train accuracy: 0.13315460232350312\n",
      "\n"
     ]
    },
    {
     "name": "stderr",
     "output_type": "stream",
     "text": [
      "                                                                                     \r"
     ]
    },
    {
     "name": "stdout",
     "output_type": "stream",
     "text": [
      "\tEpoch 4/50, Loss: 2.6177, test accuracy: 0.0556\n",
      "\n",
      "Result saved!\n"
     ]
    },
    {
     "name": "stderr",
     "output_type": "stream",
     "text": [
      "                                                             \r"
     ]
    },
    {
     "name": "stdout",
     "output_type": "stream",
     "text": [
      "\tEpoch 5/50, Loss: 2.5282681359563557, Train accuracy: 0.1352993744414656\n",
      "\n"
     ]
    },
    {
     "name": "stderr",
     "output_type": "stream",
     "text": [
      "                                                                                     \r"
     ]
    },
    {
     "name": "stdout",
     "output_type": "stream",
     "text": [
      "\tEpoch 5/50, Loss: 2.6239, test accuracy: 0.0556\n",
      "\n",
      "Result saved!\n"
     ]
    },
    {
     "name": "stderr",
     "output_type": "stream",
     "text": [
      "                                                             \r"
     ]
    },
    {
     "name": "stdout",
     "output_type": "stream",
     "text": [
      "\tEpoch 6/50, Loss: 2.534026959283011, Train accuracy: 0.1542448614834674\n",
      "\n"
     ]
    },
    {
     "name": "stderr",
     "output_type": "stream",
     "text": [
      "                                                                                     \r"
     ]
    },
    {
     "name": "stdout",
     "output_type": "stream",
     "text": [
      "\tEpoch 6/50, Loss: 2.6159, test accuracy: 0.0583\n",
      "\n",
      "Result saved!\n"
     ]
    },
    {
     "name": "stderr",
     "output_type": "stream",
     "text": [
      "                                                             \r"
     ]
    },
    {
     "name": "stdout",
     "output_type": "stream",
     "text": [
      "\tEpoch 7/50, Loss: 2.5356393599510194, Train accuracy: 0.14888293118856122\n",
      "\n"
     ]
    },
    {
     "name": "stderr",
     "output_type": "stream",
     "text": [
      "                                                                                     \r"
     ]
    },
    {
     "name": "stdout",
     "output_type": "stream",
     "text": [
      "\tEpoch 7/50, Loss: 2.6224, test accuracy: 0.0572\n",
      "\n",
      "Result saved!\n"
     ]
    },
    {
     "name": "stderr",
     "output_type": "stream",
     "text": [
      "                                                             \r"
     ]
    },
    {
     "name": "stdout",
     "output_type": "stream",
     "text": [
      "\tEpoch 8/50, Loss: 2.5288598241124833, Train accuracy: 0.1610366398570152\n",
      "\n"
     ]
    },
    {
     "name": "stderr",
     "output_type": "stream",
     "text": [
      "                                                                                     \r"
     ]
    },
    {
     "name": "stdout",
     "output_type": "stream",
     "text": [
      "\tEpoch 8/50, Loss: 2.6073, test accuracy: 0.0578\n",
      "\n",
      "Result saved!\n"
     ]
    },
    {
     "name": "stderr",
     "output_type": "stream",
     "text": [
      "                                                             \r"
     ]
    },
    {
     "name": "stdout",
     "output_type": "stream",
     "text": [
      "\tEpoch 9/50, Loss: 2.53430821282523, Train accuracy: 0.14906166219839143\n",
      "\n"
     ]
    },
    {
     "name": "stderr",
     "output_type": "stream",
     "text": [
      "                                                                                     \r"
     ]
    },
    {
     "name": "stdout",
     "output_type": "stream",
     "text": [
      "\tEpoch 9/50, Loss: 2.6176, test accuracy: 0.0572\n",
      "\n",
      "Result saved!\n"
     ]
    },
    {
     "name": "stderr",
     "output_type": "stream",
     "text": [
      "                                                              \r"
     ]
    },
    {
     "name": "stdout",
     "output_type": "stream",
     "text": [
      "\tEpoch 10/50, Loss: 2.52803980248315, Train accuracy: 0.18248436103663987\n",
      "\n"
     ]
    },
    {
     "name": "stderr",
     "output_type": "stream",
     "text": [
      "                                                                                      \r"
     ]
    },
    {
     "name": "stdout",
     "output_type": "stream",
     "text": [
      "\tEpoch 10/50, Loss: 2.6184, test accuracy: 0.0556\n",
      "\n",
      "Result saved!\n"
     ]
    },
    {
     "name": "stderr",
     "output_type": "stream",
     "text": [
      "                                                              \r"
     ]
    },
    {
     "name": "stdout",
     "output_type": "stream",
     "text": [
      "\tEpoch 11/50, Loss: 2.537144219875336, Train accuracy: 0.13815907059874888\n",
      "\n"
     ]
    },
    {
     "name": "stderr",
     "output_type": "stream",
     "text": [
      "                                                                                      \r"
     ]
    },
    {
     "name": "stdout",
     "output_type": "stream",
     "text": [
      "\tEpoch 11/50, Loss: 2.6055, test accuracy: 0.0583\n",
      "\n",
      "Result saved!\n"
     ]
    },
    {
     "name": "stderr",
     "output_type": "stream",
     "text": [
      "                                                              \r"
     ]
    },
    {
     "name": "stdout",
     "output_type": "stream",
     "text": [
      "\tEpoch 12/50, Loss: 2.5319666028022767, Train accuracy: 0.13905272564789992\n",
      "\n"
     ]
    },
    {
     "name": "stderr",
     "output_type": "stream",
     "text": [
      "                                                                                      \r"
     ]
    },
    {
     "name": "stdout",
     "output_type": "stream",
     "text": [
      "\tEpoch 12/50, Loss: 2.6080, test accuracy: 0.0572\n",
      "\n",
      "Result saved!\n"
     ]
    },
    {
     "name": "stderr",
     "output_type": "stream",
     "text": [
      "                                                              \r"
     ]
    },
    {
     "name": "stdout",
     "output_type": "stream",
     "text": [
      "\tEpoch 13/50, Loss: 2.5336760694640024, Train accuracy: 0.15210008936550493\n",
      "\n"
     ]
    },
    {
     "name": "stderr",
     "output_type": "stream",
     "text": [
      "                                                                                      \r"
     ]
    },
    {
     "name": "stdout",
     "output_type": "stream",
     "text": [
      "\tEpoch 13/50, Loss: 2.6043, test accuracy: 0.0556\n",
      "\n",
      "Result saved!\n"
     ]
    },
    {
     "name": "stderr",
     "output_type": "stream",
     "text": [
      "                                                              \r"
     ]
    },
    {
     "name": "stdout",
     "output_type": "stream",
     "text": [
      "\tEpoch 14/50, Loss: 2.534863398415702, Train accuracy: 0.1388739946380697\n",
      "\n"
     ]
    },
    {
     "name": "stderr",
     "output_type": "stream",
     "text": [
      "                                                                                      \r"
     ]
    },
    {
     "name": "stdout",
     "output_type": "stream",
     "text": [
      "\tEpoch 14/50, Loss: 2.6072, test accuracy: 0.0556\n",
      "\n",
      "Result saved!\n"
     ]
    },
    {
     "name": "stderr",
     "output_type": "stream",
     "text": [
      "                                                              \r"
     ]
    },
    {
     "name": "stdout",
     "output_type": "stream",
     "text": [
      "\tEpoch 15/50, Loss: 2.531365308761597, Train accuracy: 0.12832886505808758\n",
      "\n"
     ]
    },
    {
     "name": "stderr",
     "output_type": "stream",
     "text": [
      "                                                                                      \r"
     ]
    },
    {
     "name": "stdout",
     "output_type": "stream",
     "text": [
      "\tEpoch 15/50, Loss: 2.6087, test accuracy: 0.0556\n",
      "\n",
      "Result saved!\n"
     ]
    },
    {
     "name": "stderr",
     "output_type": "stream",
     "text": [
      "                                                              \r"
     ]
    },
    {
     "name": "stdout",
     "output_type": "stream",
     "text": [
      "\tEpoch 16/50, Loss: 2.533801087651934, Train accuracy: 0.12707774798927615\n",
      "\n"
     ]
    },
    {
     "name": "stderr",
     "output_type": "stream",
     "text": [
      "                                                                                      \r"
     ]
    },
    {
     "name": "stdout",
     "output_type": "stream",
     "text": [
      "\tEpoch 16/50, Loss: 2.6075, test accuracy: 0.0556\n",
      "\n",
      "Result saved!\n"
     ]
    },
    {
     "name": "stderr",
     "output_type": "stream",
     "text": [
      "                                                              \r"
     ]
    },
    {
     "name": "stdout",
     "output_type": "stream",
     "text": [
      "\tEpoch 17/50, Loss: 2.5345449083192007, Train accuracy: 0.12546916890080428\n",
      "\n"
     ]
    },
    {
     "name": "stderr",
     "output_type": "stream",
     "text": [
      "                                                                                      \r"
     ]
    },
    {
     "name": "stdout",
     "output_type": "stream",
     "text": [
      "\tEpoch 17/50, Loss: 2.6067, test accuracy: 0.0556\n",
      "\n",
      "Result saved!\n"
     ]
    },
    {
     "name": "stderr",
     "output_type": "stream",
     "text": [
      "                                                              \r"
     ]
    },
    {
     "name": "stdout",
     "output_type": "stream",
     "text": [
      "\tEpoch 18/50, Loss: 2.5338851533617293, Train accuracy: 0.12672028596961574\n",
      "\n"
     ]
    },
    {
     "name": "stderr",
     "output_type": "stream",
     "text": [
      "                                                                                      \r"
     ]
    },
    {
     "name": "stdout",
     "output_type": "stream",
     "text": [
      "\tEpoch 18/50, Loss: 2.6071, test accuracy: 0.0556\n",
      "\n",
      "Result saved!\n"
     ]
    },
    {
     "name": "stderr",
     "output_type": "stream",
     "text": [
      "                                                              \r"
     ]
    },
    {
     "name": "stdout",
     "output_type": "stream",
     "text": [
      "\tEpoch 19/50, Loss: 2.533853358200618, Train accuracy: 0.12672028596961574\n",
      "\n"
     ]
    },
    {
     "name": "stderr",
     "output_type": "stream",
     "text": [
      "                                                                                      \r"
     ]
    },
    {
     "name": "stdout",
     "output_type": "stream",
     "text": [
      "\tEpoch 19/50, Loss: 2.6069, test accuracy: 0.0556\n",
      "\n",
      "Result saved!\n"
     ]
    },
    {
     "name": "stderr",
     "output_type": "stream",
     "text": [
      "                                                              \r"
     ]
    },
    {
     "name": "stdout",
     "output_type": "stream",
     "text": [
      "\tEpoch 20/50, Loss: 2.5338440813337053, Train accuracy: 0.12672028596961574\n",
      "\n"
     ]
    },
    {
     "name": "stderr",
     "output_type": "stream",
     "text": [
      "                                                                                      \r"
     ]
    },
    {
     "name": "stdout",
     "output_type": "stream",
     "text": [
      "\tEpoch 20/50, Loss: 2.6074, test accuracy: 0.0556\n",
      "\n",
      "Result saved!\n"
     ]
    },
    {
     "name": "stderr",
     "output_type": "stream",
     "text": [
      "                                                              \r"
     ]
    },
    {
     "name": "stdout",
     "output_type": "stream",
     "text": [
      "\tEpoch 21/50, Loss: 2.5337191775866916, Train accuracy: 0.12654155495978553\n",
      "\n"
     ]
    },
    {
     "name": "stderr",
     "output_type": "stream",
     "text": [
      "                                                                                      \r"
     ]
    },
    {
     "name": "stdout",
     "output_type": "stream",
     "text": [
      "\tEpoch 21/50, Loss: 2.6063, test accuracy: 0.0556\n",
      "\n",
      "Result saved!\n"
     ]
    },
    {
     "name": "stderr",
     "output_type": "stream",
     "text": [
      "                                                              \r"
     ]
    },
    {
     "name": "stdout",
     "output_type": "stream",
     "text": [
      "\tEpoch 22/50, Loss: 2.533864947727748, Train accuracy: 0.12672028596961574\n",
      "\n"
     ]
    },
    {
     "name": "stderr",
     "output_type": "stream",
     "text": [
      "                                                                                      \r"
     ]
    },
    {
     "name": "stdout",
     "output_type": "stream",
     "text": [
      "\tEpoch 22/50, Loss: 2.6063, test accuracy: 0.0556\n",
      "\n",
      "Result saved!\n"
     ]
    },
    {
     "name": "stderr",
     "output_type": "stream",
     "text": [
      "                                                              \r"
     ]
    },
    {
     "name": "stdout",
     "output_type": "stream",
     "text": [
      "\tEpoch 23/50, Loss: 2.533842830998557, Train accuracy: 0.12672028596961574\n",
      "\n"
     ]
    },
    {
     "name": "stderr",
     "output_type": "stream",
     "text": [
      "                                                                                      \r"
     ]
    },
    {
     "name": "stdout",
     "output_type": "stream",
     "text": [
      "\tEpoch 23/50, Loss: 2.6063, test accuracy: 0.0556\n",
      "\n",
      "Result saved!\n"
     ]
    },
    {
     "name": "stderr",
     "output_type": "stream",
     "text": [
      "                                                              \r"
     ]
    },
    {
     "name": "stdout",
     "output_type": "stream",
     "text": [
      "\tEpoch 24/50, Loss: 2.5338375088146754, Train accuracy: 0.12672028596961574\n",
      "\n"
     ]
    },
    {
     "name": "stderr",
     "output_type": "stream",
     "text": [
      "                                                                                      \r"
     ]
    },
    {
     "name": "stdout",
     "output_type": "stream",
     "text": [
      "\tEpoch 24/50, Loss: 2.6063, test accuracy: 0.0556\n",
      "\n",
      "Result saved!\n"
     ]
    },
    {
     "name": "stderr",
     "output_type": "stream",
     "text": [
      "                                                              \r"
     ]
    },
    {
     "name": "stdout",
     "output_type": "stream",
     "text": [
      "\tEpoch 25/50, Loss: 2.5338359839575633, Train accuracy: 0.12672028596961574\n",
      "\n"
     ]
    },
    {
     "name": "stderr",
     "output_type": "stream",
     "text": [
      "                                                                                      \r"
     ]
    },
    {
     "name": "stdout",
     "output_type": "stream",
     "text": [
      "\tEpoch 25/50, Loss: 2.6063, test accuracy: 0.0556\n",
      "\n",
      "Result saved!\n"
     ]
    },
    {
     "name": "stderr",
     "output_type": "stream",
     "text": [
      "                                                              \r"
     ]
    },
    {
     "name": "stdout",
     "output_type": "stream",
     "text": [
      "\tEpoch 26/50, Loss: 2.533835325922285, Train accuracy: 0.12672028596961574\n",
      "\n"
     ]
    },
    {
     "name": "stderr",
     "output_type": "stream",
     "text": [
      "                                                                                      \r"
     ]
    },
    {
     "name": "stdout",
     "output_type": "stream",
     "text": [
      "\tEpoch 26/50, Loss: 2.6063, test accuracy: 0.0556\n",
      "\n",
      "Result saved!\n"
     ]
    },
    {
     "name": "stderr",
     "output_type": "stream",
     "text": [
      "                                                              \r"
     ]
    },
    {
     "name": "stdout",
     "output_type": "stream",
     "text": [
      "\tEpoch 27/50, Loss: 2.5338349890708924, Train accuracy: 0.12672028596961574\n",
      "\n"
     ]
    },
    {
     "name": "stderr",
     "output_type": "stream",
     "text": [
      "                                                                                      \r"
     ]
    },
    {
     "name": "stdout",
     "output_type": "stream",
     "text": [
      "\tEpoch 27/50, Loss: 2.6063, test accuracy: 0.0556\n",
      "\n",
      "Result saved!\n"
     ]
    },
    {
     "name": "stderr",
     "output_type": "stream",
     "text": [
      "                                                              \r"
     ]
    },
    {
     "name": "stdout",
     "output_type": "stream",
     "text": [
      "\tEpoch 28/50, Loss: 2.533834777559553, Train accuracy: 0.12672028596961574\n",
      "\n"
     ]
    },
    {
     "name": "stderr",
     "output_type": "stream",
     "text": [
      "                                                                                      \r"
     ]
    },
    {
     "name": "stdout",
     "output_type": "stream",
     "text": [
      "\tEpoch 28/50, Loss: 2.6063, test accuracy: 0.0556\n",
      "\n",
      "Result saved!\n"
     ]
    },
    {
     "name": "stderr",
     "output_type": "stream",
     "text": [
      "                                                              \r"
     ]
    },
    {
     "name": "stdout",
     "output_type": "stream",
     "text": [
      "\tEpoch 29/50, Loss: 2.533834637914385, Train accuracy: 0.12672028596961574\n",
      "\n"
     ]
    },
    {
     "name": "stderr",
     "output_type": "stream",
     "text": [
      "                                                                                      \r"
     ]
    },
    {
     "name": "stdout",
     "output_type": "stream",
     "text": [
      "\tEpoch 29/50, Loss: 2.6063, test accuracy: 0.0556\n",
      "\n",
      "Result saved!\n"
     ]
    },
    {
     "name": "stderr",
     "output_type": "stream",
     "text": [
      "                                                              \r"
     ]
    },
    {
     "name": "stdout",
     "output_type": "stream",
     "text": [
      "\tEpoch 30/50, Loss: 2.533834523132869, Train accuracy: 0.12672028596961574\n",
      "\n"
     ]
    },
    {
     "name": "stderr",
     "output_type": "stream",
     "text": [
      "                                                                                      \r"
     ]
    },
    {
     "name": "stdout",
     "output_type": "stream",
     "text": [
      "\tEpoch 30/50, Loss: 2.6063, test accuracy: 0.0556\n",
      "\n",
      "Result saved!\n"
     ]
    },
    {
     "name": "stderr",
     "output_type": "stream",
     "text": [
      "                                                              \r"
     ]
    },
    {
     "name": "stdout",
     "output_type": "stream",
     "text": [
      "\tEpoch 31/50, Loss: 2.533834466934204, Train accuracy: 0.12672028596961574\n",
      "\n"
     ]
    },
    {
     "name": "stderr",
     "output_type": "stream",
     "text": [
      "                                                                                      \r"
     ]
    },
    {
     "name": "stdout",
     "output_type": "stream",
     "text": [
      "\tEpoch 31/50, Loss: 2.6063, test accuracy: 0.0556\n",
      "\n",
      "Result saved!\n"
     ]
    },
    {
     "name": "stderr",
     "output_type": "stream",
     "text": [
      "                                                              \r"
     ]
    },
    {
     "name": "stdout",
     "output_type": "stream",
     "text": [
      "\tEpoch 32/50, Loss: 2.5338344158445087, Train accuracy: 0.12672028596961574\n",
      "\n"
     ]
    },
    {
     "name": "stderr",
     "output_type": "stream",
     "text": [
      "                                                                                      \r"
     ]
    },
    {
     "name": "stdout",
     "output_type": "stream",
     "text": [
      "\tEpoch 32/50, Loss: 2.6063, test accuracy: 0.0556\n",
      "\n",
      "Result saved!\n"
     ]
    },
    {
     "name": "stderr",
     "output_type": "stream",
     "text": [
      "                                                              \r"
     ]
    },
    {
     "name": "stdout",
     "output_type": "stream",
     "text": [
      "\tEpoch 33/50, Loss: 2.5338343824659075, Train accuracy: 0.12672028596961574\n",
      "\n"
     ]
    },
    {
     "name": "stderr",
     "output_type": "stream",
     "text": [
      "                                                                                      \r"
     ]
    },
    {
     "name": "stdout",
     "output_type": "stream",
     "text": [
      "\tEpoch 33/50, Loss: 2.6063, test accuracy: 0.0556\n",
      "\n",
      "Result saved!\n"
     ]
    },
    {
     "name": "stderr",
     "output_type": "stream",
     "text": [
      "                                                              \r"
     ]
    },
    {
     "name": "stdout",
     "output_type": "stream",
     "text": [
      "\tEpoch 34/50, Loss: 2.5338343480655126, Train accuracy: 0.12672028596961574\n",
      "\n"
     ]
    },
    {
     "name": "stderr",
     "output_type": "stream",
     "text": [
      "                                                                                      \r"
     ]
    },
    {
     "name": "stdout",
     "output_type": "stream",
     "text": [
      "\tEpoch 34/50, Loss: 2.6063, test accuracy: 0.0556\n",
      "\n",
      "Result saved!\n"
     ]
    },
    {
     "name": "stderr",
     "output_type": "stream",
     "text": [
      "                                                              \r"
     ]
    },
    {
     "name": "stdout",
     "output_type": "stream",
     "text": [
      "\tEpoch 35/50, Loss: 2.533834334782192, Train accuracy: 0.12672028596961574\n",
      "\n"
     ]
    },
    {
     "name": "stderr",
     "output_type": "stream",
     "text": [
      "                                                                                      \r"
     ]
    },
    {
     "name": "stdout",
     "output_type": "stream",
     "text": [
      "\tEpoch 35/50, Loss: 2.6063, test accuracy: 0.0556\n",
      "\n",
      "Result saved!\n"
     ]
    },
    {
     "name": "stderr",
     "output_type": "stream",
     "text": [
      "                                                              \r"
     ]
    },
    {
     "name": "stdout",
     "output_type": "stream",
     "text": [
      "\tEpoch 36/50, Loss: 2.5338343323980057, Train accuracy: 0.12672028596961574\n",
      "\n"
     ]
    },
    {
     "name": "stderr",
     "output_type": "stream",
     "text": [
      "                                                                                      \r"
     ]
    },
    {
     "name": "stdout",
     "output_type": "stream",
     "text": [
      "\tEpoch 36/50, Loss: 2.6063, test accuracy: 0.0556\n",
      "\n",
      "Result saved!\n"
     ]
    },
    {
     "name": "stderr",
     "output_type": "stream",
     "text": [
      "                                                              \r"
     ]
    },
    {
     "name": "stdout",
     "output_type": "stream",
     "text": [
      "\tEpoch 37/50, Loss: 2.5338343255860467, Train accuracy: 0.12672028596961574\n",
      "\n"
     ]
    },
    {
     "name": "stderr",
     "output_type": "stream",
     "text": [
      "                                                                                      \r"
     ]
    },
    {
     "name": "stdout",
     "output_type": "stream",
     "text": [
      "\tEpoch 37/50, Loss: 2.6063, test accuracy: 0.0556\n",
      "\n",
      "Result saved!\n"
     ]
    },
    {
     "name": "stderr",
     "output_type": "stream",
     "text": [
      "                                                              \r"
     ]
    },
    {
     "name": "stdout",
     "output_type": "stream",
     "text": [
      "\tEpoch 38/50, Loss: 2.5338343279702324, Train accuracy: 0.12672028596961574\n",
      "\n"
     ]
    },
    {
     "name": "stderr",
     "output_type": "stream",
     "text": [
      "                                                                                      \r"
     ]
    },
    {
     "name": "stdout",
     "output_type": "stream",
     "text": [
      "\tEpoch 38/50, Loss: 2.6063, test accuracy: 0.0556\n",
      "\n",
      "Result saved!\n"
     ]
    },
    {
     "name": "stderr",
     "output_type": "stream",
     "text": [
      "                                                              \r"
     ]
    },
    {
     "name": "stdout",
     "output_type": "stream",
     "text": [
      "\tEpoch 39/50, Loss: 2.533834316389901, Train accuracy: 0.12672028596961574\n",
      "\n"
     ]
    },
    {
     "name": "stderr",
     "output_type": "stream",
     "text": [
      "                                                                                      \r"
     ]
    },
    {
     "name": "stdout",
     "output_type": "stream",
     "text": [
      "\tEpoch 39/50, Loss: 2.6063, test accuracy: 0.0556\n",
      "\n",
      "Result saved!\n"
     ]
    },
    {
     "name": "stderr",
     "output_type": "stream",
     "text": [
      "                                                              \r"
     ]
    },
    {
     "name": "stdout",
     "output_type": "stream",
     "text": [
      "\tEpoch 40/50, Loss: 2.5338343034471786, Train accuracy: 0.12672028596961574\n",
      "\n"
     ]
    },
    {
     "name": "stderr",
     "output_type": "stream",
     "text": [
      "                                                                                      \r"
     ]
    },
    {
     "name": "stdout",
     "output_type": "stream",
     "text": [
      "\tEpoch 40/50, Loss: 2.6063, test accuracy: 0.0556\n",
      "\n",
      "Result saved!\n"
     ]
    },
    {
     "name": "stderr",
     "output_type": "stream",
     "text": [
      "                                                              \r"
     ]
    },
    {
     "name": "stdout",
     "output_type": "stream",
     "text": [
      "\tEpoch 41/50, Loss: 2.5338343065125604, Train accuracy: 0.12672028596961574\n",
      "\n"
     ]
    },
    {
     "name": "stderr",
     "output_type": "stream",
     "text": [
      "                                                                                      \r"
     ]
    },
    {
     "name": "stdout",
     "output_type": "stream",
     "text": [
      "\tEpoch 41/50, Loss: 2.6063, test accuracy: 0.0556\n",
      "\n",
      "Result saved!\n"
     ]
    },
    {
     "name": "stderr",
     "output_type": "stream",
     "text": [
      "                                                              \r"
     ]
    },
    {
     "name": "stdout",
     "output_type": "stream",
     "text": [
      "\tEpoch 42/50, Loss: 2.533834307193756, Train accuracy: 0.12672028596961574\n",
      "\n"
     ]
    },
    {
     "name": "stderr",
     "output_type": "stream",
     "text": [
      "                                                                                      \r"
     ]
    },
    {
     "name": "stdout",
     "output_type": "stream",
     "text": [
      "\tEpoch 42/50, Loss: 2.6063, test accuracy: 0.0556\n",
      "\n",
      "Result saved!\n"
     ]
    },
    {
     "name": "stderr",
     "output_type": "stream",
     "text": [
      "                                                              \r"
     ]
    },
    {
     "name": "stdout",
     "output_type": "stream",
     "text": [
      "\tEpoch 43/50, Loss: 2.533834295272827, Train accuracy: 0.12672028596961574\n",
      "\n"
     ]
    },
    {
     "name": "stderr",
     "output_type": "stream",
     "text": [
      "                                                                                      \r"
     ]
    },
    {
     "name": "stdout",
     "output_type": "stream",
     "text": [
      "\tEpoch 43/50, Loss: 2.6063, test accuracy: 0.0556\n",
      "\n",
      "Result saved!\n"
     ]
    },
    {
     "name": "stderr",
     "output_type": "stream",
     "text": [
      "                                                              \r"
     ]
    },
    {
     "name": "stdout",
     "output_type": "stream",
     "text": [
      "\tEpoch 44/50, Loss: 2.533834307534354, Train accuracy: 0.12672028596961574\n",
      "\n"
     ]
    },
    {
     "name": "stderr",
     "output_type": "stream",
     "text": [
      "                                                                                      \r"
     ]
    },
    {
     "name": "stdout",
     "output_type": "stream",
     "text": [
      "\tEpoch 44/50, Loss: 2.6063, test accuracy: 0.0556\n",
      "\n",
      "Result saved!\n"
     ]
    },
    {
     "name": "stderr",
     "output_type": "stream",
     "text": [
      "                                                              \r"
     ]
    },
    {
     "name": "stdout",
     "output_type": "stream",
     "text": [
      "\tEpoch 45/50, Loss: 2.5338343116215296, Train accuracy: 0.12672028596961574\n",
      "\n"
     ]
    },
    {
     "name": "stderr",
     "output_type": "stream",
     "text": [
      "                                                                                      \r"
     ]
    },
    {
     "name": "stdout",
     "output_type": "stream",
     "text": [
      "\tEpoch 45/50, Loss: 2.6063, test accuracy: 0.0556\n",
      "\n",
      "Result saved!\n"
     ]
    },
    {
     "name": "stderr",
     "output_type": "stream",
     "text": [
      "                                                              \r"
     ]
    },
    {
     "name": "stdout",
     "output_type": "stream",
     "text": [
      "\tEpoch 46/50, Loss: 2.5338342935698375, Train accuracy: 0.12672028596961574\n",
      "\n"
     ]
    },
    {
     "name": "stderr",
     "output_type": "stream",
     "text": [
      "                                                                                      \r"
     ]
    },
    {
     "name": "stdout",
     "output_type": "stream",
     "text": [
      "\tEpoch 46/50, Loss: 2.6063, test accuracy: 0.0556\n",
      "\n",
      "Result saved!\n"
     ]
    },
    {
     "name": "stderr",
     "output_type": "stream",
     "text": [
      "                                                              \r"
     ]
    },
    {
     "name": "stdout",
     "output_type": "stream",
     "text": [
      "\tEpoch 47/50, Loss: 2.5338342939104352, Train accuracy: 0.12672028596961574\n",
      "\n"
     ]
    },
    {
     "name": "stderr",
     "output_type": "stream",
     "text": [
      "                                                                                      \r"
     ]
    },
    {
     "name": "stdout",
     "output_type": "stream",
     "text": [
      "\tEpoch 47/50, Loss: 2.6063, test accuracy: 0.0556\n",
      "\n",
      "Result saved!\n"
     ]
    },
    {
     "name": "stderr",
     "output_type": "stream",
     "text": [
      "                                                              \r"
     ]
    },
    {
     "name": "stdout",
     "output_type": "stream",
     "text": [
      "\tEpoch 48/50, Loss: 2.53383430480957, Train accuracy: 0.12672028596961574\n",
      "\n"
     ]
    },
    {
     "name": "stderr",
     "output_type": "stream",
     "text": [
      "                                                                                      \r"
     ]
    },
    {
     "name": "stdout",
     "output_type": "stream",
     "text": [
      "\tEpoch 48/50, Loss: 2.6063, test accuracy: 0.0556\n",
      "\n",
      "Result saved!\n"
     ]
    },
    {
     "name": "stderr",
     "output_type": "stream",
     "text": [
      "                                                              \r"
     ]
    },
    {
     "name": "stdout",
     "output_type": "stream",
     "text": [
      "\tEpoch 49/50, Loss: 2.5338343140057153, Train accuracy: 0.12672028596961574\n",
      "\n"
     ]
    },
    {
     "name": "stderr",
     "output_type": "stream",
     "text": [
      "                                                                                      \r"
     ]
    },
    {
     "name": "stdout",
     "output_type": "stream",
     "text": [
      "\tEpoch 49/50, Loss: 2.6063, test accuracy: 0.0556\n",
      "\n",
      "Result saved!\n"
     ]
    },
    {
     "name": "stderr",
     "output_type": "stream",
     "text": [
      "                                                              \r"
     ]
    },
    {
     "name": "stdout",
     "output_type": "stream",
     "text": [
      "\tEpoch 50/50, Loss: 2.533834319795881, Train accuracy: 0.12672028596961574\n",
      "\n"
     ]
    },
    {
     "name": "stderr",
     "output_type": "stream",
     "text": [
      "                                                                                      "
     ]
    },
    {
     "name": "stdout",
     "output_type": "stream",
     "text": [
      "\tEpoch 50/50, Loss: 2.6063, test accuracy: 0.0556\n",
      "\n",
      "Result saved!\n"
     ]
    },
    {
     "name": "stderr",
     "output_type": "stream",
     "text": [
      "\r"
     ]
    }
   ],
   "source": [
    "from tqdm import tqdm\n",
    "input_dim = 9 \n",
    "hidden_dim1 = 128\n",
    "hidden_dim2 = 64\n",
    "output_dim = 13  # Number of classes\n",
    "model = SimpleGCN(input_dim, hidden_dim1, hidden_dim2, output_dim).to(DEVICE)\n",
    "\n",
    "optimizer = torch.optim.Adam(model.parameters(), lr=0.01, capturable=False)\n",
    "loss_fn = torch.nn.CrossEntropyLoss(label_smoothing=0.1)\n",
    "num_epochs = 1\n",
    "# Training loop\n",
    "#torch.cuda.empty_cache()\n",
    "model, results_dict = GCN_train(model=model, optimizer=optimizer, loss_fn=loss_fn, \n",
    "                                    train_loader=train_loader, test_loader=test_loader, device=DEVICE, num_epochs=50)\n",
    "\n",
    "with open('data/results/GCN/GCNModel_result_sup_subject.pkl','wb') as f:\n",
    "    pkl.dump(results_dict,f)"
   ]
  },
  {
   "cell_type": "markdown",
   "metadata": {},
   "source": [
    "all_labels = torch.cat(results_dict['best_prediction']).cpu().numpy()\n",
    "\n",
    "# Calculate frequency of each unique label\n",
    "unique_labels, counts = torch.unique(torch.tensor(all_labels), return_counts=True)\n",
    "\n",
    "# Plot the frequency distribution\n",
    "plt.bar(unique_labels.numpy(), counts.numpy())\n",
    "plt.xlabel('Labels')\n",
    "plt.ylabel('Frequency')\n",
    "plt.title('Frequency of Different Labels')\n",
    "plt.show()"
   ]
  },
  {
   "cell_type": "markdown",
   "metadata": {},
   "source": [
    "real_y = []\n",
    "for i in graphs_list_test:\n",
    "    real_y.append(i.y.item())"
   ]
  },
  {
   "cell_type": "markdown",
   "metadata": {},
   "source": [
    "unique_labels, counts = torch.unique(torch.tensor(real_y), return_counts=True)\n",
    "\n",
    "# Plot the frequency distribution\n",
    "plt.bar(unique_labels.numpy(), counts.numpy())\n",
    "plt.xlabel('Labels')\n",
    "plt.ylabel('Frequency')\n",
    "plt.title('Frequency of Different Labels')\n",
    "plt.show()"
   ]
  },
  {
   "cell_type": "markdown",
   "metadata": {},
   "source": [
    "import matplotlib.pyplot as plt\n",
    "predicted_label = []\n",
    "for i in results_dict['best_prediction']:\n",
    "    predicted_label = list(i)\n",
    "predicted_label = [i.item() for i in predicted_label]"
   ]
  },
  {
   "cell_type": "markdown",
   "metadata": {},
   "source": [
    "file_name = 'data/results/GCN/GCNModel.pth'\n",
    "torch.save(model.state_dict(), file_name)"
   ]
  },
  {
   "cell_type": "markdown",
   "metadata": {},
   "source": [
    "def test():\n",
    "    model.eval()  # Set the model to evaluation mode\n",
    "    total_loss = 0\n",
    "    correct = 0  # To keep track of the number of correct predictions\n",
    "    total = 0    # To keep track of the total number of samples\n",
    "\n",
    "    # No need for gradients during testing\n",
    "    with torch.no_grad():\n",
    "        progress_bar = tqdm(loader_test, desc=\"Testing\", leave=False)\n",
    "        for i, batch in enumerate(progress_bar):\n",
    "            batch = batch.to(DEVICE)\n",
    "\n",
    "            # Forward pass\n",
    "            out = model(batch.x, batch.edge_index, batch.batch)\n",
    "            loss = loss_fn(out, batch.y)\n",
    "\n",
    "            # Update total loss\n",
    "            total_loss += loss.item()\n",
    "\n",
    "            # Get the predicted class (index of the max logit)\n",
    "            _, predicted = torch.max(out, dim=1)\n",
    "\n",
    "            # Update the number of correct predictions and total samples\n",
    "            correct += (predicted == batch.y).sum().item()\n",
    "            print(predicted)\n",
    "            print(batch.y)\n",
    "            total += batch.y.size(0)\n",
    "\n",
    "            # Update the progress bar with loss\n",
    "            progress_bar.set_postfix({\"Test Loss\": predicted})\n",
    "\n",
    "    # Calculate the average loss and accuracy\n",
    "    avg_loss = total_loss / len(loader_test)\n",
    "    accuracy = correct / total * 100  # Accuracy as a percentage\n",
    "\n",
    "    print(f\"Test Loss: {avg_loss:.4f}\")\n",
    "    print(f\"Test Accuracy: {accuracy:.2f}%\")\n",
    "\n",
    "    return avg_loss, accuracy\n",
    "\n",
    "test()"
   ]
  },
  {
   "cell_type": "code",
   "execution_count": null,
   "metadata": {},
   "outputs": [],
   "source": [
    "with open('data/results/GCN/GCNModel_result_all.pkl','wb') as f:\n",
    "    pkl.dump(results_dict,f)"
   ]
  },
  {
   "cell_type": "code",
   "execution_count": null,
   "metadata": {},
   "outputs": [],
   "source": []
  }
 ],
 "metadata": {
  "kernelspec": {
   "display_name": "GNN_E_clone",
   "language": "python",
   "name": "python3"
  },
  "language_info": {
   "codemirror_mode": {
    "name": "ipython",
    "version": 3
   },
   "file_extension": ".py",
   "mimetype": "text/x-python",
   "name": "python",
   "nbconvert_exporter": "python",
   "pygments_lexer": "ipython3",
   "version": "3.9.20"
  }
 },
 "nbformat": 4,
 "nbformat_minor": 2
}
